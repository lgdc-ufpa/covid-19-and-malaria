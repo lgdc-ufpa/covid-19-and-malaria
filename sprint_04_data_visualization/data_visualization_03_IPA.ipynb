{
 "cells": [
  {
   "cell_type": "markdown",
   "id": "1ef9ad2a-3f28-44d6-b88b-321ccaf52815",
   "metadata": {},
   "source": [
    "# <center>PIPELINE</center>"
   ]
  },
  {
   "cell_type": "raw",
   "id": "d469fdb0-d603-46bb-b380-f99a7190b387",
   "metadata": {},
   "source": [
    "1. Imports\n",
    "2. Load Datasets\n",
    "\n",
    "3. Categorize IPA\n",
    "\n",
    "3.1. low    (ipa < 10) DONE\n",
    "3.2. medium (10 <= ipa < 50) DONE\n",
    "3.3. hight  (ipa > 50) DONE\n",
    "\n",
    "4. join IPA with Covid\n",
    "\n",
    "4. Correlaction\n",
    "5. Visualizations"
   ]
  },
  {
   "cell_type": "markdown",
   "id": "aa7560d7-25d4-4b36-b3a1-29040b5074bc",
   "metadata": {},
   "source": [
    "# 1. Imports"
   ]
  },
  {
   "cell_type": "code",
   "execution_count": 1,
   "id": "a2013d2d-5828-4a49-99ac-875d084d558b",
   "metadata": {},
   "outputs": [],
   "source": [
    "import os\n",
    "import pandas as pd\n",
    "import numpy as np\n",
    "import matplotlib.pyplot as plt\n",
    "import seaborn as sns\n",
    "from plots import *\n",
    "%matplotlib inline"
   ]
  },
  {
   "cell_type": "markdown",
   "id": "d9a0a72f-8efa-4488-8732-9ba4e80778d5",
   "metadata": {},
   "source": [
    "# 2. Load Datasets"
   ]
  },
  {
   "cell_type": "code",
   "execution_count": 2,
   "id": "0947a91f-584f-4f73-8ef5-01f519e91433",
   "metadata": {},
   "outputs": [],
   "source": [
    "import load_datasets"
   ]
  },
  {
   "cell_type": "code",
   "execution_count": 5,
   "id": "0a107d00-2732-4d2f-97f4-5428a1e9db67",
   "metadata": {},
   "outputs": [],
   "source": [
    "load_datasets.load_covid().head()"
   ]
  },
  {
   "cell_type": "code",
   "execution_count": null,
   "id": "4e75a347-71e7-4a44-bf61-f76fc1d105f7",
   "metadata": {},
   "outputs": [],
   "source": [
    "load_datasets.load_IPA().head()"
   ]
  },
  {
   "cell_type": "code",
   "execution_count": null,
   "id": "1a85a038-3100-4c72-8d1f-0e685d37285f",
   "metadata": {},
   "outputs": [],
   "source": [
    "load_datasets.load_cfc_2020().head()"
   ]
  },
  {
   "cell_type": "code",
   "execution_count": null,
   "id": "fd3c424f-78be-41b9-8526-87a0eecbbee3",
   "metadata": {},
   "outputs": [],
   "source": [
    "load_datasets.load_cfm_2020().head()"
   ]
  },
  {
   "cell_type": "code",
   "execution_count": 5,
   "id": "28114939-7e13-4aa5-bfc5-930b7f07c0ef",
   "metadata": {},
   "outputs": [],
   "source": [
    "load_datasets.load_cfm_all_years().head()"
   ]
  },
  {
   "cell_type": "code",
   "execution_count": 3,
   "id": "3e5a76c4-879c-4daf-90be-2f8c6f33d917",
   "metadata": {},
   "outputs": [
    {
     "data": {
      "text/html": [
       "<div>\n",
       "<style scoped>\n",
       "    .dataframe tbody tr th:only-of-type {\n",
       "        vertical-align: middle;\n",
       "    }\n",
       "\n",
       "    .dataframe tbody tr th {\n",
       "        vertical-align: top;\n",
       "    }\n",
       "\n",
       "    .dataframe thead th {\n",
       "        text-align: right;\n",
       "    }\n",
       "</style>\n",
       "<table border=\"1\" class=\"dataframe\">\n",
       "  <thead>\n",
       "    <tr style=\"text-align: right;\">\n",
       "      <th></th>\n",
       "      <th>mean_daily_deaths</th>\n",
       "    </tr>\n",
       "    <tr>\n",
       "      <th>codmun</th>\n",
       "      <th></th>\n",
       "    </tr>\n",
       "  </thead>\n",
       "  <tbody>\n",
       "    <tr>\n",
       "      <th>110001</th>\n",
       "      <td>0.065574</td>\n",
       "    </tr>\n",
       "    <tr>\n",
       "      <th>110002</th>\n",
       "      <td>0.503759</td>\n",
       "    </tr>\n",
       "    <tr>\n",
       "      <th>110003</th>\n",
       "      <td>0.028436</td>\n",
       "    </tr>\n",
       "    <tr>\n",
       "      <th>110004</th>\n",
       "      <td>0.231707</td>\n",
       "    </tr>\n",
       "    <tr>\n",
       "      <th>110005</th>\n",
       "      <td>0.035874</td>\n",
       "    </tr>\n",
       "  </tbody>\n",
       "</table>\n",
       "</div>"
      ],
      "text/plain": [
       "        mean_daily_deaths\n",
       "codmun                   \n",
       "110001           0.065574\n",
       "110002           0.503759\n",
       "110003           0.028436\n",
       "110004           0.231707\n",
       "110005           0.035874"
      ]
     },
     "execution_count": 3,
     "metadata": {},
     "output_type": "execute_result"
    }
   ],
   "source": [
    "load_datasets.load_mean_daily_deaths_2020().head()"
   ]
  },
  {
   "cell_type": "markdown",
   "id": "7c7dffdb-ec19-47cf-bdf0-e69d706c4607",
   "metadata": {},
   "source": [
    "# 3. Categorize IPA"
   ]
  },
  {
   "cell_type": "code",
   "execution_count": 3,
   "id": "830f9123-45de-44a9-ac04-ece21a13ca1c",
   "metadata": {},
   "outputs": [],
   "source": [
    "df_ipa = load_datasets.load_IPA()"
   ]
  },
  {
   "cell_type": "code",
   "execution_count": 4,
   "id": "7c1be082-b888-40ae-92ba-2240ddcfff6e",
   "metadata": {},
   "outputs": [],
   "source": [
    "bol_ipa_low = df_ipa['taxa'] < 10\n",
    "bol_ipa_med = (df_ipa['taxa'] >= 10) & (df_ipa['taxa'] < 50)\n",
    "bol_ipa_hig = df_ipa['taxa'] >= 50"
   ]
  },
  {
   "cell_type": "code",
   "execution_count": 5,
   "id": "0f8361df-21a1-4107-b1d7-c82f6597c231",
   "metadata": {},
   "outputs": [],
   "source": [
    "# creating risk column with np.nan values\n",
    "df_ipa['risk'] = np.array([np.nan] * df_ipa.shape[0])"
   ]
  },
  {
   "cell_type": "code",
   "execution_count": 6,
   "id": "8f53c033-9292-43b9-9288-85f23e2449a6",
   "metadata": {},
   "outputs": [],
   "source": [
    "df_ipa_risk = pd.concat(\n",
    "    [df_ipa[bol_ipa_low][['no_cidade', 'taxa', 'risk']].fillna('low'),\n",
    "     df_ipa[bol_ipa_med][['no_cidade', 'taxa', 'risk']].fillna('medium'),\n",
    "     df_ipa[bol_ipa_hig][['no_cidade', 'taxa', 'risk']].fillna('hight')],\n",
    "    axis=0).sort_index(ascending=True)\n",
    "\n",
    "df_ipa_risk.rename(columns={'no_cidade': 'municipio'}, inplace=True)"
   ]
  },
  {
   "cell_type": "code",
   "execution_count": 7,
   "id": "a99e4534-de1a-43f1-8612-8ffa9f218518",
   "metadata": {},
   "outputs": [],
   "source": [
    "try:\n",
    "    del df_ipa\n",
    "    del bol_ipa_low\n",
    "    del bol_ipa_med\n",
    "    del bol_ipa_hig\n",
    "except NameError as e:\n",
    "    print(e)"
   ]
  },
  {
   "cell_type": "code",
   "execution_count": 14,
   "id": "99c5ac7f-99a9-432e-9e95-d2770f90ab89",
   "metadata": {},
   "outputs": [],
   "source": [
    "# df_ipa_risk.head(20)"
   ]
  },
  {
   "cell_type": "markdown",
   "id": "a5f2e6b5-1082-4667-a53c-d3a4b59edc0a",
   "metadata": {},
   "source": [
    "# 4. Join CFC with IPA"
   ]
  },
  {
   "cell_type": "code",
   "execution_count": 11,
   "id": "4a1b6338-fe5e-46f3-841b-28785c14f8b5",
   "metadata": {},
   "outputs": [],
   "source": [
    "df_cfc_2020 = load_datasets.load_cfc_2020()"
   ]
  },
  {
   "cell_type": "code",
   "execution_count": 12,
   "id": "204961f3-1ed5-4d98-a56a-2de44d915414",
   "metadata": {},
   "outputs": [],
   "source": [
    "df_covid = load_datasets.load_covid()"
   ]
  },
  {
   "cell_type": "code",
   "execution_count": 43,
   "id": "c8a8a382-491a-4e0d-858d-90b1d02d9bb6",
   "metadata": {},
   "outputs": [],
   "source": [
    "# df_covid"
   ]
  },
  {
   "cell_type": "code",
   "execution_count": 13,
   "id": "530728df-6abf-4113-a966-385857ce7014",
   "metadata": {},
   "outputs": [],
   "source": [
    "df_cfc_2020_with_city = df_cfc_2020.join(df_covid[['municipio', 'regiao']]).reset_index().drop_duplicates(subset=['codmun'])"
   ]
  },
  {
   "cell_type": "code",
   "execution_count": 15,
   "id": "cb716cb2-f454-4a1e-b952-14ea8e8d97bb",
   "metadata": {},
   "outputs": [
    {
     "name": "stdout",
     "output_type": "stream",
     "text": [
      "ipa:\t\t \"None of ['municipio'] are in the columns\"\n",
      "cfc 2020:\t \"None of ['municipio'] are in the columns\"\n"
     ]
    }
   ],
   "source": [
    "try:\n",
    "    df_ipa_risk.set_index('municipio', inplace=True)\n",
    "except KeyError as e:\n",
    "    print('ipa:\\t\\t', e)\n",
    "\n",
    "try:\n",
    "    df_cfc_2020_with_city.set_index('municipio', inplace=True)\n",
    "except KeyError as e:\n",
    "    print('cfc 2020:\\t', e)"
   ]
  },
  {
   "cell_type": "code",
   "execution_count": 16,
   "id": "fc58e1ef-cb44-491c-8de9-ffe8cf689e69",
   "metadata": {},
   "outputs": [],
   "source": [
    "df_ipa_risk_cfc_2020_with_city_duplicate = df_ipa_risk.join(df_cfc_2020_with_city, how='inner')"
   ]
  },
  {
   "cell_type": "code",
   "execution_count": 17,
   "id": "53e4c728-dfbd-45ce-b182-5b4498ba8959",
   "metadata": {},
   "outputs": [],
   "source": [
    "df_ipa_risk_cfc_2020_no_duplicates_keep_equal_false = df_ipa_risk_cfc_2020_with_city_duplicate.reset_index().drop_duplicates(\n",
    "    subset=['municipio'], keep=False).set_index('municipio')"
   ]
  },
  {
   "cell_type": "code",
   "execution_count": 137,
   "id": "7c30adf0-34ed-410a-bb1b-4a6143d4225b",
   "metadata": {},
   "outputs": [],
   "source": [
    "# df_ipa_risk_cfc_2020_no_duplicates_keep_equal_false"
   ]
  },
  {
   "cell_type": "code",
   "execution_count": 15,
   "id": "b5b11b5c-fd25-42ca-9310-abcac753037e",
   "metadata": {},
   "outputs": [],
   "source": [
    "msg = 'already deleted ->'\n",
    "\n",
    "try:\n",
    "    del df_covid\n",
    "except NameError as e:\n",
    "    print(msg, e)\n",
    "    \n",
    "try:\n",
    "    del df_cfc_2020\n",
    "except NameError as e:\n",
    "    print(msg, e)\n",
    "# try:\n",
    "#     del df_ipa_risk\n",
    "# except NameError as e:\n",
    "#     print(msg, e)\n",
    "\n",
    "del msg"
   ]
  },
  {
   "cell_type": "markdown",
   "id": "f103a710-17dd-4209-8273-90520537a2a6",
   "metadata": {},
   "source": [
    "# 5. IPA analysis"
   ]
  },
  {
   "cell_type": "code",
   "execution_count": 351,
   "id": "dfda7d90-4d7f-44d8-b9e8-a1b8ccdc4c53",
   "metadata": {},
   "outputs": [
    {
     "data": {
      "image/png": "[encoded data removed]",
      "text/plain": [
       "<Figure size 842.4x595.44 with 1 Axes>"
      ]
     },
     "metadata": {},
     "output_type": "display_data"
    }
   ],
   "source": [
    "sns.set(rc={'figure.figsize':(11.7,8.27)})\n",
    "\n",
    "plot = countplot(df_ipa_risk_cfc_2020_no_duplicates_keep_equal_false, x='risk')\n",
    "\n",
    "path_output = os.path.join(os.getcwd(), 'output')\n",
    "file_output = 'ipa_countplot.png'\n",
    "\n",
    "plt.title('Frequency by kind of IPA risk')\n",
    "plt.xlabel('IPA risk')\n",
    "plt.ylabel('Frequency')\n",
    "\n",
    "plt.show()\n",
    "\n",
    "plot.figure.savefig(\n",
    "    os.path.join(path_output, file_output), dpi=300)"
   ]
  },
  {
   "cell_type": "code",
   "execution_count": 22,
   "id": "66a5b187-096f-4cf1-863c-9c817dee8894",
   "metadata": {},
   "outputs": [
    {
     "data": {
      "text/plain": [
       "risk  \n",
       "low       340\n",
       "medium     76\n",
       "hight      42\n",
       "dtype: int64"
      ]
     },
     "execution_count": 22,
     "metadata": {},
     "output_type": "execute_result"
    }
   ],
   "source": [
    "df_ipa_risk_cfc_2020_no_duplicates_keep_equal_false[['risk']].value_counts()"
   ]
  },
  {
   "cell_type": "code",
   "execution_count": 23,
   "id": "f51dadfc-c344-4bea-8f38-21756511f6d7",
   "metadata": {},
   "outputs": [
    {
     "data": {
      "image/png": "[encoded data removed]",
      "text/plain": [
       "<Figure size 360x360 with 1 Axes>"
      ]
     },
     "metadata": {},
     "output_type": "display_data"
    }
   ],
   "source": [
    "sns.set(rc={'figure.figsize':(11.7,8.27)})\n",
    "\n",
    "plot = catplot(df_ipa_risk_cfc_2020_no_duplicates_keep_equal_false[['risk', 'taxa']],\n",
    "       x='risk', y='taxa', kind='box')\n",
    "\n",
    "path_output = os.path.join(os.getcwd(), 'output')\n",
    "file_output = 'ipa_catplot_boxplot.png'\n",
    "\n",
    "plt.title('IPA value vs IPA Risk')\n",
    "plt.xlabel('IPA risk')\n",
    "plt.ylabel('IPA value')\n",
    "\n",
    "plt.show()\n",
    "\n",
    "plot.savefig(\n",
    "    os.path.join(path_output, file_output), dpi=300)"
   ]
  },
  {
   "cell_type": "code",
   "execution_count": 24,
   "id": "98bf03d2-ecfe-44dd-af84-4ac30e93f2f3",
   "metadata": {},
   "outputs": [
    {
     "data": {
      "text/html": [
       "<div>\n",
       "<style scoped>\n",
       "    .dataframe tbody tr th:only-of-type {\n",
       "        vertical-align: middle;\n",
       "    }\n",
       "\n",
       "    .dataframe tbody tr th {\n",
       "        vertical-align: top;\n",
       "    }\n",
       "\n",
       "    .dataframe thead th {\n",
       "        text-align: right;\n",
       "    }\n",
       "</style>\n",
       "<table border=\"1\" class=\"dataframe\">\n",
       "  <thead>\n",
       "    <tr style=\"text-align: right;\">\n",
       "      <th></th>\n",
       "      <th>taxa</th>\n",
       "      <th>CFC_DEATHS</th>\n",
       "      <th>CFC_BEDS</th>\n",
       "    </tr>\n",
       "  </thead>\n",
       "  <tbody>\n",
       "    <tr>\n",
       "      <th>count</th>\n",
       "      <td>458.000000</td>\n",
       "      <td>458.000000</td>\n",
       "      <td>458.000000</td>\n",
       "    </tr>\n",
       "    <tr>\n",
       "      <th>mean</th>\n",
       "      <td>18.487074</td>\n",
       "      <td>0.000658</td>\n",
       "      <td>0.001592</td>\n",
       "    </tr>\n",
       "    <tr>\n",
       "      <th>std</th>\n",
       "      <td>57.896840</td>\n",
       "      <td>0.000420</td>\n",
       "      <td>0.001130</td>\n",
       "    </tr>\n",
       "    <tr>\n",
       "      <th>min</th>\n",
       "      <td>0.000000</td>\n",
       "      <td>0.000000</td>\n",
       "      <td>0.000000</td>\n",
       "    </tr>\n",
       "    <tr>\n",
       "      <th>25%</th>\n",
       "      <td>0.090000</td>\n",
       "      <td>0.000336</td>\n",
       "      <td>0.000868</td>\n",
       "    </tr>\n",
       "    <tr>\n",
       "      <th>50%</th>\n",
       "      <td>0.585000</td>\n",
       "      <td>0.000609</td>\n",
       "      <td>0.001456</td>\n",
       "    </tr>\n",
       "    <tr>\n",
       "      <th>75%</th>\n",
       "      <td>10.735000</td>\n",
       "      <td>0.000891</td>\n",
       "      <td>0.002176</td>\n",
       "    </tr>\n",
       "    <tr>\n",
       "      <th>max</th>\n",
       "      <td>728.620000</td>\n",
       "      <td>0.002766</td>\n",
       "      <td>0.007976</td>\n",
       "    </tr>\n",
       "  </tbody>\n",
       "</table>\n",
       "</div>"
      ],
      "text/plain": [
       "             taxa  CFC_DEATHS    CFC_BEDS\n",
       "count  458.000000  458.000000  458.000000\n",
       "mean    18.487074    0.000658    0.001592\n",
       "std     57.896840    0.000420    0.001130\n",
       "min      0.000000    0.000000    0.000000\n",
       "25%      0.090000    0.000336    0.000868\n",
       "50%      0.585000    0.000609    0.001456\n",
       "75%     10.735000    0.000891    0.002176\n",
       "max    728.620000    0.002766    0.007976"
      ]
     },
     "execution_count": 24,
     "metadata": {},
     "output_type": "execute_result"
    }
   ],
   "source": [
    "df_ipa_risk_cfc_2020_no_duplicates_keep_equal_false.describe()"
   ]
  },
  {
   "cell_type": "markdown",
   "id": "786b1890-24ac-4ef9-a909-88bcd92181d8",
   "metadata": {},
   "source": [
    "# 6. Correlaction between IPA an CFC"
   ]
  },
  {
   "cell_type": "code",
   "execution_count": 25,
   "id": "97356dbc-51b0-4f2d-8265-dd862ad43030",
   "metadata": {},
   "outputs": [
    {
     "data": {
      "text/plain": [
       "Text(0.5, 1.0, 'spearman correlaction')"
      ]
     },
     "execution_count": 25,
     "metadata": {},
     "output_type": "execute_result"
    },
    {
     "data": {
      "image/png": "[encoded data removed]",
      "text/plain": [
       "<Figure size 842.4x595.44 with 2 Axes>"
      ]
     },
     "metadata": {},
     "output_type": "display_data"
    }
   ],
   "source": [
    "corr = df_ipa_risk_cfc_2020_no_duplicates_keep_equal_false[['taxa', 'CFC_DEATHS']].corr(method='spearman')\n",
    "\n",
    "# Generate a mask for the upper triangle\n",
    "mask = np.triu(np.ones_like(corr, dtype=bool))\n",
    "\n",
    "# Generate a custom diverging colormap\n",
    "cmap = sns.diverging_palette(230, 20, as_cmap=True)\n",
    "\n",
    "sns.heatmap(data=corr, cmap=cmap, mask=mask, center=0, vmax=1, vmin=-1, annot=True)\n",
    "plt.title('spearman correlaction')"
   ]
  },
  {
   "cell_type": "markdown",
   "id": "8e1fce01-19b1-47aa-b0ff-764b39a08b52",
   "metadata": {},
   "source": [
    "# 7. compare IPA risk with CFC"
   ]
  },
  {
   "cell_type": "code",
   "execution_count": 26,
   "id": "88a29802-70b2-4107-9f71-0061b77cf3a2",
   "metadata": {},
   "outputs": [
    {
     "data": {
      "image/png": "[encoded data removed]",
      "text/plain": [
       "<Figure size 842.4x595.44 with 1 Axes>"
      ]
     },
     "metadata": {},
     "output_type": "display_data"
    }
   ],
   "source": [
    "sns.set(rc={'figure.figsize':(11.7,8.27)})\n",
    "\n",
    "plot = boxplot(df_ipa_risk_cfc_2020_no_duplicates_keep_equal_false,\n",
    "        x='risk',\n",
    "        y='CFC_DEATHS')\n",
    "\n",
    "path_output = os.path.join(os.getcwd(), 'output')\n",
    "file_output = 'CFC_DEATHS_by_IPA_risk.png'\n",
    "\n",
    "plt.title('CFC_DEATHS by kind of IPA risk')\n",
    "plt.xlabel('IPA risk')\n",
    "plt.ylabel('CFC_DEATHS')\n",
    "\n",
    "plt.show()\n",
    "\n",
    "plot.figure.savefig(\n",
    "    os.path.join(path_output, file_output), dpi=300)"
   ]
  },
  {
   "cell_type": "code",
   "execution_count": 249,
   "id": "3ebd6c64-d314-4a2b-9f19-7907db09a4c5",
   "metadata": {},
   "outputs": [],
   "source": [
    "# boxplot(df_ipa_risk_cfc_2020_no_duplicates_keep_equal_false,\n",
    "#         x='risk',\n",
    "#         y='CFC_BEDS')"
   ]
  },
  {
   "cell_type": "markdown",
   "id": "b61f3011-05f2-44f4-b233-d75e7afba644",
   "metadata": {},
   "source": [
    "# 7. Check CFC outside malaria cities"
   ]
  },
  {
   "cell_type": "code",
   "execution_count": 28,
   "id": "2b90faf7-a7f3-4231-be7e-9458cad7e517",
   "metadata": {},
   "outputs": [],
   "source": [
    "df_cfc_2020 = load_datasets.load_cfc_2020()"
   ]
  },
  {
   "cell_type": "code",
   "execution_count": 191,
   "id": "d82203bc-8387-4217-b8a0-a7e99b262a80",
   "metadata": {},
   "outputs": [],
   "source": [
    "# df_cfc_2020"
   ]
  },
  {
   "cell_type": "code",
   "execution_count": 29,
   "id": "69251c4f-258c-43e2-922d-00c7e6b0379c",
   "metadata": {},
   "outputs": [],
   "source": [
    "bol_cfc_outside_mal = ~df_cfc_2020.index.isin(df_ipa_risk_cfc_2020_with_city_duplicate['codmun'])"
   ]
  },
  {
   "cell_type": "code",
   "execution_count": 30,
   "id": "c95f4c9d-9566-4253-b036-9471f55c04e5",
   "metadata": {},
   "outputs": [
    {
     "data": {
      "text/html": [
       "<div>\n",
       "<style scoped>\n",
       "    .dataframe tbody tr th:only-of-type {\n",
       "        vertical-align: middle;\n",
       "    }\n",
       "\n",
       "    .dataframe tbody tr th {\n",
       "        vertical-align: top;\n",
       "    }\n",
       "\n",
       "    .dataframe thead th {\n",
       "        text-align: right;\n",
       "    }\n",
       "</style>\n",
       "<table border=\"1\" class=\"dataframe\">\n",
       "  <thead>\n",
       "    <tr style=\"text-align: right;\">\n",
       "      <th></th>\n",
       "      <th>CFC_DEATHS</th>\n",
       "      <th>CFC_BEDS</th>\n",
       "    </tr>\n",
       "  </thead>\n",
       "  <tbody>\n",
       "    <tr>\n",
       "      <th>count</th>\n",
       "      <td>5022.000000</td>\n",
       "      <td>5022.000000</td>\n",
       "    </tr>\n",
       "    <tr>\n",
       "      <th>mean</th>\n",
       "      <td>0.000563</td>\n",
       "      <td>0.001523</td>\n",
       "    </tr>\n",
       "    <tr>\n",
       "      <th>std</th>\n",
       "      <td>0.000432</td>\n",
       "      <td>0.001990</td>\n",
       "    </tr>\n",
       "    <tr>\n",
       "      <th>min</th>\n",
       "      <td>0.000000</td>\n",
       "      <td>0.000000</td>\n",
       "    </tr>\n",
       "    <tr>\n",
       "      <th>25%</th>\n",
       "      <td>0.000242</td>\n",
       "      <td>0.000000</td>\n",
       "    </tr>\n",
       "    <tr>\n",
       "      <th>50%</th>\n",
       "      <td>0.000492</td>\n",
       "      <td>0.001094</td>\n",
       "    </tr>\n",
       "    <tr>\n",
       "      <th>75%</th>\n",
       "      <td>0.000802</td>\n",
       "      <td>0.002322</td>\n",
       "    </tr>\n",
       "    <tr>\n",
       "      <th>max</th>\n",
       "      <td>0.003507</td>\n",
       "      <td>0.030565</td>\n",
       "    </tr>\n",
       "  </tbody>\n",
       "</table>\n",
       "</div>"
      ],
      "text/plain": [
       "        CFC_DEATHS     CFC_BEDS\n",
       "count  5022.000000  5022.000000\n",
       "mean      0.000563     0.001523\n",
       "std       0.000432     0.001990\n",
       "min       0.000000     0.000000\n",
       "25%       0.000242     0.000000\n",
       "50%       0.000492     0.001094\n",
       "75%       0.000802     0.002322\n",
       "max       0.003507     0.030565"
      ]
     },
     "execution_count": 30,
     "metadata": {},
     "output_type": "execute_result"
    }
   ],
   "source": [
    "df_cfc_2020[bol_cfc_outside_mal].describe()"
   ]
  },
  {
   "cell_type": "code",
   "execution_count": 32,
   "id": "8983f0fc-764f-42ff-8ab3-34f1b9d47e87",
   "metadata": {},
   "outputs": [],
   "source": [
    "# boxplot(df_cfc_2020[bol_cfc_outside_mal],        \n",
    "#         y='CFC_DEATHS')"
   ]
  },
  {
   "cell_type": "code",
   "execution_count": 245,
   "id": "ae997d5b-2f06-4cb0-b2b8-d3c0171995e0",
   "metadata": {},
   "outputs": [],
   "source": [
    "# boxplot(df_cfc_2020[bol_cfc_outside_mal],        \n",
    "#         y='CFC_BEDS')"
   ]
  },
  {
   "cell_type": "markdown",
   "id": "139c4a1e-0853-45ef-935e-7687beae7998",
   "metadata": {},
   "source": [
    "# 8. Compare IPA risk with Mean Daily Deaths by COVID-19"
   ]
  },
  {
   "cell_type": "code",
   "execution_count": 33,
   "id": "fd19ab04-4fb1-4e09-bee4-1028290b308a",
   "metadata": {},
   "outputs": [],
   "source": [
    "df_mean_daily_deaths_covid_2020 = load_datasets.load_mean_daily_deaths_2020()"
   ]
  },
  {
   "cell_type": "code",
   "execution_count": 54,
   "id": "e4643b46-80f9-45af-9815-d04fe973e30b",
   "metadata": {},
   "outputs": [
    {
     "data": {
      "text/html": [
       "<div>\n",
       "<style scoped>\n",
       "    .dataframe tbody tr th:only-of-type {\n",
       "        vertical-align: middle;\n",
       "    }\n",
       "\n",
       "    .dataframe tbody tr th {\n",
       "        vertical-align: top;\n",
       "    }\n",
       "\n",
       "    .dataframe thead th {\n",
       "        text-align: right;\n",
       "    }\n",
       "</style>\n",
       "<table border=\"1\" class=\"dataframe\">\n",
       "  <thead>\n",
       "    <tr style=\"text-align: right;\">\n",
       "      <th></th>\n",
       "      <th>taxa</th>\n",
       "      <th>risk</th>\n",
       "      <th>CFC_DEATHS</th>\n",
       "      <th>CFC_BEDS</th>\n",
       "      <th>regiao</th>\n",
       "      <th>CFM</th>\n",
       "    </tr>\n",
       "    <tr>\n",
       "      <th>codmun</th>\n",
       "      <th></th>\n",
       "      <th></th>\n",
       "      <th></th>\n",
       "      <th></th>\n",
       "      <th></th>\n",
       "      <th></th>\n",
       "    </tr>\n",
       "  </thead>\n",
       "  <tbody>\n",
       "    <tr>\n",
       "      <th>150010</th>\n",
       "      <td>0.06</td>\n",
       "      <td>low</td>\n",
       "      <td>0.000761</td>\n",
       "      <td>0.001782</td>\n",
       "      <td>Norte</td>\n",
       "      <td>0.005010</td>\n",
       "    </tr>\n",
       "    <tr>\n",
       "      <th>150013</th>\n",
       "      <td>0.58</td>\n",
       "      <td>low</td>\n",
       "      <td>0.000269</td>\n",
       "      <td>0.002825</td>\n",
       "      <td>Norte</td>\n",
       "      <td>0.006188</td>\n",
       "    </tr>\n",
       "    <tr>\n",
       "      <th>150020</th>\n",
       "      <td>0.24</td>\n",
       "      <td>low</td>\n",
       "      <td>0.000288</td>\n",
       "      <td>0.000594</td>\n",
       "      <td>Norte</td>\n",
       "      <td>0.000738</td>\n",
       "    </tr>\n",
       "    <tr>\n",
       "      <th>120001</th>\n",
       "      <td>4.54</td>\n",
       "      <td>low</td>\n",
       "      <td>0.000787</td>\n",
       "      <td>0.001049</td>\n",
       "      <td>Norte</td>\n",
       "      <td>0.416561</td>\n",
       "    </tr>\n",
       "    <tr>\n",
       "      <th>150030</th>\n",
       "      <td>24.42</td>\n",
       "      <td>medium</td>\n",
       "      <td>0.000280</td>\n",
       "      <td>0.000765</td>\n",
       "      <td>Norte</td>\n",
       "      <td>0.342044</td>\n",
       "    </tr>\n",
       "    <tr>\n",
       "      <th>...</th>\n",
       "      <td>...</td>\n",
       "      <td>...</td>\n",
       "      <td>...</td>\n",
       "      <td>...</td>\n",
       "      <td>...</td>\n",
       "      <td>...</td>\n",
       "    </tr>\n",
       "    <tr>\n",
       "      <th>172210</th>\n",
       "      <td>0.08</td>\n",
       "      <td>low</td>\n",
       "      <td>0.001300</td>\n",
       "      <td>0.002426</td>\n",
       "      <td>Norte</td>\n",
       "      <td>0.015425</td>\n",
       "    </tr>\n",
       "    <tr>\n",
       "      <th>150840</th>\n",
       "      <td>0.04</td>\n",
       "      <td>low</td>\n",
       "      <td>0.000581</td>\n",
       "      <td>0.002659</td>\n",
       "      <td>Norte</td>\n",
       "      <td>0.010078</td>\n",
       "    </tr>\n",
       "    <tr>\n",
       "      <th>211400</th>\n",
       "      <td>1.29</td>\n",
       "      <td>low</td>\n",
       "      <td>0.000754</td>\n",
       "      <td>0.001470</td>\n",
       "      <td>Nordeste</td>\n",
       "      <td>0.038442</td>\n",
       "    </tr>\n",
       "    <tr>\n",
       "      <th>150034</th>\n",
       "      <td>0.11</td>\n",
       "      <td>low</td>\n",
       "      <td>0.000000</td>\n",
       "      <td>0.001458</td>\n",
       "      <td>Norte</td>\n",
       "      <td>0.001276</td>\n",
       "    </tr>\n",
       "    <tr>\n",
       "      <th>150510</th>\n",
       "      <td>3.87</td>\n",
       "      <td>low</td>\n",
       "      <td>0.000901</td>\n",
       "      <td>0.001247</td>\n",
       "      <td>Norte</td>\n",
       "      <td>0.049389</td>\n",
       "    </tr>\n",
       "  </tbody>\n",
       "</table>\n",
       "<p>409 rows × 6 columns</p>\n",
       "</div>"
      ],
      "text/plain": [
       "         taxa    risk  CFC_DEATHS  CFC_BEDS    regiao       CFM\n",
       "codmun                                                         \n",
       "150010   0.06     low    0.000761  0.001782     Norte  0.005010\n",
       "150013   0.58     low    0.000269  0.002825     Norte  0.006188\n",
       "150020   0.24     low    0.000288  0.000594     Norte  0.000738\n",
       "120001   4.54     low    0.000787  0.001049     Norte  0.416561\n",
       "150030  24.42  medium    0.000280  0.000765     Norte  0.342044\n",
       "...       ...     ...         ...       ...       ...       ...\n",
       "172210   0.08     low    0.001300  0.002426     Norte  0.015425\n",
       "150840   0.04     low    0.000581  0.002659     Norte  0.010078\n",
       "211400   1.29     low    0.000754  0.001470  Nordeste  0.038442\n",
       "150034   0.11     low    0.000000  0.001458     Norte  0.001276\n",
       "150510   3.87     low    0.000901  0.001247     Norte  0.049389\n",
       "\n",
       "[409 rows x 6 columns]"
      ]
     },
     "execution_count": 54,
     "metadata": {},
     "output_type": "execute_result"
    }
   ],
   "source": [
    "df_ipa_cfc_2020_cfm_all_years = df_ipa_risk_cfc_2020_no_duplicates_keep_equal_false.set_index('codmun').join(load_datasets.load_cfm_all_years()).dropna()\n",
    "df_ipa_cfc_2020_cfm_all_years"
   ]
  },
  {
   "cell_type": "code",
   "execution_count": 55,
   "id": "f2bee404-7bcc-4e6a-9c77-28d8bb3c3083",
   "metadata": {},
   "outputs": [],
   "source": [
    "df_ipa_cfc_2020_cfm_2020_mean_daily_deaths = df_ipa_cfc_2020_cfm_all_years.join(df_mean_daily_deaths_covid_2020)"
   ]
  },
  {
   "cell_type": "code",
   "execution_count": 57,
   "id": "6a2d397f-4031-409d-b1bd-b6cbccb05ac7",
   "metadata": {},
   "outputs": [
    {
     "data": {
      "text/html": [
       "<div>\n",
       "<style scoped>\n",
       "    .dataframe tbody tr th:only-of-type {\n",
       "        vertical-align: middle;\n",
       "    }\n",
       "\n",
       "    .dataframe tbody tr th {\n",
       "        vertical-align: top;\n",
       "    }\n",
       "\n",
       "    .dataframe thead th {\n",
       "        text-align: right;\n",
       "    }\n",
       "</style>\n",
       "<table border=\"1\" class=\"dataframe\">\n",
       "  <thead>\n",
       "    <tr style=\"text-align: right;\">\n",
       "      <th></th>\n",
       "      <th>taxa</th>\n",
       "      <th>risk</th>\n",
       "      <th>CFC_DEATHS</th>\n",
       "      <th>CFC_BEDS</th>\n",
       "      <th>regiao</th>\n",
       "      <th>CFM</th>\n",
       "      <th>mean_daily_deaths</th>\n",
       "    </tr>\n",
       "    <tr>\n",
       "      <th>codmun</th>\n",
       "      <th></th>\n",
       "      <th></th>\n",
       "      <th></th>\n",
       "      <th></th>\n",
       "      <th></th>\n",
       "      <th></th>\n",
       "      <th></th>\n",
       "    </tr>\n",
       "  </thead>\n",
       "  <tbody>\n",
       "    <tr>\n",
       "      <th>150010</th>\n",
       "      <td>0.06</td>\n",
       "      <td>low</td>\n",
       "      <td>0.000761</td>\n",
       "      <td>0.001782</td>\n",
       "      <td>Norte</td>\n",
       "      <td>0.005010</td>\n",
       "      <td>0.434783</td>\n",
       "    </tr>\n",
       "    <tr>\n",
       "      <th>150013</th>\n",
       "      <td>0.58</td>\n",
       "      <td>low</td>\n",
       "      <td>0.000269</td>\n",
       "      <td>0.002825</td>\n",
       "      <td>Norte</td>\n",
       "      <td>0.006188</td>\n",
       "      <td>0.008439</td>\n",
       "    </tr>\n",
       "    <tr>\n",
       "      <th>150020</th>\n",
       "      <td>0.24</td>\n",
       "      <td>low</td>\n",
       "      <td>0.000288</td>\n",
       "      <td>0.000594</td>\n",
       "      <td>Norte</td>\n",
       "      <td>0.000738</td>\n",
       "      <td>0.060377</td>\n",
       "    </tr>\n",
       "    <tr>\n",
       "      <th>120001</th>\n",
       "      <td>4.54</td>\n",
       "      <td>low</td>\n",
       "      <td>0.000787</td>\n",
       "      <td>0.001049</td>\n",
       "      <td>Norte</td>\n",
       "      <td>0.416561</td>\n",
       "      <td>0.043165</td>\n",
       "    </tr>\n",
       "    <tr>\n",
       "      <th>150030</th>\n",
       "      <td>24.42</td>\n",
       "      <td>medium</td>\n",
       "      <td>0.000280</td>\n",
       "      <td>0.000765</td>\n",
       "      <td>Norte</td>\n",
       "      <td>0.342044</td>\n",
       "      <td>0.042636</td>\n",
       "    </tr>\n",
       "    <tr>\n",
       "      <th>...</th>\n",
       "      <td>...</td>\n",
       "      <td>...</td>\n",
       "      <td>...</td>\n",
       "      <td>...</td>\n",
       "      <td>...</td>\n",
       "      <td>...</td>\n",
       "      <td>...</td>\n",
       "    </tr>\n",
       "    <tr>\n",
       "      <th>172210</th>\n",
       "      <td>0.08</td>\n",
       "      <td>low</td>\n",
       "      <td>0.001300</td>\n",
       "      <td>0.002426</td>\n",
       "      <td>Norte</td>\n",
       "      <td>0.015425</td>\n",
       "      <td>0.063559</td>\n",
       "    </tr>\n",
       "    <tr>\n",
       "      <th>150840</th>\n",
       "      <td>0.04</td>\n",
       "      <td>low</td>\n",
       "      <td>0.000581</td>\n",
       "      <td>0.002659</td>\n",
       "      <td>Norte</td>\n",
       "      <td>0.010078</td>\n",
       "      <td>0.101562</td>\n",
       "    </tr>\n",
       "    <tr>\n",
       "      <th>211400</th>\n",
       "      <td>1.29</td>\n",
       "      <td>low</td>\n",
       "      <td>0.000754</td>\n",
       "      <td>0.001470</td>\n",
       "      <td>Nordeste</td>\n",
       "      <td>0.038442</td>\n",
       "      <td>0.148289</td>\n",
       "    </tr>\n",
       "    <tr>\n",
       "      <th>150034</th>\n",
       "      <td>0.11</td>\n",
       "      <td>low</td>\n",
       "      <td>0.000000</td>\n",
       "      <td>0.001458</td>\n",
       "      <td>Norte</td>\n",
       "      <td>0.001276</td>\n",
       "      <td>0.000000</td>\n",
       "    </tr>\n",
       "    <tr>\n",
       "      <th>150510</th>\n",
       "      <td>3.87</td>\n",
       "      <td>low</td>\n",
       "      <td>0.000901</td>\n",
       "      <td>0.001247</td>\n",
       "      <td>Norte</td>\n",
       "      <td>0.049389</td>\n",
       "      <td>0.180077</td>\n",
       "    </tr>\n",
       "  </tbody>\n",
       "</table>\n",
       "<p>409 rows × 7 columns</p>\n",
       "</div>"
      ],
      "text/plain": [
       "         taxa    risk  CFC_DEATHS  CFC_BEDS    regiao       CFM  \\\n",
       "codmun                                                            \n",
       "150010   0.06     low    0.000761  0.001782     Norte  0.005010   \n",
       "150013   0.58     low    0.000269  0.002825     Norte  0.006188   \n",
       "150020   0.24     low    0.000288  0.000594     Norte  0.000738   \n",
       "120001   4.54     low    0.000787  0.001049     Norte  0.416561   \n",
       "150030  24.42  medium    0.000280  0.000765     Norte  0.342044   \n",
       "...       ...     ...         ...       ...       ...       ...   \n",
       "172210   0.08     low    0.001300  0.002426     Norte  0.015425   \n",
       "150840   0.04     low    0.000581  0.002659     Norte  0.010078   \n",
       "211400   1.29     low    0.000754  0.001470  Nordeste  0.038442   \n",
       "150034   0.11     low    0.000000  0.001458     Norte  0.001276   \n",
       "150510   3.87     low    0.000901  0.001247     Norte  0.049389   \n",
       "\n",
       "        mean_daily_deaths  \n",
       "codmun                     \n",
       "150010           0.434783  \n",
       "150013           0.008439  \n",
       "150020           0.060377  \n",
       "120001           0.043165  \n",
       "150030           0.042636  \n",
       "...                   ...  \n",
       "172210           0.063559  \n",
       "150840           0.101562  \n",
       "211400           0.148289  \n",
       "150034           0.000000  \n",
       "150510           0.180077  \n",
       "\n",
       "[409 rows x 7 columns]"
      ]
     },
     "execution_count": 57,
     "metadata": {},
     "output_type": "execute_result"
    }
   ],
   "source": [
    "df_ipa_cfc_2020_cfm_2020_mean_daily_deaths"
   ]
  },
  {
   "cell_type": "code",
   "execution_count": 58,
   "id": "5456165e-6dda-4e02-86c0-8f83e0429dd4",
   "metadata": {},
   "outputs": [
    {
     "data": {
      "image/png": "[encoded data removed]",
      "text/plain": [
       "<Figure size 842.4x595.44 with 1 Axes>"
      ]
     },
     "metadata": {},
     "output_type": "display_data"
    }
   ],
   "source": [
    "sns.set_theme()\n",
    "sns.set(rc={'figure.figsize':(11.7,8.27)})\n",
    "\n",
    "plot = barplot(df_ipa_cfc_2020_cfm_2020_mean_daily_deaths,\n",
    "        x='risk',\n",
    "        y='mean_daily_deaths',\n",
    "        capsize=.2,\n",
    "        estimator=np.mean)\n",
    "\n",
    "path_output = os.path.join(os.getcwd(), 'output')\n",
    "file_output = 'IPA_risk_vs_Mean_daily_deaths_by_COVID-19_barplot.png'\n",
    "\n",
    "plt.title('IPA risk vs Mean daily deaths by COVID-19')\n",
    "plt.xlabel('IPA risk')\n",
    "plt.ylabel('Mean daily deaths by COVID-19')\n",
    "\n",
    "plt.show()\n",
    "\n",
    "plot.figure.savefig(\n",
    "    os.path.join(path_output, file_output), dpi=300)"
   ]
  },
  {
   "cell_type": "code",
   "execution_count": 342,
   "id": "54b5f2dc-186d-469e-8f46-db7d79919894",
   "metadata": {},
   "outputs": [
    {
     "data": {
      "image/png": "[encoded data removed]",
      "text/plain": [
       "<Figure size 842.4x595.44 with 1 Axes>"
      ]
     },
     "metadata": {},
     "output_type": "display_data"
    }
   ],
   "source": [
    "sns.set(rc={'figure.figsize':(11.7,8.27)})\n",
    "sns.set_theme()\n",
    "\n",
    "plot = violinplot(df_ipa_cfc_2020_cfm_2020_mean_daily_deaths,\n",
    "        x='risk',\n",
    "        y='mean_daily_deaths',\n",
    "        estimator=np.mean)\n",
    "\n",
    "path_output = os.path.join(os.getcwd(), 'output')\n",
    "file_output = 'IPA_risk_vs_Mean_daily_deaths_by_COVID-19_violin_plot.png'\n",
    "\n",
    "plt.title('IPA risk vs Mean daily deaths by COVID-19')\n",
    "plt.xlabel('IPA risk')\n",
    "plt.ylabel('Mean daily deaths by COVID-19')\n",
    "\n",
    "plt.show()\n",
    "\n",
    "plot.figure.savefig(\n",
    "    os.path.join(path_output, file_output), dpi=300)"
   ]
  },
  {
   "cell_type": "code",
   "execution_count": 333,
   "id": "bc014022-ff4f-4224-a927-edc77cd6f339",
   "metadata": {},
   "outputs": [
    {
     "data": {
      "text/plain": [
       "<AxesSubplot:xlabel='risk', ylabel='mean_daily_deaths'>"
      ]
     },
     "execution_count": 333,
     "metadata": {},
     "output_type": "execute_result"
    },
    {
     "data": {
      "image/png": "[encoded data removed]",
      "text/plain": [
       "<Figure size 432x288 with 1 Axes>"
      ]
     },
     "metadata": {},
     "output_type": "display_data"
    }
   ],
   "source": [
    "boxplot(df_ipa_cfc_2020_cfm_2020_mean_daily_deaths,\n",
    "        x='risk',\n",
    "        y='mean_daily_deaths')"
   ]
  },
  {
   "cell_type": "code",
   "execution_count": 354,
   "id": "b275ff95-df82-4bd1-9af4-4389d77801f6",
   "metadata": {},
   "outputs": [
    {
     "data": {
      "text/html": [
       "<div>\n",
       "<style scoped>\n",
       "    .dataframe tbody tr th:only-of-type {\n",
       "        vertical-align: middle;\n",
       "    }\n",
       "\n",
       "    .dataframe tbody tr th {\n",
       "        vertical-align: top;\n",
       "    }\n",
       "\n",
       "    .dataframe thead tr th {\n",
       "        text-align: left;\n",
       "    }\n",
       "\n",
       "    .dataframe thead tr:last-of-type th {\n",
       "        text-align: right;\n",
       "    }\n",
       "</style>\n",
       "<table border=\"1\" class=\"dataframe\">\n",
       "  <thead>\n",
       "    <tr>\n",
       "      <th></th>\n",
       "      <th colspan=\"3\" halign=\"left\">mean_daily_deaths</th>\n",
       "    </tr>\n",
       "    <tr>\n",
       "      <th></th>\n",
       "      <th>mean</th>\n",
       "      <th>std</th>\n",
       "      <th>max</th>\n",
       "    </tr>\n",
       "    <tr>\n",
       "      <th>risk</th>\n",
       "      <th></th>\n",
       "      <th></th>\n",
       "      <th></th>\n",
       "    </tr>\n",
       "  </thead>\n",
       "  <tbody>\n",
       "    <tr>\n",
       "      <th>hight</th>\n",
       "      <td>0.081715</td>\n",
       "      <td>0.079607</td>\n",
       "      <td>0.394052</td>\n",
       "    </tr>\n",
       "    <tr>\n",
       "      <th>low</th>\n",
       "      <td>0.188762</td>\n",
       "      <td>0.823057</td>\n",
       "      <td>12.114695</td>\n",
       "    </tr>\n",
       "    <tr>\n",
       "      <th>medium</th>\n",
       "      <td>0.134581</td>\n",
       "      <td>0.390219</td>\n",
       "      <td>3.369176</td>\n",
       "    </tr>\n",
       "  </tbody>\n",
       "</table>\n",
       "</div>"
      ],
      "text/plain": [
       "       mean_daily_deaths                     \n",
       "                    mean       std        max\n",
       "risk                                         \n",
       "hight           0.081715  0.079607   0.394052\n",
       "low             0.188762  0.823057  12.114695\n",
       "medium          0.134581  0.390219   3.369176"
      ]
     },
     "execution_count": 354,
     "metadata": {},
     "output_type": "execute_result"
    }
   ],
   "source": [
    "df_resume = df_ipa_cfc_2020_cfm_2020_mean_daily_deaths.groupby(by=['risk']).agg({\n",
    "    'mean_daily_deaths': ['mean', 'std', 'max']    \n",
    "})\n",
    "\n",
    "df_resume"
   ]
  },
  {
   "cell_type": "code",
   "execution_count": 357,
   "id": "408677ed-2396-4acc-95b8-7f85cf8b4446",
   "metadata": {},
   "outputs": [],
   "source": [
    "path_output = os.path.join(os.getcwd(), 'output', 'data')\n",
    "file_output = 'resume_ipa_mean_daily_deaths_by_covid.csv'\n",
    "df_resume.to_csv(os.path.join(path_output, file_output))"
   ]
  },
  {
   "cell_type": "code",
   "execution_count": 134,
   "id": "269136a7-6085-4209-809b-79d1de677a0e",
   "metadata": {},
   "outputs": [
    {
     "data": {
      "text/plain": [
       "Index(['taxa', 'risk', 'CFC_DEATHS', 'CFC_BEDS', 'regiao', 'CFM',\n",
       "       'mean_daily_deaths'],\n",
       "      dtype='object')"
      ]
     },
     "execution_count": 134,
     "metadata": {},
     "output_type": "execute_result"
    }
   ],
   "source": [
    "df_ipa_cfc_2020_cfm_2020_mean_daily_deaths.columns"
   ]
  },
  {
   "cell_type": "code",
   "execution_count": 138,
   "id": "7046bed6-bf45-4213-9361-941014ae94a2",
   "metadata": {},
   "outputs": [
    {
     "data": {
      "text/html": [
       "<div>\n",
       "<style scoped>\n",
       "    .dataframe tbody tr th:only-of-type {\n",
       "        vertical-align: middle;\n",
       "    }\n",
       "\n",
       "    .dataframe tbody tr th {\n",
       "        vertical-align: top;\n",
       "    }\n",
       "\n",
       "    .dataframe thead tr th {\n",
       "        text-align: left;\n",
       "    }\n",
       "\n",
       "    .dataframe thead tr:last-of-type th {\n",
       "        text-align: right;\n",
       "    }\n",
       "</style>\n",
       "<table border=\"1\" class=\"dataframe\">\n",
       "  <thead>\n",
       "    <tr>\n",
       "      <th></th>\n",
       "      <th colspan=\"8\" halign=\"left\">mean_daily_deaths</th>\n",
       "      <th colspan=\"2\" halign=\"left\">CFC_DEATHS</th>\n",
       "      <th>...</th>\n",
       "      <th colspan=\"2\" halign=\"left\">CFC_BEDS</th>\n",
       "      <th colspan=\"8\" halign=\"left\">CFM</th>\n",
       "    </tr>\n",
       "    <tr>\n",
       "      <th></th>\n",
       "      <th colspan=\"8\" halign=\"left\">describe</th>\n",
       "      <th colspan=\"2\" halign=\"left\">describe</th>\n",
       "      <th>...</th>\n",
       "      <th colspan=\"2\" halign=\"left\">describe</th>\n",
       "      <th colspan=\"8\" halign=\"left\">describe</th>\n",
       "    </tr>\n",
       "    <tr>\n",
       "      <th></th>\n",
       "      <th>count</th>\n",
       "      <th>mean</th>\n",
       "      <th>std</th>\n",
       "      <th>min</th>\n",
       "      <th>25%</th>\n",
       "      <th>50%</th>\n",
       "      <th>75%</th>\n",
       "      <th>max</th>\n",
       "      <th>count</th>\n",
       "      <th>mean</th>\n",
       "      <th>...</th>\n",
       "      <th>75%</th>\n",
       "      <th>max</th>\n",
       "      <th>count</th>\n",
       "      <th>mean</th>\n",
       "      <th>std</th>\n",
       "      <th>min</th>\n",
       "      <th>25%</th>\n",
       "      <th>50%</th>\n",
       "      <th>75%</th>\n",
       "      <th>max</th>\n",
       "    </tr>\n",
       "    <tr>\n",
       "      <th>risk</th>\n",
       "      <th></th>\n",
       "      <th></th>\n",
       "      <th></th>\n",
       "      <th></th>\n",
       "      <th></th>\n",
       "      <th></th>\n",
       "      <th></th>\n",
       "      <th></th>\n",
       "      <th></th>\n",
       "      <th></th>\n",
       "      <th></th>\n",
       "      <th></th>\n",
       "      <th></th>\n",
       "      <th></th>\n",
       "      <th></th>\n",
       "      <th></th>\n",
       "      <th></th>\n",
       "      <th></th>\n",
       "      <th></th>\n",
       "      <th></th>\n",
       "      <th></th>\n",
       "    </tr>\n",
       "  </thead>\n",
       "  <tbody>\n",
       "    <tr>\n",
       "      <th>hight</th>\n",
       "      <td>42.0</td>\n",
       "      <td>0.081715</td>\n",
       "      <td>0.079607</td>\n",
       "      <td>0.000000</td>\n",
       "      <td>0.039762</td>\n",
       "      <td>0.060899</td>\n",
       "      <td>0.093684</td>\n",
       "      <td>0.394052</td>\n",
       "      <td>42.0</td>\n",
       "      <td>0.000744</td>\n",
       "      <td>...</td>\n",
       "      <td>0.001624</td>\n",
       "      <td>0.005559</td>\n",
       "      <td>42.0</td>\n",
       "      <td>0.398385</td>\n",
       "      <td>0.336693</td>\n",
       "      <td>0.010765</td>\n",
       "      <td>0.162300</td>\n",
       "      <td>0.332710</td>\n",
       "      <td>0.520669</td>\n",
       "      <td>1.716817</td>\n",
       "    </tr>\n",
       "    <tr>\n",
       "      <th>low</th>\n",
       "      <td>291.0</td>\n",
       "      <td>0.188762</td>\n",
       "      <td>0.823057</td>\n",
       "      <td>0.000000</td>\n",
       "      <td>0.020921</td>\n",
       "      <td>0.046332</td>\n",
       "      <td>0.106714</td>\n",
       "      <td>12.114695</td>\n",
       "      <td>291.0</td>\n",
       "      <td>0.000594</td>\n",
       "      <td>...</td>\n",
       "      <td>0.002250</td>\n",
       "      <td>0.007976</td>\n",
       "      <td>291.0</td>\n",
       "      <td>0.056104</td>\n",
       "      <td>0.091781</td>\n",
       "      <td>0.000352</td>\n",
       "      <td>0.006698</td>\n",
       "      <td>0.021355</td>\n",
       "      <td>0.064862</td>\n",
       "      <td>0.599316</td>\n",
       "    </tr>\n",
       "    <tr>\n",
       "      <th>medium</th>\n",
       "      <td>76.0</td>\n",
       "      <td>0.134581</td>\n",
       "      <td>0.390219</td>\n",
       "      <td>0.004082</td>\n",
       "      <td>0.030857</td>\n",
       "      <td>0.060117</td>\n",
       "      <td>0.104984</td>\n",
       "      <td>3.369176</td>\n",
       "      <td>76.0</td>\n",
       "      <td>0.000743</td>\n",
       "      <td>...</td>\n",
       "      <td>0.001625</td>\n",
       "      <td>0.004149</td>\n",
       "      <td>76.0</td>\n",
       "      <td>0.225567</td>\n",
       "      <td>0.200801</td>\n",
       "      <td>0.020085</td>\n",
       "      <td>0.094229</td>\n",
       "      <td>0.165832</td>\n",
       "      <td>0.289894</td>\n",
       "      <td>1.144007</td>\n",
       "    </tr>\n",
       "  </tbody>\n",
       "</table>\n",
       "<p>3 rows × 32 columns</p>\n",
       "</div>"
      ],
      "text/plain": [
       "       mean_daily_deaths                                                    \\\n",
       "                describe                                                     \n",
       "                   count      mean       std       min       25%       50%   \n",
       "risk                                                                         \n",
       "hight               42.0  0.081715  0.079607  0.000000  0.039762  0.060899   \n",
       "low                291.0  0.188762  0.823057  0.000000  0.020921  0.046332   \n",
       "medium              76.0  0.134581  0.390219  0.004082  0.030857  0.060117   \n",
       "\n",
       "                            CFC_DEATHS            ...  CFC_BEDS            \\\n",
       "                              describe            ...  describe             \n",
       "             75%        max      count      mean  ...       75%       max   \n",
       "risk                                              ...                       \n",
       "hight   0.093684   0.394052       42.0  0.000744  ...  0.001624  0.005559   \n",
       "low     0.106714  12.114695      291.0  0.000594  ...  0.002250  0.007976   \n",
       "medium  0.104984   3.369176       76.0  0.000743  ...  0.001625  0.004149   \n",
       "\n",
       "            CFM                                                              \\\n",
       "       describe                                                               \n",
       "          count      mean       std       min       25%       50%       75%   \n",
       "risk                                                                          \n",
       "hight      42.0  0.398385  0.336693  0.010765  0.162300  0.332710  0.520669   \n",
       "low       291.0  0.056104  0.091781  0.000352  0.006698  0.021355  0.064862   \n",
       "medium     76.0  0.225567  0.200801  0.020085  0.094229  0.165832  0.289894   \n",
       "\n",
       "                  \n",
       "                  \n",
       "             max  \n",
       "risk              \n",
       "hight   1.716817  \n",
       "low     0.599316  \n",
       "medium  1.144007  \n",
       "\n",
       "[3 rows x 32 columns]"
      ]
     },
     "execution_count": 138,
     "metadata": {},
     "output_type": "execute_result"
    }
   ],
   "source": [
    "df_ipa_cfc_2020_cfm_2020_mean_daily_deaths.groupby(by=['risk']).agg({\n",
    "    'mean_daily_deaths': ['describe'],\n",
    "    'CFC_DEATHS': ['describe'],\n",
    "    'CFC_BEDS': ['describe'],\n",
    "    'CFM': ['describe']\n",
    "})"
   ]
  },
  {
   "cell_type": "markdown",
   "id": "d6b0b91e-aee4-4392-8d98-1365209a5cf5",
   "metadata": {},
   "source": [
    "# 9. Check Mean Daily Deaths outside and inside malaria cities"
   ]
  },
  {
   "cell_type": "code",
   "execution_count": 95,
   "id": "9dbabb67-e7a8-4e17-aa96-b8681f90ac07",
   "metadata": {},
   "outputs": [],
   "source": [
    "df_mean_daily_deaths = load_datasets.load_mean_daily_deaths_2020()"
   ]
  },
  {
   "cell_type": "code",
   "execution_count": 191,
   "id": "a7ce0cf6-4928-464f-9e8e-390502f848e1",
   "metadata": {},
   "outputs": [],
   "source": [
    "# df_cfc_2020"
   ]
  },
  {
   "cell_type": "code",
   "execution_count": 82,
   "id": "6bf4d8b6-4257-4166-912c-3d38649c30d7",
   "metadata": {},
   "outputs": [
    {
     "data": {
      "text/plain": [
       "'150010'"
      ]
     },
     "execution_count": 82,
     "metadata": {},
     "output_type": "execute_result"
    }
   ],
   "source": []
  },
  {
   "cell_type": "code",
   "execution_count": 126,
   "id": "50ac3808-c005-40de-8076-5f85a80df1e8",
   "metadata": {},
   "outputs": [],
   "source": [
    "bol_mean_daily_deaths_outside_mal = ~df_mean_daily_deaths.index.isin(df_ipa_risk_cfc_2020_with_city_duplicate['codmun'])"
   ]
  },
  {
   "cell_type": "code",
   "execution_count": 127,
   "id": "a52624dc-3bb2-4045-8bc1-93203cb74931",
   "metadata": {},
   "outputs": [
    {
     "data": {
      "text/html": [
       "<div>\n",
       "<style scoped>\n",
       "    .dataframe tbody tr th:only-of-type {\n",
       "        vertical-align: middle;\n",
       "    }\n",
       "\n",
       "    .dataframe tbody tr th {\n",
       "        vertical-align: top;\n",
       "    }\n",
       "\n",
       "    .dataframe thead th {\n",
       "        text-align: right;\n",
       "    }\n",
       "</style>\n",
       "<table border=\"1\" class=\"dataframe\">\n",
       "  <thead>\n",
       "    <tr style=\"text-align: right;\">\n",
       "      <th></th>\n",
       "      <th>mean_daily_deaths</th>\n",
       "    </tr>\n",
       "  </thead>\n",
       "  <tbody>\n",
       "    <tr>\n",
       "      <th>count</th>\n",
       "      <td>5022.000000</td>\n",
       "    </tr>\n",
       "    <tr>\n",
       "      <th>mean</th>\n",
       "      <td>0.103651</td>\n",
       "    </tr>\n",
       "    <tr>\n",
       "      <th>std</th>\n",
       "      <td>0.842730</td>\n",
       "    </tr>\n",
       "    <tr>\n",
       "      <th>min</th>\n",
       "      <td>0.000000</td>\n",
       "    </tr>\n",
       "    <tr>\n",
       "      <th>25%</th>\n",
       "      <td>0.008511</td>\n",
       "    </tr>\n",
       "    <tr>\n",
       "      <th>50%</th>\n",
       "      <td>0.021164</td>\n",
       "    </tr>\n",
       "    <tr>\n",
       "      <th>75%</th>\n",
       "      <td>0.057348</td>\n",
       "    </tr>\n",
       "    <tr>\n",
       "      <th>max</th>\n",
       "      <td>53.261649</td>\n",
       "    </tr>\n",
       "  </tbody>\n",
       "</table>\n",
       "</div>"
      ],
      "text/plain": [
       "       mean_daily_deaths\n",
       "count        5022.000000\n",
       "mean            0.103651\n",
       "std             0.842730\n",
       "min             0.000000\n",
       "25%             0.008511\n",
       "50%             0.021164\n",
       "75%             0.057348\n",
       "max            53.261649"
      ]
     },
     "execution_count": 127,
     "metadata": {},
     "output_type": "execute_result"
    }
   ],
   "source": [
    "df_mean_daily_deaths[bol_mean_daily_deaths_outside_mal].describe()"
   ]
  },
  {
   "cell_type": "code",
   "execution_count": 128,
   "id": "dec3dbd9-6c04-460d-8f22-f9b7ce0cc17f",
   "metadata": {},
   "outputs": [],
   "source": [
    "bol_mean_daily_deaths_insideside_mal = df_mean_daily_deaths.index.isin(df_ipa_risk_cfc_2020_no_duplicates_keep_equal_false['codmun'])"
   ]
  },
  {
   "cell_type": "code",
   "execution_count": 129,
   "id": "923e4198-6b9b-4f03-8586-9b3329366c8a",
   "metadata": {},
   "outputs": [
    {
     "data": {
      "text/html": [
       "<div>\n",
       "<style scoped>\n",
       "    .dataframe tbody tr th:only-of-type {\n",
       "        vertical-align: middle;\n",
       "    }\n",
       "\n",
       "    .dataframe tbody tr th {\n",
       "        vertical-align: top;\n",
       "    }\n",
       "\n",
       "    .dataframe thead th {\n",
       "        text-align: right;\n",
       "    }\n",
       "</style>\n",
       "<table border=\"1\" class=\"dataframe\">\n",
       "  <thead>\n",
       "    <tr style=\"text-align: right;\">\n",
       "      <th></th>\n",
       "      <th>mean_daily_deaths</th>\n",
       "    </tr>\n",
       "  </thead>\n",
       "  <tbody>\n",
       "    <tr>\n",
       "      <th>count</th>\n",
       "      <td>458.000000</td>\n",
       "    </tr>\n",
       "    <tr>\n",
       "      <th>mean</th>\n",
       "      <td>0.392358</td>\n",
       "    </tr>\n",
       "    <tr>\n",
       "      <th>std</th>\n",
       "      <td>2.917251</td>\n",
       "    </tr>\n",
       "    <tr>\n",
       "      <th>min</th>\n",
       "      <td>0.000000</td>\n",
       "    </tr>\n",
       "    <tr>\n",
       "      <th>25%</th>\n",
       "      <td>0.024948</td>\n",
       "    </tr>\n",
       "    <tr>\n",
       "      <th>50%</th>\n",
       "      <td>0.054394</td>\n",
       "    </tr>\n",
       "    <tr>\n",
       "      <th>75%</th>\n",
       "      <td>0.109535</td>\n",
       "    </tr>\n",
       "    <tr>\n",
       "      <th>max</th>\n",
       "      <td>56.197133</td>\n",
       "    </tr>\n",
       "  </tbody>\n",
       "</table>\n",
       "</div>"
      ],
      "text/plain": [
       "       mean_daily_deaths\n",
       "count         458.000000\n",
       "mean            0.392358\n",
       "std             2.917251\n",
       "min             0.000000\n",
       "25%             0.024948\n",
       "50%             0.054394\n",
       "75%             0.109535\n",
       "max            56.197133"
      ]
     },
     "execution_count": 129,
     "metadata": {},
     "output_type": "execute_result"
    }
   ],
   "source": [
    "df_mean_daily_deaths[bol_mean_daily_deaths_insideside_mal].describe()"
   ]
  },
  {
   "cell_type": "markdown",
   "id": "897c17c4-59e9-4c7e-b862-0139691f9397",
   "metadata": {},
   "source": [
    "# 10. Correlation between IPA and CFM"
   ]
  },
  {
   "cell_type": "code",
   "execution_count": 20,
   "id": "95173b87-a029-4f0f-b60f-5cb70bb06994",
   "metadata": {},
   "outputs": [
    {
     "data": {
      "text/plain": [
       "Text(0.5, 1.0, 'spearman correlaction')"
      ]
     },
     "execution_count": 20,
     "metadata": {},
     "output_type": "execute_result"
    },
    {
     "data": {
      "image/png": "[encoded data removed]",
      "text/plain": [
       "<Figure size 432x288 with 2 Axes>"
      ]
     },
     "metadata": {
      "needs_background": "light"
     },
     "output_type": "display_data"
    }
   ],
   "source": [
    "corr = df_ipa_cfc_2020_cfm_all_years[['taxa', 'CFM']].corr(method='spearman')\n",
    "\n",
    "# Generate a mask for the upper triangle\n",
    "mask = np.triu(np.ones_like(corr, dtype=bool))\n",
    "\n",
    "# Generate a custom diverging colormap\n",
    "cmap = sns.diverging_palette(230, 20, as_cmap=True)\n",
    "\n",
    "sns.heatmap(data=corr, cmap=cmap, mask=mask, center=0, vmax=1, vmin=-1, annot=True)\n",
    "plt.title('spearman correlaction')"
   ]
  },
  {
   "cell_type": "markdown",
   "id": "7a33de7c-a668-4d4d-98fd-33a0e552d698",
   "metadata": {},
   "source": [
    "# 11. Correlation between mean daily deaths by covid and IPA"
   ]
  },
  {
   "cell_type": "code",
   "execution_count": 20,
   "id": "674dc123-e131-4ef8-8089-27bc36a7323d",
   "metadata": {},
   "outputs": [],
   "source": [
    "df_mean_daily_deaths_covid_2020 = load_datasets.load_mean_daily_deaths_2020()"
   ]
  },
  {
   "cell_type": "code",
   "execution_count": 21,
   "id": "e9a301c0-872e-4884-a4a9-dd55916b12ce",
   "metadata": {},
   "outputs": [
    {
     "ename": "NameError",
     "evalue": "name 'df_ipa_cfc_2020_cfm_all_years' is not defined",
     "output_type": "error",
     "traceback": [
      "\u001b[0;31m------------------------------------------------------\u001b[0m",
      "\u001b[0;31mNameError\u001b[0m            Traceback (most recent call last)",
      "\u001b[0;32m<ipython-input-21-df05fcfb943c>\u001b[0m in \u001b[0;36m<module>\u001b[0;34m\u001b[0m\n\u001b[0;32m----> 1\u001b[0;31m \u001b[0mdf_ipa_cfc_2020_cfm_2020_mean_daily_deaths\u001b[0m \u001b[0;34m=\u001b[0m \u001b[0mdf_ipa_cfc_2020_cfm_all_years\u001b[0m\u001b[0;34m.\u001b[0m\u001b[0mjoin\u001b[0m\u001b[0;34m(\u001b[0m\u001b[0mdf_mean_daily_deaths_covid_2020\u001b[0m\u001b[0;34m)\u001b[0m\u001b[0;34m\u001b[0m\u001b[0;34m\u001b[0m\u001b[0m\n\u001b[0m",
      "\u001b[0;31mNameError\u001b[0m: name 'df_ipa_cfc_2020_cfm_all_years' is not defined"
     ]
    }
   ],
   "source": [
    "df_ipa_cfc_2020_cfm_2020_mean_daily_deaths = df_ipa_cfc_2020_cfm_all_years.join(df_mean_daily_deaths_covid_2020)"
   ]
  },
  {
   "cell_type": "code",
   "execution_count": 26,
   "id": "ff11e048-2a21-4b5b-8cb1-c5499a65c77e",
   "metadata": {},
   "outputs": [
    {
     "data": {
      "text/html": [
       "<div>\n",
       "<style scoped>\n",
       "    .dataframe tbody tr th:only-of-type {\n",
       "        vertical-align: middle;\n",
       "    }\n",
       "\n",
       "    .dataframe tbody tr th {\n",
       "        vertical-align: top;\n",
       "    }\n",
       "\n",
       "    .dataframe thead th {\n",
       "        text-align: right;\n",
       "    }\n",
       "</style>\n",
       "<table border=\"1\" class=\"dataframe\">\n",
       "  <thead>\n",
       "    <tr style=\"text-align: right;\">\n",
       "      <th></th>\n",
       "      <th>taxa</th>\n",
       "      <th>risk</th>\n",
       "      <th>CFC_DEATHS</th>\n",
       "      <th>CFC_BEDS</th>\n",
       "      <th>regiao</th>\n",
       "      <th>CFM</th>\n",
       "      <th>mean_daily_deaths</th>\n",
       "    </tr>\n",
       "    <tr>\n",
       "      <th>codmun</th>\n",
       "      <th></th>\n",
       "      <th></th>\n",
       "      <th></th>\n",
       "      <th></th>\n",
       "      <th></th>\n",
       "      <th></th>\n",
       "      <th></th>\n",
       "    </tr>\n",
       "  </thead>\n",
       "  <tbody>\n",
       "    <tr>\n",
       "      <th>150010</th>\n",
       "      <td>0.06</td>\n",
       "      <td>low</td>\n",
       "      <td>0.000761</td>\n",
       "      <td>0.001782</td>\n",
       "      <td>Norte</td>\n",
       "      <td>0.005010</td>\n",
       "      <td>0.434783</td>\n",
       "    </tr>\n",
       "    <tr>\n",
       "      <th>150013</th>\n",
       "      <td>0.58</td>\n",
       "      <td>low</td>\n",
       "      <td>0.000269</td>\n",
       "      <td>0.002825</td>\n",
       "      <td>Norte</td>\n",
       "      <td>0.006188</td>\n",
       "      <td>0.008439</td>\n",
       "    </tr>\n",
       "    <tr>\n",
       "      <th>150020</th>\n",
       "      <td>0.24</td>\n",
       "      <td>low</td>\n",
       "      <td>0.000288</td>\n",
       "      <td>0.000594</td>\n",
       "      <td>Norte</td>\n",
       "      <td>0.000738</td>\n",
       "      <td>0.060377</td>\n",
       "    </tr>\n",
       "    <tr>\n",
       "      <th>120001</th>\n",
       "      <td>4.54</td>\n",
       "      <td>low</td>\n",
       "      <td>0.000787</td>\n",
       "      <td>0.001049</td>\n",
       "      <td>Norte</td>\n",
       "      <td>0.416561</td>\n",
       "      <td>0.043165</td>\n",
       "    </tr>\n",
       "    <tr>\n",
       "      <th>150030</th>\n",
       "      <td>24.42</td>\n",
       "      <td>medium</td>\n",
       "      <td>0.000280</td>\n",
       "      <td>0.000765</td>\n",
       "      <td>Norte</td>\n",
       "      <td>0.342044</td>\n",
       "      <td>0.042636</td>\n",
       "    </tr>\n",
       "    <tr>\n",
       "      <th>...</th>\n",
       "      <td>...</td>\n",
       "      <td>...</td>\n",
       "      <td>...</td>\n",
       "      <td>...</td>\n",
       "      <td>...</td>\n",
       "      <td>...</td>\n",
       "      <td>...</td>\n",
       "    </tr>\n",
       "    <tr>\n",
       "      <th>172210</th>\n",
       "      <td>0.08</td>\n",
       "      <td>low</td>\n",
       "      <td>0.001300</td>\n",
       "      <td>0.002426</td>\n",
       "      <td>Norte</td>\n",
       "      <td>0.015425</td>\n",
       "      <td>0.063559</td>\n",
       "    </tr>\n",
       "    <tr>\n",
       "      <th>150840</th>\n",
       "      <td>0.04</td>\n",
       "      <td>low</td>\n",
       "      <td>0.000581</td>\n",
       "      <td>0.002659</td>\n",
       "      <td>Norte</td>\n",
       "      <td>0.010078</td>\n",
       "      <td>0.101562</td>\n",
       "    </tr>\n",
       "    <tr>\n",
       "      <th>211400</th>\n",
       "      <td>1.29</td>\n",
       "      <td>low</td>\n",
       "      <td>0.000754</td>\n",
       "      <td>0.001470</td>\n",
       "      <td>Nordeste</td>\n",
       "      <td>0.038442</td>\n",
       "      <td>0.148289</td>\n",
       "    </tr>\n",
       "    <tr>\n",
       "      <th>150034</th>\n",
       "      <td>0.11</td>\n",
       "      <td>low</td>\n",
       "      <td>0.000000</td>\n",
       "      <td>0.001458</td>\n",
       "      <td>Norte</td>\n",
       "      <td>0.001276</td>\n",
       "      <td>0.000000</td>\n",
       "    </tr>\n",
       "    <tr>\n",
       "      <th>150510</th>\n",
       "      <td>3.87</td>\n",
       "      <td>low</td>\n",
       "      <td>0.000901</td>\n",
       "      <td>0.001247</td>\n",
       "      <td>Norte</td>\n",
       "      <td>0.049389</td>\n",
       "      <td>0.180077</td>\n",
       "    </tr>\n",
       "  </tbody>\n",
       "</table>\n",
       "<p>409 rows × 7 columns</p>\n",
       "</div>"
      ],
      "text/plain": [
       "         taxa    risk  CFC_DEATHS  CFC_BEDS    regiao       CFM  \\\n",
       "codmun                                                            \n",
       "150010   0.06     low    0.000761  0.001782     Norte  0.005010   \n",
       "150013   0.58     low    0.000269  0.002825     Norte  0.006188   \n",
       "150020   0.24     low    0.000288  0.000594     Norte  0.000738   \n",
       "120001   4.54     low    0.000787  0.001049     Norte  0.416561   \n",
       "150030  24.42  medium    0.000280  0.000765     Norte  0.342044   \n",
       "...       ...     ...         ...       ...       ...       ...   \n",
       "172210   0.08     low    0.001300  0.002426     Norte  0.015425   \n",
       "150840   0.04     low    0.000581  0.002659     Norte  0.010078   \n",
       "211400   1.29     low    0.000754  0.001470  Nordeste  0.038442   \n",
       "150034   0.11     low    0.000000  0.001458     Norte  0.001276   \n",
       "150510   3.87     low    0.000901  0.001247     Norte  0.049389   \n",
       "\n",
       "        mean_daily_deaths  \n",
       "codmun                     \n",
       "150010           0.434783  \n",
       "150013           0.008439  \n",
       "150020           0.060377  \n",
       "120001           0.043165  \n",
       "150030           0.042636  \n",
       "...                   ...  \n",
       "172210           0.063559  \n",
       "150840           0.101562  \n",
       "211400           0.148289  \n",
       "150034           0.000000  \n",
       "150510           0.180077  \n",
       "\n",
       "[409 rows x 7 columns]"
      ]
     },
     "execution_count": 26,
     "metadata": {},
     "output_type": "execute_result"
    }
   ],
   "source": [
    "df_ipa_cfc_2020_cfm_2020_mean_daily_deaths"
   ]
  },
  {
   "cell_type": "code",
   "execution_count": 27,
   "id": "fb78a897-0080-4a38-a8ec-174862c23c19",
   "metadata": {},
   "outputs": [
    {
     "data": {
      "text/plain": [
       "Text(0.5, 1.0, 'spearman correlaction')"
      ]
     },
     "execution_count": 27,
     "metadata": {},
     "output_type": "execute_result"
    },
    {
     "data": {
      "image/png": "[encoded data removed]",
      "text/plain": [
       "<Figure size 432x288 with 2 Axes>"
      ]
     },
     "metadata": {
      "needs_background": "light"
     },
     "output_type": "display_data"
    }
   ],
   "source": [
    "corr = df_ipa_cfc_2020_cfm_2020_mean_daily_deaths[['mean_daily_deaths', 'taxa']].corr(method='spearman')\n",
    "\n",
    "# Generate a mask for the upper triangle\n",
    "mask = np.triu(np.ones_like(corr, dtype=bool))\n",
    "\n",
    "# Generate a custom diverging colormap\n",
    "cmap = sns.diverging_palette(230, 20, as_cmap=True)\n",
    "\n",
    "sns.heatmap(data=corr, cmap=cmap, mask=mask, center=0, vmax=1, vmin=-1, annot=True)\n",
    "plt.title('spearman correlaction')"
   ]
  },
  {
   "cell_type": "markdown",
   "id": "9ec648c3-0b63-4f7c-824c-a1ce4b98ecdc",
   "metadata": {},
   "source": [
    "#  <center>12. FINAL</center>"
   ]
  },
  {
   "cell_type": "code",
   "execution_count": 337,
   "id": "2dfcb66c-17dc-49ea-a8b3-33751243dd95",
   "metadata": {},
   "outputs": [
    {
     "data": {
      "text/plain": [
       "Index(['taxa', 'risk', 'CFC_DEATHS', 'CFC_BEDS', 'regiao', 'CFM',\n",
       "       'mean_daily_deaths'],\n",
       "      dtype='object')"
      ]
     },
     "execution_count": 337,
     "metadata": {},
     "output_type": "execute_result"
    }
   ],
   "source": [
    "df_ipa_cfc_2020_cfm_2020_mean_daily_deaths.columns"
   ]
  },
  {
   "cell_type": "code",
   "execution_count": 243,
   "id": "2b3d2520-d1db-45b5-aa84-3cad2467f346",
   "metadata": {},
   "outputs": [],
   "source": [
    "li_operations = ['describe']\n",
    "li_operations_head = ['count', 'describe']\n",
    "\n",
    "df_comparison_final = df_ipa_cfc_2020_cfm_2020_mean_daily_deaths.groupby(by=['risk']).agg({    \n",
    "    'mean_daily_deaths': li_operations_head,\n",
    "    'CFC_DEATHS': li_operations,\n",
    "    'CFC_BEDS': li_operations,\n",
    "    'CFM': li_operations\n",
    "})\n",
    "\n",
    "count_column_detected = False\n",
    "for column in df_comparison_final.columns:\n",
    "    if 'count' in column:\n",
    "        if count_column_detected == False:\n",
    "            df_comparison_final.drop(column, axis=1, inplace=True)\n",
    "            count_column_detected = True"
   ]
  },
  {
   "cell_type": "code",
   "execution_count": 334,
   "id": "ab56225a-1c53-4173-8d33-8308fa968218",
   "metadata": {},
   "outputs": [
    {
     "data": {
      "text/html": [
       "<div>\n",
       "<style scoped>\n",
       "    .dataframe tbody tr th:only-of-type {\n",
       "        vertical-align: middle;\n",
       "    }\n",
       "\n",
       "    .dataframe tbody tr th {\n",
       "        vertical-align: top;\n",
       "    }\n",
       "\n",
       "    .dataframe thead tr th {\n",
       "        text-align: left;\n",
       "    }\n",
       "\n",
       "    .dataframe thead tr:last-of-type th {\n",
       "        text-align: right;\n",
       "    }\n",
       "</style>\n",
       "<table border=\"1\" class=\"dataframe\">\n",
       "  <thead>\n",
       "    <tr>\n",
       "      <th></th>\n",
       "      <th colspan=\"8\" halign=\"left\">mean_daily_deaths</th>\n",
       "      <th colspan=\"2\" halign=\"left\">CFC_DEATHS</th>\n",
       "      <th>...</th>\n",
       "      <th colspan=\"2\" halign=\"left\">CFC_BEDS</th>\n",
       "      <th colspan=\"8\" halign=\"left\">CFM</th>\n",
       "    </tr>\n",
       "    <tr>\n",
       "      <th></th>\n",
       "      <th colspan=\"8\" halign=\"left\">describe</th>\n",
       "      <th colspan=\"2\" halign=\"left\">describe</th>\n",
       "      <th>...</th>\n",
       "      <th colspan=\"2\" halign=\"left\">describe</th>\n",
       "      <th colspan=\"8\" halign=\"left\">describe</th>\n",
       "    </tr>\n",
       "    <tr>\n",
       "      <th></th>\n",
       "      <th>count</th>\n",
       "      <th>mean</th>\n",
       "      <th>std</th>\n",
       "      <th>min</th>\n",
       "      <th>25%</th>\n",
       "      <th>50%</th>\n",
       "      <th>75%</th>\n",
       "      <th>max</th>\n",
       "      <th>count</th>\n",
       "      <th>mean</th>\n",
       "      <th>...</th>\n",
       "      <th>75%</th>\n",
       "      <th>max</th>\n",
       "      <th>count</th>\n",
       "      <th>mean</th>\n",
       "      <th>std</th>\n",
       "      <th>min</th>\n",
       "      <th>25%</th>\n",
       "      <th>50%</th>\n",
       "      <th>75%</th>\n",
       "      <th>max</th>\n",
       "    </tr>\n",
       "    <tr>\n",
       "      <th>risk</th>\n",
       "      <th></th>\n",
       "      <th></th>\n",
       "      <th></th>\n",
       "      <th></th>\n",
       "      <th></th>\n",
       "      <th></th>\n",
       "      <th></th>\n",
       "      <th></th>\n",
       "      <th></th>\n",
       "      <th></th>\n",
       "      <th></th>\n",
       "      <th></th>\n",
       "      <th></th>\n",
       "      <th></th>\n",
       "      <th></th>\n",
       "      <th></th>\n",
       "      <th></th>\n",
       "      <th></th>\n",
       "      <th></th>\n",
       "      <th></th>\n",
       "      <th></th>\n",
       "    </tr>\n",
       "  </thead>\n",
       "  <tbody>\n",
       "    <tr>\n",
       "      <th>hight</th>\n",
       "      <td>42.0</td>\n",
       "      <td>0.081715</td>\n",
       "      <td>0.079607</td>\n",
       "      <td>0.000000</td>\n",
       "      <td>0.039762</td>\n",
       "      <td>0.060899</td>\n",
       "      <td>0.093684</td>\n",
       "      <td>0.394052</td>\n",
       "      <td>42.0</td>\n",
       "      <td>0.000744</td>\n",
       "      <td>...</td>\n",
       "      <td>0.001624</td>\n",
       "      <td>0.005559</td>\n",
       "      <td>42.0</td>\n",
       "      <td>0.398385</td>\n",
       "      <td>0.336693</td>\n",
       "      <td>0.010765</td>\n",
       "      <td>0.162300</td>\n",
       "      <td>0.332710</td>\n",
       "      <td>0.520669</td>\n",
       "      <td>1.716817</td>\n",
       "    </tr>\n",
       "    <tr>\n",
       "      <th>low</th>\n",
       "      <td>291.0</td>\n",
       "      <td>0.188762</td>\n",
       "      <td>0.823057</td>\n",
       "      <td>0.000000</td>\n",
       "      <td>0.020921</td>\n",
       "      <td>0.046332</td>\n",
       "      <td>0.106714</td>\n",
       "      <td>12.114695</td>\n",
       "      <td>291.0</td>\n",
       "      <td>0.000594</td>\n",
       "      <td>...</td>\n",
       "      <td>0.002250</td>\n",
       "      <td>0.007976</td>\n",
       "      <td>291.0</td>\n",
       "      <td>0.056104</td>\n",
       "      <td>0.091781</td>\n",
       "      <td>0.000352</td>\n",
       "      <td>0.006698</td>\n",
       "      <td>0.021355</td>\n",
       "      <td>0.064862</td>\n",
       "      <td>0.599316</td>\n",
       "    </tr>\n",
       "    <tr>\n",
       "      <th>medium</th>\n",
       "      <td>76.0</td>\n",
       "      <td>0.134581</td>\n",
       "      <td>0.390219</td>\n",
       "      <td>0.004082</td>\n",
       "      <td>0.030857</td>\n",
       "      <td>0.060117</td>\n",
       "      <td>0.104984</td>\n",
       "      <td>3.369176</td>\n",
       "      <td>76.0</td>\n",
       "      <td>0.000743</td>\n",
       "      <td>...</td>\n",
       "      <td>0.001625</td>\n",
       "      <td>0.004149</td>\n",
       "      <td>76.0</td>\n",
       "      <td>0.225567</td>\n",
       "      <td>0.200801</td>\n",
       "      <td>0.020085</td>\n",
       "      <td>0.094229</td>\n",
       "      <td>0.165832</td>\n",
       "      <td>0.289894</td>\n",
       "      <td>1.144007</td>\n",
       "    </tr>\n",
       "  </tbody>\n",
       "</table>\n",
       "<p>3 rows × 32 columns</p>\n",
       "</div>"
      ],
      "text/plain": [
       "       mean_daily_deaths                                                    \\\n",
       "                describe                                                     \n",
       "                   count      mean       std       min       25%       50%   \n",
       "risk                                                                         \n",
       "hight               42.0  0.081715  0.079607  0.000000  0.039762  0.060899   \n",
       "low                291.0  0.188762  0.823057  0.000000  0.020921  0.046332   \n",
       "medium              76.0  0.134581  0.390219  0.004082  0.030857  0.060117   \n",
       "\n",
       "                            CFC_DEATHS            ...  CFC_BEDS            \\\n",
       "                              describe            ...  describe             \n",
       "             75%        max      count      mean  ...       75%       max   \n",
       "risk                                              ...                       \n",
       "hight   0.093684   0.394052       42.0  0.000744  ...  0.001624  0.005559   \n",
       "low     0.106714  12.114695      291.0  0.000594  ...  0.002250  0.007976   \n",
       "medium  0.104984   3.369176       76.0  0.000743  ...  0.001625  0.004149   \n",
       "\n",
       "            CFM                                                              \\\n",
       "       describe                                                               \n",
       "          count      mean       std       min       25%       50%       75%   \n",
       "risk                                                                          \n",
       "hight      42.0  0.398385  0.336693  0.010765  0.162300  0.332710  0.520669   \n",
       "low       291.0  0.056104  0.091781  0.000352  0.006698  0.021355  0.064862   \n",
       "medium     76.0  0.225567  0.200801  0.020085  0.094229  0.165832  0.289894   \n",
       "\n",
       "                  \n",
       "                  \n",
       "             max  \n",
       "risk              \n",
       "hight   1.716817  \n",
       "low     0.599316  \n",
       "medium  1.144007  \n",
       "\n",
       "[3 rows x 32 columns]"
      ]
     },
     "execution_count": 334,
     "metadata": {},
     "output_type": "execute_result"
    }
   ],
   "source": [
    "df_comparison_final"
   ]
  },
  {
   "cell_type": "code",
   "execution_count": 338,
   "id": "1569616d-3031-44ff-a7e7-419f8a83638a",
   "metadata": {},
   "outputs": [],
   "source": [
    "output_path = os.path.join(os.getcwd(), 'output', 'data')\n",
    "output_file = 'ipa_cfc_2020_cfm_2020_mean_daily_deaths_2020_comparison_final.csv'\n",
    "df_comparison_final.to_csv(os.path.join(output_path, output_file))"
   ]
  },
  {
   "cell_type": "code",
   "execution_count": 246,
   "id": "3c39f8ca-9c0c-40b7-967a-aadc75ef4cc0",
   "metadata": {},
   "outputs": [],
   "source": [
    "output_path = os.path.join(os.getcwd(), 'output', 'data')\n",
    "output_file = 'ipa_cfc_2020_cfm_2020_mean_daily_deaths_2020.csv'\n",
    "df_ipa_cfc_2020_cfm_2020_mean_daily_deaths.to_csv(os.path.join(output_path, output_file))"
   ]
  },
  {
   "cell_type": "code",
   "execution_count": 122,
   "id": "06628ea6-12c3-4a13-a234-2291ffb38a27",
   "metadata": {},
   "outputs": [
    {
     "data": {
      "image/png": "[encoded data removed]",
      "text/plain": [
       "<Figure size 842.4x595.44 with 2 Axes>"
      ]
     },
     "metadata": {},
     "output_type": "display_data"
    }
   ],
   "source": [
    "sns.set_theme()\n",
    "sns.set(rc={'figure.figsize':(11.7,8.27)})\n",
    "\n",
    "path_output = os.path.join(os.getcwd(), 'output')\n",
    "file_output = 'final_correlaction.png'\n",
    "\n",
    "corr = df_ipa_cfc_2020_cfm_2020_mean_daily_deaths.corr(method='spearman')\n",
    "\n",
    "# Generate a mask for the upper triangle\n",
    "mask = np.triu(np.ones_like(corr, dtype=bool))\n",
    "\n",
    "# Generate a custom diverging colormap\n",
    "cmap = sns.diverging_palette(230, 20, as_cmap=True)\n",
    "\n",
    "plot = sns.heatmap(\n",
    "    data=corr, cmap=cmap, mask=mask, center=0, vmax=1, vmin=-1, annot=True)\n",
    "\n",
    "plt.title(\"Spearman correlation\", fontsize=30, fontweight='bold') \n",
    "# plt.tick_params(labelsize=8)\n",
    "plt.tight_layout()\n",
    "\n",
    "plt.show()\n",
    "\n",
    "plot.figure.savefig(os.path.join(path_output, file_output), dpi=300)"
   ]
  },
  {
   "cell_type": "code",
   "execution_count": 86,
   "id": "caabf4a5-41b3-430b-81a4-1938adbf5f41",
   "metadata": {},
   "outputs": [
    {
     "data": {
      "image/png": "[encoded data removed]",
      "text/plain": [
       "<Figure size 842.4x595.44 with 1 Axes>"
      ]
     },
     "metadata": {},
     "output_type": "display_data"
    }
   ],
   "source": [
    "sns.set_theme()\n",
    "sns.set(rc={'figure.figsize':(11.7,8.27)})     \n",
    "\n",
    "plt.tight_layout()\n",
    "\n",
    "plot = countplot(df_ipa_cfc_2020_cfm_2020_mean_daily_deaths, x='risk')\n",
    "\n",
    "plt.title(\"Frequency kind of IPA risk\", fontsize=30, fontweight='bold')\n",
    "plt.xlabel('IPA risk', fontsize=25)\n",
    "plt.ylabel('Frequency', fontsize=25)\n",
    "plot.tick_params(labelsize=20)\n",
    "\n",
    "path_output = os.path.join(os.getcwd(), 'output')\n",
    "file_output = 'ipa_countplot.png'\n",
    "\n",
    "\n",
    "\n",
    "plt.show()\n",
    "\n",
    "plot.figure.savefig(\n",
    "    os.path.join(path_output, file_output), dpi=300)"
   ]
  },
  {
   "cell_type": "code",
   "execution_count": 91,
   "id": "cb0664aa-118b-4c44-960f-611aaca31b35",
   "metadata": {},
   "outputs": [
    {
     "data": {
      "text/plain": [
       "<Figure size 842.4x595.44 with 0 Axes>"
      ]
     },
     "metadata": {},
     "output_type": "display_data"
    },
    {
     "data": {
      "image/png": "[encoded data removed]",
      "text/plain": [
       "<Figure size 360x360 with 1 Axes>"
      ]
     },
     "metadata": {},
     "output_type": "display_data"
    }
   ],
   "source": [
    "sns.set_theme()\n",
    "sns.set(rc={'figure.figsize':(11.7,8.27)})\n",
    "\n",
    "plt.tight_layout()\n",
    "\n",
    "plot = catplot(df_ipa_cfc_2020_cfm_2020_mean_daily_deaths[['risk', 'taxa']],\n",
    "       x='risk', y='taxa', kind='box')\n",
    "\n",
    "path_output = os.path.join(os.getcwd(), 'output')\n",
    "file_output = 'ipa_catplot_boxplot.png'\n",
    "\n",
    "plt.title('IPA value vs IPA Risk', fontsize=30, fontweight='bold')\n",
    "plt.xlabel('IPA risk', fontsize=25)\n",
    "plt.ylabel('IPA value', fontsize=25)\n",
    "plt.tick_params(labelsize=20)\n",
    "\n",
    "plt.show()\n",
    "\n",
    "plot.savefig(\n",
    "    os.path.join(path_output, file_output), dpi=300)"
   ]
  },
  {
   "cell_type": "code",
   "execution_count": 102,
   "id": "63b3b46b-3a0a-4ee1-9ab3-47de83752103",
   "metadata": {},
   "outputs": [
    {
     "data": {
      "image/png": "[encoded data removed]",
      "text/plain": [
       "<Figure size 842.4x595.44 with 1 Axes>"
      ]
     },
     "metadata": {},
     "output_type": "display_data"
    }
   ],
   "source": [
    "sns.set_theme()\n",
    "sns.set(rc={'figure.figsize':(11.7,8.27)})\n",
    "\n",
    "plt.tight_layout()\n",
    "\n",
    "plot = boxplot(df_ipa_cfc_2020_cfm_2020_mean_daily_deaths,\n",
    "        x='risk',\n",
    "        y='CFC_DEATHS')\n",
    "\n",
    "path_output = os.path.join(os.getcwd(), 'output')\n",
    "file_output = 'CFC_DEATHS_by_IPA_risk.png'\n",
    "\n",
    "plt.title('CFC_DEATHS by kind of IPA risk', fontsize=30, fontweight='bold')\n",
    "plt.xlabel('IPA risk', fontsize=25)\n",
    "plt.ylabel('CFC_DEATHS', fontsize=25)\n",
    "plt.tick_params(labelsize=20)\n",
    "\n",
    "plt.show()\n",
    "\n",
    "plot.figure.savefig(\n",
    "    os.path.join(path_output, file_output), dpi=300)"
   ]
  },
  {
   "cell_type": "code",
   "execution_count": 103,
   "id": "e02e0b8d-d3a6-41a3-9e9f-fcbc07bb2bef",
   "metadata": {},
   "outputs": [
    {
     "data": {
      "image/png": "[encoded data removed]",
      "text/plain": [
       "<Figure size 842.4x595.44 with 1 Axes>"
      ]
     },
     "metadata": {},
     "output_type": "display_data"
    }
   ],
   "source": [
    "sns.set_theme()\n",
    "sns.set(rc={'figure.figsize':(11.7,8.27)})\n",
    "\n",
    "plot = barplot(df_ipa_cfc_2020_cfm_2020_mean_daily_deaths,\n",
    "        x='risk',\n",
    "        y='mean_daily_deaths',\n",
    "        capsize=.2,\n",
    "        estimator=np.mean)\n",
    "\n",
    "path_output = os.path.join(os.getcwd(), 'output')\n",
    "file_output = 'IPA_risk_vs_Mean_daily_deaths_by_COVID-19_barplot.png'\n",
    "\n",
    "plt.title('IPA risk vs Mean daily deaths by COVID-19', fontsize=30, fontweight='bold')\n",
    "plt.xlabel('IPA risk', fontsize=25)\n",
    "plt.ylabel('Mean daily deaths by COVID-19', fontsize=25)\n",
    "plt.tick_params(labelsize=20)\n",
    "plt.tight_layout()\n",
    "\n",
    "plt.show()\n",
    "\n",
    "plot.figure.savefig(\n",
    "    os.path.join(path_output, file_output), dpi=300)"
   ]
  },
  {
   "cell_type": "code",
   "execution_count": 105,
   "id": "946c83ff-1e60-4d53-b645-10a94c275156",
   "metadata": {},
   "outputs": [
    {
     "data": {
      "image/png": "[encoded data removed]",
      "text/plain": [
       "<Figure size 842.4x595.44 with 1 Axes>"
      ]
     },
     "metadata": {},
     "output_type": "display_data"
    }
   ],
   "source": [
    "sns.set(rc={'figure.figsize':(11.7,8.27)})\n",
    "sns.set_theme()\n",
    "\n",
    "plot = violinplot(df_ipa_cfc_2020_cfm_2020_mean_daily_deaths,\n",
    "        x='risk',\n",
    "        y='mean_daily_deaths',\n",
    "        estimator=np.mean)\n",
    "\n",
    "path_output = os.path.join(os.getcwd(), 'output')\n",
    "file_output = 'IPA_risk_vs_Mean_daily_deaths_by_COVID-19_violin_plot.png'\n",
    "\n",
    "plt.title('IPA risk vs Mean daily deaths by COVID-19', fontsize=30, fontweight='bold')\n",
    "plt.xlabel('IPA risk', fontsize=25)\n",
    "plt.ylabel('Mean daily deaths by COVID-19', fontsize=25)\n",
    "plt.tick_params(labelsize=20)\n",
    "plt.tight_layout()\n",
    "\n",
    "plt.show()\n",
    "\n",
    "plot.figure.savefig(\n",
    "    os.path.join(path_output, file_output), dpi=300)"
   ]
  },
  {
   "cell_type": "code",
   "execution_count": 125,
   "id": "c65aecce-348f-4b9d-9d25-25c17077fc52",
   "metadata": {},
   "outputs": [],
   "source": [
    "path_output = os.path.join(os.getcwd(), 'output', 'data')\n",
    "file_output = 'mean_daily_deaths_2020_describe.csv'\n",
    "\n",
    "load_datasets.load_mean_daily_deaths_2020().describe().to_csv(os.path.join(\n",
    "    path_output, file_output))"
   ]
  }
 ],
 "metadata": {
  "kernelspec": {
   "display_name": "Python 3",
   "language": "python",
   "name": "python3"
  },
  "language_info": {
   "codemirror_mode": {
    "name": "ipython",
    "version": 3
   },
   "file_extension": ".py",
   "mimetype": "text/x-python",
   "name": "python",
   "nbconvert_exporter": "python",
   "pygments_lexer": "ipython3",
   "version": "3.8.5"
  }
 },
 "nbformat": 4,
 "nbformat_minor": 5
}
