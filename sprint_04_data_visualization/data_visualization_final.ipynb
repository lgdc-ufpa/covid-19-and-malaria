{
 "cells": [
  {
   "cell_type": "markdown",
   "id": "2d85f44a-23eb-4f07-a9ff-cb6fc51adad9",
   "metadata": {},
   "source": [
    "# <center>PIPELINE</center>"
   ]
  },
  {
   "cell_type": "raw",
   "id": "7fb486de-d710-45b3-a17b-3e33b8e1a327",
   "metadata": {},
   "source": [
    "- 01 CFM | CFC\n",
    "\n",
    "    CFM = n° cases malária / population, by city DONE\n",
    "    CFC_DEATHS = (n° deaths covid / population), by city DONE    \n",
    "    CFC_BEDS = (n° beds / population), by city DONE"
   ]
  },
  {
   "cell_type": "markdown",
   "id": "6b5688c5-731f-4bc5-8dc2-7e0d4a76a19e",
   "metadata": {},
   "source": [
    "## 1. Imports"
   ]
  },
  {
   "cell_type": "code",
   "execution_count": 1,
   "id": "b67986ce-564b-4f36-a3eb-05621286ee93",
   "metadata": {
    "id": "9d79eca8"
   },
   "outputs": [
    {
     "data": {
      "text/html": [
       "        <script type=\"text/javascript\">\n",
       "        window.PlotlyConfig = {MathJaxConfig: 'local'};\n",
       "        if (window.MathJax) {MathJax.Hub.Config({SVG: {font: \"STIX-Web\"}});}\n",
       "        if (typeof require !== 'undefined') {\n",
       "        require.undef(\"plotly\");\n",
       "        requirejs.config({\n",
       "            paths: {\n",
       "                'plotly': ['https://cdn.plot.ly/plotly-latest.min']\n",
       "            }\n",
       "        });\n",
       "        require(['plotly'], function(Plotly) {\n",
       "            window._Plotly = Plotly;\n",
       "        });\n",
       "        }\n",
       "        </script>\n",
       "        "
      ]
     },
     "metadata": {},
     "output_type": "display_data"
    },
    {
     "data": {
      "text/html": [
       "        <script type=\"text/javascript\">\n",
       "        window.PlotlyConfig = {MathJaxConfig: 'local'};\n",
       "        if (window.MathJax) {MathJax.Hub.Config({SVG: {font: \"STIX-Web\"}});}\n",
       "        if (typeof require !== 'undefined') {\n",
       "        require.undef(\"plotly\");\n",
       "        requirejs.config({\n",
       "            paths: {\n",
       "                'plotly': ['https://cdn.plot.ly/plotly-latest.min']\n",
       "            }\n",
       "        });\n",
       "        require(['plotly'], function(Plotly) {\n",
       "            window._Plotly = Plotly;\n",
       "        });\n",
       "        }\n",
       "        </script>\n",
       "        "
      ]
     },
     "metadata": {},
     "output_type": "display_data"
    }
   ],
   "source": [
    "import pandas as pd\n",
    "import numpy as np\n",
    "import tqdm\n",
    "import os\n",
    "import seaborn as sns\n",
    "import matplotlib.pyplot as plt\n",
    "import cufflinks as cf\n",
    "import chart_studio.plotly as py\n",
    "import plotly.graph_objects as go\n",
    "from plotly.offline import download_plotlyjs, init_notebook_mode, plot, iplot\n",
    "\n",
    "%matplotlib inline\n",
    "init_notebook_mode(connected=True)\n",
    "cf.go_offline()"
   ]
  },
  {
   "cell_type": "markdown",
   "id": "f2d0e991-faf8-4c61-857e-4a9e18f21e27",
   "metadata": {
    "id": "3c4eb63d"
   },
   "source": [
    "## 2. Load dataframes"
   ]
  },
  {
   "cell_type": "code",
   "execution_count": 2,
   "id": "1a3b2ab1-2d89-4ab6-965d-2a23a2936180",
   "metadata": {
    "id": "6bfa47da"
   },
   "outputs": [
    {
     "data": {
      "text/html": [
       "<div>\n",
       "<style scoped>\n",
       "    .dataframe tbody tr th:only-of-type {\n",
       "        vertical-align: middle;\n",
       "    }\n",
       "\n",
       "    .dataframe tbody tr th {\n",
       "        vertical-align: top;\n",
       "    }\n",
       "\n",
       "    .dataframe thead th {\n",
       "        text-align: right;\n",
       "    }\n",
       "</style>\n",
       "<table border=\"1\" class=\"dataframe\">\n",
       "  <thead>\n",
       "    <tr style=\"text-align: right;\">\n",
       "      <th></th>\n",
       "      <th>CD</th>\n",
       "      <th>Municipio</th>\n",
       "      <th>Falciparum</th>\n",
       "      <th>Mista</th>\n",
       "      <th>Vivax</th>\n",
       "      <th>Malarie</th>\n",
       "      <th>Ovale</th>\n",
       "      <th>Ano</th>\n",
       "      <th>Estado</th>\n",
       "    </tr>\n",
       "  </thead>\n",
       "  <tbody>\n",
       "    <tr>\n",
       "      <th>0</th>\n",
       "      <td>110001</td>\n",
       "      <td>Alta Floresta D'Oeste</td>\n",
       "      <td>15.000</td>\n",
       "      <td>5.0</td>\n",
       "      <td>117.000</td>\n",
       "      <td>0</td>\n",
       "      <td>0</td>\n",
       "      <td>2003</td>\n",
       "      <td>RO</td>\n",
       "    </tr>\n",
       "    <tr>\n",
       "      <th>1</th>\n",
       "      <td>110002</td>\n",
       "      <td>Ariquemes</td>\n",
       "      <td>2.329</td>\n",
       "      <td>138.0</td>\n",
       "      <td>4.801</td>\n",
       "      <td>0</td>\n",
       "      <td>0</td>\n",
       "      <td>2003</td>\n",
       "      <td>RO</td>\n",
       "    </tr>\n",
       "    <tr>\n",
       "      <th>2</th>\n",
       "      <td>110003</td>\n",
       "      <td>Cabixi</td>\n",
       "      <td>178.000</td>\n",
       "      <td>0.0</td>\n",
       "      <td>54.000</td>\n",
       "      <td>0</td>\n",
       "      <td>0</td>\n",
       "      <td>2003</td>\n",
       "      <td>RO</td>\n",
       "    </tr>\n",
       "    <tr>\n",
       "      <th>3</th>\n",
       "      <td>110004</td>\n",
       "      <td>Cacoal</td>\n",
       "      <td>137.000</td>\n",
       "      <td>9.0</td>\n",
       "      <td>279.000</td>\n",
       "      <td>0</td>\n",
       "      <td>0</td>\n",
       "      <td>2003</td>\n",
       "      <td>RO</td>\n",
       "    </tr>\n",
       "    <tr>\n",
       "      <th>4</th>\n",
       "      <td>110005</td>\n",
       "      <td>Cerejeiras</td>\n",
       "      <td>57.000</td>\n",
       "      <td>6.0</td>\n",
       "      <td>104.000</td>\n",
       "      <td>0</td>\n",
       "      <td>0</td>\n",
       "      <td>2003</td>\n",
       "      <td>RO</td>\n",
       "    </tr>\n",
       "  </tbody>\n",
       "</table>\n",
       "</div>"
      ],
      "text/plain": [
       "       CD              Municipio  Falciparum  Mista    Vivax  Malarie  Ovale  \\\n",
       "0  110001  Alta Floresta D'Oeste      15.000    5.0  117.000        0      0   \n",
       "1  110002              Ariquemes       2.329  138.0    4.801        0      0   \n",
       "2  110003                 Cabixi     178.000    0.0   54.000        0      0   \n",
       "3  110004                 Cacoal     137.000    9.0  279.000        0      0   \n",
       "4  110005             Cerejeiras      57.000    6.0  104.000        0      0   \n",
       "\n",
       "    Ano Estado  \n",
       "0  2003     RO  \n",
       "1  2003     RO  \n",
       "2  2003     RO  \n",
       "3  2003     RO  \n",
       "4  2003     RO  "
      ]
     },
     "execution_count": 2,
     "metadata": {},
     "output_type": "execute_result"
    }
   ],
   "source": [
    "file_amazon = 'output_01_data_01_AM_mun_especie.csv'\n",
    "path_input_file_amazon = os.path.join(os.getcwd(), '..', 'sprint_03_data_analysis', 'output', file_amazon)\n",
    "df_amazon = pd.read_csv(path_input_file_amazon, delimiter=';')\n",
    "del df_amazon['Unnamed: 0']\n",
    "df_amazon.head()"
   ]
  },
  {
   "cell_type": "code",
   "execution_count": 3,
   "id": "983cce27-477c-45b3-9d64-d1472e7d4751",
   "metadata": {
    "id": "94521802-db10-46d6-80f9-c9e8cb111b02"
   },
   "outputs": [
    {
     "data": {
      "text/html": [
       "<div>\n",
       "<style scoped>\n",
       "    .dataframe tbody tr th:only-of-type {\n",
       "        vertical-align: middle;\n",
       "    }\n",
       "\n",
       "    .dataframe tbody tr th {\n",
       "        vertical-align: top;\n",
       "    }\n",
       "\n",
       "    .dataframe thead th {\n",
       "        text-align: right;\n",
       "    }\n",
       "</style>\n",
       "<table border=\"1\" class=\"dataframe\">\n",
       "  <thead>\n",
       "    <tr style=\"text-align: right;\">\n",
       "      <th></th>\n",
       "      <th>regiao</th>\n",
       "      <th>estado</th>\n",
       "      <th>municipio</th>\n",
       "      <th>coduf</th>\n",
       "      <th>codmun</th>\n",
       "      <th>codRegiaoSaude</th>\n",
       "      <th>nomeRegiaoSaude</th>\n",
       "      <th>data</th>\n",
       "      <th>semanaEpi</th>\n",
       "      <th>populacaoTCU2019</th>\n",
       "      <th>casosAcumulado</th>\n",
       "      <th>casosNovos</th>\n",
       "      <th>obitosAcumulado</th>\n",
       "      <th>obitosNovos</th>\n",
       "      <th>Recuperadosnovos</th>\n",
       "      <th>emAcompanhamentoNovos</th>\n",
       "      <th>interior/metropolitana</th>\n",
       "    </tr>\n",
       "  </thead>\n",
       "  <tbody>\n",
       "    <tr>\n",
       "      <th>0</th>\n",
       "      <td>Norte</td>\n",
       "      <td>RO</td>\n",
       "      <td>Alta Floresta D'Oeste</td>\n",
       "      <td>11</td>\n",
       "      <td>110001.0</td>\n",
       "      <td>11005.0</td>\n",
       "      <td>ZONA DA MATA</td>\n",
       "      <td>2020-05-02</td>\n",
       "      <td>18</td>\n",
       "      <td>22945.0</td>\n",
       "      <td>1.0</td>\n",
       "      <td>1</td>\n",
       "      <td>0</td>\n",
       "      <td>0</td>\n",
       "      <td>NaN</td>\n",
       "      <td>NaN</td>\n",
       "      <td>0.0</td>\n",
       "    </tr>\n",
       "    <tr>\n",
       "      <th>1</th>\n",
       "      <td>Norte</td>\n",
       "      <td>RO</td>\n",
       "      <td>Alta Floresta D'Oeste</td>\n",
       "      <td>11</td>\n",
       "      <td>110001.0</td>\n",
       "      <td>11005.0</td>\n",
       "      <td>ZONA DA MATA</td>\n",
       "      <td>2020-05-03</td>\n",
       "      <td>19</td>\n",
       "      <td>22945.0</td>\n",
       "      <td>1.0</td>\n",
       "      <td>0</td>\n",
       "      <td>0</td>\n",
       "      <td>0</td>\n",
       "      <td>NaN</td>\n",
       "      <td>NaN</td>\n",
       "      <td>0.0</td>\n",
       "    </tr>\n",
       "    <tr>\n",
       "      <th>2</th>\n",
       "      <td>Norte</td>\n",
       "      <td>RO</td>\n",
       "      <td>Alta Floresta D'Oeste</td>\n",
       "      <td>11</td>\n",
       "      <td>110001.0</td>\n",
       "      <td>11005.0</td>\n",
       "      <td>ZONA DA MATA</td>\n",
       "      <td>2020-05-04</td>\n",
       "      <td>19</td>\n",
       "      <td>22945.0</td>\n",
       "      <td>1.0</td>\n",
       "      <td>0</td>\n",
       "      <td>0</td>\n",
       "      <td>0</td>\n",
       "      <td>NaN</td>\n",
       "      <td>NaN</td>\n",
       "      <td>0.0</td>\n",
       "    </tr>\n",
       "    <tr>\n",
       "      <th>3</th>\n",
       "      <td>Norte</td>\n",
       "      <td>RO</td>\n",
       "      <td>Alta Floresta D'Oeste</td>\n",
       "      <td>11</td>\n",
       "      <td>110001.0</td>\n",
       "      <td>11005.0</td>\n",
       "      <td>ZONA DA MATA</td>\n",
       "      <td>2020-05-05</td>\n",
       "      <td>19</td>\n",
       "      <td>22945.0</td>\n",
       "      <td>1.0</td>\n",
       "      <td>0</td>\n",
       "      <td>0</td>\n",
       "      <td>0</td>\n",
       "      <td>NaN</td>\n",
       "      <td>NaN</td>\n",
       "      <td>0.0</td>\n",
       "    </tr>\n",
       "    <tr>\n",
       "      <th>4</th>\n",
       "      <td>Norte</td>\n",
       "      <td>RO</td>\n",
       "      <td>Alta Floresta D'Oeste</td>\n",
       "      <td>11</td>\n",
       "      <td>110001.0</td>\n",
       "      <td>11005.0</td>\n",
       "      <td>ZONA DA MATA</td>\n",
       "      <td>2020-05-06</td>\n",
       "      <td>19</td>\n",
       "      <td>22945.0</td>\n",
       "      <td>1.0</td>\n",
       "      <td>0</td>\n",
       "      <td>0</td>\n",
       "      <td>0</td>\n",
       "      <td>NaN</td>\n",
       "      <td>NaN</td>\n",
       "      <td>0.0</td>\n",
       "    </tr>\n",
       "  </tbody>\n",
       "</table>\n",
       "</div>"
      ],
      "text/plain": [
       "  regiao estado              municipio  coduf    codmun  codRegiaoSaude  \\\n",
       "0  Norte     RO  Alta Floresta D'Oeste     11  110001.0         11005.0   \n",
       "1  Norte     RO  Alta Floresta D'Oeste     11  110001.0         11005.0   \n",
       "2  Norte     RO  Alta Floresta D'Oeste     11  110001.0         11005.0   \n",
       "3  Norte     RO  Alta Floresta D'Oeste     11  110001.0         11005.0   \n",
       "4  Norte     RO  Alta Floresta D'Oeste     11  110001.0         11005.0   \n",
       "\n",
       "  nomeRegiaoSaude        data  semanaEpi  populacaoTCU2019  casosAcumulado  \\\n",
       "0    ZONA DA MATA  2020-05-02         18           22945.0             1.0   \n",
       "1    ZONA DA MATA  2020-05-03         19           22945.0             1.0   \n",
       "2    ZONA DA MATA  2020-05-04         19           22945.0             1.0   \n",
       "3    ZONA DA MATA  2020-05-05         19           22945.0             1.0   \n",
       "4    ZONA DA MATA  2020-05-06         19           22945.0             1.0   \n",
       "\n",
       "   casosNovos  obitosAcumulado  obitosNovos  Recuperadosnovos  \\\n",
       "0           1                0            0               NaN   \n",
       "1           0                0            0               NaN   \n",
       "2           0                0            0               NaN   \n",
       "3           0                0            0               NaN   \n",
       "4           0                0            0               NaN   \n",
       "\n",
       "   emAcompanhamentoNovos  interior/metropolitana  \n",
       "0                    NaN                     0.0  \n",
       "1                    NaN                     0.0  \n",
       "2                    NaN                     0.0  \n",
       "3                    NaN                     0.0  \n",
       "4                    NaN                     0.0  "
      ]
     },
     "execution_count": 3,
     "metadata": {},
     "output_type": "execute_result"
    }
   ],
   "source": [
    "file_covid = 'output_02_data_02_covid_cities_confirmed_cases.csv'\n",
    "path_input_file_covid = os.path.join(os.getcwd(), '..', \n",
    "                                     'sprint_03_data_analysis', 'output', \n",
    "                                     file_covid)\n",
    "df_covid = pd.read_csv(path_input_file_covid, delimiter=';')\n",
    "del df_covid['Unnamed: 0']\n",
    "df_covid.head()"
   ]
  },
  {
   "cell_type": "code",
   "execution_count": 4,
   "id": "7b12d014-1c9c-4d60-ad41-bc7e8c6faf80",
   "metadata": {
    "id": "00cd239a"
   },
   "outputs": [
    {
     "data": {
      "text/html": [
       "<div>\n",
       "<style scoped>\n",
       "    .dataframe tbody tr th:only-of-type {\n",
       "        vertical-align: middle;\n",
       "    }\n",
       "\n",
       "    .dataframe tbody tr th {\n",
       "        vertical-align: top;\n",
       "    }\n",
       "\n",
       "    .dataframe thead th {\n",
       "        text-align: right;\n",
       "    }\n",
       "</style>\n",
       "<table border=\"1\" class=\"dataframe\">\n",
       "  <thead>\n",
       "    <tr style=\"text-align: right;\">\n",
       "      <th></th>\n",
       "      <th>CD</th>\n",
       "      <th>Municipio.x</th>\n",
       "      <th>Populacao_2020</th>\n",
       "      <th>numeroLeitos</th>\n",
       "      <th>Ano</th>\n",
       "      <th>casos COVID/1000</th>\n",
       "      <th>Casos_COVID_Acumulados</th>\n",
       "      <th>obitos COVID/1000</th>\n",
       "      <th>Obitos_COVID_Acumulados</th>\n",
       "      <th>CFR</th>\n",
       "      <th>CasosAMazonia_Malaria</th>\n",
       "      <th>CasosAmazoniaAcumulados_Malaria</th>\n",
       "      <th>PF</th>\n",
       "      <th>PV</th>\n",
       "      <th>casos_Falciparum</th>\n",
       "      <th>caso_Vivax</th>\n",
       "    </tr>\n",
       "  </thead>\n",
       "  <tbody>\n",
       "    <tr>\n",
       "      <th>0</th>\n",
       "      <td>110001</td>\n",
       "      <td>Alta Floresta D'Oeste</td>\n",
       "      <td>22728</td>\n",
       "      <td>49</td>\n",
       "      <td>2020</td>\n",
       "      <td>56,6701865540303</td>\n",
       "      <td>1288</td>\n",
       "      <td>0,703977472720873</td>\n",
       "      <td>16</td>\n",
       "      <td>0,012422360248447</td>\n",
       "      <td>0</td>\n",
       "      <td>0</td>\n",
       "      <td>0</td>\n",
       "      <td>0,351988736360436</td>\n",
       "      <td>0</td>\n",
       "      <td>8</td>\n",
       "    </tr>\n",
       "    <tr>\n",
       "      <th>1</th>\n",
       "      <td>110002</td>\n",
       "      <td>Ariquemes</td>\n",
       "      <td>109523</td>\n",
       "      <td>256</td>\n",
       "      <td>2020</td>\n",
       "      <td>71,8570528564776</td>\n",
       "      <td>7870</td>\n",
       "      <td>1,2234873040366</td>\n",
       "      <td>134</td>\n",
       "      <td>0,01702668360864</td>\n",
       "      <td>59</td>\n",
       "      <td>521</td>\n",
       "      <td>0,228262556723245</td>\n",
       "      <td>4,48307661404454</td>\n",
       "      <td>25</td>\n",
       "      <td>491</td>\n",
       "    </tr>\n",
       "    <tr>\n",
       "      <th>2</th>\n",
       "      <td>110003</td>\n",
       "      <td>Cabixi</td>\n",
       "      <td>5188</td>\n",
       "      <td>9</td>\n",
       "      <td>2020</td>\n",
       "      <td>36,0447185813416</td>\n",
       "      <td>187</td>\n",
       "      <td>1,15651503469545</td>\n",
       "      <td>6</td>\n",
       "      <td>0,032085561497326</td>\n",
       "      <td>0</td>\n",
       "      <td>0</td>\n",
       "      <td>0</td>\n",
       "      <td>0</td>\n",
       "      <td>0</td>\n",
       "      <td>0</td>\n",
       "    </tr>\n",
       "    <tr>\n",
       "      <th>3</th>\n",
       "      <td>110004</td>\n",
       "      <td>Cacoal</td>\n",
       "      <td>85893</td>\n",
       "      <td>360</td>\n",
       "      <td>2020</td>\n",
       "      <td>47,0934767676062</td>\n",
       "      <td>4045</td>\n",
       "      <td>0,66361635988963</td>\n",
       "      <td>57</td>\n",
       "      <td>0,014091470951792</td>\n",
       "      <td>7</td>\n",
       "      <td>122</td>\n",
       "      <td>0,023284784557531</td>\n",
       "      <td>1,38544468117309</td>\n",
       "      <td>2</td>\n",
       "      <td>119</td>\n",
       "    </tr>\n",
       "    <tr>\n",
       "      <th>4</th>\n",
       "      <td>110005</td>\n",
       "      <td>Cerejeiras</td>\n",
       "      <td>16204</td>\n",
       "      <td>40</td>\n",
       "      <td>2020</td>\n",
       "      <td>19,809923475685</td>\n",
       "      <td>321</td>\n",
       "      <td>0,431992100715873</td>\n",
       "      <td>7</td>\n",
       "      <td>0,021806853582555</td>\n",
       "      <td>1</td>\n",
       "      <td>9</td>\n",
       "      <td>0</td>\n",
       "      <td>0,493705257960997</td>\n",
       "      <td>0</td>\n",
       "      <td>8</td>\n",
       "    </tr>\n",
       "  </tbody>\n",
       "</table>\n",
       "</div>"
      ],
      "text/plain": [
       "       CD            Municipio.x  Populacao_2020  numeroLeitos   Ano  \\\n",
       "0  110001  Alta Floresta D'Oeste           22728            49  2020   \n",
       "1  110002              Ariquemes          109523           256  2020   \n",
       "2  110003                 Cabixi            5188             9  2020   \n",
       "3  110004                 Cacoal           85893           360  2020   \n",
       "4  110005             Cerejeiras           16204            40  2020   \n",
       "\n",
       "   casos COVID/1000  Casos_COVID_Acumulados  obitos COVID/1000  \\\n",
       "0  56,6701865540303                    1288  0,703977472720873   \n",
       "1  71,8570528564776                    7870    1,2234873040366   \n",
       "2  36,0447185813416                     187   1,15651503469545   \n",
       "3  47,0934767676062                    4045   0,66361635988963   \n",
       "4   19,809923475685                     321  0,431992100715873   \n",
       "\n",
       "   Obitos_COVID_Acumulados                CFR  CasosAMazonia_Malaria  \\\n",
       "0                       16  0,012422360248447                      0   \n",
       "1                      134   0,01702668360864                     59   \n",
       "2                        6  0,032085561497326                      0   \n",
       "3                       57  0,014091470951792                      7   \n",
       "4                        7  0,021806853582555                      1   \n",
       "\n",
       "   CasosAmazoniaAcumulados_Malaria                 PF                 PV  \\\n",
       "0                                0                  0  0,351988736360436   \n",
       "1                              521  0,228262556723245   4,48307661404454   \n",
       "2                                0                  0                  0   \n",
       "3                              122  0,023284784557531   1,38544468117309   \n",
       "4                                9                  0  0,493705257960997   \n",
       "\n",
       "   casos_Falciparum  caso_Vivax  \n",
       "0                 0           8  \n",
       "1                25         491  \n",
       "2                 0           0  \n",
       "3                 2         119  \n",
       "4                 0           8  "
      ]
     },
     "execution_count": 4,
     "metadata": {},
     "output_type": "execute_result"
    }
   ],
   "source": [
    "file_malarie_covid_total = 'Covid_malaria_total_casos.csv'\n",
    "path_input_file_malarie = os.path.join(os.getcwd(), '..', \n",
    "                                       'sprint_01_data_collection', \n",
    "                                       'data_04', \n",
    "                                       file_malarie_covid_total)\n",
    "df_malarie_covid_total = pd.read_csv(path_input_file_malarie)\n",
    "df_malarie_covid_total.head()"
   ]
  },
  {
   "cell_type": "markdown",
   "id": "55ccf78f-78e3-4ae9-ba9e-18bd9f2a9a6a",
   "metadata": {},
   "source": [
    "# <center>FINAL ANALYSIS</center>"
   ]
  },
  {
   "cell_type": "markdown",
   "id": "a94d9962-2363-4970-b568-07a105ba37c0",
   "metadata": {},
   "source": [
    "## <center> 01: CFM | CFV</center>\n",
    "\n",
    "### CFM = n° cases malária / population, by city\n",
    "### CFC = n° deaths covid X ( n° beds / population ²), by city"
   ]
  },
  {
   "cell_type": "markdown",
   "id": "86e48b7a-637e-4162-ab0e-340b852ca184",
   "metadata": {},
   "source": [
    "#### CFM"
   ]
  },
  {
   "cell_type": "code",
   "execution_count": 5,
   "id": "927df1ca-b269-44f1-9049-f3d6f65acd41",
   "metadata": {},
   "outputs": [
    {
     "data": {
      "text/plain": [
       "(707,)"
      ]
     },
     "execution_count": 5,
     "metadata": {},
     "output_type": "execute_result"
    }
   ],
   "source": [
    "df_amazon.drop_duplicates(subset=['CD'])['CD'].shape"
   ]
  },
  {
   "cell_type": "code",
   "execution_count": 22,
   "id": "31507427-96c8-4f00-9400-e9666fd4ee7f",
   "metadata": {},
   "outputs": [
    {
     "data": {
      "text/plain": [
       "(361,)"
      ]
     },
     "execution_count": 22,
     "metadata": {},
     "output_type": "execute_result"
    }
   ],
   "source": [
    "df_amazon[df_amazon['Ano'].isin([2020])].drop_duplicates(subset=['CD'])['CD'].shape"
   ]
  },
  {
   "cell_type": "code",
   "execution_count": 7,
   "id": "aa8f8902-d714-485e-a949-a956b58b63dd",
   "metadata": {},
   "outputs": [
    {
     "data": {
      "text/html": [
       "<div>\n",
       "<style scoped>\n",
       "    .dataframe tbody tr th:only-of-type {\n",
       "        vertical-align: middle;\n",
       "    }\n",
       "\n",
       "    .dataframe tbody tr th {\n",
       "        vertical-align: top;\n",
       "    }\n",
       "\n",
       "    .dataframe thead th {\n",
       "        text-align: right;\n",
       "    }\n",
       "</style>\n",
       "<table border=\"1\" class=\"dataframe\">\n",
       "  <thead>\n",
       "    <tr style=\"text-align: right;\">\n",
       "      <th></th>\n",
       "      <th>sum_all_plasmodium_species</th>\n",
       "    </tr>\n",
       "    <tr>\n",
       "      <th>CD</th>\n",
       "      <th></th>\n",
       "    </tr>\n",
       "  </thead>\n",
       "  <tbody>\n",
       "    <tr>\n",
       "      <th>110001</th>\n",
       "      <td>8.0</td>\n",
       "    </tr>\n",
       "    <tr>\n",
       "      <th>110002</th>\n",
       "      <td>521.0</td>\n",
       "    </tr>\n",
       "    <tr>\n",
       "      <th>110004</th>\n",
       "      <td>122.0</td>\n",
       "    </tr>\n",
       "    <tr>\n",
       "      <th>110005</th>\n",
       "      <td>9.0</td>\n",
       "    </tr>\n",
       "    <tr>\n",
       "      <th>110006</th>\n",
       "      <td>1.0</td>\n",
       "    </tr>\n",
       "    <tr>\n",
       "      <th>...</th>\n",
       "      <td>...</td>\n",
       "    </tr>\n",
       "    <tr>\n",
       "      <th>510787</th>\n",
       "      <td>2.0</td>\n",
       "    </tr>\n",
       "    <tr>\n",
       "      <th>510790</th>\n",
       "      <td>11.0</td>\n",
       "    </tr>\n",
       "    <tr>\n",
       "      <th>510792</th>\n",
       "      <td>6.0</td>\n",
       "    </tr>\n",
       "    <tr>\n",
       "      <th>510795</th>\n",
       "      <td>4.0</td>\n",
       "    </tr>\n",
       "    <tr>\n",
       "      <th>510895</th>\n",
       "      <td>1.0</td>\n",
       "    </tr>\n",
       "  </tbody>\n",
       "</table>\n",
       "<p>360 rows × 1 columns</p>\n",
       "</div>"
      ],
      "text/plain": [
       "        sum_all_plasmodium_species\n",
       "CD                                \n",
       "110001                         8.0\n",
       "110002                       521.0\n",
       "110004                       122.0\n",
       "110005                         9.0\n",
       "110006                         1.0\n",
       "...                            ...\n",
       "510787                         2.0\n",
       "510790                        11.0\n",
       "510792                         6.0\n",
       "510795                         4.0\n",
       "510895                         1.0\n",
       "\n",
       "[360 rows x 1 columns]"
      ]
     },
     "execution_count": 7,
     "metadata": {},
     "output_type": "execute_result"
    }
   ],
   "source": [
    "df_amazon_by_city_sum_all_plasmodium_species_2020 = pd.DataFrame(\n",
    "    df_amazon[df_amazon['Ano'].isin([2020])].groupby(['CD']).agg(\n",
    "        {'Vivax': ['sum'], \n",
    "         'Falciparum': ['sum'], \n",
    "         'Malarie': ['sum'], \n",
    "         'Ovale': ['sum'], \n",
    "         'Mista': ['sum']}).drop('Total geral').sum(axis=1), \n",
    "    columns=['sum_all_plasmodium_species'])\n",
    "\n",
    "df_amazon_by_city_sum_all_plasmodium_species_2020"
   ]
  },
  {
   "cell_type": "code",
   "execution_count": 8,
   "id": "00ff3621-a3e6-4948-bec4-87d4ace98e1f",
   "metadata": {},
   "outputs": [],
   "source": [
    "df_covid['codmun'] = df_covid['codmun'].map(str).map(lambda codmun: codmun.split('.')[0])"
   ]
  },
  {
   "cell_type": "code",
   "execution_count": 9,
   "id": "aa8f4332-e482-4b71-a276-dabaf285396d",
   "metadata": {},
   "outputs": [
    {
     "data": {
      "text/html": [
       "<div>\n",
       "<style scoped>\n",
       "    .dataframe tbody tr th:only-of-type {\n",
       "        vertical-align: middle;\n",
       "    }\n",
       "\n",
       "    .dataframe tbody tr th {\n",
       "        vertical-align: top;\n",
       "    }\n",
       "\n",
       "    .dataframe thead th {\n",
       "        text-align: right;\n",
       "    }\n",
       "</style>\n",
       "<table border=\"1\" class=\"dataframe\">\n",
       "  <thead>\n",
       "    <tr style=\"text-align: right;\">\n",
       "      <th></th>\n",
       "      <th>sum_all_plasmodium_species</th>\n",
       "      <th>populacaoTCU2019</th>\n",
       "    </tr>\n",
       "    <tr>\n",
       "      <th>codmun</th>\n",
       "      <th></th>\n",
       "      <th></th>\n",
       "    </tr>\n",
       "  </thead>\n",
       "  <tbody>\n",
       "    <tr>\n",
       "      <th>110001</th>\n",
       "      <td>8.0</td>\n",
       "      <td>22945.0</td>\n",
       "    </tr>\n",
       "    <tr>\n",
       "      <th>110002</th>\n",
       "      <td>521.0</td>\n",
       "      <td>107863.0</td>\n",
       "    </tr>\n",
       "    <tr>\n",
       "      <th>110004</th>\n",
       "      <td>122.0</td>\n",
       "      <td>85359.0</td>\n",
       "    </tr>\n",
       "    <tr>\n",
       "      <th>110005</th>\n",
       "      <td>9.0</td>\n",
       "      <td>16323.0</td>\n",
       "    </tr>\n",
       "    <tr>\n",
       "      <th>110006</th>\n",
       "      <td>1.0</td>\n",
       "      <td>15882.0</td>\n",
       "    </tr>\n",
       "    <tr>\n",
       "      <th>...</th>\n",
       "      <td>...</td>\n",
       "      <td>...</td>\n",
       "    </tr>\n",
       "    <tr>\n",
       "      <th>510787</th>\n",
       "      <td>2.0</td>\n",
       "      <td>25881.0</td>\n",
       "    </tr>\n",
       "    <tr>\n",
       "      <th>510790</th>\n",
       "      <td>11.0</td>\n",
       "      <td>142996.0</td>\n",
       "    </tr>\n",
       "    <tr>\n",
       "      <th>510792</th>\n",
       "      <td>6.0</td>\n",
       "      <td>90313.0</td>\n",
       "    </tr>\n",
       "    <tr>\n",
       "      <th>510795</th>\n",
       "      <td>4.0</td>\n",
       "      <td>103750.0</td>\n",
       "    </tr>\n",
       "    <tr>\n",
       "      <th>510895</th>\n",
       "      <td>1.0</td>\n",
       "      <td>9178.0</td>\n",
       "    </tr>\n",
       "  </tbody>\n",
       "</table>\n",
       "<p>360 rows × 2 columns</p>\n",
       "</div>"
      ],
      "text/plain": [
       "        sum_all_plasmodium_species  populacaoTCU2019\n",
       "codmun                                              \n",
       "110001                         8.0           22945.0\n",
       "110002                       521.0          107863.0\n",
       "110004                       122.0           85359.0\n",
       "110005                         9.0           16323.0\n",
       "110006                         1.0           15882.0\n",
       "...                            ...               ...\n",
       "510787                         2.0           25881.0\n",
       "510790                        11.0          142996.0\n",
       "510792                         6.0           90313.0\n",
       "510795                         4.0          103750.0\n",
       "510895                         1.0            9178.0\n",
       "\n",
       "[360 rows x 2 columns]"
      ]
     },
     "execution_count": 9,
     "metadata": {},
     "output_type": "execute_result"
    }
   ],
   "source": [
    "df_sum_all_plasmodium_species_population_by_city_2020 = pd.merge(\n",
    "    left=df_amazon_by_city_sum_all_plasmodium_species_2020.reset_index().rename(\n",
    "        columns={'CD': 'codmun'}),\n",
    "    right=df_covid[['codmun', 'populacaoTCU2019']].drop_duplicates(subset=['codmun']),\n",
    "    on='codmun').set_index('codmun')\n",
    "\n",
    "df_sum_all_plasmodium_species_population_by_city_2020"
   ]
  },
  {
   "cell_type": "code",
   "execution_count": 23,
   "id": "ed9fc42e-3ccd-4c65-b8a0-c67dacae5523",
   "metadata": {},
   "outputs": [
    {
     "data": {
      "text/html": [
       "<div>\n",
       "<style scoped>\n",
       "    .dataframe tbody tr th:only-of-type {\n",
       "        vertical-align: middle;\n",
       "    }\n",
       "\n",
       "    .dataframe tbody tr th {\n",
       "        vertical-align: top;\n",
       "    }\n",
       "\n",
       "    .dataframe thead th {\n",
       "        text-align: right;\n",
       "    }\n",
       "</style>\n",
       "<table border=\"1\" class=\"dataframe\">\n",
       "  <thead>\n",
       "    <tr style=\"text-align: right;\">\n",
       "      <th></th>\n",
       "      <th>CFM</th>\n",
       "    </tr>\n",
       "    <tr>\n",
       "      <th>codmun</th>\n",
       "      <th></th>\n",
       "    </tr>\n",
       "  </thead>\n",
       "  <tbody>\n",
       "    <tr>\n",
       "      <th>110001</th>\n",
       "      <td>0.000349</td>\n",
       "    </tr>\n",
       "    <tr>\n",
       "      <th>110002</th>\n",
       "      <td>0.004830</td>\n",
       "    </tr>\n",
       "    <tr>\n",
       "      <th>110004</th>\n",
       "      <td>0.001429</td>\n",
       "    </tr>\n",
       "    <tr>\n",
       "      <th>110005</th>\n",
       "      <td>0.000551</td>\n",
       "    </tr>\n",
       "    <tr>\n",
       "      <th>110006</th>\n",
       "      <td>0.000063</td>\n",
       "    </tr>\n",
       "    <tr>\n",
       "      <th>...</th>\n",
       "      <td>...</td>\n",
       "    </tr>\n",
       "    <tr>\n",
       "      <th>510787</th>\n",
       "      <td>0.000077</td>\n",
       "    </tr>\n",
       "    <tr>\n",
       "      <th>510790</th>\n",
       "      <td>0.000077</td>\n",
       "    </tr>\n",
       "    <tr>\n",
       "      <th>510792</th>\n",
       "      <td>0.000066</td>\n",
       "    </tr>\n",
       "    <tr>\n",
       "      <th>510795</th>\n",
       "      <td>0.000039</td>\n",
       "    </tr>\n",
       "    <tr>\n",
       "      <th>510895</th>\n",
       "      <td>0.000109</td>\n",
       "    </tr>\n",
       "  </tbody>\n",
       "</table>\n",
       "<p>360 rows × 1 columns</p>\n",
       "</div>"
      ],
      "text/plain": [
       "             CFM\n",
       "codmun          \n",
       "110001  0.000349\n",
       "110002  0.004830\n",
       "110004  0.001429\n",
       "110005  0.000551\n",
       "110006  0.000063\n",
       "...          ...\n",
       "510787  0.000077\n",
       "510790  0.000077\n",
       "510792  0.000066\n",
       "510795  0.000039\n",
       "510895  0.000109\n",
       "\n",
       "[360 rows x 1 columns]"
      ]
     },
     "execution_count": 23,
     "metadata": {},
     "output_type": "execute_result"
    }
   ],
   "source": [
    "df_amazon_CFM_by_city = pd.DataFrame(df_sum_all_plasmodium_species_population_by_city_2020['sum_all_plasmodium_species'] / \\\n",
    "            df_sum_all_plasmodium_species_population_by_city_2020['populacaoTCU2019'], columns=['CFM'])\n",
    "\n",
    "df_amazon_CFM_by_city"
   ]
  },
  {
   "cell_type": "markdown",
   "id": "f099716a-154c-476b-96eb-2f4eb637dfe7",
   "metadata": {},
   "source": [
    "#### CFC_DEATHS = (n° deaths / population), by city"
   ]
  },
  {
   "cell_type": "code",
   "execution_count": 24,
   "id": "811374c3-6a7f-46df-98e0-b4eef0dd3344",
   "metadata": {
    "id": "bad2b53d"
   },
   "outputs": [
    {
     "data": {
      "text/html": [
       "<div>\n",
       "<style scoped>\n",
       "    .dataframe tbody tr th:only-of-type {\n",
       "        vertical-align: middle;\n",
       "    }\n",
       "\n",
       "    .dataframe tbody tr th {\n",
       "        vertical-align: top;\n",
       "    }\n",
       "\n",
       "    .dataframe thead th {\n",
       "        text-align: right;\n",
       "    }\n",
       "</style>\n",
       "<table border=\"1\" class=\"dataframe\">\n",
       "  <thead>\n",
       "    <tr style=\"text-align: right;\">\n",
       "      <th></th>\n",
       "      <th>estado</th>\n",
       "      <th>codmun</th>\n",
       "      <th>populacaoTCU2019</th>\n",
       "    </tr>\n",
       "  </thead>\n",
       "  <tbody>\n",
       "    <tr>\n",
       "      <th>0</th>\n",
       "      <td>RO</td>\n",
       "      <td>110001</td>\n",
       "      <td>22945.0</td>\n",
       "    </tr>\n",
       "    <tr>\n",
       "      <th>385</th>\n",
       "      <td>RO</td>\n",
       "      <td>110002</td>\n",
       "      <td>107863.0</td>\n",
       "    </tr>\n",
       "    <tr>\n",
       "      <th>792</th>\n",
       "      <td>RO</td>\n",
       "      <td>110003</td>\n",
       "      <td>5312.0</td>\n",
       "    </tr>\n",
       "    <tr>\n",
       "      <th>1144</th>\n",
       "      <td>RO</td>\n",
       "      <td>110004</td>\n",
       "      <td>85359.0</td>\n",
       "    </tr>\n",
       "    <tr>\n",
       "      <th>1531</th>\n",
       "      <td>RO</td>\n",
       "      <td>110005</td>\n",
       "      <td>16323.0</td>\n",
       "    </tr>\n",
       "  </tbody>\n",
       "</table>\n",
       "</div>"
      ],
      "text/plain": [
       "     estado  codmun  populacaoTCU2019\n",
       "0        RO  110001           22945.0\n",
       "385      RO  110002          107863.0\n",
       "792      RO  110003            5312.0\n",
       "1144     RO  110004           85359.0\n",
       "1531     RO  110005           16323.0"
      ]
     },
     "execution_count": 24,
     "metadata": {},
     "output_type": "execute_result"
    }
   ],
   "source": [
    "df_covid[['estado', 'codmun', 'populacaoTCU2019']].drop_duplicates().head()"
   ]
  },
  {
   "cell_type": "code",
   "execution_count": 28,
   "id": "21128926-058b-4224-9836-7897c1275ff2",
   "metadata": {
    "id": "4c7a2f13"
   },
   "outputs": [
    {
     "data": {
      "text/html": [
       "<div>\n",
       "<style scoped>\n",
       "    .dataframe tbody tr th:only-of-type {\n",
       "        vertical-align: middle;\n",
       "    }\n",
       "\n",
       "    .dataframe tbody tr th {\n",
       "        vertical-align: top;\n",
       "    }\n",
       "\n",
       "    .dataframe thead th {\n",
       "        text-align: right;\n",
       "    }\n",
       "</style>\n",
       "<table border=\"1\" class=\"dataframe\">\n",
       "  <thead>\n",
       "    <tr style=\"text-align: right;\">\n",
       "      <th></th>\n",
       "      <th>populacaoTCU2019</th>\n",
       "    </tr>\n",
       "    <tr>\n",
       "      <th>codmun</th>\n",
       "      <th></th>\n",
       "    </tr>\n",
       "  </thead>\n",
       "  <tbody>\n",
       "    <tr>\n",
       "      <th>110001</th>\n",
       "      <td>22945.0</td>\n",
       "    </tr>\n",
       "    <tr>\n",
       "      <th>110002</th>\n",
       "      <td>107863.0</td>\n",
       "    </tr>\n",
       "    <tr>\n",
       "      <th>110003</th>\n",
       "      <td>5312.0</td>\n",
       "    </tr>\n",
       "    <tr>\n",
       "      <th>110004</th>\n",
       "      <td>85359.0</td>\n",
       "    </tr>\n",
       "    <tr>\n",
       "      <th>110005</th>\n",
       "      <td>16323.0</td>\n",
       "    </tr>\n",
       "    <tr>\n",
       "      <th>...</th>\n",
       "      <td>...</td>\n",
       "    </tr>\n",
       "    <tr>\n",
       "      <th>522200</th>\n",
       "      <td>13863.0</td>\n",
       "    </tr>\n",
       "    <tr>\n",
       "      <th>522205</th>\n",
       "      <td>8743.0</td>\n",
       "    </tr>\n",
       "    <tr>\n",
       "      <th>522220</th>\n",
       "      <td>6171.0</td>\n",
       "    </tr>\n",
       "    <tr>\n",
       "      <th>522230</th>\n",
       "      <td>5821.0</td>\n",
       "    </tr>\n",
       "    <tr>\n",
       "      <th>530010</th>\n",
       "      <td>3015268.0</td>\n",
       "    </tr>\n",
       "  </tbody>\n",
       "</table>\n",
       "<p>5570 rows × 1 columns</p>\n",
       "</div>"
      ],
      "text/plain": [
       "        populacaoTCU2019\n",
       "codmun                  \n",
       "110001           22945.0\n",
       "110002          107863.0\n",
       "110003            5312.0\n",
       "110004           85359.0\n",
       "110005           16323.0\n",
       "...                  ...\n",
       "522200           13863.0\n",
       "522205            8743.0\n",
       "522220            6171.0\n",
       "522230            5821.0\n",
       "530010         3015268.0\n",
       "\n",
       "[5570 rows x 1 columns]"
      ]
     },
     "execution_count": 28,
     "metadata": {},
     "output_type": "execute_result"
    }
   ],
   "source": [
    "df_covid_sum_population_by_city = df_covid[['codmun', 'populacaoTCU2019']].drop_duplicates().groupby(\n",
    "    by='codmun').agg(\n",
    "    {'populacaoTCU2019': 'sum'})\n",
    "\n",
    "df_covid_sum_population_by_city"
   ]
  },
  {
   "cell_type": "code",
   "execution_count": 27,
   "id": "324a9d3d-6c63-4956-9c3b-84ddb16620c2",
   "metadata": {
    "id": "fd403ff6"
   },
   "outputs": [
    {
     "data": {
      "text/html": [
       "<div>\n",
       "<style scoped>\n",
       "    .dataframe tbody tr th:only-of-type {\n",
       "        vertical-align: middle;\n",
       "    }\n",
       "\n",
       "    .dataframe tbody tr th {\n",
       "        vertical-align: top;\n",
       "    }\n",
       "\n",
       "    .dataframe thead tr th {\n",
       "        text-align: left;\n",
       "    }\n",
       "\n",
       "    .dataframe thead tr:last-of-type th {\n",
       "        text-align: right;\n",
       "    }\n",
       "</style>\n",
       "<table border=\"1\" class=\"dataframe\">\n",
       "  <thead>\n",
       "    <tr>\n",
       "      <th></th>\n",
       "      <th>obitosNovos</th>\n",
       "    </tr>\n",
       "    <tr>\n",
       "      <th></th>\n",
       "      <th>sum</th>\n",
       "    </tr>\n",
       "    <tr>\n",
       "      <th>codmun</th>\n",
       "      <th></th>\n",
       "    </tr>\n",
       "  </thead>\n",
       "  <tbody>\n",
       "    <tr>\n",
       "      <th>110001</th>\n",
       "      <td>61</td>\n",
       "    </tr>\n",
       "    <tr>\n",
       "      <th>110002</th>\n",
       "      <td>421</td>\n",
       "    </tr>\n",
       "    <tr>\n",
       "      <th>110003</th>\n",
       "      <td>18</td>\n",
       "    </tr>\n",
       "    <tr>\n",
       "      <th>110004</th>\n",
       "      <td>236</td>\n",
       "    </tr>\n",
       "    <tr>\n",
       "      <th>110005</th>\n",
       "      <td>55</td>\n",
       "    </tr>\n",
       "    <tr>\n",
       "      <th>...</th>\n",
       "      <td>...</td>\n",
       "    </tr>\n",
       "    <tr>\n",
       "      <th>522200</th>\n",
       "      <td>20</td>\n",
       "    </tr>\n",
       "    <tr>\n",
       "      <th>522205</th>\n",
       "      <td>21</td>\n",
       "    </tr>\n",
       "    <tr>\n",
       "      <th>522220</th>\n",
       "      <td>4</td>\n",
       "    </tr>\n",
       "    <tr>\n",
       "      <th>522230</th>\n",
       "      <td>5</td>\n",
       "    </tr>\n",
       "    <tr>\n",
       "      <th>530010</th>\n",
       "      <td>8442</td>\n",
       "    </tr>\n",
       "  </tbody>\n",
       "</table>\n",
       "<p>5570 rows × 1 columns</p>\n",
       "</div>"
      ],
      "text/plain": [
       "       obitosNovos\n",
       "               sum\n",
       "codmun            \n",
       "110001          61\n",
       "110002         421\n",
       "110003          18\n",
       "110004         236\n",
       "110005          55\n",
       "...            ...\n",
       "522200          20\n",
       "522205          21\n",
       "522220           4\n",
       "522230           5\n",
       "530010        8442\n",
       "\n",
       "[5570 rows x 1 columns]"
      ]
     },
     "execution_count": 27,
     "metadata": {},
     "output_type": "execute_result"
    }
   ],
   "source": [
    "df_covid_sum_deaths_by_city = df_covid[['codmun', 'obitosNovos']].groupby(['codmun']).agg(\n",
    "    {'obitosNovos': ['sum']})\n",
    "\n",
    "df_covid_sum_deaths_by_city"
   ]
  },
  {
   "cell_type": "code",
   "execution_count": 48,
   "id": "63811add-208c-4811-a02f-3bb5a655b0b5",
   "metadata": {
    "id": "0aa81344"
   },
   "outputs": [
    {
     "name": "stderr",
     "output_type": "stream",
     "text": [
      "/home/bruno/Documents/dev/lgdc-covid-19-and-malaria/venv-lgdc-covid-19-and-malaria/lib/python3.8/site-packages/pandas/core/reshape/merge.py:648: UserWarning:\n",
      "\n",
      "merging between different levels can give an unintended result (2 levels on the left,1 on the right)\n",
      "\n"
     ]
    },
    {
     "data": {
      "text/html": [
       "<div>\n",
       "<style scoped>\n",
       "    .dataframe tbody tr th:only-of-type {\n",
       "        vertical-align: middle;\n",
       "    }\n",
       "\n",
       "    .dataframe tbody tr th {\n",
       "        vertical-align: top;\n",
       "    }\n",
       "\n",
       "    .dataframe thead th {\n",
       "        text-align: right;\n",
       "    }\n",
       "</style>\n",
       "<table border=\"1\" class=\"dataframe\">\n",
       "  <thead>\n",
       "    <tr style=\"text-align: right;\">\n",
       "      <th></th>\n",
       "      <th>CFC_DEATHS</th>\n",
       "    </tr>\n",
       "    <tr>\n",
       "      <th>codmun</th>\n",
       "      <th></th>\n",
       "    </tr>\n",
       "  </thead>\n",
       "  <tbody>\n",
       "    <tr>\n",
       "      <th>110001</th>\n",
       "      <td>0.002659</td>\n",
       "    </tr>\n",
       "    <tr>\n",
       "      <th>110002</th>\n",
       "      <td>0.003903</td>\n",
       "    </tr>\n",
       "    <tr>\n",
       "      <th>110003</th>\n",
       "      <td>0.003389</td>\n",
       "    </tr>\n",
       "    <tr>\n",
       "      <th>110004</th>\n",
       "      <td>0.002765</td>\n",
       "    </tr>\n",
       "    <tr>\n",
       "      <th>110005</th>\n",
       "      <td>0.003369</td>\n",
       "    </tr>\n",
       "    <tr>\n",
       "      <th>...</th>\n",
       "      <td>...</td>\n",
       "    </tr>\n",
       "    <tr>\n",
       "      <th>522200</th>\n",
       "      <td>0.001443</td>\n",
       "    </tr>\n",
       "    <tr>\n",
       "      <th>522205</th>\n",
       "      <td>0.002402</td>\n",
       "    </tr>\n",
       "    <tr>\n",
       "      <th>522220</th>\n",
       "      <td>0.000648</td>\n",
       "    </tr>\n",
       "    <tr>\n",
       "      <th>522230</th>\n",
       "      <td>0.000859</td>\n",
       "    </tr>\n",
       "    <tr>\n",
       "      <th>530010</th>\n",
       "      <td>0.002800</td>\n",
       "    </tr>\n",
       "  </tbody>\n",
       "</table>\n",
       "<p>5570 rows × 1 columns</p>\n",
       "</div>"
      ],
      "text/plain": [
       "        CFC_DEATHS\n",
       "codmun            \n",
       "110001    0.002659\n",
       "110002    0.003903\n",
       "110003    0.003389\n",
       "110004    0.002765\n",
       "110005    0.003369\n",
       "...            ...\n",
       "522200    0.001443\n",
       "522205    0.002402\n",
       "522220    0.000648\n",
       "522230    0.000859\n",
       "530010    0.002800\n",
       "\n",
       "[5570 rows x 1 columns]"
      ]
     },
     "execution_count": 48,
     "metadata": {},
     "output_type": "execute_result"
    }
   ],
   "source": [
    "# way 01\n",
    "\n",
    "# df_covid_CFC_DEATHS_by_city = pd.DataFrame(df_covid_sum_deaths_by_city['obitosNovos']['sum'] / \\\n",
    "# df_covid_sum_population_by_city['populacaoTCU2019'], columns=['CFC_DEATHS'])\n",
    "\n",
    "# df_covid_CFC_DEATHS_by_city\n",
    "\n",
    "# way 02\n",
    "\n",
    "df_sum_deaths_sum_population_by_city = df_covid_sum_deaths_by_city.join(df_covid_sum_population_by_city)\n",
    "\n",
    "df_covid_CFC_DEATHS_by_city = pd.DataFrame(\n",
    "    (df_sum_deaths_sum_population_by_city[('obitosNovos', 'sum')] / \\\n",
    "     df_sum_deaths_sum_population_by_city['populacaoTCU2019']),\n",
    "    columns=['CFC_DEATHS'])\n",
    "\n",
    "del df_sum_deaths_sum_population_by_city\n",
    "\n",
    "df_covid_CFC_DEATHS_by_city"
   ]
  },
  {
   "cell_type": "markdown",
   "id": "9d5696e1-4acf-4178-a457-de52740e0bf0",
   "metadata": {},
   "source": [
    "#### CFC_BEDS = (n° beds / population), by city"
   ]
  },
  {
   "cell_type": "code",
   "execution_count": 50,
   "id": "0700c89a-2d13-428d-a007-a79bfa0c8a12",
   "metadata": {},
   "outputs": [
    {
     "name": "stdout",
     "output_type": "stream",
     "text": [
      "Already changed from CD to codmun\n"
     ]
    },
    {
     "data": {
      "text/html": [
       "<div>\n",
       "<style scoped>\n",
       "    .dataframe tbody tr th:only-of-type {\n",
       "        vertical-align: middle;\n",
       "    }\n",
       "\n",
       "    .dataframe tbody tr th {\n",
       "        vertical-align: top;\n",
       "    }\n",
       "\n",
       "    .dataframe thead th {\n",
       "        text-align: right;\n",
       "    }\n",
       "</style>\n",
       "<table border=\"1\" class=\"dataframe\">\n",
       "  <thead>\n",
       "    <tr style=\"text-align: right;\">\n",
       "      <th></th>\n",
       "      <th>CFC_BEDS</th>\n",
       "    </tr>\n",
       "    <tr>\n",
       "      <th>codmun</th>\n",
       "      <th></th>\n",
       "    </tr>\n",
       "  </thead>\n",
       "  <tbody>\n",
       "    <tr>\n",
       "      <th>110001</th>\n",
       "      <td>0.002136</td>\n",
       "    </tr>\n",
       "    <tr>\n",
       "      <th>110002</th>\n",
       "      <td>0.002373</td>\n",
       "    </tr>\n",
       "    <tr>\n",
       "      <th>110003</th>\n",
       "      <td>0.001694</td>\n",
       "    </tr>\n",
       "    <tr>\n",
       "      <th>110004</th>\n",
       "      <td>0.004217</td>\n",
       "    </tr>\n",
       "    <tr>\n",
       "      <th>110005</th>\n",
       "      <td>0.002451</td>\n",
       "    </tr>\n",
       "    <tr>\n",
       "      <th>...</th>\n",
       "      <td>...</td>\n",
       "    </tr>\n",
       "    <tr>\n",
       "      <th>522200</th>\n",
       "      <td>0.002885</td>\n",
       "    </tr>\n",
       "    <tr>\n",
       "      <th>522205</th>\n",
       "      <td>0.001830</td>\n",
       "    </tr>\n",
       "    <tr>\n",
       "      <th>522220</th>\n",
       "      <td>0.002107</td>\n",
       "    </tr>\n",
       "    <tr>\n",
       "      <th>522230</th>\n",
       "      <td>0.000000</td>\n",
       "    </tr>\n",
       "    <tr>\n",
       "      <th>530010</th>\n",
       "      <td>0.002567</td>\n",
       "    </tr>\n",
       "  </tbody>\n",
       "</table>\n",
       "<p>5570 rows × 1 columns</p>\n",
       "</div>"
      ],
      "text/plain": [
       "        CFC_BEDS\n",
       "codmun          \n",
       "110001  0.002136\n",
       "110002  0.002373\n",
       "110003  0.001694\n",
       "110004  0.004217\n",
       "110005  0.002451\n",
       "...          ...\n",
       "522200  0.002885\n",
       "522205  0.001830\n",
       "522220  0.002107\n",
       "522230  0.000000\n",
       "530010  0.002567\n",
       "\n",
       "[5570 rows x 1 columns]"
      ]
     },
     "execution_count": 50,
     "metadata": {},
     "output_type": "execute_result"
    }
   ],
   "source": [
    "# way 01\n",
    "\n",
    "# df_covid_CFC_BEDS_by_city = pd.DataFrame(df_malarie_covid_total['numeroLeitos'] / \\\n",
    "#              df_malarie_covid_total['Populacao_2020'],\n",
    "#             columns=['CFC_BEDS']).set_index(df_malarie_covid_total['CD'])\n",
    "\n",
    "# df_covid_CFC_BEDS_by_city = df_covid_CFC_BEDS_by_city.reset_index().rename(columns={'CD': 'codmun'}).set_index('codmun')\n",
    "# df_covid_CFC_BEDS_by_city.index = df_covid_CFC_BEDS_by_city.index.map(str).map(lambda codmun: codmun.split('.')[0])\n",
    "# df_covid_CFC_BEDS_by_city\n",
    "\n",
    "# way 02\n",
    "\n",
    "try:\n",
    "    df_malarie_covid_total['CD'] = df_malarie_covid_total['CD'].map(str).map(\n",
    "        lambda x: x.split(',')[0])\n",
    "\n",
    "    df_malarie_covid_total.rename(columns={'CD': 'codmun'}, inplace=True)\n",
    "\n",
    "    df_malarie_covid_total.set_index('codmun', inplace=True)\n",
    "\n",
    "except KeyError as e:\n",
    "    print('Already changed from CD to codmun')\n",
    "    \n",
    "\n",
    "df_temp = df_malarie_covid_total[['numeroLeitos']].join(\n",
    "    df_covid[['populacaoTCU2019', 'codmun']].set_index('codmun'), how='left').reset_index().drop_duplicates(\n",
    "    subset=['codmun']).set_index('codmun')\n",
    "\n",
    "df_covid_CFC_BEDS_by_city = pd.DataFrame(df_temp['numeroLeitos'] / df_temp['populacaoTCU2019'], columns=['CFC_BEDS'])\n",
    "\n",
    "del df_temp\n",
    "\n",
    "df_covid_CFC_BEDS_by_city"
   ]
  },
  {
   "cell_type": "code",
   "execution_count": 52,
   "id": "7fcf1472-881d-495a-b613-c17c770f9df2",
   "metadata": {},
   "outputs": [
    {
     "data": {
      "text/html": [
       "<div>\n",
       "<style scoped>\n",
       "    .dataframe tbody tr th:only-of-type {\n",
       "        vertical-align: middle;\n",
       "    }\n",
       "\n",
       "    .dataframe tbody tr th {\n",
       "        vertical-align: top;\n",
       "    }\n",
       "\n",
       "    .dataframe thead th {\n",
       "        text-align: right;\n",
       "    }\n",
       "</style>\n",
       "<table border=\"1\" class=\"dataframe\">\n",
       "  <thead>\n",
       "    <tr style=\"text-align: right;\">\n",
       "      <th></th>\n",
       "      <th>CFC_DEATHS</th>\n",
       "      <th>CFC_BEDS</th>\n",
       "    </tr>\n",
       "    <tr>\n",
       "      <th>codmun</th>\n",
       "      <th></th>\n",
       "      <th></th>\n",
       "    </tr>\n",
       "  </thead>\n",
       "  <tbody>\n",
       "    <tr>\n",
       "      <th>110001</th>\n",
       "      <td>0.002659</td>\n",
       "      <td>0.002136</td>\n",
       "    </tr>\n",
       "    <tr>\n",
       "      <th>110002</th>\n",
       "      <td>0.003903</td>\n",
       "      <td>0.002373</td>\n",
       "    </tr>\n",
       "    <tr>\n",
       "      <th>110003</th>\n",
       "      <td>0.003389</td>\n",
       "      <td>0.001694</td>\n",
       "    </tr>\n",
       "    <tr>\n",
       "      <th>110004</th>\n",
       "      <td>0.002765</td>\n",
       "      <td>0.004217</td>\n",
       "    </tr>\n",
       "    <tr>\n",
       "      <th>110005</th>\n",
       "      <td>0.003369</td>\n",
       "      <td>0.002451</td>\n",
       "    </tr>\n",
       "    <tr>\n",
       "      <th>...</th>\n",
       "      <td>...</td>\n",
       "      <td>...</td>\n",
       "    </tr>\n",
       "    <tr>\n",
       "      <th>522200</th>\n",
       "      <td>0.001443</td>\n",
       "      <td>0.002885</td>\n",
       "    </tr>\n",
       "    <tr>\n",
       "      <th>522205</th>\n",
       "      <td>0.002402</td>\n",
       "      <td>0.001830</td>\n",
       "    </tr>\n",
       "    <tr>\n",
       "      <th>522220</th>\n",
       "      <td>0.000648</td>\n",
       "      <td>0.002107</td>\n",
       "    </tr>\n",
       "    <tr>\n",
       "      <th>522230</th>\n",
       "      <td>0.000859</td>\n",
       "      <td>0.000000</td>\n",
       "    </tr>\n",
       "    <tr>\n",
       "      <th>530010</th>\n",
       "      <td>0.002800</td>\n",
       "      <td>0.002567</td>\n",
       "    </tr>\n",
       "  </tbody>\n",
       "</table>\n",
       "<p>5570 rows × 2 columns</p>\n",
       "</div>"
      ],
      "text/plain": [
       "        CFC_DEATHS  CFC_BEDS\n",
       "codmun                      \n",
       "110001    0.002659  0.002136\n",
       "110002    0.003903  0.002373\n",
       "110003    0.003389  0.001694\n",
       "110004    0.002765  0.004217\n",
       "110005    0.003369  0.002451\n",
       "...            ...       ...\n",
       "522200    0.001443  0.002885\n",
       "522205    0.002402  0.001830\n",
       "522220    0.000648  0.002107\n",
       "522230    0.000859  0.000000\n",
       "530010    0.002800  0.002567\n",
       "\n",
       "[5570 rows x 2 columns]"
      ]
     },
     "execution_count": 52,
     "metadata": {},
     "output_type": "execute_result"
    }
   ],
   "source": [
    "df_covid_CFC_by_city = pd.merge(\n",
    "    left=df_covid_CFC_DEATHS_by_city[['CFC_DEATHS']],\n",
    "    right=df_covid_CFC_BEDS_by_city[['CFC_BEDS']],\n",
    "    on='codmun')\n",
    "\n",
    "df_covid_CFC_by_city"
   ]
  },
  {
   "cell_type": "markdown",
   "id": "242a37dc-3597-402b-9a7f-619712452325",
   "metadata": {},
   "source": [
    "### Join CFC and CFM"
   ]
  },
  {
   "cell_type": "code",
   "execution_count": 64,
   "id": "1a350eb5-158d-44b1-9da4-9cd20bd61025",
   "metadata": {},
   "outputs": [],
   "source": [
    "def normalize(_df, columns: list = None):\n",
    "    \n",
    "    _df = _df.copy()\n",
    "    \n",
    "    if columns is None:\n",
    "        columns = _df.columns\n",
    "        \n",
    "    for column in columns:\n",
    "        val_max = _df[column].max()\n",
    "        val_min = _df[column].min()\n",
    "        _df[column] = _df[column].apply(lambda x: (x -  val_min) / (val_max - val_min))\n",
    "    \n",
    "    return _df\n"
   ]
  },
  {
   "cell_type": "code",
   "execution_count": 53,
   "id": "e0ae9779-7692-4f5a-9ef8-f39097c48b8c",
   "metadata": {},
   "outputs": [
    {
     "data": {
      "text/html": [
       "<div>\n",
       "<style scoped>\n",
       "    .dataframe tbody tr th:only-of-type {\n",
       "        vertical-align: middle;\n",
       "    }\n",
       "\n",
       "    .dataframe tbody tr th {\n",
       "        vertical-align: top;\n",
       "    }\n",
       "\n",
       "    .dataframe thead th {\n",
       "        text-align: right;\n",
       "    }\n",
       "</style>\n",
       "<table border=\"1\" class=\"dataframe\">\n",
       "  <thead>\n",
       "    <tr style=\"text-align: right;\">\n",
       "      <th></th>\n",
       "      <th>CFM</th>\n",
       "      <th>CFC_DEATHS</th>\n",
       "      <th>CFC_BEDS</th>\n",
       "    </tr>\n",
       "    <tr>\n",
       "      <th>codmun</th>\n",
       "      <th></th>\n",
       "      <th></th>\n",
       "      <th></th>\n",
       "    </tr>\n",
       "  </thead>\n",
       "  <tbody>\n",
       "    <tr>\n",
       "      <th>110001</th>\n",
       "      <td>0.000349</td>\n",
       "      <td>0.002659</td>\n",
       "      <td>0.002136</td>\n",
       "    </tr>\n",
       "    <tr>\n",
       "      <th>110002</th>\n",
       "      <td>0.004830</td>\n",
       "      <td>0.003903</td>\n",
       "      <td>0.002373</td>\n",
       "    </tr>\n",
       "    <tr>\n",
       "      <th>110004</th>\n",
       "      <td>0.001429</td>\n",
       "      <td>0.002765</td>\n",
       "      <td>0.004217</td>\n",
       "    </tr>\n",
       "    <tr>\n",
       "      <th>110005</th>\n",
       "      <td>0.000551</td>\n",
       "      <td>0.003369</td>\n",
       "      <td>0.002451</td>\n",
       "    </tr>\n",
       "    <tr>\n",
       "      <th>110006</th>\n",
       "      <td>0.000063</td>\n",
       "      <td>0.001889</td>\n",
       "      <td>0.003148</td>\n",
       "    </tr>\n",
       "    <tr>\n",
       "      <th>...</th>\n",
       "      <td>...</td>\n",
       "      <td>...</td>\n",
       "      <td>...</td>\n",
       "    </tr>\n",
       "    <tr>\n",
       "      <th>510787</th>\n",
       "      <td>0.000077</td>\n",
       "      <td>0.001623</td>\n",
       "      <td>0.002048</td>\n",
       "    </tr>\n",
       "    <tr>\n",
       "      <th>510790</th>\n",
       "      <td>0.000077</td>\n",
       "      <td>0.002560</td>\n",
       "      <td>0.001895</td>\n",
       "    </tr>\n",
       "    <tr>\n",
       "      <th>510792</th>\n",
       "      <td>0.000066</td>\n",
       "      <td>0.001960</td>\n",
       "      <td>0.002203</td>\n",
       "    </tr>\n",
       "    <tr>\n",
       "      <th>510795</th>\n",
       "      <td>0.000039</td>\n",
       "      <td>0.002583</td>\n",
       "      <td>0.001860</td>\n",
       "    </tr>\n",
       "    <tr>\n",
       "      <th>510895</th>\n",
       "      <td>0.000109</td>\n",
       "      <td>0.001852</td>\n",
       "      <td>0.001416</td>\n",
       "    </tr>\n",
       "  </tbody>\n",
       "</table>\n",
       "<p>360 rows × 3 columns</p>\n",
       "</div>"
      ],
      "text/plain": [
       "             CFM  CFC_DEATHS  CFC_BEDS\n",
       "codmun                                \n",
       "110001  0.000349    0.002659  0.002136\n",
       "110002  0.004830    0.003903  0.002373\n",
       "110004  0.001429    0.002765  0.004217\n",
       "110005  0.000551    0.003369  0.002451\n",
       "110006  0.000063    0.001889  0.003148\n",
       "...          ...         ...       ...\n",
       "510787  0.000077    0.001623  0.002048\n",
       "510790  0.000077    0.002560  0.001895\n",
       "510792  0.000066    0.001960  0.002203\n",
       "510795  0.000039    0.002583  0.001860\n",
       "510895  0.000109    0.001852  0.001416\n",
       "\n",
       "[360 rows x 3 columns]"
      ]
     },
     "execution_count": 53,
     "metadata": {},
     "output_type": "execute_result"
    }
   ],
   "source": [
    "df_CF_by_city = df_amazon_CFM_by_city.join(df_covid_CFC_by_city)\n",
    "df_CF_by_city\n",
    "\n",
    "# df_CF_by_city = normalize(df_CF_by_city, ['CFM', 'CFC_DEATHS', 'CFC_BEDS'])\n",
    "\n",
    "df_CF_by_city"
   ]
  },
  {
   "cell_type": "code",
   "execution_count": 56,
   "id": "ff63a02e-712a-4b4a-a0fc-53e4f9c24ed4",
   "metadata": {},
   "outputs": [],
   "source": [
    "path_output = os.path.join(os.getcwd(), 'output')\n",
    "\n",
    "df_CF_by_city.to_csv(os.path.join(path_output, 'data', 'output_01_CFs_by_city.csv'))"
   ]
  },
  {
   "cell_type": "markdown",
   "id": "96ce2bce-082c-4a5a-a0d5-851bd26d4aec",
   "metadata": {},
   "source": [
    "### <center>Visualization</center>"
   ]
  },
  {
   "cell_type": "code",
   "execution_count": 58,
   "id": "337663b0-3db2-4d6f-a384-2af1432e13be",
   "metadata": {},
   "outputs": [],
   "source": [
    "sns.set(rc={'figure.figsize': (10, 10)})\n",
    "# sns.set_theme(style=\"white\")"
   ]
  },
  {
   "cell_type": "markdown",
   "id": "0148a52b-8553-465e-a4c3-0f193c5acfc0",
   "metadata": {},
   "source": [
    "#### 01. distplots"
   ]
  },
  {
   "cell_type": "code",
   "execution_count": 59,
   "id": "a29dbc88-ba1b-4cd9-a45f-de1d781db6d1",
   "metadata": {},
   "outputs": [
    {
     "data": {
      "text/plain": [
       "<AxesSubplot:ylabel='Count'>"
      ]
     },
     "execution_count": 59,
     "metadata": {},
     "output_type": "execute_result"
    },
    {
     "data": {
      "image/png": "[encoded data removed]",
      "text/plain": [
       "<Figure size 720x720 with 1 Axes>"
      ]
     },
     "metadata": {},
     "output_type": "display_data"
    }
   ],
   "source": [
    "sns.histplot(df_CF_by_city[['CFM']], kde=True)"
   ]
  },
  {
   "cell_type": "code",
   "execution_count": 60,
   "id": "af137999-eef8-4b13-9484-75d089c3a0a3",
   "metadata": {},
   "outputs": [
    {
     "data": {
      "text/plain": [
       "<AxesSubplot:ylabel='Count'>"
      ]
     },
     "execution_count": 60,
     "metadata": {},
     "output_type": "execute_result"
    },
    {
     "data": {
      "image/png": "[encoded data removed]",
      "text/plain": [
       "<Figure size 720x720 with 1 Axes>"
      ]
     },
     "metadata": {},
     "output_type": "display_data"
    }
   ],
   "source": [
    "sns.histplot(df_CF_by_city[['CFC_DEATHS']], kde=True)"
   ]
  },
  {
   "cell_type": "code",
   "execution_count": 61,
   "id": "eda2a1a1-134e-4770-b8ba-8da6d155f5b2",
   "metadata": {},
   "outputs": [
    {
     "data": {
      "text/plain": [
       "<AxesSubplot:ylabel='Count'>"
      ]
     },
     "execution_count": 61,
     "metadata": {},
     "output_type": "execute_result"
    },
    {
     "data": {
      "image/png": "[encoded data removed]",
      "text/plain": [
       "<Figure size 720x720 with 1 Axes>"
      ]
     },
     "metadata": {},
     "output_type": "display_data"
    }
   ],
   "source": [
    "sns.histplot(df_CF_by_city[['CFC_BEDS']], kde=True)"
   ]
  },
  {
   "cell_type": "code",
   "execution_count": 62,
   "id": "43fa7739-b37b-4e12-9feb-e5817e14089a",
   "metadata": {},
   "outputs": [
    {
     "data": {
      "image/png": "[encoded data removed]",
      "text/plain": [
       "<Figure size 720x720 with 1 Axes>"
      ]
     },
     "metadata": {},
     "output_type": "display_data"
    }
   ],
   "source": [
    "sns.histplot(df_CF_by_city[['CFC_BEDS', 'CFC_DEATHS']], kde=True)\n",
    "plt.savefig(os.path.join(path_output, 'final_01.png'), dpi=300)"
   ]
  },
  {
   "cell_type": "code",
   "execution_count": 65,
   "id": "0abad056-c290-4d8e-9a59-c91cec56c63f",
   "metadata": {},
   "outputs": [
    {
     "data": {
      "image/png": "[encoded data removed]",
      "text/plain": [
       "<Figure size 720x720 with 1 Axes>"
      ]
     },
     "metadata": {},
     "output_type": "display_data"
    }
   ],
   "source": [
    "sns.histplot(normalize(df_CF_by_city), kde=True)\n",
    "plt.savefig(os.path.join(path_output, 'final_02.png'), dpi=300)"
   ]
  },
  {
   "cell_type": "code",
   "execution_count": 66,
   "id": "5f91ef6b-2d94-4af7-b03a-236e518d7589",
   "metadata": {},
   "outputs": [
    {
     "data": {
      "image/png": "[encoded data removed]",
      "text/plain": [
       "<Figure size 540x540 with 12 Axes>"
      ]
     },
     "metadata": {},
     "output_type": "display_data"
    }
   ],
   "source": [
    "sns.pairplot(data=df_CF_by_city)\n",
    "plt.savefig(os.path.join(path_output, 'final_03.png'), dpi=300)"
   ]
  },
  {
   "cell_type": "code",
   "execution_count": 67,
   "id": "3ce0f360-00e1-498f-ba60-79168ad6152f",
   "metadata": {},
   "outputs": [
    {
     "data": {
      "text/plain": [
       "<AxesSubplot:ylabel='Density'>"
      ]
     },
     "execution_count": 67,
     "metadata": {},
     "output_type": "execute_result"
    },
    {
     "data": {
      "image/png": "[encoded data removed]",
      "text/plain": [
       "<Figure size 1440x720 with 1 Axes>"
      ]
     },
     "metadata": {},
     "output_type": "display_data"
    }
   ],
   "source": [
    "sns.set(rc={'figure.figsize': (20, 10)})\n",
    "\n",
    "sns.kdeplot(data=df_CF_by_city)"
   ]
  },
  {
   "cell_type": "code",
   "execution_count": 68,
   "id": "464da8de-5d57-4be1-ae37-c4539b363adc",
   "metadata": {},
   "outputs": [
    {
     "data": {
      "text/plain": [
       "<AxesSubplot:ylabel='Density'>"
      ]
     },
     "execution_count": 68,
     "metadata": {},
     "output_type": "execute_result"
    },
    {
     "data": {
      "image/png": "[encoded data removed]",
      "text/plain": [
       "<Figure size 720x720 with 1 Axes>"
      ]
     },
     "metadata": {},
     "output_type": "display_data"
    }
   ],
   "source": [
    "sns.set(rc={'figure.figsize': (10, 10)})\n",
    "\n",
    "sns.kdeplot(data=normalize(df_CF_by_city))"
   ]
  },
  {
   "cell_type": "markdown",
   "id": "4e4eb9a0-8282-4fc7-9f41-d48d59a8f824",
   "metadata": {},
   "source": [
    "#### 02. categorical"
   ]
  },
  {
   "cell_type": "code",
   "execution_count": 69,
   "id": "556f32d2-5149-4424-83d3-4458162c58a9",
   "metadata": {},
   "outputs": [
    {
     "name": "stdout",
     "output_type": "stream",
     "text": [
      "\n"
     ]
    },
    {
     "data": {
      "image/png": "[encoded data removed]",
      "text/plain": [
       "<Figure size 720x720 with 1 Axes>"
      ]
     },
     "metadata": {},
     "output_type": "display_data"
    }
   ],
   "source": [
    "sns.barplot(\n",
    "    data=df_CF_by_city.reset_index().sort_values(by='CFM'), \n",
    "    x='codmun', y='CFM').set(xticklabels=[])\n",
    "\n",
    "print()\n",
    "plt.savefig(os.path.join(path_output, 'final_04.png'), dpi=300)"
   ]
  },
  {
   "cell_type": "markdown",
   "id": "6bfb4775-7abd-42cb-9a93-9ea171608121",
   "metadata": {},
   "source": [
    "# <center>Questions</center>"
   ]
  },
  {
   "cell_type": "markdown",
   "id": "dab0d22b-b2ec-4a2e-8a86-aedcf5fc1f53",
   "metadata": {},
   "source": [
    "## Question 01: there is correlaction between deaths and beds?"
   ]
  },
  {
   "cell_type": "code",
   "execution_count": 70,
   "id": "be9d7b5f-2d04-4140-8054-213918d326cd",
   "metadata": {},
   "outputs": [
    {
     "data": {
      "image/png": "[encoded data removed]",
      "text/plain": [
       "<Figure size 720x720 with 2 Axes>"
      ]
     },
     "metadata": {},
     "output_type": "display_data"
    }
   ],
   "source": [
    "corr = df_CF_by_city.corr(method='spearman')\n",
    "\n",
    "# Generate a mask for the upper triangle\n",
    "mask = np.triu(np.ones_like(corr, dtype=bool))\n",
    "\n",
    "# Generate a custom diverging colormap\n",
    "cmap = sns.diverging_palette(230, 20, as_cmap=True)\n",
    "\n",
    "sns.heatmap(data=corr, cmap=cmap, mask=mask, center=0, vmax=1, vmin=-1, annot=True)\n",
    "plt.title('spearman correlaction')\n",
    "plt.savefig(os.path.join(path_output, 'final_05.png'), dpi=300)"
   ]
  },
  {
   "cell_type": "raw",
   "id": "35ccd7f8-500e-4c5f-9b65-4591ead48188",
   "metadata": {},
   "source": [
    "# https://support.minitab.com/pt-br/minitab/18/help-and-how-to/statistics/basic-statistics/how-to/correlation/interpret-the-results/key-results/\n",
    "\n",
    "spearman correlaction: [-1, 1]\n",
    "\n",
    "1  = crescent linear correlaction\n",
    "0  = no correlaction\n",
    "-1 = decrescent linear correlaction\n",
    "\n",
    "Then,\n",
    "- number of deads and number of beds are weak crescent linear correlaction\n",
    "- number of deads and number of number of malaria cases are weak crescent linear correlaction"
   ]
  },
  {
   "cell_type": "markdown",
   "id": "b72a9c99-94ee-4e3d-8895-e27348ff6afd",
   "metadata": {},
   "source": [
    "## Question 02: how about corerlaction in/out endemic malaric cities?"
   ]
  },
  {
   "cell_type": "code",
   "execution_count": 71,
   "id": "3beeea94-a248-481b-b4cb-6c33c4ee7c8b",
   "metadata": {},
   "outputs": [
    {
     "name": "stdout",
     "output_type": "stream",
     "text": [
      "0.005743953535803708\n",
      "0.01908943359764969\n"
     ]
    }
   ],
   "source": [
    "print(df_CF_by_city['CFM'].mean())\n",
    "print(df_CF_by_city['CFM'].std())"
   ]
  },
  {
   "cell_type": "code",
   "execution_count": 72,
   "id": "97d6d140-8ccd-4231-a6c9-3c762da751a2",
   "metadata": {},
   "outputs": [
    {
     "data": {
      "image/png": "[encoded data removed]",
      "text/plain": [
       "<Figure size 720x720 with 1 Axes>"
      ]
     },
     "metadata": {},
     "output_type": "display_data"
    }
   ],
   "source": [
    "sns.violinplot(data=df_CF_by_city, y='CFM')\n",
    "plt.savefig(os.path.join(path_output, 'final_06.png'), dpi=300)"
   ]
  },
  {
   "cell_type": "code",
   "execution_count": 73,
   "id": "195d9744-9ed9-4080-9548-b6ca1e87183d",
   "metadata": {},
   "outputs": [
    {
     "data": {
      "text/html": [
       "<div>\n",
       "<style scoped>\n",
       "    .dataframe tbody tr th:only-of-type {\n",
       "        vertical-align: middle;\n",
       "    }\n",
       "\n",
       "    .dataframe tbody tr th {\n",
       "        vertical-align: top;\n",
       "    }\n",
       "\n",
       "    .dataframe thead th {\n",
       "        text-align: right;\n",
       "    }\n",
       "</style>\n",
       "<table border=\"1\" class=\"dataframe\">\n",
       "  <thead>\n",
       "    <tr style=\"text-align: right;\">\n",
       "      <th></th>\n",
       "      <th>CFM</th>\n",
       "      <th>CFC_DEATHS</th>\n",
       "      <th>CFC_BEDS</th>\n",
       "    </tr>\n",
       "    <tr>\n",
       "      <th>codmun</th>\n",
       "      <th></th>\n",
       "      <th></th>\n",
       "      <th></th>\n",
       "    </tr>\n",
       "  </thead>\n",
       "  <tbody>\n",
       "    <tr>\n",
       "      <th>110008</th>\n",
       "      <td>0.018493</td>\n",
       "      <td>0.001473</td>\n",
       "      <td>0.002455</td>\n",
       "    </tr>\n",
       "    <tr>\n",
       "      <th>110010</th>\n",
       "      <td>0.018517</td>\n",
       "      <td>0.004526</td>\n",
       "      <td>0.002469</td>\n",
       "    </tr>\n",
       "    <tr>\n",
       "      <th>110013</th>\n",
       "      <td>0.013053</td>\n",
       "      <td>0.002025</td>\n",
       "      <td>0.001200</td>\n",
       "    </tr>\n",
       "    <tr>\n",
       "      <th>110094</th>\n",
       "      <td>0.016895</td>\n",
       "      <td>0.001428</td>\n",
       "      <td>0.000436</td>\n",
       "    </tr>\n",
       "    <tr>\n",
       "      <th>110110</th>\n",
       "      <td>0.006980</td>\n",
       "      <td>0.001721</td>\n",
       "      <td>0.001912</td>\n",
       "    </tr>\n",
       "    <tr>\n",
       "      <th>...</th>\n",
       "      <td>...</td>\n",
       "      <td>...</td>\n",
       "      <td>...</td>\n",
       "    </tr>\n",
       "    <tr>\n",
       "      <th>160050</th>\n",
       "      <td>0.019289</td>\n",
       "      <td>0.001467</td>\n",
       "      <td>0.001503</td>\n",
       "    </tr>\n",
       "    <tr>\n",
       "      <th>160053</th>\n",
       "      <td>0.028538</td>\n",
       "      <td>0.001001</td>\n",
       "      <td>0.001547</td>\n",
       "    </tr>\n",
       "    <tr>\n",
       "      <th>510325</th>\n",
       "      <td>0.024027</td>\n",
       "      <td>0.001529</td>\n",
       "      <td>0.000726</td>\n",
       "    </tr>\n",
       "    <tr>\n",
       "      <th>510330</th>\n",
       "      <td>0.009777</td>\n",
       "      <td>0.001252</td>\n",
       "      <td>0.002023</td>\n",
       "    </tr>\n",
       "    <tr>\n",
       "      <th>510675</th>\n",
       "      <td>0.013910</td>\n",
       "      <td>0.004578</td>\n",
       "      <td>0.001519</td>\n",
       "    </tr>\n",
       "  </tbody>\n",
       "</table>\n",
       "<p>61 rows × 3 columns</p>\n",
       "</div>"
      ],
      "text/plain": [
       "             CFM  CFC_DEATHS  CFC_BEDS\n",
       "codmun                                \n",
       "110008  0.018493    0.001473  0.002455\n",
       "110010  0.018517    0.004526  0.002469\n",
       "110013  0.013053    0.002025  0.001200\n",
       "110094  0.016895    0.001428  0.000436\n",
       "110110  0.006980    0.001721  0.001912\n",
       "...          ...         ...       ...\n",
       "160050  0.019289    0.001467  0.001503\n",
       "160053  0.028538    0.001001  0.001547\n",
       "510325  0.024027    0.001529  0.000726\n",
       "510330  0.009777    0.001252  0.002023\n",
       "510675  0.013910    0.004578  0.001519\n",
       "\n",
       "[61 rows x 3 columns]"
      ]
     },
     "execution_count": 73,
     "metadata": {},
     "output_type": "execute_result"
    }
   ],
   "source": [
    "mean_CFM = df_CF_by_city['CFM'].mean()\n",
    "\n",
    "df_CF_by_city_CFM_greather_than_mean = df_CF_by_city[df_CF_by_city['CFM'] >= mean_CFM]\n",
    "df_CF_by_city_CFM_greather_than_mean"
   ]
  },
  {
   "cell_type": "code",
   "execution_count": 74,
   "id": "ffab8a17-050e-401a-a65c-537fe3e47f46",
   "metadata": {},
   "outputs": [
    {
     "data": {
      "image/png": "[encoded data removed]",
      "text/plain": [
       "<Figure size 720x720 with 2 Axes>"
      ]
     },
     "metadata": {},
     "output_type": "display_data"
    }
   ],
   "source": [
    "corr = df_CF_by_city_CFM_greather_than_mean.corr(method='spearman')\n",
    "\n",
    "# Generate a mask for the upper triangle\n",
    "mask = np.triu(np.ones_like(corr, dtype=bool))\n",
    "\n",
    "# Generate a custom diverging colormap\n",
    "cmap = sns.diverging_palette(230, 20, as_cmap=True)\n",
    "\n",
    "sns.heatmap(data=corr, cmap=cmap, mask=mask, center=0, vmax=1, vmin=-1, annot=True)\n",
    "plt.title(f'spearman correlaction for endemic cities\\nwhere CFM is greather than CFM_mean={mean_CFM}')\n",
    "plt.savefig(os.path.join(path_output, 'final_07.png'), dpi=300)"
   ]
  },
  {
   "cell_type": "code",
   "execution_count": null,
   "id": "7f2f4eda-1aaf-4066-b6ec-e60de4b21772",
   "metadata": {},
   "outputs": [],
   "source": [
    "# outside"
   ]
  },
  {
   "cell_type": "code",
   "execution_count": 75,
   "id": "6964fc59-64a8-48d2-ace8-b0f9c590521d",
   "metadata": {},
   "outputs": [
    {
     "data": {
      "text/html": [
       "<div>\n",
       "<style scoped>\n",
       "    .dataframe tbody tr th:only-of-type {\n",
       "        vertical-align: middle;\n",
       "    }\n",
       "\n",
       "    .dataframe tbody tr th {\n",
       "        vertical-align: top;\n",
       "    }\n",
       "\n",
       "    .dataframe thead th {\n",
       "        text-align: right;\n",
       "    }\n",
       "</style>\n",
       "<table border=\"1\" class=\"dataframe\">\n",
       "  <thead>\n",
       "    <tr style=\"text-align: right;\">\n",
       "      <th></th>\n",
       "      <th>CFM</th>\n",
       "      <th>CFC_DEATHS</th>\n",
       "      <th>CFC_BEDS</th>\n",
       "    </tr>\n",
       "    <tr>\n",
       "      <th>codmun</th>\n",
       "      <th></th>\n",
       "      <th></th>\n",
       "      <th></th>\n",
       "    </tr>\n",
       "  </thead>\n",
       "  <tbody>\n",
       "    <tr>\n",
       "      <th>110001</th>\n",
       "      <td>0.000349</td>\n",
       "      <td>0.002659</td>\n",
       "      <td>0.002136</td>\n",
       "    </tr>\n",
       "    <tr>\n",
       "      <th>110002</th>\n",
       "      <td>0.004830</td>\n",
       "      <td>0.003903</td>\n",
       "      <td>0.002373</td>\n",
       "    </tr>\n",
       "    <tr>\n",
       "      <th>110004</th>\n",
       "      <td>0.001429</td>\n",
       "      <td>0.002765</td>\n",
       "      <td>0.004217</td>\n",
       "    </tr>\n",
       "    <tr>\n",
       "      <th>110005</th>\n",
       "      <td>0.000551</td>\n",
       "      <td>0.003369</td>\n",
       "      <td>0.002451</td>\n",
       "    </tr>\n",
       "    <tr>\n",
       "      <th>110006</th>\n",
       "      <td>0.000063</td>\n",
       "      <td>0.001889</td>\n",
       "      <td>0.003148</td>\n",
       "    </tr>\n",
       "    <tr>\n",
       "      <th>...</th>\n",
       "      <td>...</td>\n",
       "      <td>...</td>\n",
       "      <td>...</td>\n",
       "    </tr>\n",
       "    <tr>\n",
       "      <th>510787</th>\n",
       "      <td>0.000077</td>\n",
       "      <td>0.001623</td>\n",
       "      <td>0.002048</td>\n",
       "    </tr>\n",
       "    <tr>\n",
       "      <th>510790</th>\n",
       "      <td>0.000077</td>\n",
       "      <td>0.002560</td>\n",
       "      <td>0.001895</td>\n",
       "    </tr>\n",
       "    <tr>\n",
       "      <th>510792</th>\n",
       "      <td>0.000066</td>\n",
       "      <td>0.001960</td>\n",
       "      <td>0.002203</td>\n",
       "    </tr>\n",
       "    <tr>\n",
       "      <th>510795</th>\n",
       "      <td>0.000039</td>\n",
       "      <td>0.002583</td>\n",
       "      <td>0.001860</td>\n",
       "    </tr>\n",
       "    <tr>\n",
       "      <th>510895</th>\n",
       "      <td>0.000109</td>\n",
       "      <td>0.001852</td>\n",
       "      <td>0.001416</td>\n",
       "    </tr>\n",
       "  </tbody>\n",
       "</table>\n",
       "<p>299 rows × 3 columns</p>\n",
       "</div>"
      ],
      "text/plain": [
       "             CFM  CFC_DEATHS  CFC_BEDS\n",
       "codmun                                \n",
       "110001  0.000349    0.002659  0.002136\n",
       "110002  0.004830    0.003903  0.002373\n",
       "110004  0.001429    0.002765  0.004217\n",
       "110005  0.000551    0.003369  0.002451\n",
       "110006  0.000063    0.001889  0.003148\n",
       "...          ...         ...       ...\n",
       "510787  0.000077    0.001623  0.002048\n",
       "510790  0.000077    0.002560  0.001895\n",
       "510792  0.000066    0.001960  0.002203\n",
       "510795  0.000039    0.002583  0.001860\n",
       "510895  0.000109    0.001852  0.001416\n",
       "\n",
       "[299 rows x 3 columns]"
      ]
     },
     "execution_count": 75,
     "metadata": {},
     "output_type": "execute_result"
    }
   ],
   "source": [
    "mean_CFM = df_CF_by_city['CFM'].mean()\n",
    "\n",
    "df_CF_by_city_CFM_less_than_mean = df_CF_by_city[df_CF_by_city['CFM'] < mean_CFM]\n",
    "df_CF_by_city_CFM_less_than_mean"
   ]
  },
  {
   "cell_type": "code",
   "execution_count": 76,
   "id": "0bd738ab-1f09-41e0-a700-65d11b990653",
   "metadata": {},
   "outputs": [
    {
     "data": {
      "image/png": "[encoded data removed]",
      "text/plain": [
       "<Figure size 720x720 with 2 Axes>"
      ]
     },
     "metadata": {},
     "output_type": "display_data"
    }
   ],
   "source": [
    "corr = df_CF_by_city_CFM_less_than_mean.corr(method='spearman')\n",
    "\n",
    "# Generate a mask for the upper triangle\n",
    "mask = np.triu(np.ones_like(corr, dtype=bool))\n",
    "\n",
    "# Generate a custom diverging colormap\n",
    "cmap = sns.diverging_palette(230, 20, as_cmap=True)\n",
    "\n",
    "sns.heatmap(data=corr, cmap=cmap, mask=mask, center=0, vmax=1, vmin=-1, annot=True)\n",
    "\n",
    "plt.title(f'spearman correlaction for NOT endemic cities\\nwhere CFM is less than CFM_mean={mean_CFM}')\n",
    "plt.savefig(os.path.join(path_output, 'final_08.png'), dpi=300)"
   ]
  },
  {
   "cell_type": "raw",
   "id": "d1e4bb5b-2d99-4ca4-9757-35b4eac0d171",
   "metadata": {},
   "source": [
    "Then\n",
    "- No correlation at all"
   ]
  }
 ],
 "metadata": {
  "kernelspec": {
   "display_name": "Python 3",
   "language": "python",
   "name": "python3"
  },
  "language_info": {
   "codemirror_mode": {
    "name": "ipython",
    "version": 3
   },
   "file_extension": ".py",
   "mimetype": "text/x-python",
   "name": "python",
   "nbconvert_exporter": "python",
   "pygments_lexer": "ipython3",
   "version": "3.8.5"
  }
 },
 "nbformat": 4,
 "nbformat_minor": 5
}
