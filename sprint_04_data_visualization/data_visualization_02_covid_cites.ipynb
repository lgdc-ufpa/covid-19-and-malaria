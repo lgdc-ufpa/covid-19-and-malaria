{
 "cells": [
  {
   "cell_type": "markdown",
   "id": "688276e9-e08e-445e-978f-74738c97bc85",
   "metadata": {
    "id": "688276e9-e08e-445e-978f-74738c97bc85"
   },
   "source": [
    "# Pipeline"
   ]
  },
  {
   "cell_type": "raw",
   "id": "fdc6af9c-ade8-4c9b-a6c9-2994c20a77dd",
   "metadata": {
    "id": "fdc6af9c-ade8-4c9b-a6c9-2994c20a77dd"
   },
   "source": [
    "- Install nodejs to enable Plotly in Jupyter Lab                     \n",
    "https://github.com/nodesource/distributions/blob/master/README.md#debinstall\n",
    "\n",
    "\n",
    "\n",
    "                    Data Anaylis and Visualization of df_cities of covid\n",
    "\n",
    "1. Imports DONE\n",
    "\n",
    "2. Load dataframes DONE\n",
    "2.1 df amazon DONE\n",
    "2.2 df malarie_covid_total DONE\n",
    "2.3 df covid (since first case) DONE\n",
    "2.4 df covid deaths (since first death) DONE\n",
    "\n",
    "                                    Data Exploitation\n",
    "                                    \n",
    "3.1 df covid: mean of new cases in Brazil DOING\n",
    "3.2 df covid: mean of new cases in Brazil by state DONE\n",
    "3.3 df covid: mean of new cases in Brazil by city DONE\n",
    "\n",
    "4.1 df covid: (sum of new cases) / length population, in Brazil DONE\n",
    "4.2 df covid: (sum of new cases) / length population, in Brazil by state DONE\n",
    "4.3 df covid: (sum of new cases) / length population, in Brazil by city DONE\n",
    "\n",
    "- since the first case ...\n",
    "5.1 df covid: mean of new deaths in Brazil DONE\n",
    "5.2 df covid: mean of new deaths in Brazil by state DONE\n",
    "5.3 df covid: mean of new deaths in Brazil by city DONE\n",
    "\n",
    "- since the first death ...\n",
    "6.1 df covid deaths: mean of new deaths in Brazil DONE\n",
    "6.2 df covid deaths: mean of new deaths in Brazil by state DONE\n",
    "6.3 df covid deaths: mean of new deaths in Brazil by city DONE\n",
    "\n",
    "- since the first case ...\n",
    "7.1 df covid: (sum of new deaths) / length population, in Brazil DONE\n",
    "7.2 df covid: (sum of new deaths) / length population, in Brazil by state DONE\n",
    "7.3 df covid: (sum of new deaths) / length population, in Brazil by city DONE\n",
    "\n",
    "- since the first death ...\n",
    "8.1 df covid deaths: (sum of new deaths) / length population, in Brazil DONE\n",
    "8.2 df covid deaths: (sum of new deaths) / length population, in Brazil by state DONE\n",
    "8.3 df covid deaths: (sum of new deaths) / length population, in Brazil by city DONE\n",
    "\n",
    "- Lethality                        \n",
    "9.1 df covid: (sum of new deaths) / (sum of new cases), in Brazil DONE\n",
    "9.2 df covid: (sum of new deaths) / (sum of new cases), in Brazil by state DONE\n",
    "9.3 df covid: (sum of new deaths) / (sum of new cases), in Brazil by city DONE\n",
    "\n",
    "- Covid pressure in Brazil in tottaly, by state, and by city\n",
    "10.1 df covid: df_covid['data'].unique(), in Brazil DONE\n",
    "10.2 df covid: df_covid['data'].unique(), in Brazil by state DONE (strange value)\n",
    "10.3 df covid: df_covid['data'].unique(), in Brazil by city DONE\n",
    "\n",
    "- Mean of deaths by miliion in Brazil in total, by state, and by city\n",
    "11.1 df_covid: (mean of deaths / population) * 10⁹ in Brazil DONE\n",
    "11.2 df_covid: (mean of deaths / population) * 10⁹ in Brazil, by estate DONE\n",
    "11.3 df_covid: (mean of deaths / population) * 10⁹ in Brazil, by city DONE\n",
    "\n",
    "\n",
    "                           Relationship between Covid and Malaria, for All years\n",
    "\n",
    "- Deaths by million, by state\n",
    "12.1 (df covid: deaths by million) vs (df amazon: num cases p. vivax) DONE\n",
    "12.2 (df covid: deaths by million) vs (df amazon: num cases p. falciparum) DONE\n",
    "12.3 (df covid: deaths by million) vs (df amazon: num cases p. vivax + p. falciparum) DONE\n",
    "12.4 (df covid: deaths by million) vs (df amazon: num cases all p. species) DONE\n",
    "\n",
    "- Deaths by million, by city\n",
    "13.1 (df covid: deaths by million) vs (df amazon: num cases p. vivax) DONE\n",
    "13.2 (df covid: deaths by million) vs (df amazon: num cases p. falciparum) DONE\n",
    "13.3 (df covid: deaths by million) vs (df amazon: num cases p. vivax + p. falciparum) DONE\n",
    "13.4 (df covid: deaths by million) vs (df amazon: num cases all p. species) DONE\n",
    "\n",
    "- Lethality, by state\n",
    "14.1 (df covid: lethality) vs (df amazon: num cases p. vivax) DONE\n",
    "14.2 (df covid: lethality) vs (df amazon: num cases p. falciparum) DONE\n",
    "14.3 (df covid: lethality) vs (df amazon: num cases p. vivax + p. falciparum)\n",
    "\n",
    "- Lethality, by city\n",
    "15.1 (df covid: lethality) vs (df amazon: num cases p. vivax)\n",
    "15.2 (df covid: lethality) vs (df amazon: num cases p. falciparum)\n",
    "15.3 (df covid: lethality) vs (df amazon: num cases p. vivax + p. falciparum)\n",
    "\n",
    "\n",
    "                           Relationship between Covid and Malaria, since 2020\n",
    "\n",
    "- Deaths by million, by state\n",
    "16.1 (df covid: deaths by million) vs (df amazon: num cases p. vivax)\n",
    "16.2 (df covid: deaths by million) vs (df amazon: num cases p. falciparum)\n",
    "16.3 (df covid: deaths by million) vs (df amazon: num cases p. vivax + p. falciparum)\n",
    "\n",
    "- Deaths by million, by city\n",
    "17.1 (df covid: deaths by million) vs (df amazon: num cases p. vivax)\n",
    "17.2 (df covid: deaths by million) vs (df amazon: num cases p. falciparum)\n",
    "17.3 (df covid: deaths by million) vs (df amazon: num cases p. vivax + p. falciparum)\n",
    "\n",
    "- Lethality, by state\n",
    "18.1 (df covid: deaths by million) vs (df amazon: num cases p. vivax)\n",
    "18.2 (df covid: deaths by million) vs (df amazon: num cases p. falciparum)\n",
    "18.3 (df covid: deaths by million) vs (df amazon: num cases p. vivax + p. falciparum)\n",
    "\n",
    "- Lethality, by city\n",
    "19.1 (df covid: lethality) vs (df amazon: num cases p. vivax)\n",
    "19.2 (df covid: lethality) vs (df amazon: num cases p. falciparum)\n",
    "19.3 (df covid: lethality) vs (df amazon: num cases p. vivax + p. falciparum)\n",
    "\n",
    "\n",
    "                           Relationship between Covid and Malaria, until 2019 (COVID WRONG)\n",
    "\n",
    "- Deaths by million, by state\n",
    "20.1 (df covid: deaths by million) vs (df amazon: num cases p. vivax)\n",
    "20.2 (df covid: deaths by million) vs (df amazon: num cases p. falciparum)\n",
    "20.3 (df covid: deaths by million) vs (df amazon: num cases p. vivax + p. falciparum)\n",
    "\n",
    "- Deaths by million, by city\n",
    "21.1 (df covid: deaths by million) vs (df amazon: num cases p. vivax)\n",
    "21.2 (df covid: deaths by million) vs (df amazon: num cases p. falciparum)\n",
    "21.3 (df covid: deaths by million) vs (df amazon: num cases p. vivax + p. falciparum)\n",
    "\n",
    "- Lethality, by state\n",
    "22.1 (df covid: deaths by million) vs (df amazon: num cases p. vivax)\n",
    "22.2 (df covid: deaths by million) vs (df amazon: num cases p. falciparum)\n",
    "22.3 (df covid: deaths by million) vs (df amazon: num cases p. vivax + p. falciparum)\n",
    "\n",
    "- Lethality, by city\n",
    "23.1 (df covid: lethality) vs (df amazon: num cases p. vivax)\n",
    "23.2 (df covid: lethality) vs (df amazon: num cases p. falciparum)\n",
    "23.3 (df covid: lethality) vs (df amazon: num cases p. vivax + p. falciparum)\n",
    "\n",
    "                                        FINAL ANALYSIS\n",
    "                                        \n",
    "- 01 CFM | CFV\n",
    "\n",
    "    CFM = n° cases malária / population, by city\n",
    "    CFV = n° deaths covid X ( n° beds / population)"
   ]
  },
  {
   "cell_type": "markdown",
   "id": "17d051c1",
   "metadata": {
    "id": "17d051c1"
   },
   "source": [
    "## 1. Import libraries"
   ]
  },
  {
   "cell_type": "code",
   "execution_count": 1,
   "id": "9d79eca8",
   "metadata": {
    "id": "9d79eca8"
   },
   "outputs": [
    {
     "data": {
      "text/html": [
       "        <script type=\"text/javascript\">\n",
       "        window.PlotlyConfig = {MathJaxConfig: 'local'};\n",
       "        if (window.MathJax) {MathJax.Hub.Config({SVG: {font: \"STIX-Web\"}});}\n",
       "        if (typeof require !== 'undefined') {\n",
       "        require.undef(\"plotly\");\n",
       "        requirejs.config({\n",
       "            paths: {\n",
       "                'plotly': ['https://cdn.plot.ly/plotly-latest.min']\n",
       "            }\n",
       "        });\n",
       "        require(['plotly'], function(Plotly) {\n",
       "            window._Plotly = Plotly;\n",
       "        });\n",
       "        }\n",
       "        </script>\n",
       "        "
      ]
     },
     "metadata": {},
     "output_type": "display_data"
    },
    {
     "data": {
      "text/html": [
       "        <script type=\"text/javascript\">\n",
       "        window.PlotlyConfig = {MathJaxConfig: 'local'};\n",
       "        if (window.MathJax) {MathJax.Hub.Config({SVG: {font: \"STIX-Web\"}});}\n",
       "        if (typeof require !== 'undefined') {\n",
       "        require.undef(\"plotly\");\n",
       "        requirejs.config({\n",
       "            paths: {\n",
       "                'plotly': ['https://cdn.plot.ly/plotly-latest.min']\n",
       "            }\n",
       "        });\n",
       "        require(['plotly'], function(Plotly) {\n",
       "            window._Plotly = Plotly;\n",
       "        });\n",
       "        }\n",
       "        </script>\n",
       "        "
      ]
     },
     "metadata": {},
     "output_type": "display_data"
    }
   ],
   "source": [
    "import pandas as pd\n",
    "import numpy as np\n",
    "import tqdm\n",
    "import os\n",
    "import seaborn as sns\n",
    "import matplotlib.pyplot as ply\n",
    "import cufflinks as cf\n",
    "import chart_studio.plotly as py\n",
    "import plotly.graph_objects as go\n",
    "from plotly.offline import download_plotlyjs, init_notebook_mode, plot, iplot\n",
    "\n",
    "%matplotlib inline\n",
    "init_notebook_mode(connected=True)\n",
    "cf.go_offline()"
   ]
  },
  {
   "cell_type": "markdown",
   "id": "3c4eb63d",
   "metadata": {
    "id": "3c4eb63d"
   },
   "source": [
    "## 2. Load dataframes"
   ]
  },
  {
   "cell_type": "code",
   "execution_count": 2,
   "id": "6bfa47da",
   "metadata": {
    "id": "6bfa47da"
   },
   "outputs": [
    {
     "data": {
      "text/html": [
       "<div>\n",
       "<style scoped>\n",
       "    .dataframe tbody tr th:only-of-type {\n",
       "        vertical-align: middle;\n",
       "    }\n",
       "\n",
       "    .dataframe tbody tr th {\n",
       "        vertical-align: top;\n",
       "    }\n",
       "\n",
       "    .dataframe thead th {\n",
       "        text-align: right;\n",
       "    }\n",
       "</style>\n",
       "<table border=\"1\" class=\"dataframe\">\n",
       "  <thead>\n",
       "    <tr style=\"text-align: right;\">\n",
       "      <th></th>\n",
       "      <th>CD</th>\n",
       "      <th>Municipio</th>\n",
       "      <th>Falciparum</th>\n",
       "      <th>Mista</th>\n",
       "      <th>Vivax</th>\n",
       "      <th>Malarie</th>\n",
       "      <th>Ovale</th>\n",
       "      <th>Ano</th>\n",
       "      <th>Estado</th>\n",
       "    </tr>\n",
       "  </thead>\n",
       "  <tbody>\n",
       "    <tr>\n",
       "      <th>0</th>\n",
       "      <td>110001</td>\n",
       "      <td>Alta Floresta D'Oeste</td>\n",
       "      <td>15.000</td>\n",
       "      <td>5.0</td>\n",
       "      <td>117.000</td>\n",
       "      <td>0</td>\n",
       "      <td>0</td>\n",
       "      <td>2003</td>\n",
       "      <td>RO</td>\n",
       "    </tr>\n",
       "    <tr>\n",
       "      <th>1</th>\n",
       "      <td>110002</td>\n",
       "      <td>Ariquemes</td>\n",
       "      <td>2.329</td>\n",
       "      <td>138.0</td>\n",
       "      <td>4.801</td>\n",
       "      <td>0</td>\n",
       "      <td>0</td>\n",
       "      <td>2003</td>\n",
       "      <td>RO</td>\n",
       "    </tr>\n",
       "    <tr>\n",
       "      <th>2</th>\n",
       "      <td>110003</td>\n",
       "      <td>Cabixi</td>\n",
       "      <td>178.000</td>\n",
       "      <td>0.0</td>\n",
       "      <td>54.000</td>\n",
       "      <td>0</td>\n",
       "      <td>0</td>\n",
       "      <td>2003</td>\n",
       "      <td>RO</td>\n",
       "    </tr>\n",
       "    <tr>\n",
       "      <th>3</th>\n",
       "      <td>110004</td>\n",
       "      <td>Cacoal</td>\n",
       "      <td>137.000</td>\n",
       "      <td>9.0</td>\n",
       "      <td>279.000</td>\n",
       "      <td>0</td>\n",
       "      <td>0</td>\n",
       "      <td>2003</td>\n",
       "      <td>RO</td>\n",
       "    </tr>\n",
       "    <tr>\n",
       "      <th>4</th>\n",
       "      <td>110005</td>\n",
       "      <td>Cerejeiras</td>\n",
       "      <td>57.000</td>\n",
       "      <td>6.0</td>\n",
       "      <td>104.000</td>\n",
       "      <td>0</td>\n",
       "      <td>0</td>\n",
       "      <td>2003</td>\n",
       "      <td>RO</td>\n",
       "    </tr>\n",
       "  </tbody>\n",
       "</table>\n",
       "</div>"
      ],
      "text/plain": [
       "       CD              Municipio  Falciparum  Mista    Vivax  Malarie  Ovale  \\\n",
       "0  110001  Alta Floresta D'Oeste      15.000    5.0  117.000        0      0   \n",
       "1  110002              Ariquemes       2.329  138.0    4.801        0      0   \n",
       "2  110003                 Cabixi     178.000    0.0   54.000        0      0   \n",
       "3  110004                 Cacoal     137.000    9.0  279.000        0      0   \n",
       "4  110005             Cerejeiras      57.000    6.0  104.000        0      0   \n",
       "\n",
       "    Ano Estado  \n",
       "0  2003     RO  \n",
       "1  2003     RO  \n",
       "2  2003     RO  \n",
       "3  2003     RO  \n",
       "4  2003     RO  "
      ]
     },
     "execution_count": 2,
     "metadata": {},
     "output_type": "execute_result"
    }
   ],
   "source": [
    "file_amazon = 'output_01_data_01_AM_mun_especie.csv'\n",
    "path_input_file_amazon = os.path.join(os.getcwd(), '..', 'sprint_03_data_analysis', 'output', file_amazon)\n",
    "df_amazon = pd.read_csv(path_input_file_amazon, delimiter=';')\n",
    "del df_amazon['Unnamed: 0']\n",
    "df_amazon.head()"
   ]
  },
  {
   "cell_type": "code",
   "execution_count": 3,
   "id": "00cd239a",
   "metadata": {
    "id": "00cd239a"
   },
   "outputs": [
    {
     "data": {
      "text/html": [
       "<div>\n",
       "<style scoped>\n",
       "    .dataframe tbody tr th:only-of-type {\n",
       "        vertical-align: middle;\n",
       "    }\n",
       "\n",
       "    .dataframe tbody tr th {\n",
       "        vertical-align: top;\n",
       "    }\n",
       "\n",
       "    .dataframe thead th {\n",
       "        text-align: right;\n",
       "    }\n",
       "</style>\n",
       "<table border=\"1\" class=\"dataframe\">\n",
       "  <thead>\n",
       "    <tr style=\"text-align: right;\">\n",
       "      <th></th>\n",
       "      <th>Unnamed: 0</th>\n",
       "      <th>CD</th>\n",
       "      <th>Municipio.x</th>\n",
       "      <th>Populacao_2020</th>\n",
       "      <th>numeroLeitos</th>\n",
       "      <th>Ano</th>\n",
       "      <th>casos COVID/1000</th>\n",
       "      <th>Casos_COVID_Acumulados</th>\n",
       "      <th>obitos COVID/1000</th>\n",
       "      <th>Obitos_COVID_Acumulados</th>\n",
       "      <th>CFR</th>\n",
       "      <th>CasosAMazonia_Malaria</th>\n",
       "      <th>CasosAmazoniaAcumulados_Malaria</th>\n",
       "      <th>PF</th>\n",
       "      <th>PV</th>\n",
       "      <th>casos_Falciparum</th>\n",
       "      <th>caso_Vivax</th>\n",
       "    </tr>\n",
       "  </thead>\n",
       "  <tbody>\n",
       "    <tr>\n",
       "      <th>0</th>\n",
       "      <td>0</td>\n",
       "      <td>110001</td>\n",
       "      <td>Alta Floresta D'Oeste</td>\n",
       "      <td>22728</td>\n",
       "      <td>49</td>\n",
       "      <td>2020</td>\n",
       "      <td>56.670187</td>\n",
       "      <td>1288</td>\n",
       "      <td>0.703977</td>\n",
       "      <td>16</td>\n",
       "      <td>0.012422</td>\n",
       "      <td>0</td>\n",
       "      <td>0</td>\n",
       "      <td>0.000000</td>\n",
       "      <td>0.351989</td>\n",
       "      <td>0</td>\n",
       "      <td>8</td>\n",
       "    </tr>\n",
       "    <tr>\n",
       "      <th>1</th>\n",
       "      <td>1</td>\n",
       "      <td>110002</td>\n",
       "      <td>Ariquemes</td>\n",
       "      <td>109523</td>\n",
       "      <td>256</td>\n",
       "      <td>2020</td>\n",
       "      <td>71.857053</td>\n",
       "      <td>7870</td>\n",
       "      <td>1.223487</td>\n",
       "      <td>134</td>\n",
       "      <td>0.017027</td>\n",
       "      <td>59</td>\n",
       "      <td>521</td>\n",
       "      <td>0.228263</td>\n",
       "      <td>4.483077</td>\n",
       "      <td>25</td>\n",
       "      <td>491</td>\n",
       "    </tr>\n",
       "    <tr>\n",
       "      <th>2</th>\n",
       "      <td>2</td>\n",
       "      <td>110003</td>\n",
       "      <td>Cabixi</td>\n",
       "      <td>5188</td>\n",
       "      <td>9</td>\n",
       "      <td>2020</td>\n",
       "      <td>36.044719</td>\n",
       "      <td>187</td>\n",
       "      <td>1.156515</td>\n",
       "      <td>6</td>\n",
       "      <td>0.032086</td>\n",
       "      <td>0</td>\n",
       "      <td>0</td>\n",
       "      <td>0.000000</td>\n",
       "      <td>0.000000</td>\n",
       "      <td>0</td>\n",
       "      <td>0</td>\n",
       "    </tr>\n",
       "    <tr>\n",
       "      <th>3</th>\n",
       "      <td>3</td>\n",
       "      <td>110004</td>\n",
       "      <td>Cacoal</td>\n",
       "      <td>85893</td>\n",
       "      <td>360</td>\n",
       "      <td>2020</td>\n",
       "      <td>47.093477</td>\n",
       "      <td>4045</td>\n",
       "      <td>0.663616</td>\n",
       "      <td>57</td>\n",
       "      <td>0.014091</td>\n",
       "      <td>7</td>\n",
       "      <td>122</td>\n",
       "      <td>0.023285</td>\n",
       "      <td>1.385445</td>\n",
       "      <td>2</td>\n",
       "      <td>119</td>\n",
       "    </tr>\n",
       "    <tr>\n",
       "      <th>4</th>\n",
       "      <td>4</td>\n",
       "      <td>110005</td>\n",
       "      <td>Cerejeiras</td>\n",
       "      <td>16204</td>\n",
       "      <td>40</td>\n",
       "      <td>2020</td>\n",
       "      <td>19.809923</td>\n",
       "      <td>321</td>\n",
       "      <td>0.431992</td>\n",
       "      <td>7</td>\n",
       "      <td>0.021807</td>\n",
       "      <td>1</td>\n",
       "      <td>9</td>\n",
       "      <td>0.000000</td>\n",
       "      <td>0.493705</td>\n",
       "      <td>0</td>\n",
       "      <td>8</td>\n",
       "    </tr>\n",
       "  </tbody>\n",
       "</table>\n",
       "</div>"
      ],
      "text/plain": [
       "   Unnamed: 0      CD            Municipio.x  Populacao_2020  numeroLeitos  \\\n",
       "0           0  110001  Alta Floresta D'Oeste           22728            49   \n",
       "1           1  110002              Ariquemes          109523           256   \n",
       "2           2  110003                 Cabixi            5188             9   \n",
       "3           3  110004                 Cacoal           85893           360   \n",
       "4           4  110005             Cerejeiras           16204            40   \n",
       "\n",
       "    Ano  casos COVID/1000  Casos_COVID_Acumulados  obitos COVID/1000  \\\n",
       "0  2020         56.670187                    1288           0.703977   \n",
       "1  2020         71.857053                    7870           1.223487   \n",
       "2  2020         36.044719                     187           1.156515   \n",
       "3  2020         47.093477                    4045           0.663616   \n",
       "4  2020         19.809923                     321           0.431992   \n",
       "\n",
       "   Obitos_COVID_Acumulados       CFR  CasosAMazonia_Malaria  \\\n",
       "0                       16  0.012422                      0   \n",
       "1                      134  0.017027                     59   \n",
       "2                        6  0.032086                      0   \n",
       "3                       57  0.014091                      7   \n",
       "4                        7  0.021807                      1   \n",
       "\n",
       "   CasosAmazoniaAcumulados_Malaria        PF        PV  casos_Falciparum  \\\n",
       "0                                0  0.000000  0.351989                 0   \n",
       "1                              521  0.228263  4.483077                25   \n",
       "2                                0  0.000000  0.000000                 0   \n",
       "3                              122  0.023285  1.385445                 2   \n",
       "4                                9  0.000000  0.493705                 0   \n",
       "\n",
       "   caso_Vivax  \n",
       "0           8  \n",
       "1         491  \n",
       "2           0  \n",
       "3         119  \n",
       "4           8  "
      ]
     },
     "execution_count": 3,
     "metadata": {},
     "output_type": "execute_result"
    }
   ],
   "source": [
    "file_malarie_covid_total = 'Covid_malaria_total_casos.csv'\n",
    "path_input_file_malarie = os.path.join(os.getcwd(), '..', \n",
    "                                       'sprint_01_data_collection', \n",
    "                                       'data_04', \n",
    "                                       file_malarie_covid_total)\n",
    "df_malarie_covid_total = pd.read_csv(path_input_file_malarie)\n",
    "df_malarie_covid_total.head()"
   ]
  },
  {
   "cell_type": "code",
   "execution_count": 2,
   "id": "333af228-96a2-4496-af3b-84da779c0b25",
   "metadata": {
    "id": "94521802-db10-46d6-80f9-c9e8cb111b02"
   },
   "outputs": [
    {
     "data": {
      "text/html": [
       "<div>\n",
       "<style scoped>\n",
       "    .dataframe tbody tr th:only-of-type {\n",
       "        vertical-align: middle;\n",
       "    }\n",
       "\n",
       "    .dataframe tbody tr th {\n",
       "        vertical-align: top;\n",
       "    }\n",
       "\n",
       "    .dataframe thead th {\n",
       "        text-align: right;\n",
       "    }\n",
       "</style>\n",
       "<table border=\"1\" class=\"dataframe\">\n",
       "  <thead>\n",
       "    <tr style=\"text-align: right;\">\n",
       "      <th></th>\n",
       "      <th>regiao</th>\n",
       "      <th>estado</th>\n",
       "      <th>municipio</th>\n",
       "      <th>coduf</th>\n",
       "      <th>codmun</th>\n",
       "      <th>codRegiaoSaude</th>\n",
       "      <th>nomeRegiaoSaude</th>\n",
       "      <th>data</th>\n",
       "      <th>semanaEpi</th>\n",
       "      <th>populacaoTCU2019</th>\n",
       "      <th>casosAcumulado</th>\n",
       "      <th>casosNovos</th>\n",
       "      <th>obitosAcumulado</th>\n",
       "      <th>obitosNovos</th>\n",
       "      <th>Recuperadosnovos</th>\n",
       "      <th>emAcompanhamentoNovos</th>\n",
       "      <th>interior/metropolitana</th>\n",
       "    </tr>\n",
       "  </thead>\n",
       "  <tbody>\n",
       "    <tr>\n",
       "      <th>0</th>\n",
       "      <td>Norte</td>\n",
       "      <td>RO</td>\n",
       "      <td>Alta Floresta D'Oeste</td>\n",
       "      <td>11</td>\n",
       "      <td>110001.0</td>\n",
       "      <td>11005.0</td>\n",
       "      <td>ZONA DA MATA</td>\n",
       "      <td>2020-05-02</td>\n",
       "      <td>18</td>\n",
       "      <td>22945.0</td>\n",
       "      <td>1.0</td>\n",
       "      <td>1</td>\n",
       "      <td>0</td>\n",
       "      <td>0</td>\n",
       "      <td>NaN</td>\n",
       "      <td>NaN</td>\n",
       "      <td>0.0</td>\n",
       "    </tr>\n",
       "    <tr>\n",
       "      <th>1</th>\n",
       "      <td>Norte</td>\n",
       "      <td>RO</td>\n",
       "      <td>Alta Floresta D'Oeste</td>\n",
       "      <td>11</td>\n",
       "      <td>110001.0</td>\n",
       "      <td>11005.0</td>\n",
       "      <td>ZONA DA MATA</td>\n",
       "      <td>2020-05-03</td>\n",
       "      <td>19</td>\n",
       "      <td>22945.0</td>\n",
       "      <td>1.0</td>\n",
       "      <td>0</td>\n",
       "      <td>0</td>\n",
       "      <td>0</td>\n",
       "      <td>NaN</td>\n",
       "      <td>NaN</td>\n",
       "      <td>0.0</td>\n",
       "    </tr>\n",
       "    <tr>\n",
       "      <th>2</th>\n",
       "      <td>Norte</td>\n",
       "      <td>RO</td>\n",
       "      <td>Alta Floresta D'Oeste</td>\n",
       "      <td>11</td>\n",
       "      <td>110001.0</td>\n",
       "      <td>11005.0</td>\n",
       "      <td>ZONA DA MATA</td>\n",
       "      <td>2020-05-04</td>\n",
       "      <td>19</td>\n",
       "      <td>22945.0</td>\n",
       "      <td>1.0</td>\n",
       "      <td>0</td>\n",
       "      <td>0</td>\n",
       "      <td>0</td>\n",
       "      <td>NaN</td>\n",
       "      <td>NaN</td>\n",
       "      <td>0.0</td>\n",
       "    </tr>\n",
       "    <tr>\n",
       "      <th>3</th>\n",
       "      <td>Norte</td>\n",
       "      <td>RO</td>\n",
       "      <td>Alta Floresta D'Oeste</td>\n",
       "      <td>11</td>\n",
       "      <td>110001.0</td>\n",
       "      <td>11005.0</td>\n",
       "      <td>ZONA DA MATA</td>\n",
       "      <td>2020-05-05</td>\n",
       "      <td>19</td>\n",
       "      <td>22945.0</td>\n",
       "      <td>1.0</td>\n",
       "      <td>0</td>\n",
       "      <td>0</td>\n",
       "      <td>0</td>\n",
       "      <td>NaN</td>\n",
       "      <td>NaN</td>\n",
       "      <td>0.0</td>\n",
       "    </tr>\n",
       "    <tr>\n",
       "      <th>4</th>\n",
       "      <td>Norte</td>\n",
       "      <td>RO</td>\n",
       "      <td>Alta Floresta D'Oeste</td>\n",
       "      <td>11</td>\n",
       "      <td>110001.0</td>\n",
       "      <td>11005.0</td>\n",
       "      <td>ZONA DA MATA</td>\n",
       "      <td>2020-05-06</td>\n",
       "      <td>19</td>\n",
       "      <td>22945.0</td>\n",
       "      <td>1.0</td>\n",
       "      <td>0</td>\n",
       "      <td>0</td>\n",
       "      <td>0</td>\n",
       "      <td>NaN</td>\n",
       "      <td>NaN</td>\n",
       "      <td>0.0</td>\n",
       "    </tr>\n",
       "  </tbody>\n",
       "</table>\n",
       "</div>"
      ],
      "text/plain": [
       "  regiao estado              municipio  coduf    codmun  codRegiaoSaude  \\\n",
       "0  Norte     RO  Alta Floresta D'Oeste     11  110001.0         11005.0   \n",
       "1  Norte     RO  Alta Floresta D'Oeste     11  110001.0         11005.0   \n",
       "2  Norte     RO  Alta Floresta D'Oeste     11  110001.0         11005.0   \n",
       "3  Norte     RO  Alta Floresta D'Oeste     11  110001.0         11005.0   \n",
       "4  Norte     RO  Alta Floresta D'Oeste     11  110001.0         11005.0   \n",
       "\n",
       "  nomeRegiaoSaude        data  semanaEpi  populacaoTCU2019  casosAcumulado  \\\n",
       "0    ZONA DA MATA  2020-05-02         18           22945.0             1.0   \n",
       "1    ZONA DA MATA  2020-05-03         19           22945.0             1.0   \n",
       "2    ZONA DA MATA  2020-05-04         19           22945.0             1.0   \n",
       "3    ZONA DA MATA  2020-05-05         19           22945.0             1.0   \n",
       "4    ZONA DA MATA  2020-05-06         19           22945.0             1.0   \n",
       "\n",
       "   casosNovos  obitosAcumulado  obitosNovos  Recuperadosnovos  \\\n",
       "0           1                0            0               NaN   \n",
       "1           0                0            0               NaN   \n",
       "2           0                0            0               NaN   \n",
       "3           0                0            0               NaN   \n",
       "4           0                0            0               NaN   \n",
       "\n",
       "   emAcompanhamentoNovos  interior/metropolitana  \n",
       "0                    NaN                     0.0  \n",
       "1                    NaN                     0.0  \n",
       "2                    NaN                     0.0  \n",
       "3                    NaN                     0.0  \n",
       "4                    NaN                     0.0  "
      ]
     },
     "execution_count": 2,
     "metadata": {},
     "output_type": "execute_result"
    }
   ],
   "source": [
    "file_covid = 'output_02_data_02_covid_cities_confirmed_cases.csv'\n",
    "path_input_file_covid = os.path.join(os.getcwd(), '..', \n",
    "                                     'sprint_03_data_analysis', 'output', \n",
    "                                     file_covid)\n",
    "df_covid = pd.read_csv(path_input_file_covid, delimiter=';')\n",
    "del df_covid['Unnamed: 0']\n",
    "df_covid.head()"
   ]
  },
  {
   "cell_type": "code",
   "execution_count": 6,
   "id": "f91fe51c-087e-44c2-9ad1-a9f3c6ba5df7",
   "metadata": {
    "id": "f91fe51c-087e-44c2-9ad1-a9f3c6ba5df7"
   },
   "outputs": [
    {
     "data": {
      "text/html": [
       "<div>\n",
       "<style scoped>\n",
       "    .dataframe tbody tr th:only-of-type {\n",
       "        vertical-align: middle;\n",
       "    }\n",
       "\n",
       "    .dataframe tbody tr th {\n",
       "        vertical-align: top;\n",
       "    }\n",
       "\n",
       "    .dataframe thead th {\n",
       "        text-align: right;\n",
       "    }\n",
       "</style>\n",
       "<table border=\"1\" class=\"dataframe\">\n",
       "  <thead>\n",
       "    <tr style=\"text-align: right;\">\n",
       "      <th></th>\n",
       "      <th>regiao</th>\n",
       "      <th>estado</th>\n",
       "      <th>municipio</th>\n",
       "      <th>coduf</th>\n",
       "      <th>codmun</th>\n",
       "      <th>codRegiaoSaude</th>\n",
       "      <th>nomeRegiaoSaude</th>\n",
       "      <th>data</th>\n",
       "      <th>semanaEpi</th>\n",
       "      <th>populacaoTCU2019</th>\n",
       "      <th>casosAcumulado</th>\n",
       "      <th>casosNovos</th>\n",
       "      <th>obitosAcumulado</th>\n",
       "      <th>obitosNovos</th>\n",
       "      <th>Recuperadosnovos</th>\n",
       "      <th>emAcompanhamentoNovos</th>\n",
       "      <th>interior/metropolitana</th>\n",
       "    </tr>\n",
       "  </thead>\n",
       "  <tbody>\n",
       "    <tr>\n",
       "      <th>0</th>\n",
       "      <td>Norte</td>\n",
       "      <td>RO</td>\n",
       "      <td>Alta Floresta D'Oeste</td>\n",
       "      <td>11</td>\n",
       "      <td>110001.0</td>\n",
       "      <td>11005.0</td>\n",
       "      <td>ZONA DA MATA</td>\n",
       "      <td>2020-07-13</td>\n",
       "      <td>29</td>\n",
       "      <td>22945.0</td>\n",
       "      <td>156.0</td>\n",
       "      <td>1</td>\n",
       "      <td>1</td>\n",
       "      <td>1</td>\n",
       "      <td>NaN</td>\n",
       "      <td>NaN</td>\n",
       "      <td>0.0</td>\n",
       "    </tr>\n",
       "    <tr>\n",
       "      <th>1</th>\n",
       "      <td>Norte</td>\n",
       "      <td>RO</td>\n",
       "      <td>Alta Floresta D'Oeste</td>\n",
       "      <td>11</td>\n",
       "      <td>110001.0</td>\n",
       "      <td>11005.0</td>\n",
       "      <td>ZONA DA MATA</td>\n",
       "      <td>2020-07-14</td>\n",
       "      <td>29</td>\n",
       "      <td>22945.0</td>\n",
       "      <td>161.0</td>\n",
       "      <td>5</td>\n",
       "      <td>1</td>\n",
       "      <td>0</td>\n",
       "      <td>NaN</td>\n",
       "      <td>NaN</td>\n",
       "      <td>0.0</td>\n",
       "    </tr>\n",
       "    <tr>\n",
       "      <th>2</th>\n",
       "      <td>Norte</td>\n",
       "      <td>RO</td>\n",
       "      <td>Alta Floresta D'Oeste</td>\n",
       "      <td>11</td>\n",
       "      <td>110001.0</td>\n",
       "      <td>11005.0</td>\n",
       "      <td>ZONA DA MATA</td>\n",
       "      <td>2020-07-15</td>\n",
       "      <td>29</td>\n",
       "      <td>22945.0</td>\n",
       "      <td>175.0</td>\n",
       "      <td>14</td>\n",
       "      <td>1</td>\n",
       "      <td>0</td>\n",
       "      <td>NaN</td>\n",
       "      <td>NaN</td>\n",
       "      <td>0.0</td>\n",
       "    </tr>\n",
       "    <tr>\n",
       "      <th>3</th>\n",
       "      <td>Norte</td>\n",
       "      <td>RO</td>\n",
       "      <td>Alta Floresta D'Oeste</td>\n",
       "      <td>11</td>\n",
       "      <td>110001.0</td>\n",
       "      <td>11005.0</td>\n",
       "      <td>ZONA DA MATA</td>\n",
       "      <td>2020-07-16</td>\n",
       "      <td>29</td>\n",
       "      <td>22945.0</td>\n",
       "      <td>181.0</td>\n",
       "      <td>6</td>\n",
       "      <td>1</td>\n",
       "      <td>0</td>\n",
       "      <td>NaN</td>\n",
       "      <td>NaN</td>\n",
       "      <td>0.0</td>\n",
       "    </tr>\n",
       "    <tr>\n",
       "      <th>4</th>\n",
       "      <td>Norte</td>\n",
       "      <td>RO</td>\n",
       "      <td>Alta Floresta D'Oeste</td>\n",
       "      <td>11</td>\n",
       "      <td>110001.0</td>\n",
       "      <td>11005.0</td>\n",
       "      <td>ZONA DA MATA</td>\n",
       "      <td>2020-07-17</td>\n",
       "      <td>29</td>\n",
       "      <td>22945.0</td>\n",
       "      <td>183.0</td>\n",
       "      <td>2</td>\n",
       "      <td>1</td>\n",
       "      <td>0</td>\n",
       "      <td>NaN</td>\n",
       "      <td>NaN</td>\n",
       "      <td>0.0</td>\n",
       "    </tr>\n",
       "  </tbody>\n",
       "</table>\n",
       "</div>"
      ],
      "text/plain": [
       "  regiao estado              municipio  coduf    codmun  codRegiaoSaude  \\\n",
       "0  Norte     RO  Alta Floresta D'Oeste     11  110001.0         11005.0   \n",
       "1  Norte     RO  Alta Floresta D'Oeste     11  110001.0         11005.0   \n",
       "2  Norte     RO  Alta Floresta D'Oeste     11  110001.0         11005.0   \n",
       "3  Norte     RO  Alta Floresta D'Oeste     11  110001.0         11005.0   \n",
       "4  Norte     RO  Alta Floresta D'Oeste     11  110001.0         11005.0   \n",
       "\n",
       "  nomeRegiaoSaude        data  semanaEpi  populacaoTCU2019  casosAcumulado  \\\n",
       "0    ZONA DA MATA  2020-07-13         29           22945.0           156.0   \n",
       "1    ZONA DA MATA  2020-07-14         29           22945.0           161.0   \n",
       "2    ZONA DA MATA  2020-07-15         29           22945.0           175.0   \n",
       "3    ZONA DA MATA  2020-07-16         29           22945.0           181.0   \n",
       "4    ZONA DA MATA  2020-07-17         29           22945.0           183.0   \n",
       "\n",
       "   casosNovos  obitosAcumulado  obitosNovos  Recuperadosnovos  \\\n",
       "0           1                1            1               NaN   \n",
       "1           5                1            0               NaN   \n",
       "2          14                1            0               NaN   \n",
       "3           6                1            0               NaN   \n",
       "4           2                1            0               NaN   \n",
       "\n",
       "   emAcompanhamentoNovos  interior/metropolitana  \n",
       "0                    NaN                     0.0  \n",
       "1                    NaN                     0.0  \n",
       "2                    NaN                     0.0  \n",
       "3                    NaN                     0.0  \n",
       "4                    NaN                     0.0  "
      ]
     },
     "execution_count": 6,
     "metadata": {},
     "output_type": "execute_result"
    }
   ],
   "source": [
    "file_covid_deaths = 'output_03_data_02_covid_cities_confirmed_deaths.csv'\n",
    "path_input_file_covid_deaths = os.path.join(os.getcwd(), '..', \n",
    "                                     'sprint_03_data_analysis', 'output', \n",
    "                                     file_covid_deaths)\n",
    "df_covid_deaths = pd.read_csv(path_input_file_covid_deaths, delimiter=';')\n",
    "del df_covid_deaths['Unnamed: 0']\n",
    "df_covid_deaths.head()"
   ]
  },
  {
   "cell_type": "markdown",
   "id": "6ac2522c",
   "metadata": {
    "id": "6ac2522c"
   },
   "source": [
    "### 3.1 df covid: mean of new daily new cases in Brazil"
   ]
  },
  {
   "cell_type": "code",
   "execution_count": null,
   "id": "03d74de3",
   "metadata": {
    "id": "03d74de3"
   },
   "outputs": [],
   "source": [
    "df_covid['casosNovos'].mean()"
   ]
  },
  {
   "cell_type": "markdown",
   "id": "62b9b783",
   "metadata": {
    "id": "62b9b783"
   },
   "source": [
    "### 3.2 df covid: mean of new daily new cases in Brazil by state"
   ]
  },
  {
   "cell_type": "code",
   "execution_count": null,
   "id": "ef70dcbe",
   "metadata": {
    "id": "ef70dcbe"
   },
   "outputs": [],
   "source": [
    "df_covid_mean_newcases_by_state = df_covid[['estado', 'casosNovos']].groupby(['estado']).agg(\n",
    "    {'casosNovos': ['min', 'mean', 'std', 'max']}).reset_index()\n",
    "\n",
    "df_covid_mean_newcases_by_state.head()\n",
    "\n",
    "df_covid_mean_newcases_by_state['casosNovos']['mean']\n",
    "# df_covid_mean_newcases_by_state['estado']\n",
    "# df_covid_mean_newcases_by_state.index.tolist()"
   ]
  },
  {
   "cell_type": "markdown",
   "id": "ca11e9c0",
   "metadata": {
    "id": "ca11e9c0"
   },
   "source": [
    "### 3.3 df covid: mean of new cases in Brazil by city"
   ]
  },
  {
   "cell_type": "code",
   "execution_count": null,
   "id": "5b091b26",
   "metadata": {
    "id": "5b091b26"
   },
   "outputs": [],
   "source": [
    "df_covid[['codmun', 'casosNovos']].groupby('codmun').agg({'casosNovos': ['min', 'mean', 'std', 'max']}).head()"
   ]
  },
  {
   "cell_type": "markdown",
   "id": "8a5fdb5b",
   "metadata": {
    "id": "8a5fdb5b"
   },
   "source": [
    "### 4.1 df covid: (sum of new cases) / length population, in Brazil"
   ]
  },
  {
   "cell_type": "code",
   "execution_count": null,
   "id": "49c336e5",
   "metadata": {
    "id": "49c336e5"
   },
   "outputs": [],
   "source": [
    "df_covid[['codmun', 'populacaoTCU2019']].drop_duplicates().head()"
   ]
  },
  {
   "cell_type": "code",
   "execution_count": null,
   "id": "1af88cba",
   "metadata": {
    "id": "1af88cba"
   },
   "outputs": [],
   "source": [
    "n_pop_BRA = df_covid[['codmun', 'populacaoTCU2019']].drop_duplicates()['populacaoTCU2019'].sum()\n",
    "n_pop_BRA"
   ]
  },
  {
   "cell_type": "code",
   "execution_count": null,
   "id": "8a546c8c",
   "metadata": {
    "id": "8a546c8c"
   },
   "outputs": [],
   "source": [
    "df_covid['casosNovos'].sum() / n_pop_BRA"
   ]
  },
  {
   "cell_type": "markdown",
   "id": "40bd38ab",
   "metadata": {
    "id": "40bd38ab"
   },
   "source": [
    "### 4.2 df covid: (sum of new cases) / length population, in Brazil by state"
   ]
  },
  {
   "cell_type": "code",
   "execution_count": null,
   "id": "f9060eac",
   "metadata": {
    "id": "f9060eac"
   },
   "outputs": [],
   "source": [
    "df_covid[['estado', 'codmun', 'populacaoTCU2019']].drop_duplicates(subset=['codmun']).head()"
   ]
  },
  {
   "cell_type": "code",
   "execution_count": null,
   "id": "ea03aba1",
   "metadata": {
    "id": "ea03aba1"
   },
   "outputs": [],
   "source": [
    "df_covid_sum_population_by_state = df_covid[['estado', 'codmun', 'populacaoTCU2019']].drop_duplicates(\n",
    "    subset=['codmun']).groupby(by=['estado']\n",
    ").agg({\n",
    "    'populacaoTCU2019': [sum]\n",
    "})\n",
    "\n",
    "df_covid_sum_population_by_state.head()"
   ]
  },
  {
   "cell_type": "code",
   "execution_count": null,
   "id": "f11655aa",
   "metadata": {
    "id": "f11655aa"
   },
   "outputs": [],
   "source": [
    "df_covid_sum_newcases_by_state = df_covid[['estado', 'casosNovos']].groupby(['estado']).agg(\n",
    "    {'casosNovos': ['sum']})\n",
    "\n",
    "df_covid_sum_newcases_by_state.head()"
   ]
  },
  {
   "cell_type": "code",
   "execution_count": null,
   "id": "78508c6a",
   "metadata": {
    "id": "78508c6a"
   },
   "outputs": [],
   "source": [
    "df_covid_rate_infected_by_state = df_covid_sum_newcases_by_state['casosNovos'][['sum']] / \\\n",
    "df_covid_sum_population_by_state['populacaoTCU2019'][['sum']]\n",
    "\n",
    "df_covid_rate_infected_by_state.head()"
   ]
  },
  {
   "cell_type": "markdown",
   "id": "b82a8f3d",
   "metadata": {
    "id": "b82a8f3d"
   },
   "source": [
    "### 4.3 df covid: (sum of new cases) / length population, in Brazil by city"
   ]
  },
  {
   "cell_type": "code",
   "execution_count": null,
   "id": "bad2b53d",
   "metadata": {
    "id": "bad2b53d"
   },
   "outputs": [],
   "source": [
    "df_covid[['estado', 'codmun', 'populacaoTCU2019']].drop_duplicates().head()"
   ]
  },
  {
   "cell_type": "code",
   "execution_count": null,
   "id": "4c7a2f13",
   "metadata": {
    "id": "4c7a2f13"
   },
   "outputs": [],
   "source": [
    "df_covid_sum_population_by_city = df_covid[['codmun', 'populacaoTCU2019']].drop_duplicates().groupby(\n",
    "    by='codmun').agg(\n",
    "    {'populacaoTCU2019': 'sum'})\n",
    "\n",
    "df_covid_sum_population_by_city.head()"
   ]
  },
  {
   "cell_type": "code",
   "execution_count": null,
   "id": "fd403ff6",
   "metadata": {
    "id": "fd403ff6"
   },
   "outputs": [],
   "source": [
    "df_covid_sum_newcases_by_city = df_covid[['codmun', 'casosNovos']].groupby(['codmun']).agg(\n",
    "    {'casosNovos': ['sum']})\n",
    "\n",
    "df_covid_sum_newcases_by_city.head()"
   ]
  },
  {
   "cell_type": "code",
   "execution_count": null,
   "id": "0aa81344",
   "metadata": {
    "id": "0aa81344"
   },
   "outputs": [],
   "source": [
    "df_covid_rate_infected_by_city = pd.DataFrame(df_covid_sum_newcases_by_city['casosNovos']['sum'] / \\\n",
    "df_covid_sum_population_by_city['populacaoTCU2019'], columns=['infected rate'])\n",
    "\n",
    "df_covid_rate_infected_by_city.head()"
   ]
  },
  {
   "cell_type": "markdown",
   "id": "5dedb747-d5c5-4283-b18a-873d17849574",
   "metadata": {
    "id": "5dedb747-d5c5-4283-b18a-873d17849574"
   },
   "source": [
    "## Since the first case ..."
   ]
  },
  {
   "cell_type": "markdown",
   "id": "5f3598b0-04d3-4fce-aaef-9ea3fcaabb2e",
   "metadata": {
    "id": "5f3598b0-04d3-4fce-aaef-9ea3fcaabb2e"
   },
   "source": [
    "### 5.1 df covid: mean of new deaths in Brazil"
   ]
  },
  {
   "cell_type": "code",
   "execution_count": null,
   "id": "22dd1d54-7f03-47bb-9a33-9476282ddc8b",
   "metadata": {
    "id": "22dd1d54-7f03-47bb-9a33-9476282ddc8b"
   },
   "outputs": [],
   "source": [
    "df_covid['obitosNovos'].mean()"
   ]
  },
  {
   "cell_type": "markdown",
   "id": "8027f213-4866-43e1-b50f-72e099614a2a",
   "metadata": {
    "id": "8027f213-4866-43e1-b50f-72e099614a2a"
   },
   "source": [
    "### 5.2 df covid: mean of new deaths in Brazil by state"
   ]
  },
  {
   "cell_type": "code",
   "execution_count": null,
   "id": "c49a385b-f615-4063-9d81-9fd66087ca2e",
   "metadata": {
    "id": "c49a385b-f615-4063-9d81-9fd66087ca2e"
   },
   "outputs": [],
   "source": [
    "df_covid[['estado', 'obitosNovos']].groupby(['estado']).agg({'obitosNovos': ['min', 'mean', 'std', 'max']}).head()"
   ]
  },
  {
   "cell_type": "markdown",
   "id": "64838167-26ca-47b7-bc24-7bee6f6e98d4",
   "metadata": {
    "id": "64838167-26ca-47b7-bc24-7bee6f6e98d4"
   },
   "source": [
    "### 5.3 df covid: mean of new deaths in Brazil by city"
   ]
  },
  {
   "cell_type": "code",
   "execution_count": null,
   "id": "7fa227f9-09d1-4d96-934d-423c6dca6fc2",
   "metadata": {
    "id": "7fa227f9-09d1-4d96-934d-423c6dca6fc2"
   },
   "outputs": [],
   "source": [
    "df_covid[['codmun', 'obitosNovos']].groupby('codmun').agg({'obitosNovos': ['min', 'mean', 'std', 'max']}).head()"
   ]
  },
  {
   "cell_type": "markdown",
   "id": "74a629da-39bf-4729-a014-ed41ca16da1b",
   "metadata": {
    "id": "74a629da-39bf-4729-a014-ed41ca16da1b"
   },
   "source": [
    "## Since the first death ..."
   ]
  },
  {
   "cell_type": "markdown",
   "id": "113e02a6-5810-4061-8a68-41991620bf4c",
   "metadata": {
    "id": "113e02a6-5810-4061-8a68-41991620bf4c"
   },
   "source": [
    "### 6.1 df covid deaths: mean of new deaths in Brazil"
   ]
  },
  {
   "cell_type": "code",
   "execution_count": null,
   "id": "9e03eed0-c818-4b91-b768-27706aec7c69",
   "metadata": {
    "id": "9e03eed0-c818-4b91-b768-27706aec7c69"
   },
   "outputs": [],
   "source": [
    "df_covid_deaths['obitosNovos'].mean()"
   ]
  },
  {
   "cell_type": "markdown",
   "id": "5edf02aa-6ff3-44b8-b92e-8d9bbba68e1a",
   "metadata": {
    "id": "5edf02aa-6ff3-44b8-b92e-8d9bbba68e1a"
   },
   "source": [
    "### 6.2 df covid deaths: mean of new deaths in Brazil by state"
   ]
  },
  {
   "cell_type": "code",
   "execution_count": null,
   "id": "88f16ad0-b31c-4ff3-a500-1586837ab58c",
   "metadata": {
    "id": "88f16ad0-b31c-4ff3-a500-1586837ab58c"
   },
   "outputs": [],
   "source": [
    "df_covid_deaths[['estado', 'obitosNovos']].groupby(['estado']).agg({'obitosNovos': ['min', 'mean', 'std', 'max']}).head()"
   ]
  },
  {
   "cell_type": "markdown",
   "id": "68be48ec-6b26-4594-b751-d7ec71ddb033",
   "metadata": {
    "id": "68be48ec-6b26-4594-b751-d7ec71ddb033"
   },
   "source": [
    "### 6.3 df covid deaths: mean of new deaths in Brazil by city"
   ]
  },
  {
   "cell_type": "code",
   "execution_count": null,
   "id": "346ba26f-2269-4eac-942e-bf1f4e2c4b95",
   "metadata": {
    "id": "346ba26f-2269-4eac-942e-bf1f4e2c4b95"
   },
   "outputs": [],
   "source": [
    "df_covid_deaths[['codmun', 'obitosNovos']].groupby('codmun').agg({'obitosNovos': ['min', 'mean', 'std', 'max']}).head()"
   ]
  },
  {
   "cell_type": "markdown",
   "id": "e9f52f2e-52b9-43b3-8218-108660714538",
   "metadata": {
    "id": "e9f52f2e-52b9-43b3-8218-108660714538"
   },
   "source": [
    "## Since the first case ..."
   ]
  },
  {
   "cell_type": "markdown",
   "id": "e870d1f0-ec82-45f3-bc06-c8d636a20e0f",
   "metadata": {
    "id": "e870d1f0-ec82-45f3-bc06-c8d636a20e0f"
   },
   "source": [
    "### 7.1 df covid: (sum of new deaths) / length population, in Brazil"
   ]
  },
  {
   "cell_type": "code",
   "execution_count": null,
   "id": "79909f6a-a81c-4290-b661-7ce2bb33e5a3",
   "metadata": {
    "id": "79909f6a-a81c-4290-b661-7ce2bb33e5a3"
   },
   "outputs": [],
   "source": [
    "df_covid[['codmun', 'populacaoTCU2019']].drop_duplicates().head()"
   ]
  },
  {
   "cell_type": "code",
   "execution_count": null,
   "id": "086f0d97-3a22-4492-90b3-ca5538810e4c",
   "metadata": {
    "id": "086f0d97-3a22-4492-90b3-ca5538810e4c"
   },
   "outputs": [],
   "source": [
    "n_pop_BRA = df_covid[['codmun', 'populacaoTCU2019']].drop_duplicates()['populacaoTCU2019'].sum()\n",
    "n_pop_BRA"
   ]
  },
  {
   "cell_type": "code",
   "execution_count": null,
   "id": "7019c449-0378-4dd0-8e73-bd5231604caa",
   "metadata": {
    "id": "7019c449-0378-4dd0-8e73-bd5231604caa"
   },
   "outputs": [],
   "source": [
    "df_covid['obitosNovos'].sum() / n_pop_BRA"
   ]
  },
  {
   "cell_type": "markdown",
   "id": "34f72e27-5bb3-4b93-b301-7a438b2c4e97",
   "metadata": {
    "id": "34f72e27-5bb3-4b93-b301-7a438b2c4e97"
   },
   "source": [
    "### 7.2 df covid: (sum of new deaths) / length population, in Brazil by state"
   ]
  },
  {
   "cell_type": "code",
   "execution_count": null,
   "id": "11117059-29f0-42be-a622-22ca2b14375d",
   "metadata": {
    "id": "11117059-29f0-42be-a622-22ca2b14375d"
   },
   "outputs": [],
   "source": [
    "df_covid[['estado', 'codmun', 'populacaoTCU2019']].drop_duplicates(subset=['codmun']).head()"
   ]
  },
  {
   "cell_type": "code",
   "execution_count": null,
   "id": "f53b7439-3d2c-48ca-bb33-16928c202e31",
   "metadata": {
    "id": "f53b7439-3d2c-48ca-bb33-16928c202e31"
   },
   "outputs": [],
   "source": [
    "df_covid_sum_population_by_state = df_covid[['estado', 'codmun', 'populacaoTCU2019']].drop_duplicates(\n",
    "    subset=['codmun']).groupby(by=['estado']\n",
    ").agg({\n",
    "    'populacaoTCU2019': [sum]\n",
    "})\n",
    "\n",
    "df_covid_sum_population_by_state.head()"
   ]
  },
  {
   "cell_type": "code",
   "execution_count": null,
   "id": "9207beb8-f264-4431-9a5f-f821872bc5cf",
   "metadata": {
    "id": "9207beb8-f264-4431-9a5f-f821872bc5cf"
   },
   "outputs": [],
   "source": [
    "df_covid_sum_newdeaths_by_state = df_covid[['estado', 'obitosNovos']].groupby(['estado']).agg(\n",
    "    {'obitosNovos': ['sum']})\n",
    "\n",
    "df_covid_sum_newdeaths_by_state.head()"
   ]
  },
  {
   "cell_type": "code",
   "execution_count": null,
   "id": "facdc90c-0047-4b7b-bc09-8d259e04784c",
   "metadata": {
    "id": "facdc90c-0047-4b7b-bc09-8d259e04784c"
   },
   "outputs": [],
   "source": [
    "df_covid_rate_deaths_by_state = df_covid_sum_newdeaths_by_state['obitosNovos'][['sum']] / \\\n",
    "df_covid_sum_population_by_state['populacaoTCU2019'][['sum']]\n",
    "\n",
    "df_covid_rate_deaths_by_state.head()"
   ]
  },
  {
   "cell_type": "markdown",
   "id": "86e4e4d6-ae13-407b-89d8-cfb94a6291a2",
   "metadata": {
    "id": "86e4e4d6-ae13-407b-89d8-cfb94a6291a2"
   },
   "source": [
    "### 7.3 df covid: (sum of new deaths) / length population, in Brazil by city"
   ]
  },
  {
   "cell_type": "code",
   "execution_count": null,
   "id": "046fa698-96d4-42b4-a012-3b10532354ea",
   "metadata": {
    "id": "046fa698-96d4-42b4-a012-3b10532354ea"
   },
   "outputs": [],
   "source": [
    "df_covid[['estado', 'codmun', 'populacaoTCU2019']].drop_duplicates().head()"
   ]
  },
  {
   "cell_type": "code",
   "execution_count": null,
   "id": "bdfead1a-0070-47e3-a9dc-2b97c769424a",
   "metadata": {
    "id": "bdfead1a-0070-47e3-a9dc-2b97c769424a"
   },
   "outputs": [],
   "source": [
    "df_covid_sum_population_by_city = df_covid[['codmun', 'populacaoTCU2019']].drop_duplicates().groupby(\n",
    "    by='codmun').agg(\n",
    "    {'populacaoTCU2019': 'sum'})\n",
    "\n",
    "df_covid_sum_population_by_city.head()"
   ]
  },
  {
   "cell_type": "code",
   "execution_count": null,
   "id": "7a5ac70c-3e67-4cee-86fc-c2affde1cabb",
   "metadata": {
    "id": "7a5ac70c-3e67-4cee-86fc-c2affde1cabb"
   },
   "outputs": [],
   "source": [
    "df_covid_sum_newdeaths_by_city = df_covid[['codmun', 'obitosNovos']].groupby(['codmun']).agg(\n",
    "    {'obitosNovos': ['sum']})\n",
    "\n",
    "df_covid_sum_newdeaths_by_city.head()"
   ]
  },
  {
   "cell_type": "code",
   "execution_count": null,
   "id": "b1eacbb2-0e63-478b-8759-ae98d8eb68b2",
   "metadata": {
    "id": "b1eacbb2-0e63-478b-8759-ae98d8eb68b2"
   },
   "outputs": [],
   "source": [
    "df_covid_rate_death_by_city = pd.DataFrame(df_covid_sum_newdeaths_by_city['obitosNovos']['sum'] / \\\n",
    "df_covid_sum_population_by_city['populacaoTCU2019'], columns=['death rate'])\n",
    "\n",
    "df_covid_rate_death_by_city.head()"
   ]
  },
  {
   "cell_type": "markdown",
   "id": "3e5cc1b2-d801-4137-a68a-f7f2740b0dca",
   "metadata": {
    "id": "3e5cc1b2-d801-4137-a68a-f7f2740b0dca"
   },
   "source": [
    "## since the first death ..."
   ]
  },
  {
   "cell_type": "markdown",
   "id": "34093dc2-0563-40d3-96a6-5b50355c5a98",
   "metadata": {
    "id": "34093dc2-0563-40d3-96a6-5b50355c5a98"
   },
   "source": [
    "### 8.1 df covid deaths: (sum of new deaths) / length population, in Brazil"
   ]
  },
  {
   "cell_type": "code",
   "execution_count": null,
   "id": "3519f1fb-ef6b-4441-91e4-90204135dc95",
   "metadata": {
    "id": "3519f1fb-ef6b-4441-91e4-90204135dc95"
   },
   "outputs": [],
   "source": [
    "df_covid_deaths[['codmun', 'populacaoTCU2019']].drop_duplicates().head()"
   ]
  },
  {
   "cell_type": "code",
   "execution_count": null,
   "id": "5b07223b-8483-40d5-a1d6-b4c23379954e",
   "metadata": {
    "id": "5b07223b-8483-40d5-a1d6-b4c23379954e"
   },
   "outputs": [],
   "source": [
    "n_pop_BRA_covid_deaths = df_covid_deaths[['codmun', 'populacaoTCU2019']].drop_duplicates()['populacaoTCU2019'].sum()\n",
    "n_pop_BRA_covid_deaths"
   ]
  },
  {
   "cell_type": "code",
   "execution_count": null,
   "id": "ce7d3675-739d-4e47-9e57-67672c8c0bb1",
   "metadata": {
    "id": "ce7d3675-739d-4e47-9e57-67672c8c0bb1"
   },
   "outputs": [],
   "source": [
    "df_covid_deaths['obitosNovos'].sum() / n_pop_BRA_covid_deaths"
   ]
  },
  {
   "cell_type": "markdown",
   "id": "a6d688bf-e4a5-492a-95b9-53ef1fcbc254",
   "metadata": {
    "id": "a6d688bf-e4a5-492a-95b9-53ef1fcbc254"
   },
   "source": [
    "### 8.2 df covid deaths: (sum of new deaths) / length population, in Brazil by state"
   ]
  },
  {
   "cell_type": "code",
   "execution_count": null,
   "id": "a8fd9011-930d-4997-9f93-7f84838b05b6",
   "metadata": {
    "id": "a8fd9011-930d-4997-9f93-7f84838b05b6"
   },
   "outputs": [],
   "source": [
    "df_covid_deaths[['estado', 'codmun', 'populacaoTCU2019']].drop_duplicates(subset=['codmun']).head()"
   ]
  },
  {
   "cell_type": "code",
   "execution_count": null,
   "id": "a4df019d-3692-47e8-852f-81220bd4784c",
   "metadata": {
    "id": "a4df019d-3692-47e8-852f-81220bd4784c"
   },
   "outputs": [],
   "source": [
    "df_covid_deaths_sum_population_by_state = df_covid_deaths[['estado', 'codmun', 'populacaoTCU2019']].drop_duplicates(\n",
    "    subset=['codmun']).groupby(by=['estado']\n",
    ").agg({\n",
    "    'populacaoTCU2019': [sum]\n",
    "})\n",
    "\n",
    "df_covid_deaths_sum_population_by_state.head()"
   ]
  },
  {
   "cell_type": "code",
   "execution_count": null,
   "id": "ffa01f37-7abb-4f9f-95bf-ea6ca0bb879e",
   "metadata": {
    "id": "ffa01f37-7abb-4f9f-95bf-ea6ca0bb879e"
   },
   "outputs": [],
   "source": [
    "df_covid_deaths_sum_newdeaths_by_state = df_covid[['estado', 'obitosNovos']].groupby(['estado']).agg(\n",
    "    {'obitosNovos': ['sum']})\n",
    "\n",
    "df_covid_deaths_sum_newdeaths_by_state.head()"
   ]
  },
  {
   "cell_type": "code",
   "execution_count": null,
   "id": "a08ce74a-99fc-46dc-b10c-e52dfc0b671e",
   "metadata": {
    "id": "a08ce74a-99fc-46dc-b10c-e52dfc0b671e"
   },
   "outputs": [],
   "source": [
    "df_covid_deaths_rate_deaths_by_state = df_covid_deaths_sum_newdeaths_by_state['obitosNovos'][['sum']] / \\\n",
    "df_covid_deaths_sum_population_by_state['populacaoTCU2019'][['sum']]\n",
    "\n",
    "df_covid_deaths_rate_deaths_by_state.head()"
   ]
  },
  {
   "cell_type": "markdown",
   "id": "a1c1bc51-d538-40e9-8498-2d5a40ef0fe2",
   "metadata": {
    "id": "a1c1bc51-d538-40e9-8498-2d5a40ef0fe2"
   },
   "source": [
    "### 8.3 df covid deaths: (sum of new deaths) / length population, in Brazil by city"
   ]
  },
  {
   "cell_type": "code",
   "execution_count": null,
   "id": "748a8a78-4427-4644-940c-039dede064ba",
   "metadata": {
    "id": "748a8a78-4427-4644-940c-039dede064ba"
   },
   "outputs": [],
   "source": [
    "df_covid_deaths[['estado', 'codmun', 'populacaoTCU2019']].drop_duplicates().head()"
   ]
  },
  {
   "cell_type": "code",
   "execution_count": null,
   "id": "8e3c7dc4-041a-44f8-a967-bf9a3f9a9ac4",
   "metadata": {
    "id": "8e3c7dc4-041a-44f8-a967-bf9a3f9a9ac4"
   },
   "outputs": [],
   "source": [
    "df_covid_deaths_sum_population_by_city = df_covid_deaths[['codmun', 'populacaoTCU2019']].drop_duplicates().groupby(\n",
    "    by='codmun').agg(\n",
    "    {'populacaoTCU2019': 'sum'})\n",
    "\n",
    "df_covid_deaths_sum_population_by_city.head()"
   ]
  },
  {
   "cell_type": "code",
   "execution_count": null,
   "id": "f1afbd97-02e1-4f6d-b471-2f38a27a9fe2",
   "metadata": {
    "id": "f1afbd97-02e1-4f6d-b471-2f38a27a9fe2"
   },
   "outputs": [],
   "source": [
    "df_covid_deaths_sum_newdeaths_by_city = df_covid_deaths[['codmun', 'obitosNovos']].groupby(['codmun']).agg(\n",
    "    {'obitosNovos': ['sum']})\n",
    "\n",
    "df_covid_deaths_sum_newdeaths_by_city.head()"
   ]
  },
  {
   "cell_type": "code",
   "execution_count": null,
   "id": "d05b1f2e-9207-4363-aa0c-ae5ac7f2902b",
   "metadata": {
    "id": "d05b1f2e-9207-4363-aa0c-ae5ac7f2902b"
   },
   "outputs": [],
   "source": [
    "df_covid_deaths_rate_death_by_city = pd.DataFrame(df_covid_deaths_sum_newdeaths_by_city['obitosNovos']['sum'] / \\\n",
    "df_covid_deaths_sum_population_by_city['populacaoTCU2019'], columns=['death rate'])\n",
    "\n",
    "df_covid_deaths_rate_death_by_city.head()"
   ]
  },
  {
   "cell_type": "markdown",
   "id": "f79b0eda-4320-495f-98d3-7352fba248a0",
   "metadata": {
    "id": "f79b0eda-4320-495f-98d3-7352fba248a0"
   },
   "source": [
    "## Lethality"
   ]
  },
  {
   "cell_type": "markdown",
   "id": "c99107af-2b03-484c-9770-2db9e49471ef",
   "metadata": {
    "id": "c99107af-2b03-484c-9770-2db9e49471ef"
   },
   "source": [
    "### 9.1 df covid: (sum of new deaths) / (sum of new cases), in Brazil"
   ]
  },
  {
   "cell_type": "code",
   "execution_count": null,
   "id": "8818e594-3dc3-4472-a1e3-0f124d92a6d4",
   "metadata": {
    "id": "8818e594-3dc3-4472-a1e3-0f124d92a6d4"
   },
   "outputs": [],
   "source": [
    "df_covid['obitosNovos'].sum() / df_covid['casosNovos'].sum()"
   ]
  },
  {
   "cell_type": "markdown",
   "id": "81738d79-d674-4207-9939-8c9e945ce182",
   "metadata": {
    "id": "81738d79-d674-4207-9939-8c9e945ce182"
   },
   "source": [
    "### 9.2 df covid: (sum of new deaths) / (sum of new cases), in Brazil by state"
   ]
  },
  {
   "cell_type": "code",
   "execution_count": null,
   "id": "89e89da8-1c59-4893-921f-76a032556199",
   "metadata": {
    "id": "89e89da8-1c59-4893-921f-76a032556199"
   },
   "outputs": [],
   "source": [
    "df_covid_sum_newdeaths_by_state = df_covid[['estado', 'obitosNovos']].groupby(['estado']).agg(\n",
    "    {'obitosNovos': ['sum']})\n",
    "\n",
    "df_covid_sum_newdeaths_by_state.head()"
   ]
  },
  {
   "cell_type": "code",
   "execution_count": null,
   "id": "09cd5787-eae8-47cd-a7cb-6b0d8698f6c9",
   "metadata": {
    "id": "09cd5787-eae8-47cd-a7cb-6b0d8698f6c9"
   },
   "outputs": [],
   "source": [
    "df_covid_sum_newcases_by_state = df_covid[['estado', 'casosNovos']].groupby(['estado']).agg(\n",
    "    {'casosNovos': ['sum']})\n",
    "\n",
    "df_covid_sum_newcases_by_state.head()"
   ]
  },
  {
   "cell_type": "code",
   "execution_count": null,
   "id": "c41caab0-0dbe-4ea0-ad42-4aa7c577b719",
   "metadata": {
    "id": "c41caab0-0dbe-4ea0-ad42-4aa7c577b719"
   },
   "outputs": [],
   "source": [
    "df_covid_lethality_by_state = df_covid_sum_newdeaths_by_state['obitosNovos'][['sum']] / \\\n",
    "df_covid_sum_newcases_by_state['casosNovos'][['sum']]\n",
    "\n",
    "df_covid_lethality_by_state.head()"
   ]
  },
  {
   "cell_type": "markdown",
   "id": "7e4148d4-fa50-4cb6-9f2d-b455a6411919",
   "metadata": {
    "id": "7e4148d4-fa50-4cb6-9f2d-b455a6411919"
   },
   "source": [
    "### 9.3 df covid: (sum of new deaths) / (sum of new cases), in Brazil by city"
   ]
  },
  {
   "cell_type": "code",
   "execution_count": null,
   "id": "8d5b6b84-1fdb-4089-b429-6226d6bdb5f8",
   "metadata": {
    "id": "8d5b6b84-1fdb-4089-b429-6226d6bdb5f8"
   },
   "outputs": [],
   "source": [
    "df_covid_sum_newdeaths_by_city = df_covid[['codmun', 'obitosNovos']].groupby(['codmun']).agg(\n",
    "    {'obitosNovos': ['sum']})\n",
    "\n",
    "df_covid_sum_newdeaths_by_city.head()"
   ]
  },
  {
   "cell_type": "code",
   "execution_count": null,
   "id": "c9fab9e6-708b-4931-9e2d-a98fd87b2b43",
   "metadata": {
    "id": "c9fab9e6-708b-4931-9e2d-a98fd87b2b43"
   },
   "outputs": [],
   "source": [
    "df_covid_sum_newcases_by_city = df_covid[['codmun', 'casosNovos']].groupby(['codmun']).agg(\n",
    "    {'casosNovos': ['sum']})\n",
    "\n",
    "df_covid_sum_newcases_by_city.head()"
   ]
  },
  {
   "cell_type": "code",
   "execution_count": null,
   "id": "77309bdc-0300-4b9c-adae-ae54d755238d",
   "metadata": {
    "id": "77309bdc-0300-4b9c-adae-ae54d755238d"
   },
   "outputs": [],
   "source": [
    "df_covid_lethality_by_city = df_covid_sum_newdeaths_by_city['obitosNovos'][['sum']] / \\\n",
    "df_covid_sum_newcases_by_city['casosNovos'][['sum']]\n",
    "\n",
    "df_covid_lethality_by_city.head()"
   ]
  },
  {
   "cell_type": "markdown",
   "id": "55952f08-ca99-424b-ab75-8a6ebc2dfec8",
   "metadata": {
    "id": "55952f08-ca99-424b-ab75-8a6ebc2dfec8"
   },
   "source": [
    "## Covid pressure in Brazil in tottaly, by state, and by city"
   ]
  },
  {
   "cell_type": "markdown",
   "id": "4f243a36-f76e-458e-aac3-bb0d3b553b2e",
   "metadata": {
    "id": "4f243a36-f76e-458e-aac3-bb0d3b553b2e"
   },
   "source": [
    "### 10.1 df covid: df_covid['data'].unique(), in Brazil"
   ]
  },
  {
   "cell_type": "code",
   "execution_count": null,
   "id": "b6d8db75-42fc-4a07-ab80-6085c79f2414",
   "metadata": {
    "id": "b6d8db75-42fc-4a07-ab80-6085c79f2414"
   },
   "outputs": [],
   "source": [
    "df_covid['data'].unique().shape"
   ]
  },
  {
   "cell_type": "markdown",
   "id": "5773fc27-c5ea-4502-8218-5a3701783b37",
   "metadata": {
    "id": "5773fc27-c5ea-4502-8218-5a3701783b37"
   },
   "source": [
    "### 10.2 df covid: df_covid['data'].unique(), in Brazil by state"
   ]
  },
  {
   "cell_type": "code",
   "execution_count": null,
   "id": "12732272-d70d-4bb2-9b4f-668a379d9d2e",
   "metadata": {
    "id": "12732272-d70d-4bb2-9b4f-668a379d9d2e"
   },
   "outputs": [],
   "source": [
    "df_covid[['estado', 'codmun', 'data']].groupby(by='estado').head(1)"
   ]
  },
  {
   "cell_type": "code",
   "execution_count": null,
   "id": "1e98a53b-74e5-4a70-9e31-3b5a52ee22a3",
   "metadata": {
    "id": "1e98a53b-74e5-4a70-9e31-3b5a52ee22a3"
   },
   "outputs": [],
   "source": [
    "\"\"\"\n",
    "https://stackoverflow.com/questions/45759966/counting-unique-values-in-a-column-in-pandas-dataframe-like-in-qlik\n",
    "\n",
    " __________________________________________________\n",
    " nunique | Count distinct values\n",
    " ________|_________________________________________\n",
    " count   | Count only non-null values\n",
    " ________|_________________________________________\n",
    " size    | Count total values including null values\n",
    " ________|_________________________________________\n",
    " \n",
    "\"\"\"\n",
    "\n",
    "df_covid[['estado', 'data']].groupby(by='estado').agg(\n",
    "    {'data': ['nunique', 'count', 'size']}).head()"
   ]
  },
  {
   "cell_type": "code",
   "execution_count": null,
   "id": "14f761f6-49f0-4cd5-9ec7-d3ad615c84eb",
   "metadata": {
    "id": "14f761f6-49f0-4cd5-9ec7-d3ad615c84eb"
   },
   "outputs": [],
   "source": [
    "df_covid[['estado', 'data']].groupby(by='estado').agg(\n",
    "    {'data': ['nunique', 'count', 'size']}).sort_values(\n",
    "    by=('data', 'count'), ascending=False).head()"
   ]
  },
  {
   "cell_type": "code",
   "execution_count": null,
   "id": "bfafe89d-3692-40dc-a968-1648a9841db2",
   "metadata": {
    "id": "bfafe89d-3692-40dc-a968-1648a9841db2"
   },
   "outputs": [],
   "source": [
    "\"\"\"\n",
    "Proof of 9\n",
    "\"\"\"\n",
    "for estate in df_covid[['estado', 'codmun', 'data']]['estado'].unique():\n",
    "#     print(df_covid[df_covid['estado'] == estate][['estado', 'codmun', 'data']].head())\n",
    "    df_temp = df_covid[df_covid['estado'] == estate][['data']]\n",
    "    unique_dates = np.unique(df_temp['data']).shape[0]\n",
    "    print(estate, unique_dates)\n",
    "#     break\n",
    "    del df_temp\n",
    "\n",
    "print(df_covid[['estado', 'codmun', 'data']][['data']].iloc[0, 0])\n",
    "print(df_covid[['estado', 'codmun', 'data']][['data']].iloc[1, 0])"
   ]
  },
  {
   "cell_type": "markdown",
   "id": "07454fbb-f0ef-4e1b-8d1f-69a550ad0281",
   "metadata": {
    "id": "07454fbb-f0ef-4e1b-8d1f-69a550ad0281"
   },
   "source": [
    "### 10.3 df covid: df_covid['data'].unique(), in Brazil by city"
   ]
  },
  {
   "cell_type": "code",
   "execution_count": null,
   "id": "390aa7b5-b9fc-4621-b32b-82e3e1bfe539",
   "metadata": {
    "id": "390aa7b5-b9fc-4621-b32b-82e3e1bfe539"
   },
   "outputs": [],
   "source": [
    "df_covid[['estado', 'codmun', 'data']].groupby(by='estado').head(1)"
   ]
  },
  {
   "cell_type": "code",
   "execution_count": null,
   "id": "4b454140-47bb-4399-ae86-f61b6f8b5be4",
   "metadata": {
    "id": "4b454140-47bb-4399-ae86-f61b6f8b5be4"
   },
   "outputs": [],
   "source": [
    "\"\"\"\n",
    "https://stackoverflow.com/questions/45759966/counting-unique-values-in-a-column-in-pandas-dataframe-like-in-qlik\n",
    "\n",
    " __________________________________________________\n",
    " nunique | Count distinct values\n",
    " ________|_________________________________________\n",
    " count   | Count only non-null values\n",
    " ________|_________________________________________\n",
    " size    | Count total values including null values\n",
    " ________|_________________________________________\n",
    " \n",
    "\"\"\"\n",
    "\n",
    "df_covid[['codmun', 'data']].groupby(by='codmun').agg(\n",
    "    {'data': ['nunique', 'count', 'size']}).head()"
   ]
  },
  {
   "cell_type": "code",
   "execution_count": null,
   "id": "30e93283-2cce-42d0-8cc6-79ed6eee0b3a",
   "metadata": {
    "id": "30e93283-2cce-42d0-8cc6-79ed6eee0b3a"
   },
   "outputs": [],
   "source": [
    "df_covid[['codmun', 'data']].groupby(by='codmun').agg(\n",
    "    {'data': ['nunique', 'count', 'size']}).sort_values(\n",
    "    by=('data', 'count'), ascending=False)"
   ]
  },
  {
   "cell_type": "markdown",
   "id": "f40b58f8-fd12-4927-a4f2-b3656beabbd9",
   "metadata": {
    "id": "f40b58f8-fd12-4927-a4f2-b3656beabbd9"
   },
   "source": [
    "## Mean of deaths by miliion in Brazil in total, by state, and by city"
   ]
  },
  {
   "cell_type": "markdown",
   "id": "8cd2b893-dcd8-4b52-a7d8-1e6db91dd1f0",
   "metadata": {
    "id": "8cd2b893-dcd8-4b52-a7d8-1e6db91dd1f0"
   },
   "source": [
    "### 11.1 df_covid: (mean of deaths / population) * 10⁹ in Brazil"
   ]
  },
  {
   "cell_type": "code",
   "execution_count": null,
   "id": "e84782ac-9f8b-4d56-97c9-7fe7f47ef08f",
   "metadata": {
    "id": "e84782ac-9f8b-4d56-97c9-7fe7f47ef08f"
   },
   "outputs": [],
   "source": [
    "df_covid['obitosNovos'].mean()"
   ]
  },
  {
   "cell_type": "code",
   "execution_count": null,
   "id": "0f30c844-2083-4a46-b3cc-f0c5f96d82d9",
   "metadata": {
    "id": "0f30c844-2083-4a46-b3cc-f0c5f96d82d9"
   },
   "outputs": [],
   "source": [
    "df_covid[['codmun', 'populacaoTCU2019']].drop_duplicates().head()"
   ]
  },
  {
   "cell_type": "code",
   "execution_count": null,
   "id": "fca9d521-d1e4-47d4-a9d9-d9aa45dd4dc0",
   "metadata": {
    "id": "fca9d521-d1e4-47d4-a9d9-d9aa45dd4dc0"
   },
   "outputs": [],
   "source": [
    "n_pop_BRA = df_covid[['codmun', 'populacaoTCU2019']].drop_duplicates()['populacaoTCU2019'].sum()\n",
    "n_pop_BRA"
   ]
  },
  {
   "cell_type": "code",
   "execution_count": null,
   "id": "ff41f58d-bc6c-4674-b117-2d4b6e643600",
   "metadata": {
    "id": "ff41f58d-bc6c-4674-b117-2d4b6e643600"
   },
   "outputs": [],
   "source": [
    "(df_covid['obitosNovos'].mean() / n_pop_BRA ) * 10**9"
   ]
  },
  {
   "cell_type": "markdown",
   "id": "31db04ac-5df2-4c89-82b9-06c346596870",
   "metadata": {
    "id": "31db04ac-5df2-4c89-82b9-06c346596870"
   },
   "source": [
    "### 11.2 df_covid: (mean of deaths / population) * 10⁹ in Brazil, by estate"
   ]
  },
  {
   "cell_type": "code",
   "execution_count": null,
   "id": "6ac19ccb-9790-4174-9d99-31b4f8434622",
   "metadata": {
    "id": "6ac19ccb-9790-4174-9d99-31b4f8434622"
   },
   "outputs": [],
   "source": [
    "df_covid_mean_deaths_by_state = df_covid[['estado', 'obitosNovos']].groupby(['estado']).agg(\n",
    "    {'obitosNovos': ['mean']})\n",
    "\n",
    "df_covid_mean_deaths_by_state.head()"
   ]
  },
  {
   "cell_type": "code",
   "execution_count": null,
   "id": "3216024d-b32f-4892-9a29-aabe9d2ef1cc",
   "metadata": {
    "id": "3216024d-b32f-4892-9a29-aabe9d2ef1cc"
   },
   "outputs": [],
   "source": [
    "df_covid_sum_population_by_state = df_covid[['estado', 'populacaoTCU2019']].drop_duplicates().groupby(by=['estado']\n",
    ").agg({\n",
    "    'populacaoTCU2019': [sum]\n",
    "})\n",
    "\n",
    "df_covid_sum_population_by_state.head()"
   ]
  },
  {
   "cell_type": "code",
   "execution_count": null,
   "id": "d4e924d4-2f85-454f-99eb-02dc446f028a",
   "metadata": {
    "id": "d4e924d4-2f85-454f-99eb-02dc446f028a"
   },
   "outputs": [],
   "source": [
    "pd.DataFrame((df_covid_mean_deaths_by_state['obitosNovos']['mean'] / \\\n",
    "df_covid_sum_population_by_state['populacaoTCU2019']['sum']) * 10**9, \n",
    "             columns=['deaths by million']).head()"
   ]
  },
  {
   "cell_type": "markdown",
   "id": "f0d54236-3478-476d-b176-a8d803b5638e",
   "metadata": {
    "id": "f0d54236-3478-476d-b176-a8d803b5638e"
   },
   "source": [
    "### 11.3 df_covid: (mean of deaths / population) * 10⁹ in Brazil, by city"
   ]
  },
  {
   "cell_type": "code",
   "execution_count": null,
   "id": "a7af75ed-bd14-424f-9e06-74ff2cefd63b",
   "metadata": {
    "id": "a7af75ed-bd14-424f-9e06-74ff2cefd63b"
   },
   "outputs": [],
   "source": [
    "df_covid_mean_deaths_by_city = df_covid[['codmun', 'obitosNovos']].groupby('codmun').agg(\n",
    "    {'obitosNovos': ['mean']})\n",
    "\n",
    "df_covid_mean_deaths_by_city.head()"
   ]
  },
  {
   "cell_type": "code",
   "execution_count": null,
   "id": "12bac238-b9a8-4655-9ce7-3c627c33e15b",
   "metadata": {
    "id": "12bac238-b9a8-4655-9ce7-3c627c33e15b"
   },
   "outputs": [],
   "source": [
    "df_covid_sum_population_by_city = df_covid[['codmun', 'populacaoTCU2019']].drop_duplicates().groupby(\n",
    "    by='codmun').agg(\n",
    "    {'populacaoTCU2019': 'sum'})\n",
    "\n",
    "df_covid_sum_population_by_city.head()"
   ]
  },
  {
   "cell_type": "code",
   "execution_count": null,
   "id": "7b812683-0067-4b6f-a3f0-c528fc35780e",
   "metadata": {
    "id": "7b812683-0067-4b6f-a3f0-c528fc35780e"
   },
   "outputs": [],
   "source": [
    "pd.DataFrame((df_covid_mean_deaths_by_city['obitosNovos']['mean'] / \\\n",
    "df_covid_sum_population_by_city['populacaoTCU2019']) * 10**9, \n",
    "             columns=['deaths by million']).head()"
   ]
  },
  {
   "cell_type": "markdown",
   "id": "959e690d-44ec-4fb4-a72d-a82331262362",
   "metadata": {},
   "source": [
    "# <center> Relationship between Covid and Malaria, for all years</center>"
   ]
  },
  {
   "cell_type": "markdown",
   "id": "4b800bea-65f7-402c-809a-c963bc3e13d3",
   "metadata": {},
   "source": [
    "## <center>Deaths by million, by state</center>"
   ]
  },
  {
   "cell_type": "markdown",
   "id": "fa49aed1-c35e-4ca3-953f-d04f884021d8",
   "metadata": {},
   "source": [
    "### 12.1 (df covid: deaths by million) vs (df amazon: num cases p. vivax)"
   ]
  },
  {
   "cell_type": "code",
   "execution_count": 7,
   "id": "bb36ce3f-69e3-4fdd-ade6-1abe94db9b8e",
   "metadata": {},
   "outputs": [
    {
     "data": {
      "text/html": [
       "<div>\n",
       "<style scoped>\n",
       "    .dataframe tbody tr th:only-of-type {\n",
       "        vertical-align: middle;\n",
       "    }\n",
       "\n",
       "    .dataframe tbody tr th {\n",
       "        vertical-align: top;\n",
       "    }\n",
       "\n",
       "    .dataframe thead tr th {\n",
       "        text-align: left;\n",
       "    }\n",
       "\n",
       "    .dataframe thead tr:last-of-type th {\n",
       "        text-align: right;\n",
       "    }\n",
       "</style>\n",
       "<table border=\"1\" class=\"dataframe\">\n",
       "  <thead>\n",
       "    <tr>\n",
       "      <th></th>\n",
       "      <th>obitosNovos</th>\n",
       "    </tr>\n",
       "    <tr>\n",
       "      <th></th>\n",
       "      <th>mean</th>\n",
       "    </tr>\n",
       "    <tr>\n",
       "      <th>estado</th>\n",
       "      <th></th>\n",
       "    </tr>\n",
       "  </thead>\n",
       "  <tbody>\n",
       "    <tr>\n",
       "      <th>AC</th>\n",
       "      <td>0.191257</td>\n",
       "    </tr>\n",
       "    <tr>\n",
       "      <th>AL</th>\n",
       "      <td>0.117307</td>\n",
       "    </tr>\n",
       "    <tr>\n",
       "      <th>AM</th>\n",
       "      <td>0.526419</td>\n",
       "    </tr>\n",
       "    <tr>\n",
       "      <th>AP</th>\n",
       "      <td>0.260349</td>\n",
       "    </tr>\n",
       "    <tr>\n",
       "      <th>BA</th>\n",
       "      <td>0.130032</td>\n",
       "    </tr>\n",
       "  </tbody>\n",
       "</table>\n",
       "</div>"
      ],
      "text/plain": [
       "       obitosNovos\n",
       "              mean\n",
       "estado            \n",
       "AC        0.191257\n",
       "AL        0.117307\n",
       "AM        0.526419\n",
       "AP        0.260349\n",
       "BA        0.130032"
      ]
     },
     "execution_count": 7,
     "metadata": {},
     "output_type": "execute_result"
    }
   ],
   "source": [
    "df_covid_mean_deaths_by_state = df_covid[['estado', 'obitosNovos']].groupby(['estado']).agg(\n",
    "    {'obitosNovos': ['mean']})\n",
    "\n",
    "df_covid_mean_deaths_by_state.head()"
   ]
  },
  {
   "cell_type": "code",
   "execution_count": 8,
   "id": "445f94a8-fda0-40d8-b2c5-ec6a5fe7fd13",
   "metadata": {},
   "outputs": [
    {
     "data": {
      "text/html": [
       "<div>\n",
       "<style scoped>\n",
       "    .dataframe tbody tr th:only-of-type {\n",
       "        vertical-align: middle;\n",
       "    }\n",
       "\n",
       "    .dataframe tbody tr th {\n",
       "        vertical-align: top;\n",
       "    }\n",
       "\n",
       "    .dataframe thead tr th {\n",
       "        text-align: left;\n",
       "    }\n",
       "\n",
       "    .dataframe thead tr:last-of-type th {\n",
       "        text-align: right;\n",
       "    }\n",
       "</style>\n",
       "<table border=\"1\" class=\"dataframe\">\n",
       "  <thead>\n",
       "    <tr>\n",
       "      <th></th>\n",
       "      <th>populacaoTCU2019</th>\n",
       "    </tr>\n",
       "    <tr>\n",
       "      <th></th>\n",
       "      <th>sum</th>\n",
       "    </tr>\n",
       "    <tr>\n",
       "      <th>estado</th>\n",
       "      <th></th>\n",
       "    </tr>\n",
       "  </thead>\n",
       "  <tbody>\n",
       "    <tr>\n",
       "      <th>AC</th>\n",
       "      <td>881935.0</td>\n",
       "    </tr>\n",
       "    <tr>\n",
       "      <th>AL</th>\n",
       "      <td>3337357.0</td>\n",
       "    </tr>\n",
       "    <tr>\n",
       "      <th>AM</th>\n",
       "      <td>4144597.0</td>\n",
       "    </tr>\n",
       "    <tr>\n",
       "      <th>AP</th>\n",
       "      <td>845731.0</td>\n",
       "    </tr>\n",
       "    <tr>\n",
       "      <th>BA</th>\n",
       "      <td>14808908.0</td>\n",
       "    </tr>\n",
       "  </tbody>\n",
       "</table>\n",
       "</div>"
      ],
      "text/plain": [
       "       populacaoTCU2019\n",
       "                    sum\n",
       "estado                 \n",
       "AC             881935.0\n",
       "AL            3337357.0\n",
       "AM            4144597.0\n",
       "AP             845731.0\n",
       "BA           14808908.0"
      ]
     },
     "execution_count": 8,
     "metadata": {},
     "output_type": "execute_result"
    }
   ],
   "source": [
    "df_covid_sum_population_by_state = df_covid[['estado', 'populacaoTCU2019']].drop_duplicates().groupby(by=['estado']\n",
    ").agg({\n",
    "    'populacaoTCU2019': [sum]\n",
    "})\n",
    "\n",
    "df_covid_sum_population_by_state.head()"
   ]
  },
  {
   "cell_type": "code",
   "execution_count": 9,
   "id": "4e76fe34-d5d7-4286-877b-5ba23d03b8e5",
   "metadata": {},
   "outputs": [
    {
     "data": {
      "text/html": [
       "<div>\n",
       "<style scoped>\n",
       "    .dataframe tbody tr th:only-of-type {\n",
       "        vertical-align: middle;\n",
       "    }\n",
       "\n",
       "    .dataframe tbody tr th {\n",
       "        vertical-align: top;\n",
       "    }\n",
       "\n",
       "    .dataframe thead th {\n",
       "        text-align: right;\n",
       "    }\n",
       "</style>\n",
       "<table border=\"1\" class=\"dataframe\">\n",
       "  <thead>\n",
       "    <tr style=\"text-align: right;\">\n",
       "      <th></th>\n",
       "      <th>deaths by million</th>\n",
       "    </tr>\n",
       "    <tr>\n",
       "      <th>estado</th>\n",
       "      <th></th>\n",
       "    </tr>\n",
       "  </thead>\n",
       "  <tbody>\n",
       "    <tr>\n",
       "      <th>AC</th>\n",
       "      <td>216.861187</td>\n",
       "    </tr>\n",
       "    <tr>\n",
       "      <th>AL</th>\n",
       "      <td>35.149790</td>\n",
       "    </tr>\n",
       "    <tr>\n",
       "      <th>AM</th>\n",
       "      <td>127.013262</td>\n",
       "    </tr>\n",
       "    <tr>\n",
       "      <th>AP</th>\n",
       "      <td>307.839539</td>\n",
       "    </tr>\n",
       "    <tr>\n",
       "      <th>BA</th>\n",
       "      <td>8.780629</td>\n",
       "    </tr>\n",
       "  </tbody>\n",
       "</table>\n",
       "</div>"
      ],
      "text/plain": [
       "        deaths by million\n",
       "estado                   \n",
       "AC             216.861187\n",
       "AL              35.149790\n",
       "AM             127.013262\n",
       "AP             307.839539\n",
       "BA               8.780629"
      ]
     },
     "execution_count": 9,
     "metadata": {},
     "output_type": "execute_result"
    }
   ],
   "source": [
    "df_covid_by_state_deaths_by_million = pd.DataFrame((df_covid_mean_deaths_by_state['obitosNovos']['mean'] / \\\n",
    "df_covid_sum_population_by_state['populacaoTCU2019']['sum']) * 10**9, \n",
    "             columns=['deaths by million'])\n",
    "\n",
    "df_covid_by_state_deaths_by_million.head()"
   ]
  },
  {
   "cell_type": "code",
   "execution_count": null,
   "id": "d76c1e80-38d5-4a34-acea-3bc33a40067c",
   "metadata": {},
   "outputs": [],
   "source": [
    "df_amazon_by_state_sum_vivax = df_amazon.groupby(['Estado']).agg(\n",
    "    {'Vivax': ['sum']}).drop('Total')\n",
    "\n",
    "df_amazon_by_state_sum_vivax"
   ]
  },
  {
   "cell_type": "code",
   "execution_count": null,
   "id": "46118f41-c76c-484c-88d0-d2a588cc148e",
   "metadata": {},
   "outputs": [],
   "source": [
    "amazon_states = df_amazon.Estado.drop_duplicates().tolist()\n",
    "amazon_states.remove('Total')\n",
    "amazon_states"
   ]
  },
  {
   "cell_type": "code",
   "execution_count": null,
   "id": "9e3bd58e-d706-4962-b120-707eac395e17",
   "metadata": {},
   "outputs": [],
   "source": [
    "bol_amazon_states = np.array(\n",
    "    [state in amazon_states for state in df_covid_by_state_deaths_by_million.index]\n",
    ").reshape(df_covid_by_state_deaths_by_million.shape[0], 1)\n",
    "\n",
    "df_covid_by_state_deaths_by_million[bol_amazon_states]"
   ]
  },
  {
   "cell_type": "code",
   "execution_count": null,
   "id": "fa6865f2-0b15-4e5f-9d0c-267c8cac4215",
   "metadata": {},
   "outputs": [],
   "source": [
    "df_deaths_by_million_vs_sum_vivax_by_state = pd.merge(\n",
    "    left=df_covid_by_state_deaths_by_million[bol_amazon_states].reset_index(),\n",
    "    right=df_amazon_by_state_sum_vivax.reset_index().rename(columns={'Estado': 'estado'}),\n",
    "    on='estado').sort_values(by=('deaths by million'), ascending=False)\n",
    "\n",
    "df_deaths_by_million_vs_sum_vivax_by_state"
   ]
  },
  {
   "cell_type": "markdown",
   "id": "0a1de451-b3dc-4235-aa3c-c0c58c73a501",
   "metadata": {},
   "source": [
    "#### <center> Amazon </center>"
   ]
  },
  {
   "cell_type": "code",
   "execution_count": null,
   "id": "9864d6b2-e70b-4c42-88b6-405b635dea7d",
   "metadata": {},
   "outputs": [],
   "source": [
    "df_deaths_by_million_vs_sum_vivax_by_state[['estado', 'deaths by million']].mean()"
   ]
  },
  {
   "cell_type": "code",
   "execution_count": null,
   "id": "be3bb00d-266e-4813-bc74-13ba1518dd92",
   "metadata": {},
   "outputs": [],
   "source": [
    "df_deaths_by_million_vs_sum_vivax_by_state[['estado', 'deaths by million']].std()"
   ]
  },
  {
   "cell_type": "code",
   "execution_count": null,
   "id": "8c3ccef2-5df2-4df9-b97a-e2eabb174d93",
   "metadata": {},
   "outputs": [],
   "source": [
    "df_deaths_by_million_vs_sum_vivax_by_state[[('Vivax', 'sum')]].mean()"
   ]
  },
  {
   "cell_type": "code",
   "execution_count": null,
   "id": "4c56b27d-d076-4ae6-9117-e0e4e459ffb8",
   "metadata": {},
   "outputs": [],
   "source": [
    "df_deaths_by_million_vs_sum_vivax_by_state[[('Vivax', 'sum')]].std()"
   ]
  },
  {
   "cell_type": "markdown",
   "id": "c7a2a348-4cbf-487d-ab7e-5b3f15da25c0",
   "metadata": {},
   "source": [
    "#### <center>No Amazon</center>"
   ]
  },
  {
   "cell_type": "code",
   "execution_count": null,
   "id": "74ec7afe-f215-49bd-8acd-bede62eb1ad6",
   "metadata": {},
   "outputs": [],
   "source": [
    "df_covid_by_state_deaths_by_million[np.logical_not(bol_amazon_states)].mean()"
   ]
  },
  {
   "cell_type": "code",
   "execution_count": null,
   "id": "f147ede6-3d92-43d2-b473-334892bd41ae",
   "metadata": {},
   "outputs": [],
   "source": [
    "df_covid_by_state_deaths_by_million[np.logical_not(bol_amazon_states)].std()"
   ]
  },
  {
   "cell_type": "code",
   "execution_count": null,
   "id": "f4cbf6fe-8978-466b-9d68-ba49d9f34ce5",
   "metadata": {},
   "outputs": [],
   "source": [
    "df_covid_by_state_deaths_by_million[np.logical_not(bol_amazon_states)]"
   ]
  },
  {
   "cell_type": "markdown",
   "id": "77387772-9918-4e57-818e-4c1bba5dcc23",
   "metadata": {},
   "source": [
    "### 12.2 (df covid: deaths by million) vs (df amazon: num cases p. falciparum)"
   ]
  },
  {
   "cell_type": "code",
   "execution_count": null,
   "id": "a6a72ca6-fd49-4600-b806-45e434bb320d",
   "metadata": {},
   "outputs": [],
   "source": [
    "df_covid_mean_deaths_by_state = df_covid[['estado', 'obitosNovos']].groupby(['estado']).agg(\n",
    "    {'obitosNovos': ['mean']})\n",
    "\n",
    "df_covid_mean_deaths_by_state.head()\n",
    "\n",
    "# ok"
   ]
  },
  {
   "cell_type": "code",
   "execution_count": null,
   "id": "25561854-f3d2-474a-9338-6121b46a77ca",
   "metadata": {},
   "outputs": [],
   "source": [
    "df_covid_sum_population_by_state = df_covid[['estado', 'populacaoTCU2019']].drop_duplicates().groupby(by=['estado']\n",
    ").agg({\n",
    "    'populacaoTCU2019': [sum]\n",
    "})\n",
    "\n",
    "df_covid_sum_population_by_state.head()\n",
    "\n",
    "# ok"
   ]
  },
  {
   "cell_type": "code",
   "execution_count": null,
   "id": "128fc134-3141-4c57-aafd-008e376eff60",
   "metadata": {},
   "outputs": [],
   "source": [
    "df_covid_by_state_deaths_by_million = pd.DataFrame((df_covid_mean_deaths_by_state['obitosNovos']['mean'] / \\\n",
    "df_covid_sum_population_by_state['populacaoTCU2019']['sum']) * 10**9, \n",
    "             columns=['deaths by million'])\n",
    "\n",
    "df_covid_by_state_deaths_by_million.head()\n",
    "\n",
    "# ok"
   ]
  },
  {
   "cell_type": "code",
   "execution_count": null,
   "id": "300576cf-e7ae-45e5-a2ce-367f20273516",
   "metadata": {},
   "outputs": [],
   "source": [
    "df_amazon_by_state_sum_falciparum = df_amazon.groupby(['Estado']).agg(\n",
    "    {'Falciparum': ['sum']}).drop('Total')\n",
    "\n",
    "df_amazon_by_state_sum_falciparum\n",
    "\n",
    "# ok"
   ]
  },
  {
   "cell_type": "code",
   "execution_count": null,
   "id": "8d72b83d-6268-401f-a8f3-a3a239107ece",
   "metadata": {},
   "outputs": [],
   "source": [
    "amazon_states = df_amazon.Estado.drop_duplicates().tolist()\n",
    "amazon_states.remove('Total')\n",
    "amazon_states"
   ]
  },
  {
   "cell_type": "code",
   "execution_count": null,
   "id": "59977e9b-065e-434d-9b17-e0fc202ea10c",
   "metadata": {},
   "outputs": [],
   "source": [
    "bol_amazon_states = np.array(\n",
    "    [state in amazon_states for state in df_covid_by_state_deaths_by_million.index]\n",
    ").reshape(df_covid_by_state_deaths_by_million.shape[0], 1)\n",
    "\n",
    "df_covid_by_state_deaths_by_million[bol_amazon_states]"
   ]
  },
  {
   "cell_type": "code",
   "execution_count": null,
   "id": "5e558e7b-688a-431b-921f-b332e8fa3841",
   "metadata": {},
   "outputs": [],
   "source": [
    "df_deaths_by_million_vs_sum_falciparum_by_state = pd.merge(\n",
    "    left=df_covid_by_state_deaths_by_million[bol_amazon_states].reset_index(),\n",
    "    right=df_amazon_by_state_sum_falciparum.reset_index().rename(columns={'Estado': 'estado'}),\n",
    "    on='estado').sort_values(by=('deaths by million'), ascending=False)\n",
    "\n",
    "df_deaths_by_million_vs_sum_falciparum_by_state"
   ]
  },
  {
   "cell_type": "markdown",
   "id": "4fbb4930-2d85-41ad-94fb-69048312136c",
   "metadata": {},
   "source": [
    "#### <center> Amazon </center>"
   ]
  },
  {
   "cell_type": "code",
   "execution_count": null,
   "id": "85ef7c08-a51e-4e48-91ae-7a51d4fd716a",
   "metadata": {},
   "outputs": [],
   "source": [
    "df_deaths_by_million_vs_sum_falciparum_by_state[['estado', 'deaths by million']].mean()"
   ]
  },
  {
   "cell_type": "code",
   "execution_count": null,
   "id": "0690b2ca-29b5-46c7-9ea5-5072a92b0378",
   "metadata": {},
   "outputs": [],
   "source": [
    "df_deaths_by_million_vs_sum_falciparum_by_state[['estado', 'deaths by million']].std()"
   ]
  },
  {
   "cell_type": "code",
   "execution_count": null,
   "id": "885af44f-87d9-4ab5-b64b-a748bf9de8d3",
   "metadata": {},
   "outputs": [],
   "source": [
    "df_deaths_by_million_vs_sum_falciparum_by_state[[('Falciparum', 'sum')]].mean()"
   ]
  },
  {
   "cell_type": "code",
   "execution_count": null,
   "id": "3bcfb835-c4c7-4efa-8450-7eae5afecd35",
   "metadata": {},
   "outputs": [],
   "source": [
    "df_deaths_by_million_vs_sum_falciparum_by_state[[('Falciparum', 'sum')]].std()"
   ]
  },
  {
   "cell_type": "markdown",
   "id": "35595a7e-70dc-4a93-a9ef-bdcfde40ba7a",
   "metadata": {},
   "source": [
    "#### <center>No Amazon</center>"
   ]
  },
  {
   "cell_type": "code",
   "execution_count": null,
   "id": "3d76f323-2398-47ba-8462-700a86a76c9d",
   "metadata": {},
   "outputs": [],
   "source": [
    "df_covid_by_state_deaths_by_million[np.logical_not(bol_amazon_states)].mean()"
   ]
  },
  {
   "cell_type": "code",
   "execution_count": null,
   "id": "893215b4-57c1-483b-be59-a41d26ddf214",
   "metadata": {},
   "outputs": [],
   "source": [
    "df_covid_by_state_deaths_by_million[np.logical_not(bol_amazon_states)].std()"
   ]
  },
  {
   "cell_type": "code",
   "execution_count": null,
   "id": "909aeabe-5257-403f-9654-cda20db97036",
   "metadata": {},
   "outputs": [],
   "source": [
    "df_covid_by_state_deaths_by_million[np.logical_not(bol_amazon_states)]"
   ]
  },
  {
   "cell_type": "markdown",
   "id": "1f074eee-65ef-4a7f-a74a-b1e7a869f547",
   "metadata": {},
   "source": [
    "### 12.3 (df covid: deaths by million) vs (df amazon: num cases p. vivax + p. falciparum)"
   ]
  },
  {
   "cell_type": "code",
   "execution_count": null,
   "id": "d1e28747-bb95-4d07-ac28-39f15b929725",
   "metadata": {},
   "outputs": [],
   "source": [
    "df_covid_mean_deaths_by_state = df_covid[['estado', 'obitosNovos']].groupby(['estado']).agg(\n",
    "    {'obitosNovos': ['mean']})\n",
    "\n",
    "df_covid_mean_deaths_by_state.head()\n",
    "\n",
    "# ok"
   ]
  },
  {
   "cell_type": "code",
   "execution_count": null,
   "id": "8e49325d-2cf0-4c47-bbd4-d78f79b61d4a",
   "metadata": {},
   "outputs": [],
   "source": [
    "df_covid_sum_population_by_state = df_covid[['estado', 'populacaoTCU2019']].drop_duplicates().groupby(by=['estado']\n",
    ").agg({\n",
    "    'populacaoTCU2019': [sum]\n",
    "})\n",
    "\n",
    "df_covid_sum_population_by_state.head()\n",
    "\n",
    "# ok"
   ]
  },
  {
   "cell_type": "code",
   "execution_count": null,
   "id": "2e36cb6e-eb2c-447e-a1bf-308431cc7856",
   "metadata": {},
   "outputs": [],
   "source": [
    "df_covid_by_state_deaths_by_million = pd.DataFrame((df_covid_mean_deaths_by_state['obitosNovos']['mean'] / \\\n",
    "df_covid_sum_population_by_state['populacaoTCU2019']['sum']) * 10**9, \n",
    "             columns=['deaths by million'])\n",
    "\n",
    "df_covid_by_state_deaths_by_million.head()\n",
    "\n",
    "# ok"
   ]
  },
  {
   "cell_type": "code",
   "execution_count": null,
   "id": "52d0ac7e-93be-4cdf-ac9b-ae191ec8d82e",
   "metadata": {},
   "outputs": [],
   "source": [
    "df_amazon_by_state_sum_vivax_falciparum = pd.DataFrame(\n",
    "    df_amazon.groupby(['Estado']).agg(\n",
    "        {'Vivax': ['sum'], 'Falciparum': ['sum']}).drop('Total').sum(axis=1), \n",
    "    columns=['sum_vivax_falciparum'])\n",
    "\n",
    "df_amazon_by_state_sum_vivax_falciparum"
   ]
  },
  {
   "cell_type": "code",
   "execution_count": null,
   "id": "3238d7a0-66fd-4938-9822-ac693eb5b089",
   "metadata": {},
   "outputs": [],
   "source": [
    "amazon_states = df_amazon.Estado.drop_duplicates().tolist()\n",
    "amazon_states.remove('Total')\n",
    "amazon_states"
   ]
  },
  {
   "cell_type": "code",
   "execution_count": null,
   "id": "d216a7e8-1394-498d-af99-7f04dc6aba71",
   "metadata": {},
   "outputs": [],
   "source": [
    "bol_amazon_states = np.array(\n",
    "    [state in amazon_states for state in df_covid_by_state_deaths_by_million.index]\n",
    ").reshape(df_covid_by_state_deaths_by_million.shape[0], 1)\n",
    "\n",
    "df_covid_by_state_deaths_by_million[bol_amazon_states]"
   ]
  },
  {
   "cell_type": "code",
   "execution_count": null,
   "id": "cd69a4ed-f448-4c4a-bb5a-3981e6074107",
   "metadata": {},
   "outputs": [],
   "source": [
    "df_deaths_by_million_vs_sum_vivax_falciparum_by_state = pd.merge(\n",
    "    left=df_covid_by_state_deaths_by_million[bol_amazon_states].reset_index(),\n",
    "    right=df_amazon_by_state_sum_vivax_falciparum.reset_index().rename(columns={'Estado': 'estado'}),\n",
    "    on='estado').sort_values(by=('deaths by million'), ascending=False)\n",
    "\n",
    "df_deaths_by_million_vs_sum_vivax_falciparum_by_state"
   ]
  },
  {
   "cell_type": "markdown",
   "id": "b9f0d593-39f5-40d1-8817-798fbd60c080",
   "metadata": {},
   "source": [
    "#### <center> Amazon </center>"
   ]
  },
  {
   "cell_type": "code",
   "execution_count": null,
   "id": "f80aff83-f0e0-432d-8419-b69e70115700",
   "metadata": {},
   "outputs": [],
   "source": [
    "df_deaths_by_million_vs_sum_falciparum_by_state[['estado', 'deaths by million']].mean()"
   ]
  },
  {
   "cell_type": "code",
   "execution_count": null,
   "id": "56e7318e-baf6-4d37-9d66-8c1f688081c8",
   "metadata": {},
   "outputs": [],
   "source": [
    "df_deaths_by_million_vs_sum_falciparum_by_state[['estado', 'deaths by million']].std()"
   ]
  },
  {
   "cell_type": "code",
   "execution_count": null,
   "id": "c929e3ad-1836-4de9-ad7b-a307ad90ff9f",
   "metadata": {},
   "outputs": [],
   "source": [
    "df_deaths_by_million_vs_sum_vivax_falciparum_by_state[['sum_vivax_falciparum']].mean()"
   ]
  },
  {
   "cell_type": "code",
   "execution_count": null,
   "id": "bf7e5c32-d84c-47c4-ba72-56f5a4571969",
   "metadata": {},
   "outputs": [],
   "source": [
    "df_deaths_by_million_vs_sum_vivax_falciparum_by_state[[('sum_vivax_falciparum')]].std()"
   ]
  },
  {
   "cell_type": "markdown",
   "id": "621f9a54-c816-407d-a60a-b777abd5a2d9",
   "metadata": {},
   "source": [
    "#### <center>No Amazon</center>"
   ]
  },
  {
   "cell_type": "code",
   "execution_count": null,
   "id": "76a08a27-5e44-4b4e-a493-ea582d67daf6",
   "metadata": {},
   "outputs": [],
   "source": [
    "df_covid_by_state_deaths_by_million[np.logical_not(bol_amazon_states)].mean()"
   ]
  },
  {
   "cell_type": "code",
   "execution_count": null,
   "id": "74e7cca4-2051-4e9d-80f9-e0c7b741a37b",
   "metadata": {},
   "outputs": [],
   "source": [
    "df_covid_by_state_deaths_by_million[np.logical_not(bol_amazon_states)].std()"
   ]
  },
  {
   "cell_type": "code",
   "execution_count": null,
   "id": "1a031d4b-80a3-4372-976b-5509d72147fc",
   "metadata": {},
   "outputs": [],
   "source": [
    "df_covid_by_state_deaths_by_million[np.logical_not(bol_amazon_states)]"
   ]
  },
  {
   "cell_type": "markdown",
   "id": "9f1903cb-9e4e-4052-a235-c9268a551040",
   "metadata": {},
   "source": [
    "### 12.4 (df covid: deaths by million) vs (df amazon: num cases all p. species)"
   ]
  },
  {
   "cell_type": "code",
   "execution_count": null,
   "id": "e32fd0e2-f87f-4753-8ea0-975600ddd28f",
   "metadata": {},
   "outputs": [],
   "source": [
    "df_covid_mean_deaths_by_state = df_covid[['estado', 'obitosNovos']].groupby(['estado']).agg(\n",
    "    {'obitosNovos': ['mean']})\n",
    "\n",
    "df_covid_mean_deaths_by_state.head()"
   ]
  },
  {
   "cell_type": "code",
   "execution_count": null,
   "id": "89aec023-d9bd-4c34-a419-2c719942b67c",
   "metadata": {},
   "outputs": [],
   "source": [
    "df_covid_sum_population_by_state = df_covid[['estado', 'populacaoTCU2019']].drop_duplicates().groupby(by=['estado']\n",
    ").agg({\n",
    "    'populacaoTCU2019': [sum]\n",
    "})\n",
    "\n",
    "df_covid_sum_population_by_state.head()"
   ]
  },
  {
   "cell_type": "code",
   "execution_count": null,
   "id": "5f8bfb40-f14b-41f5-8c18-4ab27ba34224",
   "metadata": {},
   "outputs": [],
   "source": [
    "df_covid_by_state_deaths_by_million = pd.DataFrame((df_covid_mean_deaths_by_state['obitosNovos']['mean'] / \\\n",
    "df_covid_sum_population_by_state['populacaoTCU2019']['sum']) * 10**9, \n",
    "             columns=['deaths by million'])\n",
    "\n",
    "df_covid_by_state_deaths_by_million.head()"
   ]
  },
  {
   "cell_type": "code",
   "execution_count": null,
   "id": "cbd6745d-c11c-4cd7-a887-fcaa1f3d8bd6",
   "metadata": {},
   "outputs": [],
   "source": [
    "df_amazon_by_state_sum_all_plasmodium_species = pd.DataFrame(\n",
    "    df_amazon.groupby(['Estado']).agg(\n",
    "        {'Vivax': ['sum'], \n",
    "         'Falciparum': ['sum'], \n",
    "         'Malarie': ['sum'], \n",
    "         'Ovale': ['sum'], \n",
    "         'Mista': ['sum']}).drop('Total').sum(axis=1), \n",
    "    columns=['sum_all_plasmodium_species'])\n",
    "\n",
    "df_amazon_by_state_sum_all_plasmodium_species"
   ]
  },
  {
   "cell_type": "code",
   "execution_count": null,
   "id": "a7b3636f-1e22-467b-90d7-51a02eb8e571",
   "metadata": {},
   "outputs": [],
   "source": [
    "amazon_states = df_amazon.Estado.drop_duplicates().tolist()\n",
    "amazon_states.remove('Total')\n",
    "amazon_states"
   ]
  },
  {
   "cell_type": "code",
   "execution_count": null,
   "id": "53cad827-7ca7-4705-831c-565098c07d51",
   "metadata": {},
   "outputs": [],
   "source": [
    "bol_amazon_states = np.array(\n",
    "    [state in amazon_states for state in df_covid_by_state_deaths_by_million.index]\n",
    ").reshape(df_covid_by_state_deaths_by_million.shape[0], 1)\n",
    "\n",
    "df_covid_by_state_deaths_by_million[bol_amazon_states]"
   ]
  },
  {
   "cell_type": "code",
   "execution_count": null,
   "id": "910a47a6-d2ed-4969-b79d-e32c95729dbb",
   "metadata": {},
   "outputs": [],
   "source": [
    "df_deaths_by_million_vs_sum_all_plasmodium_species_by_state = pd.merge(\n",
    "    left=df_covid_by_state_deaths_by_million[bol_amazon_states].reset_index(),\n",
    "    right=df_amazon_by_state_sum_all_plasmodium_species.reset_index().rename(columns={'Estado': 'estado'}),\n",
    "    on='estado').sort_values(by=('deaths by million'), ascending=False)\n",
    "\n",
    "df_deaths_by_million_vs_sum_all_plasmodium_species_by_state"
   ]
  },
  {
   "cell_type": "markdown",
   "id": "ab21e712-abef-4545-bf6e-0dae9f783dc7",
   "metadata": {},
   "source": [
    "#### <center> Amazon </center>"
   ]
  },
  {
   "cell_type": "code",
   "execution_count": null,
   "id": "3732c3fc-14c3-49e5-80d7-ecfe2056bb9e",
   "metadata": {},
   "outputs": [],
   "source": [
    "df_deaths_by_million_vs_sum_falciparum_by_state[['estado', 'deaths by million']].mean()"
   ]
  },
  {
   "cell_type": "code",
   "execution_count": null,
   "id": "d2b05758-f07b-44e5-8f63-0a60e22e858a",
   "metadata": {},
   "outputs": [],
   "source": [
    "df_deaths_by_million_vs_sum_falciparum_by_state[['estado', 'deaths by million']].std()"
   ]
  },
  {
   "cell_type": "code",
   "execution_count": null,
   "id": "834f7777-61c1-44b1-bc63-a6fb50deec7b",
   "metadata": {},
   "outputs": [],
   "source": [
    "df_deaths_by_million_vs_sum_all_plasmodium_species_by_state[['sum_all_plasmodium_species']].mean()"
   ]
  },
  {
   "cell_type": "code",
   "execution_count": null,
   "id": "b843ad9c-ff56-4762-9782-af0425922449",
   "metadata": {},
   "outputs": [],
   "source": [
    "df_deaths_by_million_vs_sum_all_plasmodium_species_by_state[['sum_all_plasmodium_species']].std()"
   ]
  },
  {
   "cell_type": "markdown",
   "id": "df49f9e5-fba9-4130-83e0-bde32c28a172",
   "metadata": {},
   "source": [
    "#### <center>No Amazon</center>"
   ]
  },
  {
   "cell_type": "code",
   "execution_count": null,
   "id": "8902da6f-f6d4-47c2-942b-faf1332367f3",
   "metadata": {},
   "outputs": [],
   "source": [
    "df_covid_by_state_deaths_by_million[np.logical_not(bol_amazon_states)].mean()"
   ]
  },
  {
   "cell_type": "code",
   "execution_count": null,
   "id": "cef96635-3d4f-4e15-8672-757298d9995f",
   "metadata": {},
   "outputs": [],
   "source": [
    "df_covid_by_state_deaths_by_million[np.logical_not(bol_amazon_states)].std()"
   ]
  },
  {
   "cell_type": "code",
   "execution_count": null,
   "id": "49e88058-d3bd-45d7-92db-9b99e0a27a7c",
   "metadata": {},
   "outputs": [],
   "source": [
    "df_covid_by_state_deaths_by_million[np.logical_not(bol_amazon_states)]"
   ]
  },
  {
   "cell_type": "markdown",
   "id": "0f7dca19-93c1-4e69-9433-cbafc806a7eb",
   "metadata": {},
   "source": [
    "## <center>Deaths by million, by city, all years</center>"
   ]
  },
  {
   "cell_type": "markdown",
   "id": "3ab9d5b0-efab-4d9f-a0bd-662e4e9ee1c4",
   "metadata": {},
   "source": [
    "### 13.1 (df covid: deaths by million) vs (df amazon: num cases p. vivax)"
   ]
  },
  {
   "cell_type": "code",
   "execution_count": 17,
   "id": "79ce1697-e477-4163-a5cb-1dd368125a90",
   "metadata": {
    "id": "a7af75ed-bd14-424f-9e06-74ff2cefd63b"
   },
   "outputs": [
    {
     "data": {
      "text/html": [
       "<div>\n",
       "<style scoped>\n",
       "    .dataframe tbody tr th:only-of-type {\n",
       "        vertical-align: middle;\n",
       "    }\n",
       "\n",
       "    .dataframe tbody tr th {\n",
       "        vertical-align: top;\n",
       "    }\n",
       "\n",
       "    .dataframe thead tr th {\n",
       "        text-align: left;\n",
       "    }\n",
       "\n",
       "    .dataframe thead tr:last-of-type th {\n",
       "        text-align: right;\n",
       "    }\n",
       "</style>\n",
       "<table border=\"1\" class=\"dataframe\">\n",
       "  <thead>\n",
       "    <tr>\n",
       "      <th></th>\n",
       "      <th>obitosNovos</th>\n",
       "    </tr>\n",
       "    <tr>\n",
       "      <th></th>\n",
       "      <th>mean</th>\n",
       "    </tr>\n",
       "    <tr>\n",
       "      <th>codmun</th>\n",
       "      <th></th>\n",
       "    </tr>\n",
       "  </thead>\n",
       "  <tbody>\n",
       "    <tr>\n",
       "      <th>110001.0</th>\n",
       "      <td>0.158442</td>\n",
       "    </tr>\n",
       "    <tr>\n",
       "      <th>110002.0</th>\n",
       "      <td>1.034398</td>\n",
       "    </tr>\n",
       "    <tr>\n",
       "      <th>110003.0</th>\n",
       "      <td>0.051136</td>\n",
       "    </tr>\n",
       "    <tr>\n",
       "      <th>110004.0</th>\n",
       "      <td>0.609819</td>\n",
       "    </tr>\n",
       "    <tr>\n",
       "      <th>110005.0</th>\n",
       "      <td>0.151099</td>\n",
       "    </tr>\n",
       "  </tbody>\n",
       "</table>\n",
       "</div>"
      ],
      "text/plain": [
       "         obitosNovos\n",
       "                mean\n",
       "codmun              \n",
       "110001.0    0.158442\n",
       "110002.0    1.034398\n",
       "110003.0    0.051136\n",
       "110004.0    0.609819\n",
       "110005.0    0.151099"
      ]
     },
     "execution_count": 17,
     "metadata": {},
     "output_type": "execute_result"
    }
   ],
   "source": [
    "df_covid_mean_deaths_by_city = df_covid[['codmun', 'obitosNovos']].groupby('codmun').agg(\n",
    "    {'obitosNovos': ['mean']})\n",
    "\n",
    "df_covid_mean_deaths_by_city.head()"
   ]
  },
  {
   "cell_type": "code",
   "execution_count": 18,
   "id": "0b5e5506-de5c-4f0c-990e-ffed14022609",
   "metadata": {
    "id": "12bac238-b9a8-4655-9ce7-3c627c33e15b"
   },
   "outputs": [
    {
     "data": {
      "text/html": [
       "<div>\n",
       "<style scoped>\n",
       "    .dataframe tbody tr th:only-of-type {\n",
       "        vertical-align: middle;\n",
       "    }\n",
       "\n",
       "    .dataframe tbody tr th {\n",
       "        vertical-align: top;\n",
       "    }\n",
       "\n",
       "    .dataframe thead th {\n",
       "        text-align: right;\n",
       "    }\n",
       "</style>\n",
       "<table border=\"1\" class=\"dataframe\">\n",
       "  <thead>\n",
       "    <tr style=\"text-align: right;\">\n",
       "      <th></th>\n",
       "      <th>populacaoTCU2019</th>\n",
       "    </tr>\n",
       "    <tr>\n",
       "      <th>codmun</th>\n",
       "      <th></th>\n",
       "    </tr>\n",
       "  </thead>\n",
       "  <tbody>\n",
       "    <tr>\n",
       "      <th>110001.0</th>\n",
       "      <td>22945.0</td>\n",
       "    </tr>\n",
       "    <tr>\n",
       "      <th>110002.0</th>\n",
       "      <td>107863.0</td>\n",
       "    </tr>\n",
       "    <tr>\n",
       "      <th>110003.0</th>\n",
       "      <td>5312.0</td>\n",
       "    </tr>\n",
       "    <tr>\n",
       "      <th>110004.0</th>\n",
       "      <td>85359.0</td>\n",
       "    </tr>\n",
       "    <tr>\n",
       "      <th>110005.0</th>\n",
       "      <td>16323.0</td>\n",
       "    </tr>\n",
       "  </tbody>\n",
       "</table>\n",
       "</div>"
      ],
      "text/plain": [
       "          populacaoTCU2019\n",
       "codmun                    \n",
       "110001.0           22945.0\n",
       "110002.0          107863.0\n",
       "110003.0            5312.0\n",
       "110004.0           85359.0\n",
       "110005.0           16323.0"
      ]
     },
     "execution_count": 18,
     "metadata": {},
     "output_type": "execute_result"
    }
   ],
   "source": [
    "df_covid_sum_population_by_city = df_covid[['codmun', 'populacaoTCU2019']].drop_duplicates().groupby(\n",
    "    by='codmun').agg(\n",
    "    {'populacaoTCU2019': 'sum'})\n",
    "\n",
    "df_covid_sum_population_by_city.head()"
   ]
  },
  {
   "cell_type": "code",
   "execution_count": 20,
   "id": "77dbf5be-7e2a-47e8-b2af-0c380f14cfe4",
   "metadata": {
    "id": "7b812683-0067-4b6f-a3f0-c528fc35780e"
   },
   "outputs": [
    {
     "data": {
      "text/html": [
       "<div>\n",
       "<style scoped>\n",
       "    .dataframe tbody tr th:only-of-type {\n",
       "        vertical-align: middle;\n",
       "    }\n",
       "\n",
       "    .dataframe tbody tr th {\n",
       "        vertical-align: top;\n",
       "    }\n",
       "\n",
       "    .dataframe thead th {\n",
       "        text-align: right;\n",
       "    }\n",
       "</style>\n",
       "<table border=\"1\" class=\"dataframe\">\n",
       "  <thead>\n",
       "    <tr style=\"text-align: right;\">\n",
       "      <th></th>\n",
       "      <th>deaths by million</th>\n",
       "    </tr>\n",
       "    <tr>\n",
       "      <th>codmun</th>\n",
       "      <th></th>\n",
       "    </tr>\n",
       "  </thead>\n",
       "  <tbody>\n",
       "    <tr>\n",
       "      <th>110001</th>\n",
       "      <td>6905.276027</td>\n",
       "    </tr>\n",
       "    <tr>\n",
       "      <th>110002</th>\n",
       "      <td>9589.924575</td>\n",
       "    </tr>\n",
       "    <tr>\n",
       "      <th>110003</th>\n",
       "      <td>9626.574480</td>\n",
       "    </tr>\n",
       "    <tr>\n",
       "      <th>110004</th>\n",
       "      <td>7144.168997</td>\n",
       "    </tr>\n",
       "    <tr>\n",
       "      <th>110005</th>\n",
       "      <td>9256.809477</td>\n",
       "    </tr>\n",
       "  </tbody>\n",
       "</table>\n",
       "</div>"
      ],
      "text/plain": [
       "        deaths by million\n",
       "codmun                   \n",
       "110001        6905.276027\n",
       "110002        9589.924575\n",
       "110003        9626.574480\n",
       "110004        7144.168997\n",
       "110005        9256.809477"
      ]
     },
     "execution_count": 20,
     "metadata": {},
     "output_type": "execute_result"
    }
   ],
   "source": [
    "df_covid_by_city_deaths_by_million = pd.DataFrame((df_covid_mean_deaths_by_city['obitosNovos']['mean'] / \\\n",
    "df_covid_sum_population_by_city['populacaoTCU2019']) * 10**9, \n",
    "             columns=['deaths by million'])\n",
    "\n",
    "df_covid_by_city_deaths_by_million.index = df_covid_by_city_deaths_by_million.index.map(str).map(lambda codmun: codmun.split('.')[0])\n",
    "\n",
    "df_covid_by_city_deaths_by_million.head()"
   ]
  },
  {
   "cell_type": "code",
   "execution_count": 21,
   "id": "62543d7a-517b-49cd-be70-7b42ab4ba673",
   "metadata": {},
   "outputs": [
    {
     "data": {
      "text/html": [
       "<div>\n",
       "<style scoped>\n",
       "    .dataframe tbody tr th:only-of-type {\n",
       "        vertical-align: middle;\n",
       "    }\n",
       "\n",
       "    .dataframe tbody tr th {\n",
       "        vertical-align: top;\n",
       "    }\n",
       "\n",
       "    .dataframe thead tr th {\n",
       "        text-align: left;\n",
       "    }\n",
       "\n",
       "    .dataframe thead tr:last-of-type th {\n",
       "        text-align: right;\n",
       "    }\n",
       "</style>\n",
       "<table border=\"1\" class=\"dataframe\">\n",
       "  <thead>\n",
       "    <tr>\n",
       "      <th></th>\n",
       "      <th>Vivax</th>\n",
       "    </tr>\n",
       "    <tr>\n",
       "      <th></th>\n",
       "      <th>sum</th>\n",
       "    </tr>\n",
       "    <tr>\n",
       "      <th>CD</th>\n",
       "      <th></th>\n",
       "    </tr>\n",
       "  </thead>\n",
       "  <tbody>\n",
       "    <tr>\n",
       "      <th>110001</th>\n",
       "      <td>1519.000</td>\n",
       "    </tr>\n",
       "    <tr>\n",
       "      <th>110002</th>\n",
       "      <td>4256.198</td>\n",
       "    </tr>\n",
       "    <tr>\n",
       "      <th>110003</th>\n",
       "      <td>182.000</td>\n",
       "    </tr>\n",
       "    <tr>\n",
       "      <th>110004</th>\n",
       "      <td>4121.163</td>\n",
       "    </tr>\n",
       "    <tr>\n",
       "      <th>110005</th>\n",
       "      <td>647.000</td>\n",
       "    </tr>\n",
       "  </tbody>\n",
       "</table>\n",
       "</div>"
      ],
      "text/plain": [
       "           Vivax\n",
       "             sum\n",
       "CD              \n",
       "110001  1519.000\n",
       "110002  4256.198\n",
       "110003   182.000\n",
       "110004  4121.163\n",
       "110005   647.000"
      ]
     },
     "execution_count": 21,
     "metadata": {},
     "output_type": "execute_result"
    }
   ],
   "source": [
    "df_amazon_by_city_sum_vivax = df_amazon.groupby(['CD']).agg(\n",
    "    {'Vivax': ['sum']}).drop('Total geral')\n",
    "\n",
    "df_amazon_by_city_sum_vivax.head()"
   ]
  },
  {
   "cell_type": "code",
   "execution_count": 22,
   "id": "361a5d24-a5e7-46ad-af0f-8250a06063a6",
   "metadata": {},
   "outputs": [
    {
     "name": "stdout",
     "output_type": "stream",
     "text": [
      "706\n"
     ]
    },
    {
     "data": {
      "text/plain": [
       "['110001',\n",
       " '110002',\n",
       " '110003',\n",
       " '110004',\n",
       " '110005',\n",
       " '110006',\n",
       " '110007',\n",
       " '110008',\n",
       " '110009',\n",
       " '110010']"
      ]
     },
     "execution_count": 22,
     "metadata": {},
     "output_type": "execute_result"
    }
   ],
   "source": [
    "amazon_cities = df_amazon.CD.drop_duplicates().tolist()\n",
    "amazon_cities.remove('Total geral')\n",
    "\n",
    "print(len(amazon_cities))\n",
    "amazon_cities[:10]"
   ]
  },
  {
   "cell_type": "code",
   "execution_count": 23,
   "id": "325d943b-68f3-4636-87b1-8d08e523466d",
   "metadata": {},
   "outputs": [
    {
     "data": {
      "text/html": [
       "<div>\n",
       "<style scoped>\n",
       "    .dataframe tbody tr th:only-of-type {\n",
       "        vertical-align: middle;\n",
       "    }\n",
       "\n",
       "    .dataframe tbody tr th {\n",
       "        vertical-align: top;\n",
       "    }\n",
       "\n",
       "    .dataframe thead th {\n",
       "        text-align: right;\n",
       "    }\n",
       "</style>\n",
       "<table border=\"1\" class=\"dataframe\">\n",
       "  <thead>\n",
       "    <tr style=\"text-align: right;\">\n",
       "      <th></th>\n",
       "      <th>deaths by million</th>\n",
       "    </tr>\n",
       "    <tr>\n",
       "      <th>codmun</th>\n",
       "      <th></th>\n",
       "    </tr>\n",
       "  </thead>\n",
       "  <tbody>\n",
       "    <tr>\n",
       "      <th>110001</th>\n",
       "      <td>6905.276027</td>\n",
       "    </tr>\n",
       "    <tr>\n",
       "      <th>110002</th>\n",
       "      <td>9589.924575</td>\n",
       "    </tr>\n",
       "    <tr>\n",
       "      <th>110003</th>\n",
       "      <td>9626.574480</td>\n",
       "    </tr>\n",
       "    <tr>\n",
       "      <th>110004</th>\n",
       "      <td>7144.168997</td>\n",
       "    </tr>\n",
       "    <tr>\n",
       "      <th>110005</th>\n",
       "      <td>9256.809477</td>\n",
       "    </tr>\n",
       "    <tr>\n",
       "      <th>...</th>\n",
       "      <td>...</td>\n",
       "    </tr>\n",
       "    <tr>\n",
       "      <th>510860</th>\n",
       "      <td>2484.542265</td>\n",
       "    </tr>\n",
       "    <tr>\n",
       "      <th>510880</th>\n",
       "      <td>7990.951784</td>\n",
       "    </tr>\n",
       "    <tr>\n",
       "      <th>510885</th>\n",
       "      <td>4383.104360</td>\n",
       "    </tr>\n",
       "    <tr>\n",
       "      <th>510890</th>\n",
       "      <td>2925.691341</td>\n",
       "    </tr>\n",
       "    <tr>\n",
       "      <th>510895</th>\n",
       "      <td>4410.131889</td>\n",
       "    </tr>\n",
       "  </tbody>\n",
       "</table>\n",
       "<p>706 rows × 1 columns</p>\n",
       "</div>"
      ],
      "text/plain": [
       "        deaths by million\n",
       "codmun                   \n",
       "110001        6905.276027\n",
       "110002        9589.924575\n",
       "110003        9626.574480\n",
       "110004        7144.168997\n",
       "110005        9256.809477\n",
       "...                   ...\n",
       "510860        2484.542265\n",
       "510880        7990.951784\n",
       "510885        4383.104360\n",
       "510890        2925.691341\n",
       "510895        4410.131889\n",
       "\n",
       "[706 rows x 1 columns]"
      ]
     },
     "execution_count": 23,
     "metadata": {},
     "output_type": "execute_result"
    }
   ],
   "source": [
    "bol_amazon_cities = np.array(\n",
    "    [city in amazon_cities for city in df_covid_by_city_deaths_by_million.index]\n",
    ").reshape(df_covid_by_city_deaths_by_million.shape[0], 1)\n",
    "\n",
    "df_covid_by_city_deaths_by_million[bol_amazon_cities]"
   ]
  },
  {
   "cell_type": "code",
   "execution_count": 24,
   "id": "36e4da74-1320-4ed1-bb71-76580c3895ed",
   "metadata": {},
   "outputs": [
    {
     "name": "stderr",
     "output_type": "stream",
     "text": [
      "/home/bruno/Documents/dev/lgdc-covid-19-and-malaria/venv-lgdc-covid-19-and-malaria/lib/python3.8/site-packages/pandas/core/reshape/merge.py:648: UserWarning:\n",
      "\n",
      "merging between different levels can give an unintended result (1 levels on the left,2 on the right)\n",
      "\n",
      "/home/bruno/Documents/dev/lgdc-covid-19-and-malaria/venv-lgdc-covid-19-and-malaria/lib/python3.8/site-packages/pandas/core/generic.py:4153: PerformanceWarning:\n",
      "\n",
      "dropping on a non-lexsorted multi-index without a level parameter may impact performance.\n",
      "\n"
     ]
    },
    {
     "data": {
      "text/html": [
       "<div>\n",
       "<style scoped>\n",
       "    .dataframe tbody tr th:only-of-type {\n",
       "        vertical-align: middle;\n",
       "    }\n",
       "\n",
       "    .dataframe tbody tr th {\n",
       "        vertical-align: top;\n",
       "    }\n",
       "\n",
       "    .dataframe thead th {\n",
       "        text-align: right;\n",
       "    }\n",
       "</style>\n",
       "<table border=\"1\" class=\"dataframe\">\n",
       "  <thead>\n",
       "    <tr style=\"text-align: right;\">\n",
       "      <th></th>\n",
       "      <th>codmun</th>\n",
       "      <th>deaths by million</th>\n",
       "      <th>(Vivax, sum)</th>\n",
       "    </tr>\n",
       "  </thead>\n",
       "  <tbody>\n",
       "    <tr>\n",
       "      <th>42</th>\n",
       "      <td>110146</td>\n",
       "      <td>19103.948404</td>\n",
       "      <td>595.000</td>\n",
       "    </tr>\n",
       "    <tr>\n",
       "      <th>635</th>\n",
       "      <td>510455</td>\n",
       "      <td>17897.774139</td>\n",
       "      <td>70.000</td>\n",
       "    </tr>\n",
       "    <tr>\n",
       "      <th>676</th>\n",
       "      <td>510719</td>\n",
       "      <td>12561.946097</td>\n",
       "      <td>9.000</td>\n",
       "    </tr>\n",
       "    <tr>\n",
       "      <th>9</th>\n",
       "      <td>110010</td>\n",
       "      <td>11696.012466</td>\n",
       "      <td>6295.477</td>\n",
       "    </tr>\n",
       "    <tr>\n",
       "      <th>376</th>\n",
       "      <td>172065</td>\n",
       "      <td>11291.496865</td>\n",
       "      <td>2.000</td>\n",
       "    </tr>\n",
       "    <tr>\n",
       "      <th>...</th>\n",
       "      <td>...</td>\n",
       "      <td>...</td>\n",
       "      <td>...</td>\n",
       "    </tr>\n",
       "    <tr>\n",
       "      <th>553</th>\n",
       "      <td>211085</td>\n",
       "      <td>220.156179</td>\n",
       "      <td>16.000</td>\n",
       "    </tr>\n",
       "    <tr>\n",
       "      <th>528</th>\n",
       "      <td>210920</td>\n",
       "      <td>198.809924</td>\n",
       "      <td>283.000</td>\n",
       "    </tr>\n",
       "    <tr>\n",
       "      <th>538</th>\n",
       "      <td>210975</td>\n",
       "      <td>0.000000</td>\n",
       "      <td>19.000</td>\n",
       "    </tr>\n",
       "    <tr>\n",
       "      <th>684</th>\n",
       "      <td>510774</td>\n",
       "      <td>0.000000</td>\n",
       "      <td>3.000</td>\n",
       "    </tr>\n",
       "    <tr>\n",
       "      <th>379</th>\n",
       "      <td>172093</td>\n",
       "      <td>0.000000</td>\n",
       "      <td>8.000</td>\n",
       "    </tr>\n",
       "  </tbody>\n",
       "</table>\n",
       "<p>706 rows × 3 columns</p>\n",
       "</div>"
      ],
      "text/plain": [
       "     codmun  deaths by million  (Vivax, sum)\n",
       "42   110146       19103.948404       595.000\n",
       "635  510455       17897.774139        70.000\n",
       "676  510719       12561.946097         9.000\n",
       "9    110010       11696.012466      6295.477\n",
       "376  172065       11291.496865         2.000\n",
       "..      ...                ...           ...\n",
       "553  211085         220.156179        16.000\n",
       "528  210920         198.809924       283.000\n",
       "538  210975           0.000000        19.000\n",
       "684  510774           0.000000         3.000\n",
       "379  172093           0.000000         8.000\n",
       "\n",
       "[706 rows x 3 columns]"
      ]
     },
     "execution_count": 24,
     "metadata": {},
     "output_type": "execute_result"
    }
   ],
   "source": [
    "df_deaths_by_million_vs_sum_vivax_by_city = pd.merge(\n",
    "    left=df_covid_by_city_deaths_by_million[bol_amazon_cities].reset_index(),\n",
    "    right=df_amazon_by_city_sum_vivax.reset_index().rename(columns={'CD': 'codmun'}),\n",
    "    on='codmun').sort_values(by=('deaths by million'), ascending=False)\n",
    "\n",
    "df_deaths_by_million_vs_sum_vivax_by_city"
   ]
  },
  {
   "cell_type": "markdown",
   "id": "2bb7fb44-52de-4efd-9c91-b935a3611880",
   "metadata": {},
   "source": [
    "#### <center> Amazon </center>"
   ]
  },
  {
   "cell_type": "code",
   "execution_count": 25,
   "id": "563052a2-9429-4feb-a2b9-d54d63322fb5",
   "metadata": {},
   "outputs": [
    {
     "data": {
      "text/plain": [
       "codmun                       inf\n",
       "deaths by million    3766.204675\n",
       "dtype: float64"
      ]
     },
     "execution_count": 25,
     "metadata": {},
     "output_type": "execute_result"
    }
   ],
   "source": [
    "df_deaths_by_million_vs_sum_vivax_by_city[['codmun', 'deaths by million']].mean()"
   ]
  },
  {
   "cell_type": "code",
   "execution_count": 26,
   "id": "ea11ae18-8e75-4448-a412-5d6011cd148e",
   "metadata": {},
   "outputs": [
    {
     "data": {
      "text/plain": [
       "deaths by million    2523.062031\n",
       "dtype: float64"
      ]
     },
     "execution_count": 26,
     "metadata": {},
     "output_type": "execute_result"
    }
   ],
   "source": [
    "df_deaths_by_million_vs_sum_vivax_by_city[['codmun', 'deaths by million']].std()"
   ]
  },
  {
   "cell_type": "code",
   "execution_count": 42,
   "id": "8891501f-ec84-4fd6-89d3-ecda1ec8ed54",
   "metadata": {},
   "outputs": [
    {
     "data": {
      "text/plain": [
       "(Vivax, sum)    1120.861579\n",
       "dtype: float64"
      ]
     },
     "execution_count": 42,
     "metadata": {},
     "output_type": "execute_result"
    }
   ],
   "source": [
    "df_deaths_by_million_vs_sum_vivax_by_city[[('Vivax', 'sum')]].mean()"
   ]
  },
  {
   "cell_type": "code",
   "execution_count": 43,
   "id": "1c1b97f6-5aa4-4384-b24c-0aa9efb95fef",
   "metadata": {},
   "outputs": [
    {
     "data": {
      "text/plain": [
       "(Vivax, sum)    1748.950076\n",
       "dtype: float64"
      ]
     },
     "execution_count": 43,
     "metadata": {},
     "output_type": "execute_result"
    }
   ],
   "source": [
    "df_deaths_by_million_vs_sum_vivax_by_city[[('Vivax', 'sum')]].std()"
   ]
  },
  {
   "cell_type": "markdown",
   "id": "c25a7608-8200-4cc5-87f6-f9e36b10cda0",
   "metadata": {},
   "source": [
    "#### <center>No Amazon</center>"
   ]
  },
  {
   "cell_type": "code",
   "execution_count": 28,
   "id": "e26b9605-8e6a-44e0-90e1-db5787678a73",
   "metadata": {},
   "outputs": [
    {
     "data": {
      "text/plain": [
       "deaths by million    4179.158202\n",
       "dtype: float64"
      ]
     },
     "execution_count": 28,
     "metadata": {},
     "output_type": "execute_result"
    }
   ],
   "source": [
    "df_covid_by_city_deaths_by_million[np.logical_not(bol_amazon_cities)].mean()"
   ]
  },
  {
   "cell_type": "code",
   "execution_count": 30,
   "id": "0f23b044-9bfb-4b7b-806f-f9d5de56c65a",
   "metadata": {},
   "outputs": [
    {
     "data": {
      "text/plain": [
       "deaths by million    2416.82618\n",
       "dtype: float64"
      ]
     },
     "execution_count": 30,
     "metadata": {},
     "output_type": "execute_result"
    }
   ],
   "source": [
    "df_covid_by_city_deaths_by_million[np.logical_not(bol_amazon_cities)].std()"
   ]
  },
  {
   "cell_type": "code",
   "execution_count": 31,
   "id": "d9b08dea-0ccd-4ce4-b8bb-bfb01483ab56",
   "metadata": {},
   "outputs": [
    {
     "data": {
      "text/html": [
       "<div>\n",
       "<style scoped>\n",
       "    .dataframe tbody tr th:only-of-type {\n",
       "        vertical-align: middle;\n",
       "    }\n",
       "\n",
       "    .dataframe tbody tr th {\n",
       "        vertical-align: top;\n",
       "    }\n",
       "\n",
       "    .dataframe thead th {\n",
       "        text-align: right;\n",
       "    }\n",
       "</style>\n",
       "<table border=\"1\" class=\"dataframe\">\n",
       "  <thead>\n",
       "    <tr style=\"text-align: right;\">\n",
       "      <th></th>\n",
       "      <th>deaths by million</th>\n",
       "    </tr>\n",
       "    <tr>\n",
       "      <th>codmun</th>\n",
       "      <th></th>\n",
       "    </tr>\n",
       "  </thead>\n",
       "  <tbody>\n",
       "    <tr>\n",
       "      <th>150160</th>\n",
       "      <td>1894.162412</td>\n",
       "    </tr>\n",
       "    <tr>\n",
       "      <th>170025</th>\n",
       "      <td>10203.873390</td>\n",
       "    </tr>\n",
       "    <tr>\n",
       "      <th>170040</th>\n",
       "      <td>1692.459037</td>\n",
       "    </tr>\n",
       "    <tr>\n",
       "      <th>170230</th>\n",
       "      <td>2565.927223</td>\n",
       "    </tr>\n",
       "    <tr>\n",
       "      <th>170270</th>\n",
       "      <td>2112.458860</td>\n",
       "    </tr>\n",
       "    <tr>\n",
       "      <th>...</th>\n",
       "      <td>...</td>\n",
       "    </tr>\n",
       "    <tr>\n",
       "      <th>522200</th>\n",
       "      <td>3518.754080</td>\n",
       "    </tr>\n",
       "    <tr>\n",
       "      <th>522205</th>\n",
       "      <td>6962.091412</td>\n",
       "    </tr>\n",
       "    <tr>\n",
       "      <th>522220</th>\n",
       "      <td>1917.731247</td>\n",
       "    </tr>\n",
       "    <tr>\n",
       "      <th>522230</th>\n",
       "      <td>2642.950590</td>\n",
       "    </tr>\n",
       "    <tr>\n",
       "      <th>530010</th>\n",
       "      <td>6666.074127</td>\n",
       "    </tr>\n",
       "  </tbody>\n",
       "</table>\n",
       "<p>4864 rows × 1 columns</p>\n",
       "</div>"
      ],
      "text/plain": [
       "        deaths by million\n",
       "codmun                   \n",
       "150160        1894.162412\n",
       "170025       10203.873390\n",
       "170040        1692.459037\n",
       "170230        2565.927223\n",
       "170270        2112.458860\n",
       "...                   ...\n",
       "522200        3518.754080\n",
       "522205        6962.091412\n",
       "522220        1917.731247\n",
       "522230        2642.950590\n",
       "530010        6666.074127\n",
       "\n",
       "[4864 rows x 1 columns]"
      ]
     },
     "execution_count": 31,
     "metadata": {},
     "output_type": "execute_result"
    }
   ],
   "source": [
    "df_covid_by_city_deaths_by_million[np.logical_not(bol_amazon_cities)]"
   ]
  },
  {
   "cell_type": "markdown",
   "id": "eb6f7539-53e2-463e-b8ee-d30f225c5551",
   "metadata": {},
   "source": [
    "### 13.2 (df covid: deaths by million) vs (df amazon: num cases p. falciparum)"
   ]
  },
  {
   "cell_type": "code",
   "execution_count": 32,
   "id": "49c49d2f-1a56-445f-8895-a9005a703e5e",
   "metadata": {
    "id": "a7af75ed-bd14-424f-9e06-74ff2cefd63b"
   },
   "outputs": [
    {
     "data": {
      "text/html": [
       "<div>\n",
       "<style scoped>\n",
       "    .dataframe tbody tr th:only-of-type {\n",
       "        vertical-align: middle;\n",
       "    }\n",
       "\n",
       "    .dataframe tbody tr th {\n",
       "        vertical-align: top;\n",
       "    }\n",
       "\n",
       "    .dataframe thead tr th {\n",
       "        text-align: left;\n",
       "    }\n",
       "\n",
       "    .dataframe thead tr:last-of-type th {\n",
       "        text-align: right;\n",
       "    }\n",
       "</style>\n",
       "<table border=\"1\" class=\"dataframe\">\n",
       "  <thead>\n",
       "    <tr>\n",
       "      <th></th>\n",
       "      <th>obitosNovos</th>\n",
       "    </tr>\n",
       "    <tr>\n",
       "      <th></th>\n",
       "      <th>mean</th>\n",
       "    </tr>\n",
       "    <tr>\n",
       "      <th>codmun</th>\n",
       "      <th></th>\n",
       "    </tr>\n",
       "  </thead>\n",
       "  <tbody>\n",
       "    <tr>\n",
       "      <th>110001.0</th>\n",
       "      <td>0.158442</td>\n",
       "    </tr>\n",
       "    <tr>\n",
       "      <th>110002.0</th>\n",
       "      <td>1.034398</td>\n",
       "    </tr>\n",
       "    <tr>\n",
       "      <th>110003.0</th>\n",
       "      <td>0.051136</td>\n",
       "    </tr>\n",
       "    <tr>\n",
       "      <th>110004.0</th>\n",
       "      <td>0.609819</td>\n",
       "    </tr>\n",
       "    <tr>\n",
       "      <th>110005.0</th>\n",
       "      <td>0.151099</td>\n",
       "    </tr>\n",
       "  </tbody>\n",
       "</table>\n",
       "</div>"
      ],
      "text/plain": [
       "         obitosNovos\n",
       "                mean\n",
       "codmun              \n",
       "110001.0    0.158442\n",
       "110002.0    1.034398\n",
       "110003.0    0.051136\n",
       "110004.0    0.609819\n",
       "110005.0    0.151099"
      ]
     },
     "execution_count": 32,
     "metadata": {},
     "output_type": "execute_result"
    }
   ],
   "source": [
    "df_covid_mean_deaths_by_city = df_covid[['codmun', 'obitosNovos']].groupby('codmun').agg(\n",
    "    {'obitosNovos': ['mean']})\n",
    "\n",
    "df_covid_mean_deaths_by_city.head()"
   ]
  },
  {
   "cell_type": "code",
   "execution_count": null,
   "id": "6eed77c1-d4c4-49da-a449-e31072040f0a",
   "metadata": {
    "id": "12bac238-b9a8-4655-9ce7-3c627c33e15b"
   },
   "outputs": [],
   "source": [
    "df_covid_sum_population_by_city = df_covid[['codmun', 'populacaoTCU2019']].drop_duplicates().groupby(\n",
    "    by='codmun').agg(\n",
    "    {'populacaoTCU2019': 'sum'})\n",
    "\n",
    "df_covid_sum_population_by_city.head()"
   ]
  },
  {
   "cell_type": "code",
   "execution_count": 33,
   "id": "57af11aa-c6d1-4bc7-8ec0-d186efb0bd30",
   "metadata": {
    "id": "7b812683-0067-4b6f-a3f0-c528fc35780e"
   },
   "outputs": [
    {
     "data": {
      "text/html": [
       "<div>\n",
       "<style scoped>\n",
       "    .dataframe tbody tr th:only-of-type {\n",
       "        vertical-align: middle;\n",
       "    }\n",
       "\n",
       "    .dataframe tbody tr th {\n",
       "        vertical-align: top;\n",
       "    }\n",
       "\n",
       "    .dataframe thead th {\n",
       "        text-align: right;\n",
       "    }\n",
       "</style>\n",
       "<table border=\"1\" class=\"dataframe\">\n",
       "  <thead>\n",
       "    <tr style=\"text-align: right;\">\n",
       "      <th></th>\n",
       "      <th>deaths by million</th>\n",
       "    </tr>\n",
       "    <tr>\n",
       "      <th>codmun</th>\n",
       "      <th></th>\n",
       "    </tr>\n",
       "  </thead>\n",
       "  <tbody>\n",
       "    <tr>\n",
       "      <th>110001</th>\n",
       "      <td>6905.276027</td>\n",
       "    </tr>\n",
       "    <tr>\n",
       "      <th>110002</th>\n",
       "      <td>9589.924575</td>\n",
       "    </tr>\n",
       "    <tr>\n",
       "      <th>110003</th>\n",
       "      <td>9626.574480</td>\n",
       "    </tr>\n",
       "    <tr>\n",
       "      <th>110004</th>\n",
       "      <td>7144.168997</td>\n",
       "    </tr>\n",
       "    <tr>\n",
       "      <th>110005</th>\n",
       "      <td>9256.809477</td>\n",
       "    </tr>\n",
       "  </tbody>\n",
       "</table>\n",
       "</div>"
      ],
      "text/plain": [
       "        deaths by million\n",
       "codmun                   \n",
       "110001        6905.276027\n",
       "110002        9589.924575\n",
       "110003        9626.574480\n",
       "110004        7144.168997\n",
       "110005        9256.809477"
      ]
     },
     "execution_count": 33,
     "metadata": {},
     "output_type": "execute_result"
    }
   ],
   "source": [
    "df_covid_by_city_deaths_by_million = pd.DataFrame((df_covid_mean_deaths_by_city['obitosNovos']['mean'] / \\\n",
    "df_covid_sum_population_by_city['populacaoTCU2019']) * 10**9, \n",
    "             columns=['deaths by million'])\n",
    "\n",
    "df_covid_by_city_deaths_by_million.index = df_covid_by_city_deaths_by_million.index.map(str).map(lambda codmun: codmun.split('.')[0])\n",
    "\n",
    "df_covid_by_city_deaths_by_million.head()"
   ]
  },
  {
   "cell_type": "code",
   "execution_count": 34,
   "id": "0d32e4c8-07a3-4fab-98a1-e1653bf30825",
   "metadata": {},
   "outputs": [
    {
     "data": {
      "text/html": [
       "<div>\n",
       "<style scoped>\n",
       "    .dataframe tbody tr th:only-of-type {\n",
       "        vertical-align: middle;\n",
       "    }\n",
       "\n",
       "    .dataframe tbody tr th {\n",
       "        vertical-align: top;\n",
       "    }\n",
       "\n",
       "    .dataframe thead tr th {\n",
       "        text-align: left;\n",
       "    }\n",
       "\n",
       "    .dataframe thead tr:last-of-type th {\n",
       "        text-align: right;\n",
       "    }\n",
       "</style>\n",
       "<table border=\"1\" class=\"dataframe\">\n",
       "  <thead>\n",
       "    <tr>\n",
       "      <th></th>\n",
       "      <th>Falciparum</th>\n",
       "    </tr>\n",
       "    <tr>\n",
       "      <th></th>\n",
       "      <th>sum</th>\n",
       "    </tr>\n",
       "    <tr>\n",
       "      <th>CD</th>\n",
       "      <th></th>\n",
       "    </tr>\n",
       "  </thead>\n",
       "  <tbody>\n",
       "    <tr>\n",
       "      <th>110001</th>\n",
       "      <td>170.000</td>\n",
       "    </tr>\n",
       "    <tr>\n",
       "      <th>110002</th>\n",
       "      <td>2973.982</td>\n",
       "    </tr>\n",
       "    <tr>\n",
       "      <th>110003</th>\n",
       "      <td>202.000</td>\n",
       "    </tr>\n",
       "    <tr>\n",
       "      <th>110004</th>\n",
       "      <td>1437.000</td>\n",
       "    </tr>\n",
       "    <tr>\n",
       "      <th>110005</th>\n",
       "      <td>218.000</td>\n",
       "    </tr>\n",
       "  </tbody>\n",
       "</table>\n",
       "</div>"
      ],
      "text/plain": [
       "       Falciparum\n",
       "              sum\n",
       "CD               \n",
       "110001    170.000\n",
       "110002   2973.982\n",
       "110003    202.000\n",
       "110004   1437.000\n",
       "110005    218.000"
      ]
     },
     "execution_count": 34,
     "metadata": {},
     "output_type": "execute_result"
    }
   ],
   "source": [
    "df_amazon_by_city_sum_falciparum = df_amazon.groupby(['CD']).agg(\n",
    "    {'Falciparum': ['sum']}).drop('Total geral')\n",
    "\n",
    "df_amazon_by_city_sum_falciparum.head()"
   ]
  },
  {
   "cell_type": "code",
   "execution_count": 35,
   "id": "c07407a4-eaf6-4f92-a621-ffc24c8091ac",
   "metadata": {},
   "outputs": [
    {
     "name": "stdout",
     "output_type": "stream",
     "text": [
      "706\n"
     ]
    },
    {
     "data": {
      "text/plain": [
       "['110001',\n",
       " '110002',\n",
       " '110003',\n",
       " '110004',\n",
       " '110005',\n",
       " '110006',\n",
       " '110007',\n",
       " '110008',\n",
       " '110009',\n",
       " '110010']"
      ]
     },
     "execution_count": 35,
     "metadata": {},
     "output_type": "execute_result"
    }
   ],
   "source": [
    "amazon_cities = df_amazon.CD.drop_duplicates().tolist()\n",
    "amazon_cities.remove('Total geral')\n",
    "\n",
    "print(len(amazon_cities))\n",
    "amazon_cities[:10]"
   ]
  },
  {
   "cell_type": "code",
   "execution_count": 36,
   "id": "6eb742eb-7e94-4e74-911e-e55057ed23a6",
   "metadata": {},
   "outputs": [
    {
     "data": {
      "text/html": [
       "<div>\n",
       "<style scoped>\n",
       "    .dataframe tbody tr th:only-of-type {\n",
       "        vertical-align: middle;\n",
       "    }\n",
       "\n",
       "    .dataframe tbody tr th {\n",
       "        vertical-align: top;\n",
       "    }\n",
       "\n",
       "    .dataframe thead th {\n",
       "        text-align: right;\n",
       "    }\n",
       "</style>\n",
       "<table border=\"1\" class=\"dataframe\">\n",
       "  <thead>\n",
       "    <tr style=\"text-align: right;\">\n",
       "      <th></th>\n",
       "      <th>deaths by million</th>\n",
       "    </tr>\n",
       "    <tr>\n",
       "      <th>codmun</th>\n",
       "      <th></th>\n",
       "    </tr>\n",
       "  </thead>\n",
       "  <tbody>\n",
       "    <tr>\n",
       "      <th>110001</th>\n",
       "      <td>6905.276027</td>\n",
       "    </tr>\n",
       "    <tr>\n",
       "      <th>110002</th>\n",
       "      <td>9589.924575</td>\n",
       "    </tr>\n",
       "    <tr>\n",
       "      <th>110003</th>\n",
       "      <td>9626.574480</td>\n",
       "    </tr>\n",
       "    <tr>\n",
       "      <th>110004</th>\n",
       "      <td>7144.168997</td>\n",
       "    </tr>\n",
       "    <tr>\n",
       "      <th>110005</th>\n",
       "      <td>9256.809477</td>\n",
       "    </tr>\n",
       "    <tr>\n",
       "      <th>...</th>\n",
       "      <td>...</td>\n",
       "    </tr>\n",
       "    <tr>\n",
       "      <th>510860</th>\n",
       "      <td>2484.542265</td>\n",
       "    </tr>\n",
       "    <tr>\n",
       "      <th>510880</th>\n",
       "      <td>7990.951784</td>\n",
       "    </tr>\n",
       "    <tr>\n",
       "      <th>510885</th>\n",
       "      <td>4383.104360</td>\n",
       "    </tr>\n",
       "    <tr>\n",
       "      <th>510890</th>\n",
       "      <td>2925.691341</td>\n",
       "    </tr>\n",
       "    <tr>\n",
       "      <th>510895</th>\n",
       "      <td>4410.131889</td>\n",
       "    </tr>\n",
       "  </tbody>\n",
       "</table>\n",
       "<p>706 rows × 1 columns</p>\n",
       "</div>"
      ],
      "text/plain": [
       "        deaths by million\n",
       "codmun                   \n",
       "110001        6905.276027\n",
       "110002        9589.924575\n",
       "110003        9626.574480\n",
       "110004        7144.168997\n",
       "110005        9256.809477\n",
       "...                   ...\n",
       "510860        2484.542265\n",
       "510880        7990.951784\n",
       "510885        4383.104360\n",
       "510890        2925.691341\n",
       "510895        4410.131889\n",
       "\n",
       "[706 rows x 1 columns]"
      ]
     },
     "execution_count": 36,
     "metadata": {},
     "output_type": "execute_result"
    }
   ],
   "source": [
    "bol_amazon_cities = np.array(\n",
    "    [city in amazon_cities for city in df_covid_by_city_deaths_by_million.index]\n",
    ").reshape(df_covid_by_city_deaths_by_million.shape[0], 1)\n",
    "\n",
    "df_covid_by_city_deaths_by_million[bol_amazon_cities]"
   ]
  },
  {
   "cell_type": "code",
   "execution_count": 37,
   "id": "952c4035-5eb1-4714-8345-832d4ec63a75",
   "metadata": {},
   "outputs": [
    {
     "name": "stderr",
     "output_type": "stream",
     "text": [
      "/home/bruno/Documents/dev/lgdc-covid-19-and-malaria/venv-lgdc-covid-19-and-malaria/lib/python3.8/site-packages/pandas/core/reshape/merge.py:648: UserWarning:\n",
      "\n",
      "merging between different levels can give an unintended result (1 levels on the left,2 on the right)\n",
      "\n",
      "/home/bruno/Documents/dev/lgdc-covid-19-and-malaria/venv-lgdc-covid-19-and-malaria/lib/python3.8/site-packages/pandas/core/generic.py:4153: PerformanceWarning:\n",
      "\n",
      "dropping on a non-lexsorted multi-index without a level parameter may impact performance.\n",
      "\n"
     ]
    },
    {
     "data": {
      "text/html": [
       "<div>\n",
       "<style scoped>\n",
       "    .dataframe tbody tr th:only-of-type {\n",
       "        vertical-align: middle;\n",
       "    }\n",
       "\n",
       "    .dataframe tbody tr th {\n",
       "        vertical-align: top;\n",
       "    }\n",
       "\n",
       "    .dataframe thead th {\n",
       "        text-align: right;\n",
       "    }\n",
       "</style>\n",
       "<table border=\"1\" class=\"dataframe\">\n",
       "  <thead>\n",
       "    <tr style=\"text-align: right;\">\n",
       "      <th></th>\n",
       "      <th>codmun</th>\n",
       "      <th>deaths by million</th>\n",
       "      <th>(Falciparum, sum)</th>\n",
       "    </tr>\n",
       "  </thead>\n",
       "  <tbody>\n",
       "    <tr>\n",
       "      <th>42</th>\n",
       "      <td>110146</td>\n",
       "      <td>19103.948404</td>\n",
       "      <td>186.0</td>\n",
       "    </tr>\n",
       "    <tr>\n",
       "      <th>635</th>\n",
       "      <td>510455</td>\n",
       "      <td>17897.774139</td>\n",
       "      <td>3.0</td>\n",
       "    </tr>\n",
       "    <tr>\n",
       "      <th>676</th>\n",
       "      <td>510719</td>\n",
       "      <td>12561.946097</td>\n",
       "      <td>0.0</td>\n",
       "    </tr>\n",
       "    <tr>\n",
       "      <th>9</th>\n",
       "      <td>110010</td>\n",
       "      <td>11696.012466</td>\n",
       "      <td>2848.0</td>\n",
       "    </tr>\n",
       "    <tr>\n",
       "      <th>376</th>\n",
       "      <td>172065</td>\n",
       "      <td>11291.496865</td>\n",
       "      <td>0.0</td>\n",
       "    </tr>\n",
       "    <tr>\n",
       "      <th>...</th>\n",
       "      <td>...</td>\n",
       "      <td>...</td>\n",
       "      <td>...</td>\n",
       "    </tr>\n",
       "    <tr>\n",
       "      <th>553</th>\n",
       "      <td>211085</td>\n",
       "      <td>220.156179</td>\n",
       "      <td>4.0</td>\n",
       "    </tr>\n",
       "    <tr>\n",
       "      <th>528</th>\n",
       "      <td>210920</td>\n",
       "      <td>198.809924</td>\n",
       "      <td>0.0</td>\n",
       "    </tr>\n",
       "    <tr>\n",
       "      <th>538</th>\n",
       "      <td>210975</td>\n",
       "      <td>0.000000</td>\n",
       "      <td>6.0</td>\n",
       "    </tr>\n",
       "    <tr>\n",
       "      <th>684</th>\n",
       "      <td>510774</td>\n",
       "      <td>0.000000</td>\n",
       "      <td>1.0</td>\n",
       "    </tr>\n",
       "    <tr>\n",
       "      <th>379</th>\n",
       "      <td>172093</td>\n",
       "      <td>0.000000</td>\n",
       "      <td>0.0</td>\n",
       "    </tr>\n",
       "  </tbody>\n",
       "</table>\n",
       "<p>706 rows × 3 columns</p>\n",
       "</div>"
      ],
      "text/plain": [
       "     codmun  deaths by million  (Falciparum, sum)\n",
       "42   110146       19103.948404              186.0\n",
       "635  510455       17897.774139                3.0\n",
       "676  510719       12561.946097                0.0\n",
       "9    110010       11696.012466             2848.0\n",
       "376  172065       11291.496865                0.0\n",
       "..      ...                ...                ...\n",
       "553  211085         220.156179                4.0\n",
       "528  210920         198.809924                0.0\n",
       "538  210975           0.000000                6.0\n",
       "684  510774           0.000000                1.0\n",
       "379  172093           0.000000                0.0\n",
       "\n",
       "[706 rows x 3 columns]"
      ]
     },
     "execution_count": 37,
     "metadata": {},
     "output_type": "execute_result"
    }
   ],
   "source": [
    "df_deaths_by_million_vs_sum_falciparum_by_city = pd.merge(\n",
    "    left=df_covid_by_city_deaths_by_million[bol_amazon_cities].reset_index(),\n",
    "    right=df_amazon_by_city_sum_falciparum.reset_index().rename(columns={'CD': 'codmun'}),\n",
    "    on='codmun').sort_values(by=('deaths by million'), ascending=False)\n",
    "\n",
    "df_deaths_by_million_vs_sum_falciparum_by_city"
   ]
  },
  {
   "cell_type": "markdown",
   "id": "78d49b16-1468-4b39-be29-1de5857a6ea9",
   "metadata": {},
   "source": [
    "#### <center> Amazon </center>"
   ]
  },
  {
   "cell_type": "code",
   "execution_count": 44,
   "id": "a4ec5025-d443-4708-8ce0-a68516a93fc3",
   "metadata": {},
   "outputs": [
    {
     "data": {
      "text/plain": [
       "codmun                       inf\n",
       "deaths by million    3766.204675\n",
       "dtype: float64"
      ]
     },
     "execution_count": 44,
     "metadata": {},
     "output_type": "execute_result"
    }
   ],
   "source": [
    "df_deaths_by_million_vs_sum_falciparum_by_city[['codmun', 'deaths by million']].mean()"
   ]
  },
  {
   "cell_type": "code",
   "execution_count": 39,
   "id": "ecede923-11f9-43e0-9722-52211b4709f1",
   "metadata": {},
   "outputs": [
    {
     "data": {
      "text/plain": [
       "deaths by million    2523.062031\n",
       "dtype: float64"
      ]
     },
     "execution_count": 39,
     "metadata": {},
     "output_type": "execute_result"
    }
   ],
   "source": [
    "df_deaths_by_million_vs_sum_falciparum_by_city[['codmun', 'deaths by million']].std()"
   ]
  },
  {
   "cell_type": "code",
   "execution_count": 40,
   "id": "3fa9389c-9b10-4f1c-86a3-a1af627855a9",
   "metadata": {},
   "outputs": [
    {
     "data": {
      "text/plain": [
       "(Falciparum, sum)    568.159693\n",
       "dtype: float64"
      ]
     },
     "execution_count": 40,
     "metadata": {},
     "output_type": "execute_result"
    }
   ],
   "source": [
    "df_deaths_by_million_vs_sum_falciparum_by_city[[('Falciparum', 'sum')]].mean()"
   ]
  },
  {
   "cell_type": "code",
   "execution_count": 41,
   "id": "ccac61ac-64f1-49bd-8dcd-0942b44fc7cb",
   "metadata": {},
   "outputs": [
    {
     "data": {
      "text/plain": [
       "(Falciparum, sum)    1215.38904\n",
       "dtype: float64"
      ]
     },
     "execution_count": 41,
     "metadata": {},
     "output_type": "execute_result"
    }
   ],
   "source": [
    "df_deaths_by_million_vs_sum_falciparum_by_city[[('Falciparum', 'sum')]].std()"
   ]
  },
  {
   "cell_type": "markdown",
   "id": "43e13256-08ad-49cc-bd26-b102df76d0d9",
   "metadata": {},
   "source": [
    "#### <center>No Amazon</center>"
   ]
  },
  {
   "cell_type": "code",
   "execution_count": 45,
   "id": "2d84e4b4-7fa6-44df-9bca-30ee10b66ea1",
   "metadata": {},
   "outputs": [
    {
     "data": {
      "text/plain": [
       "deaths by million    4179.158202\n",
       "dtype: float64"
      ]
     },
     "execution_count": 45,
     "metadata": {},
     "output_type": "execute_result"
    }
   ],
   "source": [
    "df_covid_by_city_deaths_by_million[np.logical_not(bol_amazon_cities)].mean()"
   ]
  },
  {
   "cell_type": "code",
   "execution_count": 46,
   "id": "92a44411-9c68-49fb-aff9-e448fbd69e5f",
   "metadata": {},
   "outputs": [
    {
     "data": {
      "text/plain": [
       "deaths by million    2416.82618\n",
       "dtype: float64"
      ]
     },
     "execution_count": 46,
     "metadata": {},
     "output_type": "execute_result"
    }
   ],
   "source": [
    "df_covid_by_city_deaths_by_million[np.logical_not(bol_amazon_cities)].std()"
   ]
  },
  {
   "cell_type": "code",
   "execution_count": null,
   "id": "6c5d4665-6c9f-449f-a08a-7dbee6282d7f",
   "metadata": {},
   "outputs": [],
   "source": [
    "df_covid_by_city_deaths_by_million[np.logical_not(bol_amazon_cities)]"
   ]
  },
  {
   "cell_type": "markdown",
   "id": "eaa2fafa-cd82-4366-8d35-75e5e7c34fc8",
   "metadata": {},
   "source": [
    "### 13.3 (df covid: deaths by million) vs (df amazon: num cases p. vivax + p. falciparum)"
   ]
  },
  {
   "cell_type": "code",
   "execution_count": 47,
   "id": "e30899c3-8624-4fea-adb6-9a729978d928",
   "metadata": {
    "id": "a7af75ed-bd14-424f-9e06-74ff2cefd63b"
   },
   "outputs": [
    {
     "data": {
      "text/html": [
       "<div>\n",
       "<style scoped>\n",
       "    .dataframe tbody tr th:only-of-type {\n",
       "        vertical-align: middle;\n",
       "    }\n",
       "\n",
       "    .dataframe tbody tr th {\n",
       "        vertical-align: top;\n",
       "    }\n",
       "\n",
       "    .dataframe thead tr th {\n",
       "        text-align: left;\n",
       "    }\n",
       "\n",
       "    .dataframe thead tr:last-of-type th {\n",
       "        text-align: right;\n",
       "    }\n",
       "</style>\n",
       "<table border=\"1\" class=\"dataframe\">\n",
       "  <thead>\n",
       "    <tr>\n",
       "      <th></th>\n",
       "      <th>obitosNovos</th>\n",
       "    </tr>\n",
       "    <tr>\n",
       "      <th></th>\n",
       "      <th>mean</th>\n",
       "    </tr>\n",
       "    <tr>\n",
       "      <th>codmun</th>\n",
       "      <th></th>\n",
       "    </tr>\n",
       "  </thead>\n",
       "  <tbody>\n",
       "    <tr>\n",
       "      <th>110001.0</th>\n",
       "      <td>0.158442</td>\n",
       "    </tr>\n",
       "    <tr>\n",
       "      <th>110002.0</th>\n",
       "      <td>1.034398</td>\n",
       "    </tr>\n",
       "    <tr>\n",
       "      <th>110003.0</th>\n",
       "      <td>0.051136</td>\n",
       "    </tr>\n",
       "    <tr>\n",
       "      <th>110004.0</th>\n",
       "      <td>0.609819</td>\n",
       "    </tr>\n",
       "    <tr>\n",
       "      <th>110005.0</th>\n",
       "      <td>0.151099</td>\n",
       "    </tr>\n",
       "  </tbody>\n",
       "</table>\n",
       "</div>"
      ],
      "text/plain": [
       "         obitosNovos\n",
       "                mean\n",
       "codmun              \n",
       "110001.0    0.158442\n",
       "110002.0    1.034398\n",
       "110003.0    0.051136\n",
       "110004.0    0.609819\n",
       "110005.0    0.151099"
      ]
     },
     "execution_count": 47,
     "metadata": {},
     "output_type": "execute_result"
    }
   ],
   "source": [
    "df_covid_mean_deaths_by_city = df_covid[['codmun', 'obitosNovos']].groupby('codmun').agg(\n",
    "    {'obitosNovos': ['mean']})\n",
    "\n",
    "df_covid_mean_deaths_by_city.head()"
   ]
  },
  {
   "cell_type": "code",
   "execution_count": 48,
   "id": "e91e1953-97f1-4585-be70-c5a11420e4a1",
   "metadata": {
    "id": "12bac238-b9a8-4655-9ce7-3c627c33e15b"
   },
   "outputs": [
    {
     "data": {
      "text/html": [
       "<div>\n",
       "<style scoped>\n",
       "    .dataframe tbody tr th:only-of-type {\n",
       "        vertical-align: middle;\n",
       "    }\n",
       "\n",
       "    .dataframe tbody tr th {\n",
       "        vertical-align: top;\n",
       "    }\n",
       "\n",
       "    .dataframe thead th {\n",
       "        text-align: right;\n",
       "    }\n",
       "</style>\n",
       "<table border=\"1\" class=\"dataframe\">\n",
       "  <thead>\n",
       "    <tr style=\"text-align: right;\">\n",
       "      <th></th>\n",
       "      <th>populacaoTCU2019</th>\n",
       "    </tr>\n",
       "    <tr>\n",
       "      <th>codmun</th>\n",
       "      <th></th>\n",
       "    </tr>\n",
       "  </thead>\n",
       "  <tbody>\n",
       "    <tr>\n",
       "      <th>110001.0</th>\n",
       "      <td>22945.0</td>\n",
       "    </tr>\n",
       "    <tr>\n",
       "      <th>110002.0</th>\n",
       "      <td>107863.0</td>\n",
       "    </tr>\n",
       "    <tr>\n",
       "      <th>110003.0</th>\n",
       "      <td>5312.0</td>\n",
       "    </tr>\n",
       "    <tr>\n",
       "      <th>110004.0</th>\n",
       "      <td>85359.0</td>\n",
       "    </tr>\n",
       "    <tr>\n",
       "      <th>110005.0</th>\n",
       "      <td>16323.0</td>\n",
       "    </tr>\n",
       "  </tbody>\n",
       "</table>\n",
       "</div>"
      ],
      "text/plain": [
       "          populacaoTCU2019\n",
       "codmun                    \n",
       "110001.0           22945.0\n",
       "110002.0          107863.0\n",
       "110003.0            5312.0\n",
       "110004.0           85359.0\n",
       "110005.0           16323.0"
      ]
     },
     "execution_count": 48,
     "metadata": {},
     "output_type": "execute_result"
    }
   ],
   "source": [
    "df_covid_sum_population_by_city = df_covid[['codmun', 'populacaoTCU2019']].drop_duplicates().groupby(\n",
    "    by='codmun').agg(\n",
    "    {'populacaoTCU2019': 'sum'})\n",
    "\n",
    "df_covid_sum_population_by_city.head()"
   ]
  },
  {
   "cell_type": "code",
   "execution_count": 49,
   "id": "0aad8a62-f5c5-4022-afb4-0d3dea44a72c",
   "metadata": {
    "id": "7b812683-0067-4b6f-a3f0-c528fc35780e"
   },
   "outputs": [
    {
     "data": {
      "text/html": [
       "<div>\n",
       "<style scoped>\n",
       "    .dataframe tbody tr th:only-of-type {\n",
       "        vertical-align: middle;\n",
       "    }\n",
       "\n",
       "    .dataframe tbody tr th {\n",
       "        vertical-align: top;\n",
       "    }\n",
       "\n",
       "    .dataframe thead th {\n",
       "        text-align: right;\n",
       "    }\n",
       "</style>\n",
       "<table border=\"1\" class=\"dataframe\">\n",
       "  <thead>\n",
       "    <tr style=\"text-align: right;\">\n",
       "      <th></th>\n",
       "      <th>deaths by million</th>\n",
       "    </tr>\n",
       "    <tr>\n",
       "      <th>codmun</th>\n",
       "      <th></th>\n",
       "    </tr>\n",
       "  </thead>\n",
       "  <tbody>\n",
       "    <tr>\n",
       "      <th>110001</th>\n",
       "      <td>6905.276027</td>\n",
       "    </tr>\n",
       "    <tr>\n",
       "      <th>110002</th>\n",
       "      <td>9589.924575</td>\n",
       "    </tr>\n",
       "    <tr>\n",
       "      <th>110003</th>\n",
       "      <td>9626.574480</td>\n",
       "    </tr>\n",
       "    <tr>\n",
       "      <th>110004</th>\n",
       "      <td>7144.168997</td>\n",
       "    </tr>\n",
       "    <tr>\n",
       "      <th>110005</th>\n",
       "      <td>9256.809477</td>\n",
       "    </tr>\n",
       "  </tbody>\n",
       "</table>\n",
       "</div>"
      ],
      "text/plain": [
       "        deaths by million\n",
       "codmun                   \n",
       "110001        6905.276027\n",
       "110002        9589.924575\n",
       "110003        9626.574480\n",
       "110004        7144.168997\n",
       "110005        9256.809477"
      ]
     },
     "execution_count": 49,
     "metadata": {},
     "output_type": "execute_result"
    }
   ],
   "source": [
    "df_covid_by_city_deaths_by_million = pd.DataFrame((df_covid_mean_deaths_by_city['obitosNovos']['mean'] / \\\n",
    "df_covid_sum_population_by_city['populacaoTCU2019']) * 10**9, \n",
    "             columns=['deaths by million'])\n",
    "\n",
    "df_covid_by_city_deaths_by_million.index = df_covid_by_city_deaths_by_million.index.map(str).map(lambda codmun: codmun.split('.')[0])\n",
    "\n",
    "df_covid_by_city_deaths_by_million.head()"
   ]
  },
  {
   "cell_type": "code",
   "execution_count": 50,
   "id": "e1393059-f7c5-4309-9613-4ee1c771b570",
   "metadata": {},
   "outputs": [
    {
     "data": {
      "text/html": [
       "<div>\n",
       "<style scoped>\n",
       "    .dataframe tbody tr th:only-of-type {\n",
       "        vertical-align: middle;\n",
       "    }\n",
       "\n",
       "    .dataframe tbody tr th {\n",
       "        vertical-align: top;\n",
       "    }\n",
       "\n",
       "    .dataframe thead th {\n",
       "        text-align: right;\n",
       "    }\n",
       "</style>\n",
       "<table border=\"1\" class=\"dataframe\">\n",
       "  <thead>\n",
       "    <tr style=\"text-align: right;\">\n",
       "      <th></th>\n",
       "      <th>sum_vivax_falciparum</th>\n",
       "    </tr>\n",
       "    <tr>\n",
       "      <th>CD</th>\n",
       "      <th></th>\n",
       "    </tr>\n",
       "  </thead>\n",
       "  <tbody>\n",
       "    <tr>\n",
       "      <th>110001</th>\n",
       "      <td>1689.000</td>\n",
       "    </tr>\n",
       "    <tr>\n",
       "      <th>110002</th>\n",
       "      <td>7230.180</td>\n",
       "    </tr>\n",
       "    <tr>\n",
       "      <th>110003</th>\n",
       "      <td>384.000</td>\n",
       "    </tr>\n",
       "    <tr>\n",
       "      <th>110004</th>\n",
       "      <td>5558.163</td>\n",
       "    </tr>\n",
       "    <tr>\n",
       "      <th>110005</th>\n",
       "      <td>865.000</td>\n",
       "    </tr>\n",
       "  </tbody>\n",
       "</table>\n",
       "</div>"
      ],
      "text/plain": [
       "        sum_vivax_falciparum\n",
       "CD                          \n",
       "110001              1689.000\n",
       "110002              7230.180\n",
       "110003               384.000\n",
       "110004              5558.163\n",
       "110005               865.000"
      ]
     },
     "execution_count": 50,
     "metadata": {},
     "output_type": "execute_result"
    }
   ],
   "source": [
    "df_amazon_by_city_sum_vivax_falciparum = pd.DataFrame(\n",
    "    df_amazon.groupby(['CD']).agg(\n",
    "        {'Vivax': ['sum'], \n",
    "         'Falciparum': ['sum']}).drop('Total geral').sum(axis=1), \n",
    "    columns=['sum_vivax_falciparum'])\n",
    "\n",
    "df_amazon_by_city_sum_vivax_falciparum.head()"
   ]
  },
  {
   "cell_type": "code",
   "execution_count": 51,
   "id": "e4cff638-492d-48dd-9d5c-ac5f96cf52e9",
   "metadata": {},
   "outputs": [
    {
     "name": "stdout",
     "output_type": "stream",
     "text": [
      "706\n"
     ]
    },
    {
     "data": {
      "text/plain": [
       "['110001',\n",
       " '110002',\n",
       " '110003',\n",
       " '110004',\n",
       " '110005',\n",
       " '110006',\n",
       " '110007',\n",
       " '110008',\n",
       " '110009',\n",
       " '110010']"
      ]
     },
     "execution_count": 51,
     "metadata": {},
     "output_type": "execute_result"
    }
   ],
   "source": [
    "amazon_cities = df_amazon.CD.drop_duplicates().tolist()\n",
    "amazon_cities.remove('Total geral')\n",
    "\n",
    "print(len(amazon_cities))\n",
    "amazon_cities[:10]"
   ]
  },
  {
   "cell_type": "code",
   "execution_count": 52,
   "id": "62f62d09-6f2f-4416-afc5-b9e816d6fd89",
   "metadata": {},
   "outputs": [
    {
     "data": {
      "text/html": [
       "<div>\n",
       "<style scoped>\n",
       "    .dataframe tbody tr th:only-of-type {\n",
       "        vertical-align: middle;\n",
       "    }\n",
       "\n",
       "    .dataframe tbody tr th {\n",
       "        vertical-align: top;\n",
       "    }\n",
       "\n",
       "    .dataframe thead th {\n",
       "        text-align: right;\n",
       "    }\n",
       "</style>\n",
       "<table border=\"1\" class=\"dataframe\">\n",
       "  <thead>\n",
       "    <tr style=\"text-align: right;\">\n",
       "      <th></th>\n",
       "      <th>deaths by million</th>\n",
       "    </tr>\n",
       "    <tr>\n",
       "      <th>codmun</th>\n",
       "      <th></th>\n",
       "    </tr>\n",
       "  </thead>\n",
       "  <tbody>\n",
       "    <tr>\n",
       "      <th>110001</th>\n",
       "      <td>6905.276027</td>\n",
       "    </tr>\n",
       "    <tr>\n",
       "      <th>110002</th>\n",
       "      <td>9589.924575</td>\n",
       "    </tr>\n",
       "    <tr>\n",
       "      <th>110003</th>\n",
       "      <td>9626.574480</td>\n",
       "    </tr>\n",
       "    <tr>\n",
       "      <th>110004</th>\n",
       "      <td>7144.168997</td>\n",
       "    </tr>\n",
       "    <tr>\n",
       "      <th>110005</th>\n",
       "      <td>9256.809477</td>\n",
       "    </tr>\n",
       "    <tr>\n",
       "      <th>...</th>\n",
       "      <td>...</td>\n",
       "    </tr>\n",
       "    <tr>\n",
       "      <th>510860</th>\n",
       "      <td>2484.542265</td>\n",
       "    </tr>\n",
       "    <tr>\n",
       "      <th>510880</th>\n",
       "      <td>7990.951784</td>\n",
       "    </tr>\n",
       "    <tr>\n",
       "      <th>510885</th>\n",
       "      <td>4383.104360</td>\n",
       "    </tr>\n",
       "    <tr>\n",
       "      <th>510890</th>\n",
       "      <td>2925.691341</td>\n",
       "    </tr>\n",
       "    <tr>\n",
       "      <th>510895</th>\n",
       "      <td>4410.131889</td>\n",
       "    </tr>\n",
       "  </tbody>\n",
       "</table>\n",
       "<p>706 rows × 1 columns</p>\n",
       "</div>"
      ],
      "text/plain": [
       "        deaths by million\n",
       "codmun                   \n",
       "110001        6905.276027\n",
       "110002        9589.924575\n",
       "110003        9626.574480\n",
       "110004        7144.168997\n",
       "110005        9256.809477\n",
       "...                   ...\n",
       "510860        2484.542265\n",
       "510880        7990.951784\n",
       "510885        4383.104360\n",
       "510890        2925.691341\n",
       "510895        4410.131889\n",
       "\n",
       "[706 rows x 1 columns]"
      ]
     },
     "execution_count": 52,
     "metadata": {},
     "output_type": "execute_result"
    }
   ],
   "source": [
    "bol_amazon_cities = np.array(\n",
    "    [city in amazon_cities for city in df_covid_by_city_deaths_by_million.index]\n",
    ").reshape(df_covid_by_city_deaths_by_million.shape[0], 1)\n",
    "\n",
    "df_covid_by_city_deaths_by_million[bol_amazon_cities]"
   ]
  },
  {
   "cell_type": "code",
   "execution_count": 53,
   "id": "633d2ef3-0836-4587-8258-650ffa532f66",
   "metadata": {},
   "outputs": [
    {
     "data": {
      "text/html": [
       "<div>\n",
       "<style scoped>\n",
       "    .dataframe tbody tr th:only-of-type {\n",
       "        vertical-align: middle;\n",
       "    }\n",
       "\n",
       "    .dataframe tbody tr th {\n",
       "        vertical-align: top;\n",
       "    }\n",
       "\n",
       "    .dataframe thead th {\n",
       "        text-align: right;\n",
       "    }\n",
       "</style>\n",
       "<table border=\"1\" class=\"dataframe\">\n",
       "  <thead>\n",
       "    <tr style=\"text-align: right;\">\n",
       "      <th></th>\n",
       "      <th>codmun</th>\n",
       "      <th>deaths by million</th>\n",
       "      <th>sum_vivax_falciparum</th>\n",
       "    </tr>\n",
       "  </thead>\n",
       "  <tbody>\n",
       "    <tr>\n",
       "      <th>42</th>\n",
       "      <td>110146</td>\n",
       "      <td>19103.948404</td>\n",
       "      <td>781.000</td>\n",
       "    </tr>\n",
       "    <tr>\n",
       "      <th>635</th>\n",
       "      <td>510455</td>\n",
       "      <td>17897.774139</td>\n",
       "      <td>73.000</td>\n",
       "    </tr>\n",
       "    <tr>\n",
       "      <th>676</th>\n",
       "      <td>510719</td>\n",
       "      <td>12561.946097</td>\n",
       "      <td>9.000</td>\n",
       "    </tr>\n",
       "    <tr>\n",
       "      <th>9</th>\n",
       "      <td>110010</td>\n",
       "      <td>11696.012466</td>\n",
       "      <td>9143.477</td>\n",
       "    </tr>\n",
       "    <tr>\n",
       "      <th>376</th>\n",
       "      <td>172065</td>\n",
       "      <td>11291.496865</td>\n",
       "      <td>2.000</td>\n",
       "    </tr>\n",
       "    <tr>\n",
       "      <th>...</th>\n",
       "      <td>...</td>\n",
       "      <td>...</td>\n",
       "      <td>...</td>\n",
       "    </tr>\n",
       "    <tr>\n",
       "      <th>553</th>\n",
       "      <td>211085</td>\n",
       "      <td>220.156179</td>\n",
       "      <td>20.000</td>\n",
       "    </tr>\n",
       "    <tr>\n",
       "      <th>528</th>\n",
       "      <td>210920</td>\n",
       "      <td>198.809924</td>\n",
       "      <td>283.000</td>\n",
       "    </tr>\n",
       "    <tr>\n",
       "      <th>538</th>\n",
       "      <td>210975</td>\n",
       "      <td>0.000000</td>\n",
       "      <td>25.000</td>\n",
       "    </tr>\n",
       "    <tr>\n",
       "      <th>684</th>\n",
       "      <td>510774</td>\n",
       "      <td>0.000000</td>\n",
       "      <td>4.000</td>\n",
       "    </tr>\n",
       "    <tr>\n",
       "      <th>379</th>\n",
       "      <td>172093</td>\n",
       "      <td>0.000000</td>\n",
       "      <td>8.000</td>\n",
       "    </tr>\n",
       "  </tbody>\n",
       "</table>\n",
       "<p>706 rows × 3 columns</p>\n",
       "</div>"
      ],
      "text/plain": [
       "     codmun  deaths by million  sum_vivax_falciparum\n",
       "42   110146       19103.948404               781.000\n",
       "635  510455       17897.774139                73.000\n",
       "676  510719       12561.946097                 9.000\n",
       "9    110010       11696.012466              9143.477\n",
       "376  172065       11291.496865                 2.000\n",
       "..      ...                ...                   ...\n",
       "553  211085         220.156179                20.000\n",
       "528  210920         198.809924               283.000\n",
       "538  210975           0.000000                25.000\n",
       "684  510774           0.000000                 4.000\n",
       "379  172093           0.000000                 8.000\n",
       "\n",
       "[706 rows x 3 columns]"
      ]
     },
     "execution_count": 53,
     "metadata": {},
     "output_type": "execute_result"
    }
   ],
   "source": [
    "df_deaths_by_million_vs_sum_vivax_falciparum_by_city = pd.merge(\n",
    "    left=df_covid_by_city_deaths_by_million[bol_amazon_cities].reset_index(),\n",
    "    right=df_amazon_by_city_sum_vivax_falciparum.reset_index().rename(columns={'CD': 'codmun'}),\n",
    "    on='codmun').sort_values(by=('deaths by million'), ascending=False)\n",
    "\n",
    "df_deaths_by_million_vs_sum_vivax_falciparum_by_city"
   ]
  },
  {
   "cell_type": "markdown",
   "id": "86469cbd-db41-4406-b8a4-fabba71071a8",
   "metadata": {},
   "source": [
    "#### <center> Amazon </center>"
   ]
  },
  {
   "cell_type": "code",
   "execution_count": 54,
   "id": "ae22fcb7-a155-4c39-87c9-1c5466128f4e",
   "metadata": {},
   "outputs": [
    {
     "data": {
      "text/plain": [
       "codmun                       inf\n",
       "deaths by million    3766.204675\n",
       "dtype: float64"
      ]
     },
     "execution_count": 54,
     "metadata": {},
     "output_type": "execute_result"
    }
   ],
   "source": [
    "df_deaths_by_million_vs_sum_vivax_falciparum_by_city[['codmun', 'deaths by million']].mean()"
   ]
  },
  {
   "cell_type": "code",
   "execution_count": 55,
   "id": "04549bb2-21a7-4e53-ab8e-7abfe79181fb",
   "metadata": {},
   "outputs": [
    {
     "data": {
      "text/plain": [
       "deaths by million    2523.062031\n",
       "dtype: float64"
      ]
     },
     "execution_count": 55,
     "metadata": {},
     "output_type": "execute_result"
    }
   ],
   "source": [
    "df_deaths_by_million_vs_sum_vivax_falciparum_by_city[['codmun', 'deaths by million']].std()"
   ]
  },
  {
   "cell_type": "code",
   "execution_count": 56,
   "id": "5812e06d-c442-41ff-bdb4-da9f7a894229",
   "metadata": {},
   "outputs": [
    {
     "data": {
      "text/plain": [
       "sum_vivax_falciparum    1689.021272\n",
       "dtype: float64"
      ]
     },
     "execution_count": 56,
     "metadata": {},
     "output_type": "execute_result"
    }
   ],
   "source": [
    "df_deaths_by_million_vs_sum_vivax_falciparum_by_city[['sum_vivax_falciparum']].mean()"
   ]
  },
  {
   "cell_type": "code",
   "execution_count": 57,
   "id": "d44716a0-4607-4475-8399-1b403a17cf03",
   "metadata": {},
   "outputs": [
    {
     "data": {
      "text/plain": [
       "sum_vivax_falciparum    2617.84599\n",
       "dtype: float64"
      ]
     },
     "execution_count": 57,
     "metadata": {},
     "output_type": "execute_result"
    }
   ],
   "source": [
    "df_deaths_by_million_vs_sum_vivax_falciparum_by_city[['sum_vivax_falciparum']].std()"
   ]
  },
  {
   "cell_type": "markdown",
   "id": "bc4901b4-e72c-4c8e-b527-9f326a31bf52",
   "metadata": {},
   "source": [
    "#### <center>No Amazon</center>"
   ]
  },
  {
   "cell_type": "code",
   "execution_count": null,
   "id": "068ac2ec-5688-4c16-83f0-5c3615f734e5",
   "metadata": {},
   "outputs": [],
   "source": [
    "df_covid_by_city_deaths_by_million[np.logical_not(bol_amazon_cities)].mean()"
   ]
  },
  {
   "cell_type": "code",
   "execution_count": null,
   "id": "26a6fc47-fc2d-4f93-824a-24d5c6796bfe",
   "metadata": {},
   "outputs": [],
   "source": [
    "df_covid_by_city_deaths_by_million[np.logical_not(bol_amazon_cities)].std()"
   ]
  },
  {
   "cell_type": "code",
   "execution_count": null,
   "id": "8b442dca-5ee9-48b7-83fb-85f023d7c8bd",
   "metadata": {},
   "outputs": [],
   "source": [
    "df_covid_by_city_deaths_by_million[np.logical_not(bol_amazon_cities)]"
   ]
  },
  {
   "cell_type": "markdown",
   "id": "e4b5dfd1-4a92-487b-a7cd-6de3936b6fec",
   "metadata": {},
   "source": [
    "### 13.4 (df covid: deaths by million) vs (df amazon: num cases all p. species)"
   ]
  },
  {
   "cell_type": "code",
   "execution_count": null,
   "id": "db91c7e8-a8a9-4185-8390-a7bb5f1eb226",
   "metadata": {
    "id": "a7af75ed-bd14-424f-9e06-74ff2cefd63b"
   },
   "outputs": [],
   "source": [
    "df_covid_mean_deaths_by_city = df_covid[['codmun', 'obitosNovos']].groupby('codmun').agg(\n",
    "    {'obitosNovos': ['mean']})\n",
    "\n",
    "df_covid_mean_deaths_by_city.head()"
   ]
  },
  {
   "cell_type": "code",
   "execution_count": null,
   "id": "545df351-355e-4ec0-b3dc-98e4b0d98680",
   "metadata": {
    "id": "12bac238-b9a8-4655-9ce7-3c627c33e15b"
   },
   "outputs": [],
   "source": [
    "df_covid_sum_population_by_city = df_covid[['codmun', 'populacaoTCU2019']].drop_duplicates().groupby(\n",
    "    by='codmun').agg(\n",
    "    {'populacaoTCU2019': 'sum'})\n",
    "\n",
    "df_covid_sum_population_by_city.head()"
   ]
  },
  {
   "cell_type": "code",
   "execution_count": null,
   "id": "fc1a366e-9613-426e-8dfc-bd7e44f6d6c9",
   "metadata": {
    "id": "7b812683-0067-4b6f-a3f0-c528fc35780e"
   },
   "outputs": [],
   "source": [
    "df_covid_by_city_deaths_by_million = pd.DataFrame((df_covid_mean_deaths_by_city['obitosNovos']['mean'] / \\\n",
    "df_covid_sum_population_by_city['populacaoTCU2019']) * 10**9, \n",
    "             columns=['deaths by million'])\n",
    "\n",
    "df_covid_by_city_deaths_by_million.index = df_covid_by_city_deaths_by_million.index.map(str).map(lambda codmun: codmun.split('.')[0])\n",
    "\n",
    "df_covid_by_city_deaths_by_million.head()"
   ]
  },
  {
   "cell_type": "code",
   "execution_count": null,
   "id": "73dc96b9-c4c0-4558-bdc4-2ba05a1c0ed0",
   "metadata": {},
   "outputs": [],
   "source": [
    "df_amazon_by_city_sum_all_plasmodium_species = pd.DataFrame(\n",
    "    df_amazon.groupby(['CD']).agg(\n",
    "        {'Vivax': ['sum'], \n",
    "         'Falciparum': ['sum'], \n",
    "         'Malarie': ['sum'], \n",
    "         'Ovale': ['sum'], \n",
    "         'Mista': ['sum']}).drop('Total geral').sum(axis=1), \n",
    "    columns=['sum_all_plasmodium_species'])\n",
    "\n",
    "df_amazon_by_city_sum_all_plasmodium_species.head()"
   ]
  },
  {
   "cell_type": "code",
   "execution_count": null,
   "id": "95ffdd78-a74e-4a13-bd09-c77a4b16a6a9",
   "metadata": {},
   "outputs": [],
   "source": [
    "amazon_cities = df_amazon.CD.drop_duplicates().tolist()\n",
    "amazon_cities.remove('Total geral')\n",
    "\n",
    "print(len(amazon_cities))\n",
    "amazon_cities[:10]"
   ]
  },
  {
   "cell_type": "code",
   "execution_count": 83,
   "id": "8e17a64e-ce7d-4779-a44d-bfcaafc32cd2",
   "metadata": {},
   "outputs": [
    {
     "data": {
      "text/html": [
       "<div>\n",
       "<style scoped>\n",
       "    .dataframe tbody tr th:only-of-type {\n",
       "        vertical-align: middle;\n",
       "    }\n",
       "\n",
       "    .dataframe tbody tr th {\n",
       "        vertical-align: top;\n",
       "    }\n",
       "\n",
       "    .dataframe thead th {\n",
       "        text-align: right;\n",
       "    }\n",
       "</style>\n",
       "<table border=\"1\" class=\"dataframe\">\n",
       "  <thead>\n",
       "    <tr style=\"text-align: right;\">\n",
       "      <th></th>\n",
       "      <th>deaths by million</th>\n",
       "    </tr>\n",
       "    <tr>\n",
       "      <th>codmun</th>\n",
       "      <th></th>\n",
       "    </tr>\n",
       "  </thead>\n",
       "  <tbody>\n",
       "    <tr>\n",
       "      <th>110001</th>\n",
       "      <td>6905.276027</td>\n",
       "    </tr>\n",
       "    <tr>\n",
       "      <th>110002</th>\n",
       "      <td>9589.924575</td>\n",
       "    </tr>\n",
       "    <tr>\n",
       "      <th>110003</th>\n",
       "      <td>9626.574480</td>\n",
       "    </tr>\n",
       "    <tr>\n",
       "      <th>110004</th>\n",
       "      <td>7144.168997</td>\n",
       "    </tr>\n",
       "    <tr>\n",
       "      <th>110005</th>\n",
       "      <td>9256.809477</td>\n",
       "    </tr>\n",
       "    <tr>\n",
       "      <th>...</th>\n",
       "      <td>...</td>\n",
       "    </tr>\n",
       "    <tr>\n",
       "      <th>510860</th>\n",
       "      <td>2484.542265</td>\n",
       "    </tr>\n",
       "    <tr>\n",
       "      <th>510880</th>\n",
       "      <td>7990.951784</td>\n",
       "    </tr>\n",
       "    <tr>\n",
       "      <th>510885</th>\n",
       "      <td>4383.104360</td>\n",
       "    </tr>\n",
       "    <tr>\n",
       "      <th>510890</th>\n",
       "      <td>2925.691341</td>\n",
       "    </tr>\n",
       "    <tr>\n",
       "      <th>510895</th>\n",
       "      <td>4410.131889</td>\n",
       "    </tr>\n",
       "  </tbody>\n",
       "</table>\n",
       "<p>706 rows × 1 columns</p>\n",
       "</div>"
      ],
      "text/plain": [
       "        deaths by million\n",
       "codmun                   \n",
       "110001        6905.276027\n",
       "110002        9589.924575\n",
       "110003        9626.574480\n",
       "110004        7144.168997\n",
       "110005        9256.809477\n",
       "...                   ...\n",
       "510860        2484.542265\n",
       "510880        7990.951784\n",
       "510885        4383.104360\n",
       "510890        2925.691341\n",
       "510895        4410.131889\n",
       "\n",
       "[706 rows x 1 columns]"
      ]
     },
     "execution_count": 83,
     "metadata": {},
     "output_type": "execute_result"
    }
   ],
   "source": [
    "bol_amazon_cities = np.array(\n",
    "    [city in amazon_cities for city in df_covid_by_city_deaths_by_million.index]\n",
    ").reshape(df_covid_by_city_deaths_by_million.shape[0], 1)\n",
    "\n",
    "df_covid_by_city_deaths_by_million[bol_amazon_cities]"
   ]
  },
  {
   "cell_type": "code",
   "execution_count": null,
   "id": "c64c4833-6a11-4abf-b373-b2697a6c5973",
   "metadata": {},
   "outputs": [],
   "source": [
    "df_deaths_by_million_vs_sum_all_plasmodium_species_by_city = pd.merge(\n",
    "    left=df_covid_by_city_deaths_by_million[bol_amazon_cities].reset_index(),\n",
    "    right=df_amazon_by_city_sum_all_plasmodium_species.reset_index().rename(columns={'CD': 'codmun'}),\n",
    "    on='codmun').sort_values(by=('deaths by million'), ascending=False)\n",
    "\n",
    "df_deaths_by_million_vs_sum_all_plasmodium_species_by_city"
   ]
  },
  {
   "cell_type": "markdown",
   "id": "6325b99a-dcbd-47d5-a6b3-cbbd3235db41",
   "metadata": {},
   "source": [
    "#### <center> Amazon </center>"
   ]
  },
  {
   "cell_type": "code",
   "execution_count": null,
   "id": "4be29642-a8a1-4769-9873-49ad52fe9ee1",
   "metadata": {},
   "outputs": [],
   "source": [
    "df_deaths_by_million_vs_sum_all_plasmodium_species_by_city[['codmun', 'deaths by million']].mean()"
   ]
  },
  {
   "cell_type": "code",
   "execution_count": null,
   "id": "d046d9c8-685b-4188-8571-c78efba2555a",
   "metadata": {},
   "outputs": [],
   "source": [
    "df_deaths_by_million_vs_sum_all_plasmodium_species_by_city[['codmun', 'deaths by million']].std()"
   ]
  },
  {
   "cell_type": "code",
   "execution_count": null,
   "id": "c8d8426a-582b-4e12-a845-5f28a20aa8e4",
   "metadata": {},
   "outputs": [],
   "source": [
    "df_deaths_by_million_vs_sum_all_plasmodium_species_by_city[['sum_all_plasmodium_species']].mean()"
   ]
  },
  {
   "cell_type": "code",
   "execution_count": null,
   "id": "c73e47d9-5024-4978-872e-ab88b49148de",
   "metadata": {},
   "outputs": [],
   "source": [
    "df_deaths_by_million_vs_sum_all_plasmodium_species_by_city[['sum_all_plasmodium_species']].std()"
   ]
  },
  {
   "cell_type": "markdown",
   "id": "dc69a52f-7882-4ce7-b6ad-4706d6b48ca7",
   "metadata": {},
   "source": [
    "#### <center>No Amazon</center>"
   ]
  },
  {
   "cell_type": "code",
   "execution_count": null,
   "id": "b004bf60-158d-411a-842c-66e3b7c96cd2",
   "metadata": {},
   "outputs": [],
   "source": [
    "df_covid_by_city_deaths_by_million[np.logical_not(bol_amazon_cities)].mean()"
   ]
  },
  {
   "cell_type": "code",
   "execution_count": null,
   "id": "4ad3c223-da4e-4b3e-b633-489dc916c26d",
   "metadata": {},
   "outputs": [],
   "source": [
    "df_covid_by_city_deaths_by_million[np.logical_not(bol_amazon_cities)].std()"
   ]
  },
  {
   "cell_type": "code",
   "execution_count": null,
   "id": "245ebbf9-d2fd-41e0-b2b0-ef276355a802",
   "metadata": {},
   "outputs": [],
   "source": [
    "df_covid_by_city_deaths_by_million[np.logical_not(bol_amazon_cities)]"
   ]
  },
  {
   "cell_type": "markdown",
   "id": "ace76892-848d-4ab3-a1db-909131921ea8",
   "metadata": {},
   "source": [
    "## <center> Lethality, by state, for all years</center>"
   ]
  },
  {
   "cell_type": "markdown",
   "id": "bf7805d4-1712-4ce0-b682-83ef0ac495fa",
   "metadata": {},
   "source": [
    "### 14.1 (df covid: lethality) vs (df amazon: num cases p. vivax)"
   ]
  },
  {
   "cell_type": "code",
   "execution_count": 65,
   "id": "ed1283dd-ef08-4ea3-b365-70481635c2a2",
   "metadata": {
    "id": "89e89da8-1c59-4893-921f-76a032556199"
   },
   "outputs": [],
   "source": [
    "df_covid_sum_newdeaths_by_state = df_covid[['estado', 'obitosNovos']].groupby(['estado']).agg(\n",
    "    {'obitosNovos': ['sum']})\n",
    "\n",
    "# df_covid_sum_newdeaths_by_state.head()"
   ]
  },
  {
   "cell_type": "code",
   "execution_count": 66,
   "id": "a6c2c889-b818-421d-b763-2fa538e759e2",
   "metadata": {
    "id": "09cd5787-eae8-47cd-a7cb-6b0d8698f6c9"
   },
   "outputs": [],
   "source": [
    "df_covid_sum_newcases_by_state = df_covid[['estado', 'casosNovos']].groupby(['estado']).agg(\n",
    "    {'casosNovos': ['sum']})\n",
    "\n",
    "# df_covid_sum_newcases_by_state.head()"
   ]
  },
  {
   "cell_type": "code",
   "execution_count": 80,
   "id": "6a07c5d9-5e04-4134-853b-e454de04b81b",
   "metadata": {
    "id": "c41caab0-0dbe-4ea0-ad42-4aa7c577b719"
   },
   "outputs": [
    {
     "data": {
      "text/html": [
       "<div>\n",
       "<style scoped>\n",
       "    .dataframe tbody tr th:only-of-type {\n",
       "        vertical-align: middle;\n",
       "    }\n",
       "\n",
       "    .dataframe tbody tr th {\n",
       "        vertical-align: top;\n",
       "    }\n",
       "\n",
       "    .dataframe thead th {\n",
       "        text-align: right;\n",
       "    }\n",
       "</style>\n",
       "<table border=\"1\" class=\"dataframe\">\n",
       "  <thead>\n",
       "    <tr style=\"text-align: right;\">\n",
       "      <th></th>\n",
       "      <th>lethality</th>\n",
       "    </tr>\n",
       "    <tr>\n",
       "      <th>estado</th>\n",
       "      <th></th>\n",
       "    </tr>\n",
       "  </thead>\n",
       "  <tbody>\n",
       "    <tr>\n",
       "      <th>RJ</th>\n",
       "      <td>0.058807</td>\n",
       "    </tr>\n",
       "    <tr>\n",
       "      <th>AM</th>\n",
       "      <td>0.033833</td>\n",
       "    </tr>\n",
       "    <tr>\n",
       "      <th>SP</th>\n",
       "      <td>0.033832</td>\n",
       "    </tr>\n",
       "    <tr>\n",
       "      <th>PE</th>\n",
       "      <td>0.033408</td>\n",
       "    </tr>\n",
       "    <tr>\n",
       "      <th>PA</th>\n",
       "      <td>0.027975</td>\n",
       "    </tr>\n",
       "    <tr>\n",
       "      <th>GO</th>\n",
       "      <td>0.027845</td>\n",
       "    </tr>\n",
       "    <tr>\n",
       "      <th>MA</th>\n",
       "      <td>0.027704</td>\n",
       "    </tr>\n",
       "    <tr>\n",
       "      <th>MT</th>\n",
       "      <td>0.026843</td>\n",
       "    </tr>\n",
       "    <tr>\n",
       "      <th>CE</th>\n",
       "      <td>0.026226</td>\n",
       "    </tr>\n",
       "    <tr>\n",
       "      <th>RS</th>\n",
       "      <td>0.025884</td>\n",
       "    </tr>\n",
       "    <tr>\n",
       "      <th>MG</th>\n",
       "      <td>0.025538</td>\n",
       "    </tr>\n",
       "    <tr>\n",
       "      <th>RO</th>\n",
       "      <td>0.024874</td>\n",
       "    </tr>\n",
       "    <tr>\n",
       "      <th>AL</th>\n",
       "      <td>0.024381</td>\n",
       "    </tr>\n",
       "    <tr>\n",
       "      <th>PR</th>\n",
       "      <td>0.024066</td>\n",
       "    </tr>\n",
       "    <tr>\n",
       "      <th>PB</th>\n",
       "      <td>0.023453</td>\n",
       "    </tr>\n",
       "    <tr>\n",
       "      <th>MS</th>\n",
       "      <td>0.023354</td>\n",
       "    </tr>\n",
       "    <tr>\n",
       "      <th>RN</th>\n",
       "      <td>0.023265</td>\n",
       "    </tr>\n",
       "    <tr>\n",
       "      <th>ES</th>\n",
       "      <td>0.022144</td>\n",
       "    </tr>\n",
       "    <tr>\n",
       "      <th>SE</th>\n",
       "      <td>0.021841</td>\n",
       "    </tr>\n",
       "    <tr>\n",
       "      <th>PI</th>\n",
       "      <td>0.021719</td>\n",
       "    </tr>\n",
       "    <tr>\n",
       "      <th>DF</th>\n",
       "      <td>0.021265</td>\n",
       "    </tr>\n",
       "    <tr>\n",
       "      <th>BA</th>\n",
       "      <td>0.020795</td>\n",
       "    </tr>\n",
       "    <tr>\n",
       "      <th>AC</th>\n",
       "      <td>0.020089</td>\n",
       "    </tr>\n",
       "    <tr>\n",
       "      <th>TO</th>\n",
       "      <td>0.016125</td>\n",
       "    </tr>\n",
       "    <tr>\n",
       "      <th>RR</th>\n",
       "      <td>0.015984</td>\n",
       "    </tr>\n",
       "    <tr>\n",
       "      <th>SC</th>\n",
       "      <td>0.015621</td>\n",
       "    </tr>\n",
       "    <tr>\n",
       "      <th>AP</th>\n",
       "      <td>0.015049</td>\n",
       "    </tr>\n",
       "  </tbody>\n",
       "</table>\n",
       "</div>"
      ],
      "text/plain": [
       "        lethality\n",
       "estado           \n",
       "RJ       0.058807\n",
       "AM       0.033833\n",
       "SP       0.033832\n",
       "PE       0.033408\n",
       "PA       0.027975\n",
       "GO       0.027845\n",
       "MA       0.027704\n",
       "MT       0.026843\n",
       "CE       0.026226\n",
       "RS       0.025884\n",
       "MG       0.025538\n",
       "RO       0.024874\n",
       "AL       0.024381\n",
       "PR       0.024066\n",
       "PB       0.023453\n",
       "MS       0.023354\n",
       "RN       0.023265\n",
       "ES       0.022144\n",
       "SE       0.021841\n",
       "PI       0.021719\n",
       "DF       0.021265\n",
       "BA       0.020795\n",
       "AC       0.020089\n",
       "TO       0.016125\n",
       "RR       0.015984\n",
       "SC       0.015621\n",
       "AP       0.015049"
      ]
     },
     "execution_count": 80,
     "metadata": {},
     "output_type": "execute_result"
    }
   ],
   "source": [
    "df_covid_lethality_by_state = pd.DataFrame(\n",
    "    (df_covid_sum_newdeaths_by_state['obitosNovos'][['sum']] / \\\n",
    "     df_covid_sum_newcases_by_state['casosNovos'][['sum']])).rename(\n",
    "    columns={'sum':'lethality'})\n",
    "\n",
    "df_covid_lethality_by_state.head()\n",
    "df_covid_lethality_by_state.sort_values(by='lethality', ascending=False)"
   ]
  },
  {
   "cell_type": "code",
   "execution_count": 82,
   "id": "6d30882c-f7cf-4d2f-bb32-700636afcab9",
   "metadata": {},
   "outputs": [],
   "source": [
    "path_output = os.path.join(os.getcwd(), 'output', 'data')\n",
    "file_output = 'lethality_covid_by_state.csv'\n",
    "df_covid_lethality_by_state.sort_values(by='lethality', ascending=False).to_csv(\n",
    "    os.path.join(path_output, file_output))"
   ]
  },
  {
   "cell_type": "code",
   "execution_count": 68,
   "id": "5caa94f9-bfbc-413d-9436-2da2e94a8fae",
   "metadata": {},
   "outputs": [
    {
     "data": {
      "text/html": [
       "<div>\n",
       "<style scoped>\n",
       "    .dataframe tbody tr th:only-of-type {\n",
       "        vertical-align: middle;\n",
       "    }\n",
       "\n",
       "    .dataframe tbody tr th {\n",
       "        vertical-align: top;\n",
       "    }\n",
       "\n",
       "    .dataframe thead tr th {\n",
       "        text-align: left;\n",
       "    }\n",
       "\n",
       "    .dataframe thead tr:last-of-type th {\n",
       "        text-align: right;\n",
       "    }\n",
       "</style>\n",
       "<table border=\"1\" class=\"dataframe\">\n",
       "  <thead>\n",
       "    <tr>\n",
       "      <th></th>\n",
       "      <th>Vivax</th>\n",
       "    </tr>\n",
       "    <tr>\n",
       "      <th></th>\n",
       "      <th>sum</th>\n",
       "    </tr>\n",
       "    <tr>\n",
       "      <th>Estado</th>\n",
       "      <th></th>\n",
       "    </tr>\n",
       "  </thead>\n",
       "  <tbody>\n",
       "    <tr>\n",
       "      <th>AC</th>\n",
       "      <td>42958.706</td>\n",
       "    </tr>\n",
       "    <tr>\n",
       "      <th>AM</th>\n",
       "      <td>198104.113</td>\n",
       "    </tr>\n",
       "    <tr>\n",
       "      <th>AP</th>\n",
       "      <td>47844.513</td>\n",
       "    </tr>\n",
       "    <tr>\n",
       "      <th>MA</th>\n",
       "      <td>62967.199</td>\n",
       "    </tr>\n",
       "    <tr>\n",
       "      <th>MT</th>\n",
       "      <td>31273.361</td>\n",
       "    </tr>\n",
       "    <tr>\n",
       "      <th>PA</th>\n",
       "      <td>233566.025</td>\n",
       "    </tr>\n",
       "    <tr>\n",
       "      <th>RO</th>\n",
       "      <td>96408.416</td>\n",
       "    </tr>\n",
       "    <tr>\n",
       "      <th>RR</th>\n",
       "      <td>75039.942</td>\n",
       "    </tr>\n",
       "    <tr>\n",
       "      <th>TO</th>\n",
       "      <td>3166.000</td>\n",
       "    </tr>\n",
       "  </tbody>\n",
       "</table>\n",
       "</div>"
      ],
      "text/plain": [
       "             Vivax\n",
       "               sum\n",
       "Estado            \n",
       "AC       42958.706\n",
       "AM      198104.113\n",
       "AP       47844.513\n",
       "MA       62967.199\n",
       "MT       31273.361\n",
       "PA      233566.025\n",
       "RO       96408.416\n",
       "RR       75039.942\n",
       "TO        3166.000"
      ]
     },
     "execution_count": 68,
     "metadata": {},
     "output_type": "execute_result"
    }
   ],
   "source": [
    "df_amazon_by_state_sum_vivax = df_amazon.groupby(['Estado']).agg(\n",
    "    {'Vivax': ['sum']}).drop('Total')\n",
    "\n",
    "df_amazon_by_state_sum_vivax"
   ]
  },
  {
   "cell_type": "code",
   "execution_count": 69,
   "id": "510f3bc3-d1b2-45e0-b476-64df036f2e1e",
   "metadata": {},
   "outputs": [
    {
     "data": {
      "text/plain": [
       "['RO', 'AC', 'AM', 'RR', 'PA', 'AP', 'TO', 'MA', 'MT']"
      ]
     },
     "execution_count": 69,
     "metadata": {},
     "output_type": "execute_result"
    }
   ],
   "source": [
    "amazon_states = df_amazon.Estado.drop_duplicates().tolist()\n",
    "amazon_states.remove('Total')\n",
    "amazon_states"
   ]
  },
  {
   "cell_type": "code",
   "execution_count": 70,
   "id": "ed962ffe-3273-46c4-a1dd-aafd66b8fc0e",
   "metadata": {},
   "outputs": [
    {
     "data": {
      "text/html": [
       "<div>\n",
       "<style scoped>\n",
       "    .dataframe tbody tr th:only-of-type {\n",
       "        vertical-align: middle;\n",
       "    }\n",
       "\n",
       "    .dataframe tbody tr th {\n",
       "        vertical-align: top;\n",
       "    }\n",
       "\n",
       "    .dataframe thead th {\n",
       "        text-align: right;\n",
       "    }\n",
       "</style>\n",
       "<table border=\"1\" class=\"dataframe\">\n",
       "  <thead>\n",
       "    <tr style=\"text-align: right;\">\n",
       "      <th></th>\n",
       "      <th>lethality</th>\n",
       "    </tr>\n",
       "    <tr>\n",
       "      <th>estado</th>\n",
       "      <th></th>\n",
       "    </tr>\n",
       "  </thead>\n",
       "  <tbody>\n",
       "    <tr>\n",
       "      <th>AC</th>\n",
       "      <td>0.020089</td>\n",
       "    </tr>\n",
       "    <tr>\n",
       "      <th>AM</th>\n",
       "      <td>0.033833</td>\n",
       "    </tr>\n",
       "    <tr>\n",
       "      <th>AP</th>\n",
       "      <td>0.015049</td>\n",
       "    </tr>\n",
       "    <tr>\n",
       "      <th>MA</th>\n",
       "      <td>0.027704</td>\n",
       "    </tr>\n",
       "    <tr>\n",
       "      <th>MT</th>\n",
       "      <td>0.026843</td>\n",
       "    </tr>\n",
       "    <tr>\n",
       "      <th>PA</th>\n",
       "      <td>0.027975</td>\n",
       "    </tr>\n",
       "    <tr>\n",
       "      <th>RO</th>\n",
       "      <td>0.024874</td>\n",
       "    </tr>\n",
       "    <tr>\n",
       "      <th>RR</th>\n",
       "      <td>0.015984</td>\n",
       "    </tr>\n",
       "    <tr>\n",
       "      <th>TO</th>\n",
       "      <td>0.016125</td>\n",
       "    </tr>\n",
       "  </tbody>\n",
       "</table>\n",
       "</div>"
      ],
      "text/plain": [
       "        lethality\n",
       "estado           \n",
       "AC       0.020089\n",
       "AM       0.033833\n",
       "AP       0.015049\n",
       "MA       0.027704\n",
       "MT       0.026843\n",
       "PA       0.027975\n",
       "RO       0.024874\n",
       "RR       0.015984\n",
       "TO       0.016125"
      ]
     },
     "execution_count": 70,
     "metadata": {},
     "output_type": "execute_result"
    }
   ],
   "source": [
    "bol_amazon_states = np.array(\n",
    "    [state in amazon_states for state in df_covid_lethality_by_state.index]\n",
    ").reshape(df_covid_lethality_by_state.shape[0], 1)\n",
    "\n",
    "df_covid_lethality_by_state[bol_amazon_states]"
   ]
  },
  {
   "cell_type": "code",
   "execution_count": 71,
   "id": "7f462c69-d722-4cde-9b5e-553790fb3d65",
   "metadata": {},
   "outputs": [
    {
     "name": "stderr",
     "output_type": "stream",
     "text": [
      "/home/bruno/Documents/dev/lgdc-covid-19-and-malaria/venv-lgdc-covid-19-and-malaria/lib/python3.8/site-packages/pandas/core/reshape/merge.py:648: UserWarning:\n",
      "\n",
      "merging between different levels can give an unintended result (1 levels on the left,2 on the right)\n",
      "\n",
      "/home/bruno/Documents/dev/lgdc-covid-19-and-malaria/venv-lgdc-covid-19-and-malaria/lib/python3.8/site-packages/pandas/core/generic.py:4153: PerformanceWarning:\n",
      "\n",
      "dropping on a non-lexsorted multi-index without a level parameter may impact performance.\n",
      "\n"
     ]
    },
    {
     "data": {
      "text/html": [
       "<div>\n",
       "<style scoped>\n",
       "    .dataframe tbody tr th:only-of-type {\n",
       "        vertical-align: middle;\n",
       "    }\n",
       "\n",
       "    .dataframe tbody tr th {\n",
       "        vertical-align: top;\n",
       "    }\n",
       "\n",
       "    .dataframe thead th {\n",
       "        text-align: right;\n",
       "    }\n",
       "</style>\n",
       "<table border=\"1\" class=\"dataframe\">\n",
       "  <thead>\n",
       "    <tr style=\"text-align: right;\">\n",
       "      <th></th>\n",
       "      <th>estado</th>\n",
       "      <th>lethality</th>\n",
       "      <th>(Vivax, sum)</th>\n",
       "    </tr>\n",
       "  </thead>\n",
       "  <tbody>\n",
       "    <tr>\n",
       "      <th>0</th>\n",
       "      <td>AC</td>\n",
       "      <td>0.020089</td>\n",
       "      <td>42958.706</td>\n",
       "    </tr>\n",
       "    <tr>\n",
       "      <th>1</th>\n",
       "      <td>AM</td>\n",
       "      <td>0.033833</td>\n",
       "      <td>198104.113</td>\n",
       "    </tr>\n",
       "    <tr>\n",
       "      <th>2</th>\n",
       "      <td>AP</td>\n",
       "      <td>0.015049</td>\n",
       "      <td>47844.513</td>\n",
       "    </tr>\n",
       "    <tr>\n",
       "      <th>3</th>\n",
       "      <td>MA</td>\n",
       "      <td>0.027704</td>\n",
       "      <td>62967.199</td>\n",
       "    </tr>\n",
       "    <tr>\n",
       "      <th>4</th>\n",
       "      <td>MT</td>\n",
       "      <td>0.026843</td>\n",
       "      <td>31273.361</td>\n",
       "    </tr>\n",
       "    <tr>\n",
       "      <th>5</th>\n",
       "      <td>PA</td>\n",
       "      <td>0.027975</td>\n",
       "      <td>233566.025</td>\n",
       "    </tr>\n",
       "    <tr>\n",
       "      <th>6</th>\n",
       "      <td>RO</td>\n",
       "      <td>0.024874</td>\n",
       "      <td>96408.416</td>\n",
       "    </tr>\n",
       "    <tr>\n",
       "      <th>7</th>\n",
       "      <td>RR</td>\n",
       "      <td>0.015984</td>\n",
       "      <td>75039.942</td>\n",
       "    </tr>\n",
       "    <tr>\n",
       "      <th>8</th>\n",
       "      <td>TO</td>\n",
       "      <td>0.016125</td>\n",
       "      <td>3166.000</td>\n",
       "    </tr>\n",
       "  </tbody>\n",
       "</table>\n",
       "</div>"
      ],
      "text/plain": [
       "  estado  lethality  (Vivax, sum)\n",
       "0     AC   0.020089     42958.706\n",
       "1     AM   0.033833    198104.113\n",
       "2     AP   0.015049     47844.513\n",
       "3     MA   0.027704     62967.199\n",
       "4     MT   0.026843     31273.361\n",
       "5     PA   0.027975    233566.025\n",
       "6     RO   0.024874     96408.416\n",
       "7     RR   0.015984     75039.942\n",
       "8     TO   0.016125      3166.000"
      ]
     },
     "execution_count": 71,
     "metadata": {},
     "output_type": "execute_result"
    }
   ],
   "source": [
    "df_lethality_vs_sum_vivax_by_state = pd.merge(\n",
    "    left=df_covid_lethality_by_state[bol_amazon_states].reset_index(),\n",
    "    right=df_amazon_by_state_sum_vivax.reset_index().rename(columns={'Estado': 'estado'}),\n",
    "    on='estado')\n",
    "\n",
    "df_lethality_vs_sum_vivax_by_state"
   ]
  },
  {
   "cell_type": "markdown",
   "id": "fe8e8414-c60d-4970-9df0-83862a1cbbd3",
   "metadata": {},
   "source": [
    "#### <center> Amazon </center>"
   ]
  },
  {
   "cell_type": "code",
   "execution_count": 74,
   "id": "c2ce224a-5780-4d94-9803-955343ca6487",
   "metadata": {},
   "outputs": [
    {
     "data": {
      "text/plain": [
       "lethality    0.023164\n",
       "dtype: float64"
      ]
     },
     "execution_count": 74,
     "metadata": {},
     "output_type": "execute_result"
    }
   ],
   "source": [
    "df_lethality_vs_sum_vivax_by_state[['estado', 'lethality']].mean()"
   ]
  },
  {
   "cell_type": "code",
   "execution_count": 75,
   "id": "855630ae-baf9-4ae3-b7cc-20255e2f542d",
   "metadata": {},
   "outputs": [
    {
     "data": {
      "text/plain": [
       "lethality    0.006618\n",
       "dtype: float64"
      ]
     },
     "execution_count": 75,
     "metadata": {},
     "output_type": "execute_result"
    }
   ],
   "source": [
    "df_lethality_vs_sum_vivax_by_state[['estado', 'lethality']].std()"
   ]
  },
  {
   "cell_type": "code",
   "execution_count": null,
   "id": "ff0a7411-b4be-44ed-b144-7e4b2e77f708",
   "metadata": {},
   "outputs": [],
   "source": [
    "df_lethality_vs_sum_vivax_by_state[[('Vivax', 'sum')]].mean()"
   ]
  },
  {
   "cell_type": "code",
   "execution_count": null,
   "id": "03c7a233-17dd-4cd6-b966-f96741cb3ec7",
   "metadata": {},
   "outputs": [],
   "source": [
    "df_lethality_vs_sum_vivax_by_state[[('Vivax', 'sum')]].std()"
   ]
  },
  {
   "cell_type": "markdown",
   "id": "b3332318-09d1-4b69-9266-3d7056843e64",
   "metadata": {},
   "source": [
    "#### <center>No Amazon</center>"
   ]
  },
  {
   "cell_type": "code",
   "execution_count": 76,
   "id": "bd11f260-6853-407d-87e8-adc15f7733e2",
   "metadata": {},
   "outputs": [
    {
     "data": {
      "text/plain": [
       "lethality    0.026302\n",
       "dtype: float64"
      ]
     },
     "execution_count": 76,
     "metadata": {},
     "output_type": "execute_result"
    }
   ],
   "source": [
    "df_covid_lethality_by_state[np.logical_not(bol_amazon_states)].mean()"
   ]
  },
  {
   "cell_type": "code",
   "execution_count": 77,
   "id": "51573d35-baee-4fea-8f56-aee2357787d5",
   "metadata": {},
   "outputs": [
    {
     "data": {
      "text/plain": [
       "lethality    0.00917\n",
       "dtype: float64"
      ]
     },
     "execution_count": 77,
     "metadata": {},
     "output_type": "execute_result"
    }
   ],
   "source": [
    "df_covid_lethality_by_state[np.logical_not(bol_amazon_states)].std()"
   ]
  },
  {
   "cell_type": "code",
   "execution_count": null,
   "id": "9adb5fce-eb96-425a-9a4e-8d2d82cd926d",
   "metadata": {},
   "outputs": [],
   "source": [
    "df_covid_lethality_by_state[np.logical_not(bol_amazon_states)]"
   ]
  },
  {
   "cell_type": "markdown",
   "id": "3d472df0-5c95-41f0-b72d-fcd2819df9bf",
   "metadata": {},
   "source": [
    "### 14.2 (df covid: lethality) vs (df amazon: num cases p. falciparum)"
   ]
  },
  {
   "cell_type": "code",
   "execution_count": null,
   "id": "0d001407-4a0f-4794-85b6-f53bb5bfdf5e",
   "metadata": {
    "id": "89e89da8-1c59-4893-921f-76a032556199"
   },
   "outputs": [],
   "source": [
    "df_covid_sum_newdeaths_by_state = df_covid[['estado', 'obitosNovos']].groupby(['estado']).agg(\n",
    "    {'obitosNovos': ['sum']})\n",
    "\n",
    "# df_covid_sum_newdeaths_by_state.head()"
   ]
  },
  {
   "cell_type": "code",
   "execution_count": null,
   "id": "85df8e25-0d9a-4e8a-a655-025148700fa3",
   "metadata": {
    "id": "09cd5787-eae8-47cd-a7cb-6b0d8698f6c9"
   },
   "outputs": [],
   "source": [
    "df_covid_sum_newcases_by_state = df_covid[['estado', 'casosNovos']].groupby(['estado']).agg(\n",
    "    {'casosNovos': ['sum']})\n",
    "\n",
    "# df_covid_sum_newcases_by_state.head()"
   ]
  },
  {
   "cell_type": "code",
   "execution_count": null,
   "id": "a5d46fc8-7b47-4b42-be4a-ad1bcc996441",
   "metadata": {
    "id": "c41caab0-0dbe-4ea0-ad42-4aa7c577b719"
   },
   "outputs": [],
   "source": [
    "df_covid_lethality_by_state = pd.DataFrame(\n",
    "    (df_covid_sum_newdeaths_by_state['obitosNovos'][['sum']] / \\\n",
    "     df_covid_sum_newcases_by_state['casosNovos'][['sum']])).rename(\n",
    "    columns={'sum':'lethality'})\n",
    "\n",
    "df_covid_lethality_by_state.head()"
   ]
  },
  {
   "cell_type": "code",
   "execution_count": null,
   "id": "e995707a-8c8d-4d2a-8ddc-b5609cbb0f56",
   "metadata": {},
   "outputs": [],
   "source": [
    "df_amazon_by_state_sum_falciparum = df_amazon.groupby(['Estado']).agg(\n",
    "    {'Falciparum': ['sum']}).drop('Total')\n",
    "\n",
    "df_amazon_by_state_sum_falciparum\n",
    "\n",
    "# ok"
   ]
  },
  {
   "cell_type": "code",
   "execution_count": null,
   "id": "15953da3-f427-4f87-88d6-fac5b72ed8a1",
   "metadata": {},
   "outputs": [],
   "source": [
    "amazon_states = df_amazon.Estado.drop_duplicates().tolist()\n",
    "amazon_states.remove('Total')\n",
    "amazon_states"
   ]
  },
  {
   "cell_type": "code",
   "execution_count": null,
   "id": "cf8b7ee2-8dd7-4e8a-9c89-b626c658cc02",
   "metadata": {},
   "outputs": [],
   "source": [
    "bol_amazon_states = np.array(\n",
    "    [state in amazon_states for state in df_covid_lethality_by_state.index]\n",
    ").reshape(df_covid_lethality_by_state.shape[0], 1)\n",
    "\n",
    "df_covid_lethality_by_state[bol_amazon_states]"
   ]
  },
  {
   "cell_type": "code",
   "execution_count": null,
   "id": "618f8c38-55de-44fb-a03c-6aa3313a7135",
   "metadata": {},
   "outputs": [],
   "source": [
    "df_lethality_vs_sum_falciparum_by_state = pd.merge(\n",
    "    left=df_covid_lethality_by_state[bol_amazon_states].reset_index(),\n",
    "    right=df_amazon_by_state_sum_falciparum.reset_index().rename(columns={'Estado': 'estado'}),\n",
    "    on='estado').sort_values(by=('lethality'), ascending=False)\n",
    "\n",
    "df_lethality_vs_sum_falciparum_by_state"
   ]
  },
  {
   "cell_type": "markdown",
   "id": "ada0fe71-9b4e-4b66-a075-f50c90df2a06",
   "metadata": {},
   "source": [
    "#### <center> Amazon </center>"
   ]
  },
  {
   "cell_type": "code",
   "execution_count": null,
   "id": "a1169d05-0a17-4578-91f4-d32879f92a90",
   "metadata": {},
   "outputs": [],
   "source": [
    "df_lethality_vs_sum_falciparum_by_state[['estado', 'lethality']].mean()"
   ]
  },
  {
   "cell_type": "code",
   "execution_count": null,
   "id": "e9c098ec-2b0d-490e-8c50-5916f10d20bf",
   "metadata": {},
   "outputs": [],
   "source": [
    "df_lethality_vs_sum_falciparum_by_state[['estado', 'lethality']].std()"
   ]
  },
  {
   "cell_type": "code",
   "execution_count": null,
   "id": "b6635bba-2f1e-4e2f-964c-e6bcb285f3e8",
   "metadata": {},
   "outputs": [],
   "source": [
    "df_lethality_vs_sum_falciparum_by_state[[('Falciparum', 'sum')]].mean()"
   ]
  },
  {
   "cell_type": "code",
   "execution_count": null,
   "id": "75d5e43a-23de-4f57-b6ee-b6061e73e9b3",
   "metadata": {},
   "outputs": [],
   "source": [
    "df_lethality_vs_sum_falciparum_by_state[[('Falciparum', 'sum')]].std()"
   ]
  },
  {
   "cell_type": "markdown",
   "id": "ea34a624-992a-42d9-aed3-56e9f2c3557c",
   "metadata": {},
   "source": [
    "#### <center>No Amazon</center>"
   ]
  },
  {
   "cell_type": "code",
   "execution_count": null,
   "id": "3e8d04af-f5c0-4a3d-8175-889782a99ea2",
   "metadata": {},
   "outputs": [],
   "source": [
    "df_covid_lethality_by_state[np.logical_not(bol_amazon_states)].mean()"
   ]
  },
  {
   "cell_type": "code",
   "execution_count": null,
   "id": "2487f439-cbf6-4d5b-88d9-70baedf9f836",
   "metadata": {},
   "outputs": [],
   "source": [
    "df_covid_lethality_by_state[np.logical_not(bol_amazon_states)].std()"
   ]
  },
  {
   "cell_type": "code",
   "execution_count": null,
   "id": "361449a3-b89f-421f-969e-5ee510d08cd6",
   "metadata": {},
   "outputs": [],
   "source": [
    "df_covid_lethality_by_state[np.logical_not(bol_amazon_states)]"
   ]
  },
  {
   "cell_type": "markdown",
   "id": "c0003a89-3298-401d-b2c4-9d49df17e036",
   "metadata": {},
   "source": [
    "### 14.3 (df covid: lethality) vs (df amazon: num cases p. vivax + p. falciparum)"
   ]
  },
  {
   "cell_type": "code",
   "execution_count": null,
   "id": "da9d8046-8f20-419a-ab6c-f5386f5d37fa",
   "metadata": {
    "id": "89e89da8-1c59-4893-921f-76a032556199"
   },
   "outputs": [],
   "source": [
    "df_covid_sum_newdeaths_by_state = df_covid[['estado', 'obitosNovos']].groupby(['estado']).agg(\n",
    "    {'obitosNovos': ['sum']})\n",
    "\n",
    "# df_covid_sum_newdeaths_by_state.head()"
   ]
  },
  {
   "cell_type": "code",
   "execution_count": null,
   "id": "5892ff93-ba4e-41f7-936f-ffdb8f638a84",
   "metadata": {
    "id": "09cd5787-eae8-47cd-a7cb-6b0d8698f6c9"
   },
   "outputs": [],
   "source": [
    "df_covid_sum_newcases_by_state = df_covid[['estado', 'casosNovos']].groupby(['estado']).agg(\n",
    "    {'casosNovos': ['sum']})\n",
    "\n",
    "# df_covid_sum_newcases_by_state.head()"
   ]
  },
  {
   "cell_type": "code",
   "execution_count": null,
   "id": "738cdde1-fda6-4580-befe-f6be0d586462",
   "metadata": {
    "id": "c41caab0-0dbe-4ea0-ad42-4aa7c577b719"
   },
   "outputs": [],
   "source": [
    "df_covid_lethality_by_state = pd.DataFrame(\n",
    "    (df_covid_sum_newdeaths_by_state['obitosNovos'][['sum']] / \\\n",
    "     df_covid_sum_newcases_by_state['casosNovos'][['sum']])).rename(\n",
    "    columns={'sum':'lethality'})\n",
    "\n",
    "df_covid_lethality_by_state.head()"
   ]
  },
  {
   "cell_type": "code",
   "execution_count": null,
   "id": "c5cec629-467a-4eee-8988-8ccedf6b4f9c",
   "metadata": {},
   "outputs": [],
   "source": [
    "df_amazon_by_state_sum_vivax_falciparum = pd.DataFrame(\n",
    "    df_amazon.groupby(['Estado']).agg(\n",
    "        {'Vivax': ['sum'], 'Falciparum': ['sum']}).drop('Total').sum(axis=1), \n",
    "    columns=['sum_vivax_falciparum'])\n",
    "\n",
    "df_amazon_by_state_sum_vivax_falciparum"
   ]
  },
  {
   "cell_type": "code",
   "execution_count": null,
   "id": "d6219c66-25d3-47ad-85a1-18c4548f6257",
   "metadata": {},
   "outputs": [],
   "source": [
    "amazon_states = df_amazon.Estado.drop_duplicates().tolist()\n",
    "amazon_states.remove('Total')\n",
    "amazon_states"
   ]
  },
  {
   "cell_type": "code",
   "execution_count": null,
   "id": "9bacf64e-c09a-4a50-82dc-8cda7cf68a86",
   "metadata": {},
   "outputs": [],
   "source": [
    "bol_amazon_states = np.array(\n",
    "    [state in amazon_states for state in df_covid_lethality_by_state.index]\n",
    ").reshape(df_covid_lethality_by_state.shape[0], 1)\n",
    "\n",
    "df_covid_lethality_by_state[bol_amazon_states]"
   ]
  },
  {
   "cell_type": "code",
   "execution_count": null,
   "id": "a8ad7cf8-6efd-49f5-be0b-dcf6e278fb0e",
   "metadata": {},
   "outputs": [],
   "source": [
    "df_lethality_vs_sum_vivax_falciparum_by_state = pd.merge(\n",
    "    left=df_covid_lethality_by_state[bol_amazon_states].reset_index(),\n",
    "    right=df_amazon_by_state_sum_vivax_falciparum.reset_index().rename(columns={'Estado': 'estado'}),\n",
    "    on='estado').sort_values(by=('lethality'), ascending=False)\n",
    "\n",
    "df_lethality_vs_sum_vivax_falciparum_by_state"
   ]
  },
  {
   "cell_type": "markdown",
   "id": "da25a7ba-b9c2-48f4-bb0c-38114243d230",
   "metadata": {},
   "source": [
    "#### <center> Amazon </center>"
   ]
  },
  {
   "cell_type": "code",
   "execution_count": null,
   "id": "38be5897-67f7-470e-8c70-eb4d6a7085fb",
   "metadata": {},
   "outputs": [],
   "source": [
    "df_lethality_vs_sum_vivax_falciparum_by_state[['estado', 'lethality']].mean()"
   ]
  },
  {
   "cell_type": "code",
   "execution_count": null,
   "id": "e6081b59-8f43-4e7e-a42e-264ba7bc1113",
   "metadata": {},
   "outputs": [],
   "source": [
    "df_lethality_vs_sum_vivax_falciparum_by_state[['estado', 'lethality']].std()"
   ]
  },
  {
   "cell_type": "code",
   "execution_count": null,
   "id": "56518ceb-7c86-4615-b37b-06c1e0c5feb9",
   "metadata": {},
   "outputs": [],
   "source": [
    "df_lethality_vs_sum_vivax_falciparum_by_state[['sum_vivax_falciparum']].mean()"
   ]
  },
  {
   "cell_type": "code",
   "execution_count": null,
   "id": "ec855a00-5021-4482-a194-85b6b50ed466",
   "metadata": {},
   "outputs": [],
   "source": [
    "df_lethality_vs_sum_vivax_falciparum_by_state[[('sum_vivax_falciparum')]].std()"
   ]
  },
  {
   "cell_type": "markdown",
   "id": "4c8c3b28-80e3-4c84-b5b7-3a2858f43169",
   "metadata": {},
   "source": [
    "#### <center>No Amazon</center>"
   ]
  },
  {
   "cell_type": "code",
   "execution_count": null,
   "id": "faab1d87-5a87-4d2e-b062-3b1dba90ec8e",
   "metadata": {},
   "outputs": [],
   "source": [
    "df_covid_lethality_by_state[np.logical_not(bol_amazon_states)].mean()"
   ]
  },
  {
   "cell_type": "code",
   "execution_count": null,
   "id": "c4afdb4c-377a-450b-b9ef-1d7ff2b27b83",
   "metadata": {},
   "outputs": [],
   "source": [
    "df_covid_lethality_by_state[np.logical_not(bol_amazon_states)].std()"
   ]
  },
  {
   "cell_type": "code",
   "execution_count": null,
   "id": "2a85b20d-a10d-4cd4-9c82-93259f8987cc",
   "metadata": {},
   "outputs": [],
   "source": [
    "df_covid_lethality_by_state[np.logical_not(bol_amazon_states)]"
   ]
  },
  {
   "cell_type": "markdown",
   "id": "8d38c803-b8e6-4926-9a51-88ac3c0638e6",
   "metadata": {},
   "source": [
    "### 14.4 (df covid: lethality) vs (df amazon: num cases all p. species)"
   ]
  },
  {
   "cell_type": "code",
   "execution_count": null,
   "id": "448e5f8a-95cd-4208-bd29-bace4f2f76d2",
   "metadata": {},
   "outputs": [],
   "source": [
    "df_covid_mean_deaths_by_state = df_covid[['estado', 'obitosNovos']].groupby(['estado']).agg(\n",
    "    {'obitosNovos': ['mean']})\n",
    "\n",
    "df_covid_mean_deaths_by_state.head()"
   ]
  },
  {
   "cell_type": "code",
   "execution_count": null,
   "id": "a2951dee-d2ec-472f-ac64-fd085b0c2960",
   "metadata": {},
   "outputs": [],
   "source": [
    "df_covid_sum_population_by_state = df_covid[['estado', 'populacaoTCU2019']].drop_duplicates().groupby(by=['estado']\n",
    ").agg({\n",
    "    'populacaoTCU2019': [sum]\n",
    "})\n",
    "\n",
    "df_covid_sum_population_by_state.head()"
   ]
  },
  {
   "cell_type": "code",
   "execution_count": null,
   "id": "d3776e29-17e2-4ba6-95f3-25c21ce95b2c",
   "metadata": {},
   "outputs": [],
   "source": [
    "df_covid_by_state_deaths_by_million = pd.DataFrame((df_covid_mean_deaths_by_state['obitosNovos']['mean'] / \\\n",
    "df_covid_sum_population_by_state['populacaoTCU2019']['sum']) * 10**9, \n",
    "             columns=['deaths by million'])\n",
    "\n",
    "df_covid_by_state_deaths_by_million.head()"
   ]
  },
  {
   "cell_type": "code",
   "execution_count": null,
   "id": "a0e98b55-1f85-48a8-8b1b-8852b87172ca",
   "metadata": {},
   "outputs": [],
   "source": [
    "df_amazon_by_state_sum_all_plasmodium_species = pd.DataFrame(\n",
    "    df_amazon.groupby(['Estado']).agg(\n",
    "        {'Vivax': ['sum'], \n",
    "         'Falciparum': ['sum'], \n",
    "         'Malarie': ['sum'], \n",
    "         'Ovale': ['sum'], \n",
    "         'Mista': ['sum']}).drop('Total').sum(axis=1), \n",
    "    columns=['sum_all_plasmodium_species'])\n",
    "\n",
    "df_amazon_by_state_sum_all_plasmodium_species"
   ]
  },
  {
   "cell_type": "code",
   "execution_count": null,
   "id": "0a377b9c-9d3f-4e11-8112-bc05170e85ed",
   "metadata": {},
   "outputs": [],
   "source": [
    "amazon_states = df_amazon.Estado.drop_duplicates().tolist()\n",
    "amazon_states.remove('Total')\n",
    "amazon_states"
   ]
  },
  {
   "cell_type": "code",
   "execution_count": null,
   "id": "2e672476-a3c9-4967-bdc7-fa4102319aad",
   "metadata": {},
   "outputs": [],
   "source": [
    "bol_amazon_states = np.array(\n",
    "    [state in amazon_states for state in df_covid_by_state_deaths_by_million.index]\n",
    ").reshape(df_covid_by_state_deaths_by_million.shape[0], 1)\n",
    "\n",
    "df_covid_by_state_deaths_by_million[bol_amazon_states]"
   ]
  },
  {
   "cell_type": "code",
   "execution_count": null,
   "id": "c4d0e03b-db77-4e0c-a6ca-b79eb8d75de2",
   "metadata": {},
   "outputs": [],
   "source": [
    "df_deaths_by_million_vs_sum_all_plasmodium_species_by_state = pd.merge(\n",
    "    left=df_covid_by_state_deaths_by_million[bol_amazon_states].reset_index(),\n",
    "    right=df_amazon_by_state_sum_all_plasmodium_species.reset_index().rename(columns={'Estado': 'estado'}),\n",
    "    on='estado').sort_values(by=('deaths by million'), ascending=False)\n",
    "\n",
    "df_deaths_by_million_vs_sum_all_plasmodium_species_by_state"
   ]
  },
  {
   "cell_type": "markdown",
   "id": "301ee654-1e5f-40c2-b745-8bd979b5a27b",
   "metadata": {},
   "source": [
    "#### <center> Amazon </center>"
   ]
  },
  {
   "cell_type": "code",
   "execution_count": null,
   "id": "a2e282b0-df41-4553-8fc6-6c06f233b923",
   "metadata": {},
   "outputs": [],
   "source": [
    "df_deaths_by_million_vs_sum_falciparum_by_state[['estado', 'deaths by million']].mean()"
   ]
  },
  {
   "cell_type": "code",
   "execution_count": null,
   "id": "ed8ed937-cb07-44e4-a649-355ff6c3e2b7",
   "metadata": {},
   "outputs": [],
   "source": [
    "df_deaths_by_million_vs_sum_falciparum_by_state[['estado', 'deaths by million']].std()"
   ]
  },
  {
   "cell_type": "code",
   "execution_count": null,
   "id": "c17e6cfa-488b-4c77-b117-fb223916393f",
   "metadata": {},
   "outputs": [],
   "source": [
    "df_deaths_by_million_vs_sum_all_plasmodium_species_by_state[['sum_all_plasmodium_species']].mean()"
   ]
  },
  {
   "cell_type": "code",
   "execution_count": null,
   "id": "bf519e49-67bb-4d97-9091-a87f4356606a",
   "metadata": {},
   "outputs": [],
   "source": [
    "df_deaths_by_million_vs_sum_all_plasmodium_species_by_state[['sum_all_plasmodium_species']].std()"
   ]
  },
  {
   "cell_type": "markdown",
   "id": "89f8d2a1-1372-46b7-92b1-f23911a03d68",
   "metadata": {},
   "source": [
    "#### <center>No Amazon</center>"
   ]
  },
  {
   "cell_type": "code",
   "execution_count": null,
   "id": "1f34d74c-ae99-47e5-8848-55792d0bfe5b",
   "metadata": {},
   "outputs": [],
   "source": [
    "df_covid_by_state_deaths_by_million[np.logical_not(bol_amazon_states)].mean()"
   ]
  },
  {
   "cell_type": "code",
   "execution_count": null,
   "id": "2e0420f5-1465-4f42-a6c0-f0b200da5c8d",
   "metadata": {},
   "outputs": [],
   "source": [
    "df_covid_by_state_deaths_by_million[np.logical_not(bol_amazon_states)].std()"
   ]
  },
  {
   "cell_type": "code",
   "execution_count": null,
   "id": "1e7cadec-bcd6-43d5-a174-87e825ad1266",
   "metadata": {},
   "outputs": [],
   "source": [
    "df_covid_by_state_deaths_by_million[np.logical_not(bol_amazon_states)]"
   ]
  },
  {
   "cell_type": "markdown",
   "id": "30361f25-913f-4b2b-91d4-ea7e8213a5ac",
   "metadata": {},
   "source": [
    "## <center>Lethality, by city, all years</center>"
   ]
  },
  {
   "cell_type": "markdown",
   "id": "98219d19-14b5-475d-a347-8e28208942b3",
   "metadata": {},
   "source": [
    "### 15.1 (df covid: lethality) vs (df amazon: num cases p. vivax)"
   ]
  },
  {
   "cell_type": "code",
   "execution_count": 58,
   "id": "56280488-2a73-4a9e-b23f-b76365e42cfd",
   "metadata": {
    "id": "a7af75ed-bd14-424f-9e06-74ff2cefd63b"
   },
   "outputs": [
    {
     "data": {
      "text/html": [
       "<div>\n",
       "<style scoped>\n",
       "    .dataframe tbody tr th:only-of-type {\n",
       "        vertical-align: middle;\n",
       "    }\n",
       "\n",
       "    .dataframe tbody tr th {\n",
       "        vertical-align: top;\n",
       "    }\n",
       "\n",
       "    .dataframe thead tr th {\n",
       "        text-align: left;\n",
       "    }\n",
       "\n",
       "    .dataframe thead tr:last-of-type th {\n",
       "        text-align: right;\n",
       "    }\n",
       "</style>\n",
       "<table border=\"1\" class=\"dataframe\">\n",
       "  <thead>\n",
       "    <tr>\n",
       "      <th></th>\n",
       "      <th>obitosNovos</th>\n",
       "    </tr>\n",
       "    <tr>\n",
       "      <th></th>\n",
       "      <th>mean</th>\n",
       "    </tr>\n",
       "    <tr>\n",
       "      <th>codmun</th>\n",
       "      <th></th>\n",
       "    </tr>\n",
       "  </thead>\n",
       "  <tbody>\n",
       "    <tr>\n",
       "      <th>110001.0</th>\n",
       "      <td>0.158442</td>\n",
       "    </tr>\n",
       "    <tr>\n",
       "      <th>110002.0</th>\n",
       "      <td>1.034398</td>\n",
       "    </tr>\n",
       "    <tr>\n",
       "      <th>110003.0</th>\n",
       "      <td>0.051136</td>\n",
       "    </tr>\n",
       "    <tr>\n",
       "      <th>110004.0</th>\n",
       "      <td>0.609819</td>\n",
       "    </tr>\n",
       "    <tr>\n",
       "      <th>110005.0</th>\n",
       "      <td>0.151099</td>\n",
       "    </tr>\n",
       "  </tbody>\n",
       "</table>\n",
       "</div>"
      ],
      "text/plain": [
       "         obitosNovos\n",
       "                mean\n",
       "codmun              \n",
       "110001.0    0.158442\n",
       "110002.0    1.034398\n",
       "110003.0    0.051136\n",
       "110004.0    0.609819\n",
       "110005.0    0.151099"
      ]
     },
     "execution_count": 58,
     "metadata": {},
     "output_type": "execute_result"
    }
   ],
   "source": [
    "df_covid_mean_deaths_by_city = df_covid[['codmun', 'obitosNovos']].groupby('codmun').agg(\n",
    "    {'obitosNovos': ['mean']})\n",
    "\n",
    "df_covid_mean_deaths_by_city.head()"
   ]
  },
  {
   "cell_type": "code",
   "execution_count": 59,
   "id": "cddb8f98-5f70-4115-ae45-6f51993a82fd",
   "metadata": {
    "id": "12bac238-b9a8-4655-9ce7-3c627c33e15b"
   },
   "outputs": [
    {
     "data": {
      "text/html": [
       "<div>\n",
       "<style scoped>\n",
       "    .dataframe tbody tr th:only-of-type {\n",
       "        vertical-align: middle;\n",
       "    }\n",
       "\n",
       "    .dataframe tbody tr th {\n",
       "        vertical-align: top;\n",
       "    }\n",
       "\n",
       "    .dataframe thead th {\n",
       "        text-align: right;\n",
       "    }\n",
       "</style>\n",
       "<table border=\"1\" class=\"dataframe\">\n",
       "  <thead>\n",
       "    <tr style=\"text-align: right;\">\n",
       "      <th></th>\n",
       "      <th>populacaoTCU2019</th>\n",
       "    </tr>\n",
       "    <tr>\n",
       "      <th>codmun</th>\n",
       "      <th></th>\n",
       "    </tr>\n",
       "  </thead>\n",
       "  <tbody>\n",
       "    <tr>\n",
       "      <th>110001.0</th>\n",
       "      <td>22945.0</td>\n",
       "    </tr>\n",
       "    <tr>\n",
       "      <th>110002.0</th>\n",
       "      <td>107863.0</td>\n",
       "    </tr>\n",
       "    <tr>\n",
       "      <th>110003.0</th>\n",
       "      <td>5312.0</td>\n",
       "    </tr>\n",
       "    <tr>\n",
       "      <th>110004.0</th>\n",
       "      <td>85359.0</td>\n",
       "    </tr>\n",
       "    <tr>\n",
       "      <th>110005.0</th>\n",
       "      <td>16323.0</td>\n",
       "    </tr>\n",
       "  </tbody>\n",
       "</table>\n",
       "</div>"
      ],
      "text/plain": [
       "          populacaoTCU2019\n",
       "codmun                    \n",
       "110001.0           22945.0\n",
       "110002.0          107863.0\n",
       "110003.0            5312.0\n",
       "110004.0           85359.0\n",
       "110005.0           16323.0"
      ]
     },
     "execution_count": 59,
     "metadata": {},
     "output_type": "execute_result"
    }
   ],
   "source": [
    "df_covid_sum_population_by_city = df_covid[['codmun', 'populacaoTCU2019']].drop_duplicates().groupby(\n",
    "    by='codmun').agg(\n",
    "    {'populacaoTCU2019': 'sum'})\n",
    "\n",
    "df_covid_sum_population_by_city.head()"
   ]
  },
  {
   "cell_type": "code",
   "execution_count": 60,
   "id": "3943ae98-4476-4d85-b65b-fadc78336736",
   "metadata": {
    "id": "7b812683-0067-4b6f-a3f0-c528fc35780e"
   },
   "outputs": [
    {
     "data": {
      "text/html": [
       "<div>\n",
       "<style scoped>\n",
       "    .dataframe tbody tr th:only-of-type {\n",
       "        vertical-align: middle;\n",
       "    }\n",
       "\n",
       "    .dataframe tbody tr th {\n",
       "        vertical-align: top;\n",
       "    }\n",
       "\n",
       "    .dataframe thead th {\n",
       "        text-align: right;\n",
       "    }\n",
       "</style>\n",
       "<table border=\"1\" class=\"dataframe\">\n",
       "  <thead>\n",
       "    <tr style=\"text-align: right;\">\n",
       "      <th></th>\n",
       "      <th>deaths by million</th>\n",
       "    </tr>\n",
       "    <tr>\n",
       "      <th>codmun</th>\n",
       "      <th></th>\n",
       "    </tr>\n",
       "  </thead>\n",
       "  <tbody>\n",
       "    <tr>\n",
       "      <th>110001</th>\n",
       "      <td>6905.276027</td>\n",
       "    </tr>\n",
       "    <tr>\n",
       "      <th>110002</th>\n",
       "      <td>9589.924575</td>\n",
       "    </tr>\n",
       "    <tr>\n",
       "      <th>110003</th>\n",
       "      <td>9626.574480</td>\n",
       "    </tr>\n",
       "    <tr>\n",
       "      <th>110004</th>\n",
       "      <td>7144.168997</td>\n",
       "    </tr>\n",
       "    <tr>\n",
       "      <th>110005</th>\n",
       "      <td>9256.809477</td>\n",
       "    </tr>\n",
       "  </tbody>\n",
       "</table>\n",
       "</div>"
      ],
      "text/plain": [
       "        deaths by million\n",
       "codmun                   \n",
       "110001        6905.276027\n",
       "110002        9589.924575\n",
       "110003        9626.574480\n",
       "110004        7144.168997\n",
       "110005        9256.809477"
      ]
     },
     "execution_count": 60,
     "metadata": {},
     "output_type": "execute_result"
    }
   ],
   "source": [
    "df_covid_by_city_deaths_by_million = pd.DataFrame((df_covid_mean_deaths_by_city['obitosNovos']['mean'] / \\\n",
    "df_covid_sum_population_by_city['populacaoTCU2019']) * 10**9, \n",
    "             columns=['deaths by million'])\n",
    "\n",
    "df_covid_by_city_deaths_by_million.index = df_covid_by_city_deaths_by_million.index.map(str).map(lambda codmun: codmun.split('.')[0])\n",
    "\n",
    "df_covid_by_city_deaths_by_million.head()"
   ]
  },
  {
   "cell_type": "code",
   "execution_count": 61,
   "id": "dedbb5ec-599e-477d-81ce-35505c0f3b48",
   "metadata": {},
   "outputs": [
    {
     "data": {
      "text/html": [
       "<div>\n",
       "<style scoped>\n",
       "    .dataframe tbody tr th:only-of-type {\n",
       "        vertical-align: middle;\n",
       "    }\n",
       "\n",
       "    .dataframe tbody tr th {\n",
       "        vertical-align: top;\n",
       "    }\n",
       "\n",
       "    .dataframe thead tr th {\n",
       "        text-align: left;\n",
       "    }\n",
       "\n",
       "    .dataframe thead tr:last-of-type th {\n",
       "        text-align: right;\n",
       "    }\n",
       "</style>\n",
       "<table border=\"1\" class=\"dataframe\">\n",
       "  <thead>\n",
       "    <tr>\n",
       "      <th></th>\n",
       "      <th>Vivax</th>\n",
       "    </tr>\n",
       "    <tr>\n",
       "      <th></th>\n",
       "      <th>sum</th>\n",
       "    </tr>\n",
       "    <tr>\n",
       "      <th>CD</th>\n",
       "      <th></th>\n",
       "    </tr>\n",
       "  </thead>\n",
       "  <tbody>\n",
       "    <tr>\n",
       "      <th>110001</th>\n",
       "      <td>1519.000</td>\n",
       "    </tr>\n",
       "    <tr>\n",
       "      <th>110002</th>\n",
       "      <td>4256.198</td>\n",
       "    </tr>\n",
       "    <tr>\n",
       "      <th>110003</th>\n",
       "      <td>182.000</td>\n",
       "    </tr>\n",
       "    <tr>\n",
       "      <th>110004</th>\n",
       "      <td>4121.163</td>\n",
       "    </tr>\n",
       "    <tr>\n",
       "      <th>110005</th>\n",
       "      <td>647.000</td>\n",
       "    </tr>\n",
       "  </tbody>\n",
       "</table>\n",
       "</div>"
      ],
      "text/plain": [
       "           Vivax\n",
       "             sum\n",
       "CD              \n",
       "110001  1519.000\n",
       "110002  4256.198\n",
       "110003   182.000\n",
       "110004  4121.163\n",
       "110005   647.000"
      ]
     },
     "execution_count": 61,
     "metadata": {},
     "output_type": "execute_result"
    }
   ],
   "source": [
    "df_amazon_by_city_sum_vivax = df_amazon.groupby(['CD']).agg(\n",
    "    {'Vivax': ['sum']}).drop('Total geral')\n",
    "\n",
    "df_amazon_by_city_sum_vivax.head()"
   ]
  },
  {
   "cell_type": "code",
   "execution_count": 62,
   "id": "0afccbb7-8f69-4857-b579-a3003e6d2dbd",
   "metadata": {},
   "outputs": [
    {
     "name": "stdout",
     "output_type": "stream",
     "text": [
      "706\n"
     ]
    },
    {
     "data": {
      "text/plain": [
       "['110001',\n",
       " '110002',\n",
       " '110003',\n",
       " '110004',\n",
       " '110005',\n",
       " '110006',\n",
       " '110007',\n",
       " '110008',\n",
       " '110009',\n",
       " '110010']"
      ]
     },
     "execution_count": 62,
     "metadata": {},
     "output_type": "execute_result"
    }
   ],
   "source": [
    "amazon_cities = df_amazon.CD.drop_duplicates().tolist()\n",
    "amazon_cities.remove('Total geral')\n",
    "\n",
    "print(len(amazon_cities))\n",
    "amazon_cities[:10]"
   ]
  },
  {
   "cell_type": "code",
   "execution_count": 63,
   "id": "653a5302-ee58-4597-aa7d-c58d6143ee06",
   "metadata": {},
   "outputs": [
    {
     "data": {
      "text/html": [
       "<div>\n",
       "<style scoped>\n",
       "    .dataframe tbody tr th:only-of-type {\n",
       "        vertical-align: middle;\n",
       "    }\n",
       "\n",
       "    .dataframe tbody tr th {\n",
       "        vertical-align: top;\n",
       "    }\n",
       "\n",
       "    .dataframe thead th {\n",
       "        text-align: right;\n",
       "    }\n",
       "</style>\n",
       "<table border=\"1\" class=\"dataframe\">\n",
       "  <thead>\n",
       "    <tr style=\"text-align: right;\">\n",
       "      <th></th>\n",
       "      <th>deaths by million</th>\n",
       "    </tr>\n",
       "    <tr>\n",
       "      <th>codmun</th>\n",
       "      <th></th>\n",
       "    </tr>\n",
       "  </thead>\n",
       "  <tbody>\n",
       "    <tr>\n",
       "      <th>110001</th>\n",
       "      <td>6905.276027</td>\n",
       "    </tr>\n",
       "    <tr>\n",
       "      <th>110002</th>\n",
       "      <td>9589.924575</td>\n",
       "    </tr>\n",
       "    <tr>\n",
       "      <th>110003</th>\n",
       "      <td>9626.574480</td>\n",
       "    </tr>\n",
       "    <tr>\n",
       "      <th>110004</th>\n",
       "      <td>7144.168997</td>\n",
       "    </tr>\n",
       "    <tr>\n",
       "      <th>110005</th>\n",
       "      <td>9256.809477</td>\n",
       "    </tr>\n",
       "    <tr>\n",
       "      <th>...</th>\n",
       "      <td>...</td>\n",
       "    </tr>\n",
       "    <tr>\n",
       "      <th>510860</th>\n",
       "      <td>2484.542265</td>\n",
       "    </tr>\n",
       "    <tr>\n",
       "      <th>510880</th>\n",
       "      <td>7990.951784</td>\n",
       "    </tr>\n",
       "    <tr>\n",
       "      <th>510885</th>\n",
       "      <td>4383.104360</td>\n",
       "    </tr>\n",
       "    <tr>\n",
       "      <th>510890</th>\n",
       "      <td>2925.691341</td>\n",
       "    </tr>\n",
       "    <tr>\n",
       "      <th>510895</th>\n",
       "      <td>4410.131889</td>\n",
       "    </tr>\n",
       "  </tbody>\n",
       "</table>\n",
       "<p>706 rows × 1 columns</p>\n",
       "</div>"
      ],
      "text/plain": [
       "        deaths by million\n",
       "codmun                   \n",
       "110001        6905.276027\n",
       "110002        9589.924575\n",
       "110003        9626.574480\n",
       "110004        7144.168997\n",
       "110005        9256.809477\n",
       "...                   ...\n",
       "510860        2484.542265\n",
       "510880        7990.951784\n",
       "510885        4383.104360\n",
       "510890        2925.691341\n",
       "510895        4410.131889\n",
       "\n",
       "[706 rows x 1 columns]"
      ]
     },
     "execution_count": 63,
     "metadata": {},
     "output_type": "execute_result"
    }
   ],
   "source": [
    "bol_amazon_cities = np.array(\n",
    "    [city in amazon_cities for city in df_covid_by_city_deaths_by_million.index]\n",
    ").reshape(df_covid_by_city_deaths_by_million.shape[0], 1)\n",
    "\n",
    "df_covid_by_city_deaths_by_million[bol_amazon_cities]"
   ]
  },
  {
   "cell_type": "code",
   "execution_count": 64,
   "id": "04d78b69-1151-4372-a033-8f9161ccfd6a",
   "metadata": {},
   "outputs": [
    {
     "name": "stderr",
     "output_type": "stream",
     "text": [
      "/home/bruno/Documents/dev/lgdc-covid-19-and-malaria/venv-lgdc-covid-19-and-malaria/lib/python3.8/site-packages/pandas/core/reshape/merge.py:648: UserWarning:\n",
      "\n",
      "merging between different levels can give an unintended result (1 levels on the left,2 on the right)\n",
      "\n",
      "/home/bruno/Documents/dev/lgdc-covid-19-and-malaria/venv-lgdc-covid-19-and-malaria/lib/python3.8/site-packages/pandas/core/generic.py:4153: PerformanceWarning:\n",
      "\n",
      "dropping on a non-lexsorted multi-index without a level parameter may impact performance.\n",
      "\n"
     ]
    },
    {
     "data": {
      "text/html": [
       "<div>\n",
       "<style scoped>\n",
       "    .dataframe tbody tr th:only-of-type {\n",
       "        vertical-align: middle;\n",
       "    }\n",
       "\n",
       "    .dataframe tbody tr th {\n",
       "        vertical-align: top;\n",
       "    }\n",
       "\n",
       "    .dataframe thead th {\n",
       "        text-align: right;\n",
       "    }\n",
       "</style>\n",
       "<table border=\"1\" class=\"dataframe\">\n",
       "  <thead>\n",
       "    <tr style=\"text-align: right;\">\n",
       "      <th></th>\n",
       "      <th>codmun</th>\n",
       "      <th>deaths by million</th>\n",
       "      <th>(Vivax, sum)</th>\n",
       "    </tr>\n",
       "  </thead>\n",
       "  <tbody>\n",
       "    <tr>\n",
       "      <th>42</th>\n",
       "      <td>110146</td>\n",
       "      <td>19103.948404</td>\n",
       "      <td>595.000</td>\n",
       "    </tr>\n",
       "    <tr>\n",
       "      <th>635</th>\n",
       "      <td>510455</td>\n",
       "      <td>17897.774139</td>\n",
       "      <td>70.000</td>\n",
       "    </tr>\n",
       "    <tr>\n",
       "      <th>676</th>\n",
       "      <td>510719</td>\n",
       "      <td>12561.946097</td>\n",
       "      <td>9.000</td>\n",
       "    </tr>\n",
       "    <tr>\n",
       "      <th>9</th>\n",
       "      <td>110010</td>\n",
       "      <td>11696.012466</td>\n",
       "      <td>6295.477</td>\n",
       "    </tr>\n",
       "    <tr>\n",
       "      <th>376</th>\n",
       "      <td>172065</td>\n",
       "      <td>11291.496865</td>\n",
       "      <td>2.000</td>\n",
       "    </tr>\n",
       "    <tr>\n",
       "      <th>...</th>\n",
       "      <td>...</td>\n",
       "      <td>...</td>\n",
       "      <td>...</td>\n",
       "    </tr>\n",
       "    <tr>\n",
       "      <th>553</th>\n",
       "      <td>211085</td>\n",
       "      <td>220.156179</td>\n",
       "      <td>16.000</td>\n",
       "    </tr>\n",
       "    <tr>\n",
       "      <th>528</th>\n",
       "      <td>210920</td>\n",
       "      <td>198.809924</td>\n",
       "      <td>283.000</td>\n",
       "    </tr>\n",
       "    <tr>\n",
       "      <th>538</th>\n",
       "      <td>210975</td>\n",
       "      <td>0.000000</td>\n",
       "      <td>19.000</td>\n",
       "    </tr>\n",
       "    <tr>\n",
       "      <th>684</th>\n",
       "      <td>510774</td>\n",
       "      <td>0.000000</td>\n",
       "      <td>3.000</td>\n",
       "    </tr>\n",
       "    <tr>\n",
       "      <th>379</th>\n",
       "      <td>172093</td>\n",
       "      <td>0.000000</td>\n",
       "      <td>8.000</td>\n",
       "    </tr>\n",
       "  </tbody>\n",
       "</table>\n",
       "<p>706 rows × 3 columns</p>\n",
       "</div>"
      ],
      "text/plain": [
       "     codmun  deaths by million  (Vivax, sum)\n",
       "42   110146       19103.948404       595.000\n",
       "635  510455       17897.774139        70.000\n",
       "676  510719       12561.946097         9.000\n",
       "9    110010       11696.012466      6295.477\n",
       "376  172065       11291.496865         2.000\n",
       "..      ...                ...           ...\n",
       "553  211085         220.156179        16.000\n",
       "528  210920         198.809924       283.000\n",
       "538  210975           0.000000        19.000\n",
       "684  510774           0.000000         3.000\n",
       "379  172093           0.000000         8.000\n",
       "\n",
       "[706 rows x 3 columns]"
      ]
     },
     "execution_count": 64,
     "metadata": {},
     "output_type": "execute_result"
    }
   ],
   "source": [
    "df_deaths_by_million_vs_sum_vivax_by_city = pd.merge(\n",
    "    left=df_covid_by_city_deaths_by_million[bol_amazon_cities].reset_index(),\n",
    "    right=df_amazon_by_city_sum_vivax.reset_index().rename(columns={'CD': 'codmun'}),\n",
    "    on='codmun').sort_values(by=('deaths by million'), ascending=False)\n",
    "\n",
    "df_deaths_by_million_vs_sum_vivax_by_city"
   ]
  },
  {
   "cell_type": "markdown",
   "id": "bda16965-75c2-4cfc-ab41-082f1dec4b3f",
   "metadata": {},
   "source": [
    "#### <center> Amazon </center>"
   ]
  },
  {
   "cell_type": "code",
   "execution_count": null,
   "id": "6d3079a3-b667-434b-ae8f-b94ac330de2a",
   "metadata": {},
   "outputs": [],
   "source": [
    "df_deaths_by_million_vs_sum_vivax_by_city[['codmun', 'deaths by million']].mean()"
   ]
  },
  {
   "cell_type": "code",
   "execution_count": null,
   "id": "edefc61c-a3db-4e22-8506-ac710e1f2d42",
   "metadata": {},
   "outputs": [],
   "source": [
    "df_deaths_by_million_vs_sum_vivax_by_city[['codmun', 'deaths by million']].std()"
   ]
  },
  {
   "cell_type": "code",
   "execution_count": null,
   "id": "1a9ec156-9851-44d0-98eb-0ea8feb3027a",
   "metadata": {},
   "outputs": [],
   "source": [
    "df_deaths_by_million_vs_sum_vivax_by_city[[('Vivax', 'sum')]].mean()"
   ]
  },
  {
   "cell_type": "code",
   "execution_count": null,
   "id": "64072829-35b6-4460-80f9-544504fc2b72",
   "metadata": {},
   "outputs": [],
   "source": [
    "df_deaths_by_million_vs_sum_vivax_by_city[[('Vivax', 'sum')]].std()"
   ]
  },
  {
   "cell_type": "markdown",
   "id": "311a6685-4bcc-4c29-b05b-fbdc9a5d854c",
   "metadata": {},
   "source": [
    "#### <center>No Amazon</center>"
   ]
  },
  {
   "cell_type": "code",
   "execution_count": null,
   "id": "f01a911b-bcf7-4403-9089-bfd0dea6ed5e",
   "metadata": {},
   "outputs": [],
   "source": [
    "df_covid_by_city_deaths_by_million[np.logical_not(bol_amazon_cities)].mean()"
   ]
  },
  {
   "cell_type": "code",
   "execution_count": null,
   "id": "8b173628-1b2a-4061-afe7-6e13bc252def",
   "metadata": {},
   "outputs": [],
   "source": [
    "df_covid_by_city_deaths_by_million[np.logical_not(bol_amazon_cities)].std()"
   ]
  },
  {
   "cell_type": "code",
   "execution_count": null,
   "id": "c4f982eb-9cd1-4a82-86e7-331e8e4ee4e3",
   "metadata": {},
   "outputs": [],
   "source": [
    "df_covid_by_city_deaths_by_million[np.logical_not(bol_amazon_cities)]"
   ]
  },
  {
   "cell_type": "markdown",
   "id": "68ea542a-2b0c-4e6b-a859-3ae80f0d3940",
   "metadata": {},
   "source": [
    "### 15.2 (df covid: lethality) vs (df amazon: num cases p. falciparum)"
   ]
  },
  {
   "cell_type": "code",
   "execution_count": null,
   "id": "684cf25e-10fe-4865-8394-fb1a6da0868e",
   "metadata": {
    "id": "a7af75ed-bd14-424f-9e06-74ff2cefd63b"
   },
   "outputs": [],
   "source": [
    "df_covid_mean_deaths_by_city = df_covid[['codmun', 'obitosNovos']].groupby('codmun').agg(\n",
    "    {'obitosNovos': ['mean']})\n",
    "\n",
    "df_covid_mean_deaths_by_city.head()"
   ]
  },
  {
   "cell_type": "code",
   "execution_count": null,
   "id": "3f264062-51c3-48dc-a597-e91e01d37a1d",
   "metadata": {
    "id": "12bac238-b9a8-4655-9ce7-3c627c33e15b"
   },
   "outputs": [],
   "source": [
    "df_covid_sum_population_by_city = df_covid[['codmun', 'populacaoTCU2019']].drop_duplicates().groupby(\n",
    "    by='codmun').agg(\n",
    "    {'populacaoTCU2019': 'sum'})\n",
    "\n",
    "df_covid_sum_population_by_city.head()"
   ]
  },
  {
   "cell_type": "code",
   "execution_count": null,
   "id": "3a418830-4c66-46ba-a3f4-6652087d274a",
   "metadata": {
    "id": "7b812683-0067-4b6f-a3f0-c528fc35780e"
   },
   "outputs": [],
   "source": [
    "df_covid_by_city_deaths_by_million = pd.DataFrame((df_covid_mean_deaths_by_city['obitosNovos']['mean'] / \\\n",
    "df_covid_sum_population_by_city['populacaoTCU2019']) * 10**9, \n",
    "             columns=['deaths by million'])\n",
    "\n",
    "df_covid_by_city_deaths_by_million.index = df_covid_by_city_deaths_by_million.index.map(str).map(lambda codmun: codmun.split('.')[0])\n",
    "\n",
    "df_covid_by_city_deaths_by_million.head()"
   ]
  },
  {
   "cell_type": "code",
   "execution_count": null,
   "id": "39dc0d8c-49b0-4ad3-ac7e-2911657851f9",
   "metadata": {},
   "outputs": [],
   "source": [
    "df_amazon_by_city_sum_falciparum = df_amazon.groupby(['CD']).agg(\n",
    "    {'Falciparum': ['sum']}).drop('Total geral')\n",
    "\n",
    "df_amazon_by_city_sum_falciparum.head()"
   ]
  },
  {
   "cell_type": "code",
   "execution_count": null,
   "id": "30a08751-fb15-4fb7-82e3-c54b6d5d1957",
   "metadata": {},
   "outputs": [],
   "source": [
    "amazon_cities = df_amazon.CD.drop_duplicates().tolist()\n",
    "amazon_cities.remove('Total geral')\n",
    "\n",
    "print(len(amazon_cities))\n",
    "amazon_cities[:10]"
   ]
  },
  {
   "cell_type": "code",
   "execution_count": null,
   "id": "ccd53a60-e539-49e3-b0c1-9122d6e8ac18",
   "metadata": {},
   "outputs": [],
   "source": [
    "bol_amazon_cities = np.array(\n",
    "    [city in amazon_cities for city in df_covid_by_city_deaths_by_million.index]\n",
    ").reshape(df_covid_by_city_deaths_by_million.shape[0], 1)\n",
    "\n",
    "df_covid_by_city_deaths_by_million[bol_amazon_cities]"
   ]
  },
  {
   "cell_type": "code",
   "execution_count": null,
   "id": "7287ae67-9606-43ef-9de6-aad8d1d7ca19",
   "metadata": {},
   "outputs": [],
   "source": [
    "df_deaths_by_million_vs_sum_falciparum_by_city = pd.merge(\n",
    "    left=df_covid_by_city_deaths_by_million[bol_amazon_cities].reset_index(),\n",
    "    right=df_amazon_by_city_sum_falciparum.reset_index().rename(columns={'CD': 'codmun'}),\n",
    "    on='codmun').sort_values(by=('deaths by million'), ascending=False)\n",
    "\n",
    "df_deaths_by_million_vs_sum_falciparum_by_city"
   ]
  },
  {
   "cell_type": "markdown",
   "id": "9936290b-bd0d-4d1f-8d3f-79a92d83c147",
   "metadata": {},
   "source": [
    "#### <center> Amazon </center>"
   ]
  },
  {
   "cell_type": "code",
   "execution_count": null,
   "id": "aeacbbe0-3637-4e26-931c-16b56a9429d1",
   "metadata": {},
   "outputs": [],
   "source": [
    "df_deaths_by_million_vs_sum_falciparum_by_city[['codmun', 'deaths by million']].mean()"
   ]
  },
  {
   "cell_type": "code",
   "execution_count": null,
   "id": "e57d2060-3915-4e03-b130-170a266bd95d",
   "metadata": {},
   "outputs": [],
   "source": [
    "df_deaths_by_million_vs_sum_falciparum_by_city[['codmun', 'deaths by million']].std()"
   ]
  },
  {
   "cell_type": "code",
   "execution_count": null,
   "id": "c549ea76-b966-4242-89fc-322177d4c997",
   "metadata": {},
   "outputs": [],
   "source": [
    "df_deaths_by_million_vs_sum_falciparum_by_city[[('Falciparum', 'sum')]].mean()"
   ]
  },
  {
   "cell_type": "code",
   "execution_count": null,
   "id": "37fa0e51-6e5b-43d2-882b-4d5eab25bc7e",
   "metadata": {},
   "outputs": [],
   "source": [
    "df_deaths_by_million_vs_sum_falciparum_by_city[[('Falciparum', 'sum')]].std()"
   ]
  },
  {
   "cell_type": "markdown",
   "id": "d387f7c9-6972-4cec-acb6-af5300bded7a",
   "metadata": {},
   "source": [
    "#### <center>No Amazon</center>"
   ]
  },
  {
   "cell_type": "code",
   "execution_count": null,
   "id": "b05b9acb-322a-447b-87cd-aa27f936f3a4",
   "metadata": {},
   "outputs": [],
   "source": [
    "df_covid_by_city_deaths_by_million[np.logical_not(bol_amazon_cities)].mean()"
   ]
  },
  {
   "cell_type": "code",
   "execution_count": null,
   "id": "6871e8da-bb4f-4edc-901f-a582bb8da7ed",
   "metadata": {},
   "outputs": [],
   "source": [
    "df_covid_by_city_deaths_by_million[np.logical_not(bol_amazon_cities)].std()"
   ]
  },
  {
   "cell_type": "code",
   "execution_count": null,
   "id": "94edf4d9-38c0-4074-a34e-a3be26d35d2b",
   "metadata": {},
   "outputs": [],
   "source": [
    "df_covid_by_city_deaths_by_million[np.logical_not(bol_amazon_cities)]"
   ]
  },
  {
   "cell_type": "markdown",
   "id": "a052e86e-0cab-425f-b8a9-aa4f888e5dc1",
   "metadata": {},
   "source": [
    "### 15.3 (df covid: lethality) vs (df amazon: num cases p. vivax + p. falciparum)"
   ]
  },
  {
   "cell_type": "code",
   "execution_count": null,
   "id": "cf00a08f-22a0-42c3-9e64-51c853baa292",
   "metadata": {
    "id": "a7af75ed-bd14-424f-9e06-74ff2cefd63b"
   },
   "outputs": [],
   "source": [
    "df_covid_mean_deaths_by_city = df_covid[['codmun', 'obitosNovos']].groupby('codmun').agg(\n",
    "    {'obitosNovos': ['mean']})\n",
    "\n",
    "df_covid_mean_deaths_by_city.head()"
   ]
  },
  {
   "cell_type": "code",
   "execution_count": null,
   "id": "2a11e4d6-3cde-4786-8673-f386af326a3a",
   "metadata": {
    "id": "12bac238-b9a8-4655-9ce7-3c627c33e15b"
   },
   "outputs": [],
   "source": [
    "df_covid_sum_population_by_city = df_covid[['codmun', 'populacaoTCU2019']].drop_duplicates().groupby(\n",
    "    by='codmun').agg(\n",
    "    {'populacaoTCU2019': 'sum'})\n",
    "\n",
    "df_covid_sum_population_by_city.head()"
   ]
  },
  {
   "cell_type": "code",
   "execution_count": null,
   "id": "9c539eb5-e1fb-4217-a751-1f54f736780d",
   "metadata": {
    "id": "7b812683-0067-4b6f-a3f0-c528fc35780e"
   },
   "outputs": [],
   "source": [
    "df_covid_by_city_deaths_by_million = pd.DataFrame((df_covid_mean_deaths_by_city['obitosNovos']['mean'] / \\\n",
    "df_covid_sum_population_by_city['populacaoTCU2019']) * 10**9, \n",
    "             columns=['deaths by million'])\n",
    "\n",
    "df_covid_by_city_deaths_by_million.index = df_covid_by_city_deaths_by_million.index.map(str).map(lambda codmun: codmun.split('.')[0])\n",
    "\n",
    "df_covid_by_city_deaths_by_million.head()"
   ]
  },
  {
   "cell_type": "code",
   "execution_count": null,
   "id": "843aa5ff-2eb7-4589-b837-0ddd1920657a",
   "metadata": {},
   "outputs": [],
   "source": [
    "df_amazon_by_city_sum_vivax_falciparum = pd.DataFrame(\n",
    "    df_amazon.groupby(['CD']).agg(\n",
    "        {'Vivax': ['sum'], \n",
    "         'Falciparum': ['sum']}).drop('Total geral').sum(axis=1), \n",
    "    columns=['sum_vivax_falciparum'])\n",
    "\n",
    "df_amazon_by_city_sum_vivax_falciparum.head()"
   ]
  },
  {
   "cell_type": "code",
   "execution_count": null,
   "id": "d70602a5-2d89-4f64-b1f9-c8fb19095c55",
   "metadata": {},
   "outputs": [],
   "source": [
    "amazon_cities = df_amazon.CD.drop_duplicates().tolist()\n",
    "amazon_cities.remove('Total geral')\n",
    "\n",
    "print(len(amazon_cities))\n",
    "amazon_cities[:10]"
   ]
  },
  {
   "cell_type": "code",
   "execution_count": null,
   "id": "c3ba3307-d759-464c-8575-21109e6e80e0",
   "metadata": {},
   "outputs": [],
   "source": [
    "bol_amazon_cities = np.array(\n",
    "    [city in amazon_cities for city in df_covid_by_city_deaths_by_million.index]\n",
    ").reshape(df_covid_by_city_deaths_by_million.shape[0], 1)\n",
    "\n",
    "df_covid_by_city_deaths_by_million[bol_amazon_cities]"
   ]
  },
  {
   "cell_type": "code",
   "execution_count": null,
   "id": "95bdc554-aada-4e61-b773-5335d208e2d8",
   "metadata": {},
   "outputs": [],
   "source": [
    "df_deaths_by_million_vs_sum_vivax_falciparum_by_city = pd.merge(\n",
    "    left=df_covid_by_city_deaths_by_million[bol_amazon_cities].reset_index(),\n",
    "    right=df_amazon_by_city_sum_vivax_falciparum.reset_index().rename(columns={'CD': 'codmun'}),\n",
    "    on='codmun').sort_values(by=('deaths by million'), ascending=False)\n",
    "\n",
    "df_deaths_by_million_vs_sum_vivax_falciparum_by_city"
   ]
  },
  {
   "cell_type": "markdown",
   "id": "7f2c1131-8f49-4118-bfef-69054d119558",
   "metadata": {},
   "source": [
    "#### <center> Amazon </center>"
   ]
  },
  {
   "cell_type": "code",
   "execution_count": null,
   "id": "67ce4722-b396-45cd-81f3-d3c9993f1aaa",
   "metadata": {},
   "outputs": [],
   "source": [
    "df_deaths_by_million_vs_sum_vivax_falciparum_by_city[['codmun', 'deaths by million']].mean()"
   ]
  },
  {
   "cell_type": "code",
   "execution_count": null,
   "id": "5a094388-219d-4997-9089-bae546b2944c",
   "metadata": {},
   "outputs": [],
   "source": [
    "df_deaths_by_million_vs_sum_vivax_falciparum_by_city[['codmun', 'deaths by million']].std()"
   ]
  },
  {
   "cell_type": "code",
   "execution_count": null,
   "id": "b5100744-8cb8-4faf-9d4f-e451b970d7bd",
   "metadata": {},
   "outputs": [],
   "source": [
    "df_deaths_by_million_vs_sum_vivax_falciparum_by_city[['sum_vivax_falciparum']].mean()"
   ]
  },
  {
   "cell_type": "code",
   "execution_count": null,
   "id": "717f5ab6-c57b-4292-bfa4-779b9b5975f8",
   "metadata": {},
   "outputs": [],
   "source": [
    "df_deaths_by_million_vs_sum_vivax_falciparum_by_city[['sum_vivax_falciparum']].std()"
   ]
  },
  {
   "cell_type": "markdown",
   "id": "431251c8-7147-40ce-9f2e-26ccabaa74e3",
   "metadata": {},
   "source": [
    "#### <center>No Amazon</center>"
   ]
  },
  {
   "cell_type": "code",
   "execution_count": null,
   "id": "252ca568-dcc0-40cc-8207-83b81e9de41a",
   "metadata": {},
   "outputs": [],
   "source": [
    "df_covid_by_city_deaths_by_million[np.logical_not(bol_amazon_cities)].mean()"
   ]
  },
  {
   "cell_type": "code",
   "execution_count": null,
   "id": "d08cb0ef-7bcf-4325-8a74-e2ffecf8d240",
   "metadata": {},
   "outputs": [],
   "source": [
    "df_covid_by_city_deaths_by_million[np.logical_not(bol_amazon_cities)].std()"
   ]
  },
  {
   "cell_type": "code",
   "execution_count": null,
   "id": "c3e91eff-b964-40cb-b810-ced7c78d9d8d",
   "metadata": {},
   "outputs": [],
   "source": [
    "df_covid_by_city_deaths_by_million[np.logical_not(bol_amazon_cities)]"
   ]
  },
  {
   "cell_type": "markdown",
   "id": "a9773dda-cf7a-43a8-a309-38183da653a7",
   "metadata": {},
   "source": [
    "### 15.4 (df covid: lethality) vs (df amazon: num cases all p. species)"
   ]
  },
  {
   "cell_type": "code",
   "execution_count": null,
   "id": "8bcc5cb9-0033-40e3-b5bd-7e0758e9b0c9",
   "metadata": {
    "id": "a7af75ed-bd14-424f-9e06-74ff2cefd63b"
   },
   "outputs": [],
   "source": [
    "df_covid_mean_deaths_by_city = df_covid[['codmun', 'obitosNovos']].groupby('codmun').agg(\n",
    "    {'obitosNovos': ['mean']})\n",
    "\n",
    "df_covid_mean_deaths_by_city.head()"
   ]
  },
  {
   "cell_type": "code",
   "execution_count": null,
   "id": "237f9997-c77b-4480-82d3-3f4714f1ae6a",
   "metadata": {
    "id": "12bac238-b9a8-4655-9ce7-3c627c33e15b"
   },
   "outputs": [],
   "source": [
    "df_covid_sum_population_by_city = df_covid[['codmun', 'populacaoTCU2019']].drop_duplicates().groupby(\n",
    "    by='codmun').agg(\n",
    "    {'populacaoTCU2019': 'sum'})\n",
    "\n",
    "df_covid_sum_population_by_city.head()"
   ]
  },
  {
   "cell_type": "code",
   "execution_count": null,
   "id": "cc367bc5-46e1-4c4a-a079-66e86f697ec4",
   "metadata": {
    "id": "7b812683-0067-4b6f-a3f0-c528fc35780e"
   },
   "outputs": [],
   "source": [
    "df_covid_by_city_deaths_by_million = pd.DataFrame((df_covid_mean_deaths_by_city['obitosNovos']['mean'] / \\\n",
    "df_covid_sum_population_by_city['populacaoTCU2019']) * 10**9, \n",
    "             columns=['deaths by million'])\n",
    "\n",
    "df_covid_by_city_deaths_by_million.index = df_covid_by_city_deaths_by_million.index.map(str).map(lambda codmun: codmun.split('.')[0])\n",
    "\n",
    "df_covid_by_city_deaths_by_million.head()"
   ]
  },
  {
   "cell_type": "code",
   "execution_count": null,
   "id": "648fe8a3-601b-43ac-9ed1-cb0cd676e964",
   "metadata": {},
   "outputs": [],
   "source": [
    "df_amazon_by_city_sum_all_plasmodium_species = pd.DataFrame(\n",
    "    df_amazon.groupby(['CD']).agg(\n",
    "        {'Vivax': ['sum'], \n",
    "         'Falciparum': ['sum'], \n",
    "         'Malarie': ['sum'], \n",
    "         'Ovale': ['sum'], \n",
    "         'Mista': ['sum']}).drop('Total geral').sum(axis=1), \n",
    "    columns=['sum_all_plasmodium_species'])\n",
    "\n",
    "df_amazon_by_city_sum_all_plasmodium_species.head()"
   ]
  },
  {
   "cell_type": "code",
   "execution_count": null,
   "id": "2220938b-20b5-43a8-8b99-6497eef51ede",
   "metadata": {},
   "outputs": [],
   "source": [
    "amazon_cities = df_amazon.CD.drop_duplicates().tolist()\n",
    "amazon_cities.remove('Total geral')\n",
    "\n",
    "print(len(amazon_cities))\n",
    "amazon_cities[:10]"
   ]
  },
  {
   "cell_type": "code",
   "execution_count": null,
   "id": "39f59c9e-8bea-470a-9f89-515dd3fc2f13",
   "metadata": {},
   "outputs": [],
   "source": [
    "bol_amazon_cities = np.array(\n",
    "    [city in amazon_cities for city in df_covid_by_city_deaths_by_million.index]\n",
    ").reshape(df_covid_by_city_deaths_by_million.shape[0], 1)\n",
    "\n",
    "df_covid_by_city_deaths_by_million[bol_amazon_cities]"
   ]
  },
  {
   "cell_type": "code",
   "execution_count": null,
   "id": "c0711fa0-253a-4304-a884-c41342d45caf",
   "metadata": {},
   "outputs": [],
   "source": [
    "df_deaths_by_million_vs_sum_all_plasmodium_species_by_city = pd.merge(\n",
    "    left=df_covid_by_city_deaths_by_million[bol_amazon_cities].reset_index(),\n",
    "    right=df_amazon_by_city_sum_all_plasmodium_species.reset_index().rename(columns={'CD': 'codmun'}),\n",
    "    on='codmun').sort_values(by=('deaths by million'), ascending=False)\n",
    "\n",
    "df_deaths_by_million_vs_sum_all_plasmodium_species_by_city"
   ]
  },
  {
   "cell_type": "markdown",
   "id": "f6d10b48-86d2-44c9-a235-65bc32b3cbaf",
   "metadata": {},
   "source": [
    "#### <center> Amazon </center>"
   ]
  },
  {
   "cell_type": "code",
   "execution_count": null,
   "id": "81596b31-4d8a-4da3-91e5-308c9bf8050e",
   "metadata": {},
   "outputs": [],
   "source": [
    "df_deaths_by_million_vs_sum_all_plasmodium_species_by_city[['codmun', 'deaths by million']].mean()"
   ]
  },
  {
   "cell_type": "code",
   "execution_count": null,
   "id": "dede44fd-6811-4a70-bce7-47208769f7f4",
   "metadata": {},
   "outputs": [],
   "source": [
    "df_deaths_by_million_vs_sum_all_plasmodium_species_by_city[['codmun', 'deaths by million']].std()"
   ]
  },
  {
   "cell_type": "code",
   "execution_count": null,
   "id": "8ddfdc9b-7b97-4e85-817f-90f4c7fde7c5",
   "metadata": {},
   "outputs": [],
   "source": [
    "df_deaths_by_million_vs_sum_all_plasmodium_species_by_city[['sum_all_plasmodium_species']].mean()"
   ]
  },
  {
   "cell_type": "code",
   "execution_count": null,
   "id": "7374347f-7649-45b2-9923-fdef2c5aa9f0",
   "metadata": {},
   "outputs": [],
   "source": [
    "df_deaths_by_million_vs_sum_all_plasmodium_species_by_city[['sum_all_plasmodium_species']].std()"
   ]
  },
  {
   "cell_type": "markdown",
   "id": "d971dba2-163e-42e3-aac1-c490a59d348b",
   "metadata": {},
   "source": [
    "#### <center>No Amazon</center>"
   ]
  },
  {
   "cell_type": "code",
   "execution_count": null,
   "id": "32397c77-27cc-4126-91d9-35a644cc8e01",
   "metadata": {},
   "outputs": [],
   "source": [
    "df_covid_by_city_deaths_by_million[np.logical_not(bol_amazon_cities)].mean()"
   ]
  },
  {
   "cell_type": "code",
   "execution_count": null,
   "id": "76aef62a-6888-4413-9456-3b03ec41f9ee",
   "metadata": {},
   "outputs": [],
   "source": [
    "df_covid_by_city_deaths_by_million[np.logical_not(bol_amazon_cities)].std()"
   ]
  },
  {
   "cell_type": "code",
   "execution_count": null,
   "id": "5aff55d2-14f8-4b3c-8a6d-4275ccdd9fd0",
   "metadata": {},
   "outputs": [],
   "source": [
    "df_covid_by_city_deaths_by_million[np.logical_not(bol_amazon_cities)]"
   ]
  },
  {
   "cell_type": "markdown",
   "id": "a3688d39-c2be-437e-94ae-1829a6fcac60",
   "metadata": {},
   "source": [
    "# <center>FINAL ANALYSIS</center>"
   ]
  },
  {
   "cell_type": "markdown",
   "id": "b500eb6b-9424-49bc-80d1-c4b774e10281",
   "metadata": {},
   "source": [
    "## <center> 01: CFM | CFV</center>\n",
    "\n",
    "### CFM = n° cases malária / population, by city\n",
    "### CFV = n° deaths covid X ( n° beds / population), by city"
   ]
  },
  {
   "cell_type": "code",
   "execution_count": null,
   "id": "e3e235ff-db4c-4934-8047-a647ab4272e0",
   "metadata": {},
   "outputs": [],
   "source": [
    "df_amazon_by_city_sum_all_plasmodium_species_2020 = pd.DataFrame(\n",
    "    df_amazon[df_amazon['Ano'].isin([2020])].groupby(['CD']).agg(\n",
    "        {'Vivax': ['sum'], \n",
    "         'Falciparum': ['sum'], \n",
    "         'Malarie': ['sum'], \n",
    "         'Ovale': ['sum'], \n",
    "         'Mista': ['sum']}).drop('Total geral').sum(axis=1), \n",
    "    columns=['sum_all_plasmodium_species'])\n",
    "\n",
    "df_amazon_by_city_sum_all_plasmodium_species_2020.head()\n",
    "\n",
    "df_covid"
   ]
  }
 ],
 "metadata": {
  "colab": {
   "name": "test.ipynb",
   "provenance": []
  },
  "kernelspec": {
   "display_name": "Python 3",
   "language": "python",
   "name": "python3"
  },
  "language_info": {
   "codemirror_mode": {
    "name": "ipython",
    "version": 3
   },
   "file_extension": ".py",
   "mimetype": "text/x-python",
   "name": "python",
   "nbconvert_exporter": "python",
   "pygments_lexer": "ipython3",
   "version": "3.8.5"
  },
  "toc-autonumbering": false,
  "toc-showcode": false,
  "toc-showmarkdowntxt": false,
  "toc-showtags": false
 },
 "nbformat": 4,
 "nbformat_minor": 5
}
