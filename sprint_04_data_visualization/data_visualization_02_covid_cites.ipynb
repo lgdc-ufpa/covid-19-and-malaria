{
 "cells": [
  {
   "cell_type": "markdown",
   "id": "688276e9-e08e-445e-978f-74738c97bc85",
   "metadata": {
    "id": "688276e9-e08e-445e-978f-74738c97bc85"
   },
   "source": [
    "# Pipeline"
   ]
  },
  {
   "cell_type": "raw",
   "id": "fdc6af9c-ade8-4c9b-a6c9-2994c20a77dd",
   "metadata": {
    "id": "fdc6af9c-ade8-4c9b-a6c9-2994c20a77dd"
   },
   "source": [
    "- Install nodejs to enable Plotly in Jupyter Lab                     \n",
    "https://github.com/nodesource/distributions/blob/master/README.md#debinstall\n",
    "\n",
    "\n",
    "\n",
    "                    Data Anaylis and Visualization of df_cities of covid\n",
    "\n",
    "1. Imports DONE\n",
    "\n",
    "2. Load dataframes DONE\n",
    "2.1 df amazon DONE\n",
    "2.2 df malarie_covid_total DONE\n",
    "2.3 df covid (since first case) DONE\n",
    "2.4 df covid deaths (since first death) DONE\n",
    "\n",
    "                                    Data Exploitation\n",
    "                                    \n",
    "3.1 df covid: mean of new cases in Brazil DOING\n",
    "3.2 df covid: mean of new cases in Brazil by state DONE\n",
    "3.3 df covid: mean of new cases in Brazil by city DONE\n",
    "\n",
    "4.1 df covid: (sum of new cases) / length population, in Brazil DONE\n",
    "4.2 df covid: (sum of new cases) / length population, in Brazil by state DONE\n",
    "4.3 df covid: (sum of new cases) / length population, in Brazil by city DONE\n",
    "\n",
    "- since the first case ...\n",
    "5.1 df covid: mean of new deaths in Brazil DONE\n",
    "5.2 df covid: mean of new deaths in Brazil by state DONE\n",
    "5.3 df covid: mean of new deaths in Brazil by city DONE\n",
    "\n",
    "- since the first death ...\n",
    "6.1 df covid deaths: mean of new deaths in Brazil DONE\n",
    "6.2 df covid deaths: mean of new deaths in Brazil by state DONE\n",
    "6.3 df covid deaths: mean of new deaths in Brazil by city DONE\n",
    "\n",
    "- since the first case ...\n",
    "7.1 df covid: (sum of new deaths) / length population, in Brazil DONE\n",
    "7.2 df covid: (sum of new deaths) / length population, in Brazil by state DONE\n",
    "7.3 df covid: (sum of new deaths) / length population, in Brazil by city DONE\n",
    "\n",
    "- since the first death ...\n",
    "8.1 df covid deaths: (sum of new deaths) / length population, in Brazil DONE\n",
    "8.2 df covid deaths: (sum of new deaths) / length population, in Brazil by state DONE\n",
    "8.3 df covid deaths: (sum of new deaths) / length population, in Brazil by city DONE\n",
    "\n",
    "- Lethality                        \n",
    "9.1 df covid: (sum of new deaths) / (sum of new cases), in Brazil DONE\n",
    "9.2 df covid: (sum of new deaths) / (sum of new cases), in Brazil by state DONE\n",
    "9.3 df covid: (sum of new deaths) / (sum of new cases), in Brazil by city DONE\n",
    "\n",
    "- Covid pressure in Brazil in tottaly, by state, and by city\n",
    "10.1 df covid: df_covid['data'].unique(), in Brazil DONE\n",
    "10.2 df covid: df_covid['data'].unique(), in Brazil by state DONE (strange value)\n",
    "10.3 df covid: df_covid['data'].unique(), in Brazil by city DONE\n",
    "\n",
    "- Mean of deaths by miliion in Brazil in total, by state, and by city\n",
    "11.1 df_covid: (mean of deaths / population) * 10⁹ in Brazil DONE\n",
    "11.2 df_covid: (mean of deaths / population) * 10⁹ in Brazil, by estate DONE\n",
    "11.3 df_covid: (mean of deaths / population) * 10⁹ in Brazil, by city DONE\n",
    "\n",
    "\n",
    "                           Relationship between Covid and Malaria, for All years\n",
    "\n",
    "- Deaths by million, by state\n",
    "12.1 (df covid: deaths by million) vs (df amazon: num cases p. vivax) DONE\n",
    "12.2 (df covid: deaths by million) vs (df amazon: num cases p. falciparum)\n",
    "12.3 (df covid: deaths by million) vs (df amazon: num cases p. vivax + p. falciparum)\n",
    "\n",
    "- Deaths by million, by city\n",
    "13.1 (df covid: deaths by million) vs (df amazon: num cases p. vivax)\n",
    "13.2 (df covid: deaths by million) vs (df amazon: num cases p. falciparum)\n",
    "13.3 (df covid: deaths by million) vs (df amazon: num cases p. vivax + p. falciparum)\n",
    "\n",
    "- Lethality, by state\n",
    "14.1 (df covid: deaths by million) vs (df amazon: num cases p. vivax)\n",
    "14.2 (df covid: deaths by million) vs (df amazon: num cases p. falciparum)\n",
    "14.3 (df covid: deaths by million) vs (df amazon: num cases p. vivax + p. falciparum)\n",
    "\n",
    "- Lethality, by city\n",
    "15.1 (df covid: lethality) vs (df amazon: num cases p. vivax)\n",
    "15.2 (df covid: lethality) vs (df amazon: num cases p. falciparum)\n",
    "15.3 (df covid: lethality) vs (df amazon: num cases p. vivax + p. falciparum)\n",
    "\n",
    "\n",
    "                           Relationship between Covid and Malaria, since 2020\n",
    "\n",
    "- Deaths by million, by state\n",
    "16.1 (df covid: deaths by million) vs (df amazon: num cases p. vivax)\n",
    "16.2 (df covid: deaths by million) vs (df amazon: num cases p. falciparum)\n",
    "16.3 (df covid: deaths by million) vs (df amazon: num cases p. vivax + p. falciparum)\n",
    "\n",
    "- Deaths by million, by city\n",
    "17.1 (df covid: deaths by million) vs (df amazon: num cases p. vivax)\n",
    "17.2 (df covid: deaths by million) vs (df amazon: num cases p. falciparum)\n",
    "17.3 (df covid: deaths by million) vs (df amazon: num cases p. vivax + p. falciparum)\n",
    "\n",
    "- Lethality, by state\n",
    "18.1 (df covid: deaths by million) vs (df amazon: num cases p. vivax)\n",
    "18.2 (df covid: deaths by million) vs (df amazon: num cases p. falciparum)\n",
    "18.3 (df covid: deaths by million) vs (df amazon: num cases p. vivax + p. falciparum)\n",
    "\n",
    "- Lethality, by city\n",
    "19.1 (df covid: lethality) vs (df amazon: num cases p. vivax)\n",
    "19.2 (df covid: lethality) vs (df amazon: num cases p. falciparum)\n",
    "19.3 (df covid: lethality) vs (df amazon: num cases p. vivax + p. falciparum)\n",
    "\n",
    "\n",
    "                           Relationship between Covid and Malaria, until 2019 (COVID WRONG)\n",
    "\n",
    "- Deaths by million, by state\n",
    "20.1 (df covid: deaths by million) vs (df amazon: num cases p. vivax)\n",
    "20.2 (df covid: deaths by million) vs (df amazon: num cases p. falciparum)\n",
    "20.3 (df covid: deaths by million) vs (df amazon: num cases p. vivax + p. falciparum)\n",
    "\n",
    "- Deaths by million, by city\n",
    "21.1 (df covid: deaths by million) vs (df amazon: num cases p. vivax)\n",
    "21.2 (df covid: deaths by million) vs (df amazon: num cases p. falciparum)\n",
    "21.3 (df covid: deaths by million) vs (df amazon: num cases p. vivax + p. falciparum)\n",
    "\n",
    "- Lethality, by state\n",
    "22.1 (df covid: deaths by million) vs (df amazon: num cases p. vivax)\n",
    "22.2 (df covid: deaths by million) vs (df amazon: num cases p. falciparum)\n",
    "22.3 (df covid: deaths by million) vs (df amazon: num cases p. vivax + p. falciparum)\n",
    "\n",
    "- Lethality, by city\n",
    "23.1 (df covid: lethality) vs (df amazon: num cases p. vivax)\n",
    "23.2 (df covid: lethality) vs (df amazon: num cases p. falciparum)\n",
    "23.3 (df covid: lethality) vs (df amazon: num cases p. vivax + p. falciparum)"
   ]
  },
  {
   "cell_type": "markdown",
   "id": "17d051c1",
   "metadata": {
    "id": "17d051c1"
   },
   "source": [
    "## 1. Import libraries"
   ]
  },
  {
   "cell_type": "code",
   "execution_count": 1,
   "id": "9d79eca8",
   "metadata": {
    "id": "9d79eca8"
   },
   "outputs": [
    {
     "data": {
      "text/html": [
       "        <script type=\"text/javascript\">\n",
       "        window.PlotlyConfig = {MathJaxConfig: 'local'};\n",
       "        if (window.MathJax) {MathJax.Hub.Config({SVG: {font: \"STIX-Web\"}});}\n",
       "        if (typeof require !== 'undefined') {\n",
       "        require.undef(\"plotly\");\n",
       "        requirejs.config({\n",
       "            paths: {\n",
       "                'plotly': ['https://cdn.plot.ly/plotly-latest.min']\n",
       "            }\n",
       "        });\n",
       "        require(['plotly'], function(Plotly) {\n",
       "            window._Plotly = Plotly;\n",
       "        });\n",
       "        }\n",
       "        </script>\n",
       "        "
      ]
     },
     "metadata": {},
     "output_type": "display_data"
    },
    {
     "data": {
      "text/html": [
       "        <script type=\"text/javascript\">\n",
       "        window.PlotlyConfig = {MathJaxConfig: 'local'};\n",
       "        if (window.MathJax) {MathJax.Hub.Config({SVG: {font: \"STIX-Web\"}});}\n",
       "        if (typeof require !== 'undefined') {\n",
       "        require.undef(\"plotly\");\n",
       "        requirejs.config({\n",
       "            paths: {\n",
       "                'plotly': ['https://cdn.plot.ly/plotly-latest.min']\n",
       "            }\n",
       "        });\n",
       "        require(['plotly'], function(Plotly) {\n",
       "            window._Plotly = Plotly;\n",
       "        });\n",
       "        }\n",
       "        </script>\n",
       "        "
      ]
     },
     "metadata": {},
     "output_type": "display_data"
    }
   ],
   "source": [
    "import pandas as pd\n",
    "import numpy as np\n",
    "import tqdm\n",
    "import os\n",
    "import seaborn as sns\n",
    "import matplotlib.pyplot as ply\n",
    "import cufflinks as cf\n",
    "import chart_studio.plotly as py\n",
    "import plotly.graph_objects as go\n",
    "from plotly.offline import download_plotlyjs, init_notebook_mode, plot, iplot\n",
    "\n",
    "%matplotlib inline\n",
    "init_notebook_mode(connected=True)\n",
    "cf.go_offline()"
   ]
  },
  {
   "cell_type": "markdown",
   "id": "3c4eb63d",
   "metadata": {
    "id": "3c4eb63d"
   },
   "source": [
    "## 2. Load dataframes"
   ]
  },
  {
   "cell_type": "code",
   "execution_count": 2,
   "id": "6bfa47da",
   "metadata": {
    "id": "6bfa47da"
   },
   "outputs": [
    {
     "data": {
      "text/html": [
       "<div>\n",
       "<style scoped>\n",
       "    .dataframe tbody tr th:only-of-type {\n",
       "        vertical-align: middle;\n",
       "    }\n",
       "\n",
       "    .dataframe tbody tr th {\n",
       "        vertical-align: top;\n",
       "    }\n",
       "\n",
       "    .dataframe thead th {\n",
       "        text-align: right;\n",
       "    }\n",
       "</style>\n",
       "<table border=\"1\" class=\"dataframe\">\n",
       "  <thead>\n",
       "    <tr style=\"text-align: right;\">\n",
       "      <th></th>\n",
       "      <th>CD</th>\n",
       "      <th>Municipio</th>\n",
       "      <th>Falciparum</th>\n",
       "      <th>Mista</th>\n",
       "      <th>Vivax</th>\n",
       "      <th>Malarie</th>\n",
       "      <th>Ovale</th>\n",
       "      <th>Ano</th>\n",
       "      <th>Estado</th>\n",
       "    </tr>\n",
       "  </thead>\n",
       "  <tbody>\n",
       "    <tr>\n",
       "      <th>0</th>\n",
       "      <td>110001</td>\n",
       "      <td>Alta Floresta D'Oeste</td>\n",
       "      <td>15.000</td>\n",
       "      <td>5.0</td>\n",
       "      <td>117.000</td>\n",
       "      <td>0</td>\n",
       "      <td>0</td>\n",
       "      <td>2003</td>\n",
       "      <td>RO</td>\n",
       "    </tr>\n",
       "    <tr>\n",
       "      <th>1</th>\n",
       "      <td>110002</td>\n",
       "      <td>Ariquemes</td>\n",
       "      <td>2.329</td>\n",
       "      <td>138.0</td>\n",
       "      <td>4.801</td>\n",
       "      <td>0</td>\n",
       "      <td>0</td>\n",
       "      <td>2003</td>\n",
       "      <td>RO</td>\n",
       "    </tr>\n",
       "    <tr>\n",
       "      <th>2</th>\n",
       "      <td>110003</td>\n",
       "      <td>Cabixi</td>\n",
       "      <td>178.000</td>\n",
       "      <td>0.0</td>\n",
       "      <td>54.000</td>\n",
       "      <td>0</td>\n",
       "      <td>0</td>\n",
       "      <td>2003</td>\n",
       "      <td>RO</td>\n",
       "    </tr>\n",
       "    <tr>\n",
       "      <th>3</th>\n",
       "      <td>110004</td>\n",
       "      <td>Cacoal</td>\n",
       "      <td>137.000</td>\n",
       "      <td>9.0</td>\n",
       "      <td>279.000</td>\n",
       "      <td>0</td>\n",
       "      <td>0</td>\n",
       "      <td>2003</td>\n",
       "      <td>RO</td>\n",
       "    </tr>\n",
       "    <tr>\n",
       "      <th>4</th>\n",
       "      <td>110005</td>\n",
       "      <td>Cerejeiras</td>\n",
       "      <td>57.000</td>\n",
       "      <td>6.0</td>\n",
       "      <td>104.000</td>\n",
       "      <td>0</td>\n",
       "      <td>0</td>\n",
       "      <td>2003</td>\n",
       "      <td>RO</td>\n",
       "    </tr>\n",
       "  </tbody>\n",
       "</table>\n",
       "</div>"
      ],
      "text/plain": [
       "       CD              Municipio  Falciparum  Mista    Vivax  Malarie  Ovale  \\\n",
       "0  110001  Alta Floresta D'Oeste      15.000    5.0  117.000        0      0   \n",
       "1  110002              Ariquemes       2.329  138.0    4.801        0      0   \n",
       "2  110003                 Cabixi     178.000    0.0   54.000        0      0   \n",
       "3  110004                 Cacoal     137.000    9.0  279.000        0      0   \n",
       "4  110005             Cerejeiras      57.000    6.0  104.000        0      0   \n",
       "\n",
       "    Ano Estado  \n",
       "0  2003     RO  \n",
       "1  2003     RO  \n",
       "2  2003     RO  \n",
       "3  2003     RO  \n",
       "4  2003     RO  "
      ]
     },
     "execution_count": 2,
     "metadata": {},
     "output_type": "execute_result"
    }
   ],
   "source": [
    "file_amazon = 'output_01_data_01_AM_mun_especie.csv'\n",
    "path_input_file_amazon = os.path.join(os.getcwd(), '..', 'sprint_03_data_analysis', 'output', file_amazon)\n",
    "df_amazon = pd.read_csv(path_input_file_amazon, delimiter=';')\n",
    "del df_amazon['Unnamed: 0']\n",
    "df_amazon.head()"
   ]
  },
  {
   "cell_type": "code",
   "execution_count": null,
   "id": "00cd239a",
   "metadata": {
    "id": "00cd239a"
   },
   "outputs": [],
   "source": [
    "file_malarie_covid_total = 'Covid_malaria_total_casos.csv'\n",
    "path_input_file_malarie = os.path.join(os.getcwd(), '..', \n",
    "                                       'sprint_01_data_collection', \n",
    "                                       'data_04', \n",
    "                                       file_malarie_covid_total)\n",
    "df_malarie_covid_total = pd.read_csv(path_input_file_malarie)\n",
    "df_malarie_covid_total.head()"
   ]
  },
  {
   "cell_type": "code",
   "execution_count": 9,
   "id": "94521802-db10-46d6-80f9-c9e8cb111b02",
   "metadata": {
    "id": "94521802-db10-46d6-80f9-c9e8cb111b02"
   },
   "outputs": [
    {
     "data": {
      "text/html": [
       "<div>\n",
       "<style scoped>\n",
       "    .dataframe tbody tr th:only-of-type {\n",
       "        vertical-align: middle;\n",
       "    }\n",
       "\n",
       "    .dataframe tbody tr th {\n",
       "        vertical-align: top;\n",
       "    }\n",
       "\n",
       "    .dataframe thead th {\n",
       "        text-align: right;\n",
       "    }\n",
       "</style>\n",
       "<table border=\"1\" class=\"dataframe\">\n",
       "  <thead>\n",
       "    <tr style=\"text-align: right;\">\n",
       "      <th></th>\n",
       "      <th>regiao</th>\n",
       "      <th>estado</th>\n",
       "      <th>municipio</th>\n",
       "      <th>coduf</th>\n",
       "      <th>codmun</th>\n",
       "      <th>codRegiaoSaude</th>\n",
       "      <th>nomeRegiaoSaude</th>\n",
       "      <th>data</th>\n",
       "      <th>semanaEpi</th>\n",
       "      <th>populacaoTCU2019</th>\n",
       "      <th>casosAcumulado</th>\n",
       "      <th>casosNovos</th>\n",
       "      <th>obitosAcumulado</th>\n",
       "      <th>obitosNovos</th>\n",
       "      <th>Recuperadosnovos</th>\n",
       "      <th>emAcompanhamentoNovos</th>\n",
       "      <th>interior/metropolitana</th>\n",
       "    </tr>\n",
       "  </thead>\n",
       "  <tbody>\n",
       "    <tr>\n",
       "      <th>0</th>\n",
       "      <td>Norte</td>\n",
       "      <td>RO</td>\n",
       "      <td>Alta Floresta D'Oeste</td>\n",
       "      <td>11</td>\n",
       "      <td>110001.0</td>\n",
       "      <td>11005.0</td>\n",
       "      <td>ZONA DA MATA</td>\n",
       "      <td>2020-05-02</td>\n",
       "      <td>18</td>\n",
       "      <td>22945.0</td>\n",
       "      <td>1.0</td>\n",
       "      <td>1</td>\n",
       "      <td>0</td>\n",
       "      <td>0</td>\n",
       "      <td>NaN</td>\n",
       "      <td>NaN</td>\n",
       "      <td>0.0</td>\n",
       "    </tr>\n",
       "    <tr>\n",
       "      <th>1</th>\n",
       "      <td>Norte</td>\n",
       "      <td>RO</td>\n",
       "      <td>Alta Floresta D'Oeste</td>\n",
       "      <td>11</td>\n",
       "      <td>110001.0</td>\n",
       "      <td>11005.0</td>\n",
       "      <td>ZONA DA MATA</td>\n",
       "      <td>2020-05-03</td>\n",
       "      <td>19</td>\n",
       "      <td>22945.0</td>\n",
       "      <td>1.0</td>\n",
       "      <td>0</td>\n",
       "      <td>0</td>\n",
       "      <td>0</td>\n",
       "      <td>NaN</td>\n",
       "      <td>NaN</td>\n",
       "      <td>0.0</td>\n",
       "    </tr>\n",
       "    <tr>\n",
       "      <th>2</th>\n",
       "      <td>Norte</td>\n",
       "      <td>RO</td>\n",
       "      <td>Alta Floresta D'Oeste</td>\n",
       "      <td>11</td>\n",
       "      <td>110001.0</td>\n",
       "      <td>11005.0</td>\n",
       "      <td>ZONA DA MATA</td>\n",
       "      <td>2020-05-04</td>\n",
       "      <td>19</td>\n",
       "      <td>22945.0</td>\n",
       "      <td>1.0</td>\n",
       "      <td>0</td>\n",
       "      <td>0</td>\n",
       "      <td>0</td>\n",
       "      <td>NaN</td>\n",
       "      <td>NaN</td>\n",
       "      <td>0.0</td>\n",
       "    </tr>\n",
       "    <tr>\n",
       "      <th>3</th>\n",
       "      <td>Norte</td>\n",
       "      <td>RO</td>\n",
       "      <td>Alta Floresta D'Oeste</td>\n",
       "      <td>11</td>\n",
       "      <td>110001.0</td>\n",
       "      <td>11005.0</td>\n",
       "      <td>ZONA DA MATA</td>\n",
       "      <td>2020-05-05</td>\n",
       "      <td>19</td>\n",
       "      <td>22945.0</td>\n",
       "      <td>1.0</td>\n",
       "      <td>0</td>\n",
       "      <td>0</td>\n",
       "      <td>0</td>\n",
       "      <td>NaN</td>\n",
       "      <td>NaN</td>\n",
       "      <td>0.0</td>\n",
       "    </tr>\n",
       "    <tr>\n",
       "      <th>4</th>\n",
       "      <td>Norte</td>\n",
       "      <td>RO</td>\n",
       "      <td>Alta Floresta D'Oeste</td>\n",
       "      <td>11</td>\n",
       "      <td>110001.0</td>\n",
       "      <td>11005.0</td>\n",
       "      <td>ZONA DA MATA</td>\n",
       "      <td>2020-05-06</td>\n",
       "      <td>19</td>\n",
       "      <td>22945.0</td>\n",
       "      <td>1.0</td>\n",
       "      <td>0</td>\n",
       "      <td>0</td>\n",
       "      <td>0</td>\n",
       "      <td>NaN</td>\n",
       "      <td>NaN</td>\n",
       "      <td>0.0</td>\n",
       "    </tr>\n",
       "  </tbody>\n",
       "</table>\n",
       "</div>"
      ],
      "text/plain": [
       "  regiao estado              municipio  coduf    codmun  codRegiaoSaude  \\\n",
       "0  Norte     RO  Alta Floresta D'Oeste     11  110001.0         11005.0   \n",
       "1  Norte     RO  Alta Floresta D'Oeste     11  110001.0         11005.0   \n",
       "2  Norte     RO  Alta Floresta D'Oeste     11  110001.0         11005.0   \n",
       "3  Norte     RO  Alta Floresta D'Oeste     11  110001.0         11005.0   \n",
       "4  Norte     RO  Alta Floresta D'Oeste     11  110001.0         11005.0   \n",
       "\n",
       "  nomeRegiaoSaude        data  semanaEpi  populacaoTCU2019  casosAcumulado  \\\n",
       "0    ZONA DA MATA  2020-05-02         18           22945.0             1.0   \n",
       "1    ZONA DA MATA  2020-05-03         19           22945.0             1.0   \n",
       "2    ZONA DA MATA  2020-05-04         19           22945.0             1.0   \n",
       "3    ZONA DA MATA  2020-05-05         19           22945.0             1.0   \n",
       "4    ZONA DA MATA  2020-05-06         19           22945.0             1.0   \n",
       "\n",
       "   casosNovos  obitosAcumulado  obitosNovos  Recuperadosnovos  \\\n",
       "0           1                0            0               NaN   \n",
       "1           0                0            0               NaN   \n",
       "2           0                0            0               NaN   \n",
       "3           0                0            0               NaN   \n",
       "4           0                0            0               NaN   \n",
       "\n",
       "   emAcompanhamentoNovos  interior/metropolitana  \n",
       "0                    NaN                     0.0  \n",
       "1                    NaN                     0.0  \n",
       "2                    NaN                     0.0  \n",
       "3                    NaN                     0.0  \n",
       "4                    NaN                     0.0  "
      ]
     },
     "execution_count": 9,
     "metadata": {},
     "output_type": "execute_result"
    }
   ],
   "source": [
    "file_covid = 'output_02_data_02_covid_cities_confirmed_cases.csv'\n",
    "path_input_file_covid = os.path.join(os.getcwd(), '..', \n",
    "                                     'sprint_03_data_analysis', 'output', \n",
    "                                     file_covid)\n",
    "df_covid = pd.read_csv(path_input_file_covid, delimiter=';')\n",
    "del df_covid['Unnamed: 0']\n",
    "df_covid.head()"
   ]
  },
  {
   "cell_type": "code",
   "execution_count": null,
   "id": "f91fe51c-087e-44c2-9ad1-a9f3c6ba5df7",
   "metadata": {
    "id": "f91fe51c-087e-44c2-9ad1-a9f3c6ba5df7"
   },
   "outputs": [],
   "source": [
    "file_covid_deaths = 'output_03_data_02_covid_cities_confirmed_deaths.csv'\n",
    "path_input_file_covid_deaths = os.path.join(os.getcwd(), '..', \n",
    "                                     'sprint_03_data_analysis', 'output', \n",
    "                                     file_covid_deaths)\n",
    "df_covid_deaths = pd.read_csv(path_input_file_covid_deaths, delimiter=';')\n",
    "del df_covid_deaths['Unnamed: 0']\n",
    "df_covid_deaths.head()"
   ]
  },
  {
   "cell_type": "markdown",
   "id": "6ac2522c",
   "metadata": {
    "id": "6ac2522c"
   },
   "source": [
    "### 3.1 df covid: mean of new daily new cases in Brazil"
   ]
  },
  {
   "cell_type": "code",
   "execution_count": null,
   "id": "03d74de3",
   "metadata": {
    "id": "03d74de3"
   },
   "outputs": [],
   "source": [
    "df_covid['casosNovos'].mean()"
   ]
  },
  {
   "cell_type": "markdown",
   "id": "62b9b783",
   "metadata": {
    "id": "62b9b783"
   },
   "source": [
    "### 3.2 df covid: mean of new daily new cases in Brazil by state"
   ]
  },
  {
   "cell_type": "code",
   "execution_count": null,
   "id": "ef70dcbe",
   "metadata": {
    "id": "ef70dcbe"
   },
   "outputs": [],
   "source": [
    "df_covid_mean_newcases_by_state = df_covid[['estado', 'casosNovos']].groupby(['estado']).agg(\n",
    "    {'casosNovos': ['min', 'mean', 'std', 'max']}).reset_index()\n",
    "\n",
    "df_covid_mean_newcases_by_state.head()\n",
    "\n",
    "df_covid_mean_newcases_by_state['casosNovos']['mean']\n",
    "# df_covid_mean_newcases_by_state['estado']\n",
    "# df_covid_mean_newcases_by_state.index.tolist()"
   ]
  },
  {
   "cell_type": "markdown",
   "id": "ca11e9c0",
   "metadata": {
    "id": "ca11e9c0"
   },
   "source": [
    "### 3.3 df covid: mean of new cases in Brazil by city"
   ]
  },
  {
   "cell_type": "code",
   "execution_count": null,
   "id": "5b091b26",
   "metadata": {
    "id": "5b091b26"
   },
   "outputs": [],
   "source": [
    "df_covid[['codmun', 'casosNovos']].groupby('codmun').agg({'casosNovos': ['min', 'mean', 'std', 'max']}).head()"
   ]
  },
  {
   "cell_type": "markdown",
   "id": "8a5fdb5b",
   "metadata": {
    "id": "8a5fdb5b"
   },
   "source": [
    "### 4.1 df covid: (sum of new cases) / length population, in Brazil"
   ]
  },
  {
   "cell_type": "code",
   "execution_count": null,
   "id": "49c336e5",
   "metadata": {
    "id": "49c336e5"
   },
   "outputs": [],
   "source": [
    "df_covid[['codmun', 'populacaoTCU2019']].drop_duplicates().head()"
   ]
  },
  {
   "cell_type": "code",
   "execution_count": null,
   "id": "1af88cba",
   "metadata": {
    "id": "1af88cba"
   },
   "outputs": [],
   "source": [
    "n_pop_BRA = df_covid[['codmun', 'populacaoTCU2019']].drop_duplicates()['populacaoTCU2019'].sum()\n",
    "n_pop_BRA"
   ]
  },
  {
   "cell_type": "code",
   "execution_count": null,
   "id": "8a546c8c",
   "metadata": {
    "id": "8a546c8c"
   },
   "outputs": [],
   "source": [
    "df_covid['casosNovos'].sum() / n_pop_BRA"
   ]
  },
  {
   "cell_type": "markdown",
   "id": "40bd38ab",
   "metadata": {
    "id": "40bd38ab"
   },
   "source": [
    "### 4.2 df covid: (sum of new cases) / length population, in Brazil by state"
   ]
  },
  {
   "cell_type": "code",
   "execution_count": null,
   "id": "f9060eac",
   "metadata": {
    "id": "f9060eac"
   },
   "outputs": [],
   "source": [
    "df_covid[['estado', 'codmun', 'populacaoTCU2019']].drop_duplicates(subset=['codmun']).head()"
   ]
  },
  {
   "cell_type": "code",
   "execution_count": null,
   "id": "ea03aba1",
   "metadata": {
    "id": "ea03aba1"
   },
   "outputs": [],
   "source": [
    "df_covid_sum_population_by_state = df_covid[['estado', 'codmun', 'populacaoTCU2019']].drop_duplicates(\n",
    "    subset=['codmun']).groupby(by=['estado']\n",
    ").agg({\n",
    "    'populacaoTCU2019': [sum]\n",
    "})\n",
    "\n",
    "df_covid_sum_population_by_state.head()"
   ]
  },
  {
   "cell_type": "code",
   "execution_count": null,
   "id": "f11655aa",
   "metadata": {
    "id": "f11655aa"
   },
   "outputs": [],
   "source": [
    "df_covid_sum_newcases_by_state = df_covid[['estado', 'casosNovos']].groupby(['estado']).agg(\n",
    "    {'casosNovos': ['sum']})\n",
    "\n",
    "df_covid_sum_newcases_by_state.head()"
   ]
  },
  {
   "cell_type": "code",
   "execution_count": null,
   "id": "78508c6a",
   "metadata": {
    "id": "78508c6a"
   },
   "outputs": [],
   "source": [
    "df_covid_rate_infected_by_state = df_covid_sum_newcases_by_state['casosNovos'][['sum']] / \\\n",
    "df_covid_sum_population_by_state['populacaoTCU2019'][['sum']]\n",
    "\n",
    "df_covid_rate_infected_by_state.head()"
   ]
  },
  {
   "cell_type": "markdown",
   "id": "b82a8f3d",
   "metadata": {
    "id": "b82a8f3d"
   },
   "source": [
    "### 4.3 df covid: (sum of new cases) / length population, in Brazil by city"
   ]
  },
  {
   "cell_type": "code",
   "execution_count": null,
   "id": "bad2b53d",
   "metadata": {
    "id": "bad2b53d"
   },
   "outputs": [],
   "source": [
    "df_covid[['estado', 'codmun', 'populacaoTCU2019']].drop_duplicates().head()"
   ]
  },
  {
   "cell_type": "code",
   "execution_count": null,
   "id": "4c7a2f13",
   "metadata": {
    "id": "4c7a2f13"
   },
   "outputs": [],
   "source": [
    "df_covid_sum_population_by_city = df_covid[['codmun', 'populacaoTCU2019']].drop_duplicates().groupby(\n",
    "    by='codmun').agg(\n",
    "    {'populacaoTCU2019': 'sum'})\n",
    "\n",
    "df_covid_sum_population_by_city.head()"
   ]
  },
  {
   "cell_type": "code",
   "execution_count": null,
   "id": "fd403ff6",
   "metadata": {
    "id": "fd403ff6"
   },
   "outputs": [],
   "source": [
    "df_covid_sum_newcases_by_city = df_covid[['codmun', 'casosNovos']].groupby(['codmun']).agg(\n",
    "    {'casosNovos': ['sum']})\n",
    "\n",
    "df_covid_sum_newcases_by_city.head()"
   ]
  },
  {
   "cell_type": "code",
   "execution_count": null,
   "id": "0aa81344",
   "metadata": {
    "id": "0aa81344"
   },
   "outputs": [],
   "source": [
    "df_covid_rate_infected_by_city = pd.DataFrame(df_covid_sum_newcases_by_city['casosNovos']['sum'] / \\\n",
    "df_covid_sum_population_by_city['populacaoTCU2019'], columns=['infected rate'])\n",
    "\n",
    "df_covid_rate_infected_by_city.head()"
   ]
  },
  {
   "cell_type": "markdown",
   "id": "5dedb747-d5c5-4283-b18a-873d17849574",
   "metadata": {
    "id": "5dedb747-d5c5-4283-b18a-873d17849574"
   },
   "source": [
    "## Since the first case ..."
   ]
  },
  {
   "cell_type": "markdown",
   "id": "5f3598b0-04d3-4fce-aaef-9ea3fcaabb2e",
   "metadata": {
    "id": "5f3598b0-04d3-4fce-aaef-9ea3fcaabb2e"
   },
   "source": [
    "### 5.1 df covid: mean of new deaths in Brazil"
   ]
  },
  {
   "cell_type": "code",
   "execution_count": null,
   "id": "22dd1d54-7f03-47bb-9a33-9476282ddc8b",
   "metadata": {
    "id": "22dd1d54-7f03-47bb-9a33-9476282ddc8b"
   },
   "outputs": [],
   "source": [
    "df_covid['obitosNovos'].mean()"
   ]
  },
  {
   "cell_type": "markdown",
   "id": "8027f213-4866-43e1-b50f-72e099614a2a",
   "metadata": {
    "id": "8027f213-4866-43e1-b50f-72e099614a2a"
   },
   "source": [
    "### 5.2 df covid: mean of new deaths in Brazil by state"
   ]
  },
  {
   "cell_type": "code",
   "execution_count": null,
   "id": "c49a385b-f615-4063-9d81-9fd66087ca2e",
   "metadata": {
    "id": "c49a385b-f615-4063-9d81-9fd66087ca2e"
   },
   "outputs": [],
   "source": [
    "df_covid[['estado', 'obitosNovos']].groupby(['estado']).agg({'obitosNovos': ['min', 'mean', 'std', 'max']}).head()"
   ]
  },
  {
   "cell_type": "markdown",
   "id": "64838167-26ca-47b7-bc24-7bee6f6e98d4",
   "metadata": {
    "id": "64838167-26ca-47b7-bc24-7bee6f6e98d4"
   },
   "source": [
    "### 5.3 df covid: mean of new deaths in Brazil by city"
   ]
  },
  {
   "cell_type": "code",
   "execution_count": null,
   "id": "7fa227f9-09d1-4d96-934d-423c6dca6fc2",
   "metadata": {
    "id": "7fa227f9-09d1-4d96-934d-423c6dca6fc2"
   },
   "outputs": [],
   "source": [
    "df_covid[['codmun', 'obitosNovos']].groupby('codmun').agg({'obitosNovos': ['min', 'mean', 'std', 'max']}).head()"
   ]
  },
  {
   "cell_type": "markdown",
   "id": "74a629da-39bf-4729-a014-ed41ca16da1b",
   "metadata": {
    "id": "74a629da-39bf-4729-a014-ed41ca16da1b"
   },
   "source": [
    "## Since the first death ..."
   ]
  },
  {
   "cell_type": "markdown",
   "id": "113e02a6-5810-4061-8a68-41991620bf4c",
   "metadata": {
    "id": "113e02a6-5810-4061-8a68-41991620bf4c"
   },
   "source": [
    "### 6.1 df covid deaths: mean of new deaths in Brazil"
   ]
  },
  {
   "cell_type": "code",
   "execution_count": null,
   "id": "9e03eed0-c818-4b91-b768-27706aec7c69",
   "metadata": {
    "id": "9e03eed0-c818-4b91-b768-27706aec7c69"
   },
   "outputs": [],
   "source": [
    "df_covid_deaths['obitosNovos'].mean()"
   ]
  },
  {
   "cell_type": "markdown",
   "id": "5edf02aa-6ff3-44b8-b92e-8d9bbba68e1a",
   "metadata": {
    "id": "5edf02aa-6ff3-44b8-b92e-8d9bbba68e1a"
   },
   "source": [
    "### 6.2 df covid deaths: mean of new deaths in Brazil by state"
   ]
  },
  {
   "cell_type": "code",
   "execution_count": null,
   "id": "88f16ad0-b31c-4ff3-a500-1586837ab58c",
   "metadata": {
    "id": "88f16ad0-b31c-4ff3-a500-1586837ab58c"
   },
   "outputs": [],
   "source": [
    "df_covid_deaths[['estado', 'obitosNovos']].groupby(['estado']).agg({'obitosNovos': ['min', 'mean', 'std', 'max']}).head()"
   ]
  },
  {
   "cell_type": "markdown",
   "id": "68be48ec-6b26-4594-b751-d7ec71ddb033",
   "metadata": {
    "id": "68be48ec-6b26-4594-b751-d7ec71ddb033"
   },
   "source": [
    "### 6.3 df covid deaths: mean of new deaths in Brazil by city"
   ]
  },
  {
   "cell_type": "code",
   "execution_count": null,
   "id": "346ba26f-2269-4eac-942e-bf1f4e2c4b95",
   "metadata": {
    "id": "346ba26f-2269-4eac-942e-bf1f4e2c4b95"
   },
   "outputs": [],
   "source": [
    "df_covid_deaths[['codmun', 'obitosNovos']].groupby('codmun').agg({'obitosNovos': ['min', 'mean', 'std', 'max']}).head()"
   ]
  },
  {
   "cell_type": "markdown",
   "id": "e9f52f2e-52b9-43b3-8218-108660714538",
   "metadata": {
    "id": "e9f52f2e-52b9-43b3-8218-108660714538"
   },
   "source": [
    "## Since the first case ..."
   ]
  },
  {
   "cell_type": "markdown",
   "id": "e870d1f0-ec82-45f3-bc06-c8d636a20e0f",
   "metadata": {
    "id": "e870d1f0-ec82-45f3-bc06-c8d636a20e0f"
   },
   "source": [
    "### 7.1 df covid: (sum of new deaths) / length population, in Brazil"
   ]
  },
  {
   "cell_type": "code",
   "execution_count": null,
   "id": "79909f6a-a81c-4290-b661-7ce2bb33e5a3",
   "metadata": {
    "id": "79909f6a-a81c-4290-b661-7ce2bb33e5a3"
   },
   "outputs": [],
   "source": [
    "df_covid[['codmun', 'populacaoTCU2019']].drop_duplicates().head()"
   ]
  },
  {
   "cell_type": "code",
   "execution_count": null,
   "id": "086f0d97-3a22-4492-90b3-ca5538810e4c",
   "metadata": {
    "id": "086f0d97-3a22-4492-90b3-ca5538810e4c"
   },
   "outputs": [],
   "source": [
    "n_pop_BRA = df_covid[['codmun', 'populacaoTCU2019']].drop_duplicates()['populacaoTCU2019'].sum()\n",
    "n_pop_BRA"
   ]
  },
  {
   "cell_type": "code",
   "execution_count": null,
   "id": "7019c449-0378-4dd0-8e73-bd5231604caa",
   "metadata": {
    "id": "7019c449-0378-4dd0-8e73-bd5231604caa"
   },
   "outputs": [],
   "source": [
    "df_covid['obitosNovos'].sum() / n_pop_BRA"
   ]
  },
  {
   "cell_type": "markdown",
   "id": "34f72e27-5bb3-4b93-b301-7a438b2c4e97",
   "metadata": {
    "id": "34f72e27-5bb3-4b93-b301-7a438b2c4e97"
   },
   "source": [
    "### 7.2 df covid: (sum of new deaths) / length population, in Brazil by state"
   ]
  },
  {
   "cell_type": "code",
   "execution_count": null,
   "id": "11117059-29f0-42be-a622-22ca2b14375d",
   "metadata": {
    "id": "11117059-29f0-42be-a622-22ca2b14375d"
   },
   "outputs": [],
   "source": [
    "df_covid[['estado', 'codmun', 'populacaoTCU2019']].drop_duplicates(subset=['codmun']).head()"
   ]
  },
  {
   "cell_type": "code",
   "execution_count": null,
   "id": "f53b7439-3d2c-48ca-bb33-16928c202e31",
   "metadata": {
    "id": "f53b7439-3d2c-48ca-bb33-16928c202e31"
   },
   "outputs": [],
   "source": [
    "df_covid_sum_population_by_state = df_covid[['estado', 'codmun', 'populacaoTCU2019']].drop_duplicates(\n",
    "    subset=['codmun']).groupby(by=['estado']\n",
    ").agg({\n",
    "    'populacaoTCU2019': [sum]\n",
    "})\n",
    "\n",
    "df_covid_sum_population_by_state.head()"
   ]
  },
  {
   "cell_type": "code",
   "execution_count": null,
   "id": "9207beb8-f264-4431-9a5f-f821872bc5cf",
   "metadata": {
    "id": "9207beb8-f264-4431-9a5f-f821872bc5cf"
   },
   "outputs": [],
   "source": [
    "df_covid_sum_newdeaths_by_state = df_covid[['estado', 'obitosNovos']].groupby(['estado']).agg(\n",
    "    {'obitosNovos': ['sum']})\n",
    "\n",
    "df_covid_sum_newdeaths_by_state.head()"
   ]
  },
  {
   "cell_type": "code",
   "execution_count": null,
   "id": "facdc90c-0047-4b7b-bc09-8d259e04784c",
   "metadata": {
    "id": "facdc90c-0047-4b7b-bc09-8d259e04784c"
   },
   "outputs": [],
   "source": [
    "df_covid_rate_deaths_by_state = df_covid_sum_newdeaths_by_state['obitosNovos'][['sum']] / \\\n",
    "df_covid_sum_population_by_state['populacaoTCU2019'][['sum']]\n",
    "\n",
    "df_covid_rate_deaths_by_state.head()"
   ]
  },
  {
   "cell_type": "markdown",
   "id": "86e4e4d6-ae13-407b-89d8-cfb94a6291a2",
   "metadata": {
    "id": "86e4e4d6-ae13-407b-89d8-cfb94a6291a2"
   },
   "source": [
    "### 7.3 df covid: (sum of new deaths) / length population, in Brazil by city"
   ]
  },
  {
   "cell_type": "code",
   "execution_count": null,
   "id": "046fa698-96d4-42b4-a012-3b10532354ea",
   "metadata": {
    "id": "046fa698-96d4-42b4-a012-3b10532354ea"
   },
   "outputs": [],
   "source": [
    "df_covid[['estado', 'codmun', 'populacaoTCU2019']].drop_duplicates().head()"
   ]
  },
  {
   "cell_type": "code",
   "execution_count": null,
   "id": "bdfead1a-0070-47e3-a9dc-2b97c769424a",
   "metadata": {
    "id": "bdfead1a-0070-47e3-a9dc-2b97c769424a"
   },
   "outputs": [],
   "source": [
    "df_covid_sum_population_by_city = df_covid[['codmun', 'populacaoTCU2019']].drop_duplicates().groupby(\n",
    "    by='codmun').agg(\n",
    "    {'populacaoTCU2019': 'sum'})\n",
    "\n",
    "df_covid_sum_population_by_city.head()"
   ]
  },
  {
   "cell_type": "code",
   "execution_count": null,
   "id": "7a5ac70c-3e67-4cee-86fc-c2affde1cabb",
   "metadata": {
    "id": "7a5ac70c-3e67-4cee-86fc-c2affde1cabb"
   },
   "outputs": [],
   "source": [
    "df_covid_sum_newdeaths_by_city = df_covid[['codmun', 'obitosNovos']].groupby(['codmun']).agg(\n",
    "    {'obitosNovos': ['sum']})\n",
    "\n",
    "df_covid_sum_newdeaths_by_city.head()"
   ]
  },
  {
   "cell_type": "code",
   "execution_count": null,
   "id": "b1eacbb2-0e63-478b-8759-ae98d8eb68b2",
   "metadata": {
    "id": "b1eacbb2-0e63-478b-8759-ae98d8eb68b2"
   },
   "outputs": [],
   "source": [
    "df_covid_rate_death_by_city = pd.DataFrame(df_covid_sum_newdeaths_by_city['obitosNovos']['sum'] / \\\n",
    "df_covid_sum_population_by_city['populacaoTCU2019'], columns=['death rate'])\n",
    "\n",
    "df_covid_rate_death_by_city.head()"
   ]
  },
  {
   "cell_type": "markdown",
   "id": "3e5cc1b2-d801-4137-a68a-f7f2740b0dca",
   "metadata": {
    "id": "3e5cc1b2-d801-4137-a68a-f7f2740b0dca"
   },
   "source": [
    "## since the first death ..."
   ]
  },
  {
   "cell_type": "markdown",
   "id": "34093dc2-0563-40d3-96a6-5b50355c5a98",
   "metadata": {
    "id": "34093dc2-0563-40d3-96a6-5b50355c5a98"
   },
   "source": [
    "### 8.1 df covid deaths: (sum of new deaths) / length population, in Brazil"
   ]
  },
  {
   "cell_type": "code",
   "execution_count": null,
   "id": "3519f1fb-ef6b-4441-91e4-90204135dc95",
   "metadata": {
    "id": "3519f1fb-ef6b-4441-91e4-90204135dc95"
   },
   "outputs": [],
   "source": [
    "df_covid_deaths[['codmun', 'populacaoTCU2019']].drop_duplicates().head()"
   ]
  },
  {
   "cell_type": "code",
   "execution_count": null,
   "id": "5b07223b-8483-40d5-a1d6-b4c23379954e",
   "metadata": {
    "id": "5b07223b-8483-40d5-a1d6-b4c23379954e"
   },
   "outputs": [],
   "source": [
    "n_pop_BRA_covid_deaths = df_covid_deaths[['codmun', 'populacaoTCU2019']].drop_duplicates()['populacaoTCU2019'].sum()\n",
    "n_pop_BRA_covid_deaths"
   ]
  },
  {
   "cell_type": "code",
   "execution_count": null,
   "id": "ce7d3675-739d-4e47-9e57-67672c8c0bb1",
   "metadata": {
    "id": "ce7d3675-739d-4e47-9e57-67672c8c0bb1"
   },
   "outputs": [],
   "source": [
    "df_covid_deaths['obitosNovos'].sum() / n_pop_BRA_covid_deaths"
   ]
  },
  {
   "cell_type": "markdown",
   "id": "a6d688bf-e4a5-492a-95b9-53ef1fcbc254",
   "metadata": {
    "id": "a6d688bf-e4a5-492a-95b9-53ef1fcbc254"
   },
   "source": [
    "### 8.2 df covid deaths: (sum of new deaths) / length population, in Brazil by state"
   ]
  },
  {
   "cell_type": "code",
   "execution_count": null,
   "id": "a8fd9011-930d-4997-9f93-7f84838b05b6",
   "metadata": {
    "id": "a8fd9011-930d-4997-9f93-7f84838b05b6"
   },
   "outputs": [],
   "source": [
    "df_covid_deaths[['estado', 'codmun', 'populacaoTCU2019']].drop_duplicates(subset=['codmun']).head()"
   ]
  },
  {
   "cell_type": "code",
   "execution_count": null,
   "id": "a4df019d-3692-47e8-852f-81220bd4784c",
   "metadata": {
    "id": "a4df019d-3692-47e8-852f-81220bd4784c"
   },
   "outputs": [],
   "source": [
    "df_covid_deaths_sum_population_by_state = df_covid_deaths[['estado', 'codmun', 'populacaoTCU2019']].drop_duplicates(\n",
    "    subset=['codmun']).groupby(by=['estado']\n",
    ").agg({\n",
    "    'populacaoTCU2019': [sum]\n",
    "})\n",
    "\n",
    "df_covid_deaths_sum_population_by_state.head()"
   ]
  },
  {
   "cell_type": "code",
   "execution_count": null,
   "id": "ffa01f37-7abb-4f9f-95bf-ea6ca0bb879e",
   "metadata": {
    "id": "ffa01f37-7abb-4f9f-95bf-ea6ca0bb879e"
   },
   "outputs": [],
   "source": [
    "df_covid_deaths_sum_newdeaths_by_state = df_covid[['estado', 'obitosNovos']].groupby(['estado']).agg(\n",
    "    {'obitosNovos': ['sum']})\n",
    "\n",
    "df_covid_deaths_sum_newdeaths_by_state.head()"
   ]
  },
  {
   "cell_type": "code",
   "execution_count": null,
   "id": "a08ce74a-99fc-46dc-b10c-e52dfc0b671e",
   "metadata": {
    "id": "a08ce74a-99fc-46dc-b10c-e52dfc0b671e"
   },
   "outputs": [],
   "source": [
    "df_covid_deaths_rate_deaths_by_state = df_covid_deaths_sum_newdeaths_by_state['obitosNovos'][['sum']] / \\\n",
    "df_covid_deaths_sum_population_by_state['populacaoTCU2019'][['sum']]\n",
    "\n",
    "df_covid_deaths_rate_deaths_by_state.head()"
   ]
  },
  {
   "cell_type": "markdown",
   "id": "a1c1bc51-d538-40e9-8498-2d5a40ef0fe2",
   "metadata": {
    "id": "a1c1bc51-d538-40e9-8498-2d5a40ef0fe2"
   },
   "source": [
    "### 8.3 df covid deaths: (sum of new deaths) / length population, in Brazil by city"
   ]
  },
  {
   "cell_type": "code",
   "execution_count": null,
   "id": "748a8a78-4427-4644-940c-039dede064ba",
   "metadata": {
    "id": "748a8a78-4427-4644-940c-039dede064ba"
   },
   "outputs": [],
   "source": [
    "df_covid_deaths[['estado', 'codmun', 'populacaoTCU2019']].drop_duplicates().head()"
   ]
  },
  {
   "cell_type": "code",
   "execution_count": null,
   "id": "8e3c7dc4-041a-44f8-a967-bf9a3f9a9ac4",
   "metadata": {
    "id": "8e3c7dc4-041a-44f8-a967-bf9a3f9a9ac4"
   },
   "outputs": [],
   "source": [
    "df_covid_deaths_sum_population_by_city = df_covid_deaths[['codmun', 'populacaoTCU2019']].drop_duplicates().groupby(\n",
    "    by='codmun').agg(\n",
    "    {'populacaoTCU2019': 'sum'})\n",
    "\n",
    "df_covid_deaths_sum_population_by_city.head()"
   ]
  },
  {
   "cell_type": "code",
   "execution_count": null,
   "id": "f1afbd97-02e1-4f6d-b471-2f38a27a9fe2",
   "metadata": {
    "id": "f1afbd97-02e1-4f6d-b471-2f38a27a9fe2"
   },
   "outputs": [],
   "source": [
    "df_covid_deaths_sum_newdeaths_by_city = df_covid_deaths[['codmun', 'obitosNovos']].groupby(['codmun']).agg(\n",
    "    {'obitosNovos': ['sum']})\n",
    "\n",
    "df_covid_deaths_sum_newdeaths_by_city.head()"
   ]
  },
  {
   "cell_type": "code",
   "execution_count": null,
   "id": "d05b1f2e-9207-4363-aa0c-ae5ac7f2902b",
   "metadata": {
    "id": "d05b1f2e-9207-4363-aa0c-ae5ac7f2902b"
   },
   "outputs": [],
   "source": [
    "df_covid_deaths_rate_death_by_city = pd.DataFrame(df_covid_deaths_sum_newdeaths_by_city['obitosNovos']['sum'] / \\\n",
    "df_covid_deaths_sum_population_by_city['populacaoTCU2019'], columns=['death rate'])\n",
    "\n",
    "df_covid_deaths_rate_death_by_city.head()"
   ]
  },
  {
   "cell_type": "markdown",
   "id": "f79b0eda-4320-495f-98d3-7352fba248a0",
   "metadata": {
    "id": "f79b0eda-4320-495f-98d3-7352fba248a0"
   },
   "source": [
    "## Lethality"
   ]
  },
  {
   "cell_type": "markdown",
   "id": "c99107af-2b03-484c-9770-2db9e49471ef",
   "metadata": {
    "id": "c99107af-2b03-484c-9770-2db9e49471ef"
   },
   "source": [
    "### 9.1 df covid: (sum of new deaths) / (sum of new cases), in Brazil"
   ]
  },
  {
   "cell_type": "code",
   "execution_count": null,
   "id": "8818e594-3dc3-4472-a1e3-0f124d92a6d4",
   "metadata": {
    "id": "8818e594-3dc3-4472-a1e3-0f124d92a6d4"
   },
   "outputs": [],
   "source": [
    "df_covid['obitosNovos'].sum() / df_covid['casosNovos'].sum()"
   ]
  },
  {
   "cell_type": "markdown",
   "id": "81738d79-d674-4207-9939-8c9e945ce182",
   "metadata": {
    "id": "81738d79-d674-4207-9939-8c9e945ce182"
   },
   "source": [
    "### 9.2 df covid: (sum of new deaths) / (sum of new cases), in Brazil by state"
   ]
  },
  {
   "cell_type": "code",
   "execution_count": null,
   "id": "89e89da8-1c59-4893-921f-76a032556199",
   "metadata": {
    "id": "89e89da8-1c59-4893-921f-76a032556199"
   },
   "outputs": [],
   "source": [
    "df_covid_sum_newdeaths_by_state = df_covid[['estado', 'obitosNovos']].groupby(['estado']).agg(\n",
    "    {'obitosNovos': ['sum']})\n",
    "\n",
    "df_covid_sum_newdeaths_by_state.head()"
   ]
  },
  {
   "cell_type": "code",
   "execution_count": null,
   "id": "09cd5787-eae8-47cd-a7cb-6b0d8698f6c9",
   "metadata": {
    "id": "09cd5787-eae8-47cd-a7cb-6b0d8698f6c9"
   },
   "outputs": [],
   "source": [
    "df_covid_sum_newcases_by_state = df_covid[['estado', 'casosNovos']].groupby(['estado']).agg(\n",
    "    {'casosNovos': ['sum']})\n",
    "\n",
    "df_covid_sum_newcases_by_state.head()"
   ]
  },
  {
   "cell_type": "code",
   "execution_count": null,
   "id": "c41caab0-0dbe-4ea0-ad42-4aa7c577b719",
   "metadata": {
    "id": "c41caab0-0dbe-4ea0-ad42-4aa7c577b719"
   },
   "outputs": [],
   "source": [
    "df_covid_lethality_by_state = df_covid_sum_newdeaths_by_state['obitosNovos'][['sum']] / \\\n",
    "df_covid_sum_newcases_by_state['casosNovos'][['sum']]\n",
    "\n",
    "df_covid_lethality_by_state.head()"
   ]
  },
  {
   "cell_type": "markdown",
   "id": "7e4148d4-fa50-4cb6-9f2d-b455a6411919",
   "metadata": {
    "id": "7e4148d4-fa50-4cb6-9f2d-b455a6411919"
   },
   "source": [
    "### 9.3 df covid: (sum of new deaths) / (sum of new cases), in Brazil by city"
   ]
  },
  {
   "cell_type": "code",
   "execution_count": null,
   "id": "8d5b6b84-1fdb-4089-b429-6226d6bdb5f8",
   "metadata": {
    "id": "8d5b6b84-1fdb-4089-b429-6226d6bdb5f8"
   },
   "outputs": [],
   "source": [
    "df_covid_sum_newdeaths_by_city = df_covid[['codmun', 'obitosNovos']].groupby(['codmun']).agg(\n",
    "    {'obitosNovos': ['sum']})\n",
    "\n",
    "df_covid_sum_newdeaths_by_city.head()"
   ]
  },
  {
   "cell_type": "code",
   "execution_count": null,
   "id": "c9fab9e6-708b-4931-9e2d-a98fd87b2b43",
   "metadata": {
    "id": "c9fab9e6-708b-4931-9e2d-a98fd87b2b43"
   },
   "outputs": [],
   "source": [
    "df_covid_sum_newcases_by_city = df_covid[['codmun', 'casosNovos']].groupby(['codmun']).agg(\n",
    "    {'casosNovos': ['sum']})\n",
    "\n",
    "df_covid_sum_newcases_by_city.head()"
   ]
  },
  {
   "cell_type": "code",
   "execution_count": null,
   "id": "77309bdc-0300-4b9c-adae-ae54d755238d",
   "metadata": {
    "id": "77309bdc-0300-4b9c-adae-ae54d755238d"
   },
   "outputs": [],
   "source": [
    "df_covid_lethality_by_city = df_covid_sum_newdeaths_by_city['obitosNovos'][['sum']] / \\\n",
    "df_covid_sum_newcases_by_city['casosNovos'][['sum']]\n",
    "\n",
    "df_covid_lethality_by_city.head()"
   ]
  },
  {
   "cell_type": "markdown",
   "id": "55952f08-ca99-424b-ab75-8a6ebc2dfec8",
   "metadata": {
    "id": "55952f08-ca99-424b-ab75-8a6ebc2dfec8"
   },
   "source": [
    "## Covid pressure in Brazil in tottaly, by state, and by city"
   ]
  },
  {
   "cell_type": "markdown",
   "id": "4f243a36-f76e-458e-aac3-bb0d3b553b2e",
   "metadata": {
    "id": "4f243a36-f76e-458e-aac3-bb0d3b553b2e"
   },
   "source": [
    "### 10.1 df covid: df_covid['data'].unique(), in Brazil"
   ]
  },
  {
   "cell_type": "code",
   "execution_count": null,
   "id": "b6d8db75-42fc-4a07-ab80-6085c79f2414",
   "metadata": {
    "id": "b6d8db75-42fc-4a07-ab80-6085c79f2414"
   },
   "outputs": [],
   "source": [
    "df_covid['data'].unique().shape"
   ]
  },
  {
   "cell_type": "markdown",
   "id": "5773fc27-c5ea-4502-8218-5a3701783b37",
   "metadata": {
    "id": "5773fc27-c5ea-4502-8218-5a3701783b37"
   },
   "source": [
    "### 10.2 df covid: df_covid['data'].unique(), in Brazil by state"
   ]
  },
  {
   "cell_type": "code",
   "execution_count": null,
   "id": "12732272-d70d-4bb2-9b4f-668a379d9d2e",
   "metadata": {
    "id": "12732272-d70d-4bb2-9b4f-668a379d9d2e"
   },
   "outputs": [],
   "source": [
    "df_covid[['estado', 'codmun', 'data']].groupby(by='estado').head(1)"
   ]
  },
  {
   "cell_type": "code",
   "execution_count": null,
   "id": "1e98a53b-74e5-4a70-9e31-3b5a52ee22a3",
   "metadata": {
    "id": "1e98a53b-74e5-4a70-9e31-3b5a52ee22a3"
   },
   "outputs": [],
   "source": [
    "\"\"\"\n",
    "https://stackoverflow.com/questions/45759966/counting-unique-values-in-a-column-in-pandas-dataframe-like-in-qlik\n",
    "\n",
    " __________________________________________________\n",
    " nunique | Count distinct values\n",
    " ________|_________________________________________\n",
    " count   | Count only non-null values\n",
    " ________|_________________________________________\n",
    " size    | Count total values including null values\n",
    " ________|_________________________________________\n",
    " \n",
    "\"\"\"\n",
    "\n",
    "df_covid[['estado', 'data']].groupby(by='estado').agg(\n",
    "    {'data': ['nunique', 'count', 'size']}).head()"
   ]
  },
  {
   "cell_type": "code",
   "execution_count": null,
   "id": "14f761f6-49f0-4cd5-9ec7-d3ad615c84eb",
   "metadata": {
    "id": "14f761f6-49f0-4cd5-9ec7-d3ad615c84eb"
   },
   "outputs": [],
   "source": [
    "df_covid[['estado', 'data']].groupby(by='estado').agg(\n",
    "    {'data': ['nunique', 'count', 'size']}).sort_values(\n",
    "    by=('data', 'count'), ascending=False).head()"
   ]
  },
  {
   "cell_type": "code",
   "execution_count": null,
   "id": "bfafe89d-3692-40dc-a968-1648a9841db2",
   "metadata": {
    "id": "bfafe89d-3692-40dc-a968-1648a9841db2"
   },
   "outputs": [],
   "source": [
    "\"\"\"\n",
    "Proof of 9\n",
    "\"\"\"\n",
    "for estate in df_covid[['estado', 'codmun', 'data']]['estado'].unique():\n",
    "#     print(df_covid[df_covid['estado'] == estate][['estado', 'codmun', 'data']].head())\n",
    "    df_temp = df_covid[df_covid['estado'] == estate][['data']]\n",
    "    unique_dates = np.unique(df_temp['data']).shape[0]\n",
    "    print(estate, unique_dates)\n",
    "#     break\n",
    "    del df_temp\n",
    "\n",
    "print(df_covid[['estado', 'codmun', 'data']][['data']].iloc[0, 0])\n",
    "print(df_covid[['estado', 'codmun', 'data']][['data']].iloc[1, 0])"
   ]
  },
  {
   "cell_type": "markdown",
   "id": "07454fbb-f0ef-4e1b-8d1f-69a550ad0281",
   "metadata": {
    "id": "07454fbb-f0ef-4e1b-8d1f-69a550ad0281"
   },
   "source": [
    "### 10.3 df covid: df_covid['data'].unique(), in Brazil by city"
   ]
  },
  {
   "cell_type": "code",
   "execution_count": null,
   "id": "390aa7b5-b9fc-4621-b32b-82e3e1bfe539",
   "metadata": {
    "id": "390aa7b5-b9fc-4621-b32b-82e3e1bfe539"
   },
   "outputs": [],
   "source": [
    "df_covid[['estado', 'codmun', 'data']].groupby(by='estado').head(1)"
   ]
  },
  {
   "cell_type": "code",
   "execution_count": null,
   "id": "4b454140-47bb-4399-ae86-f61b6f8b5be4",
   "metadata": {
    "id": "4b454140-47bb-4399-ae86-f61b6f8b5be4"
   },
   "outputs": [],
   "source": [
    "\"\"\"\n",
    "https://stackoverflow.com/questions/45759966/counting-unique-values-in-a-column-in-pandas-dataframe-like-in-qlik\n",
    "\n",
    " __________________________________________________\n",
    " nunique | Count distinct values\n",
    " ________|_________________________________________\n",
    " count   | Count only non-null values\n",
    " ________|_________________________________________\n",
    " size    | Count total values including null values\n",
    " ________|_________________________________________\n",
    " \n",
    "\"\"\"\n",
    "\n",
    "df_covid[['codmun', 'data']].groupby(by='codmun').agg(\n",
    "    {'data': ['nunique', 'count', 'size']}).head()"
   ]
  },
  {
   "cell_type": "code",
   "execution_count": null,
   "id": "30e93283-2cce-42d0-8cc6-79ed6eee0b3a",
   "metadata": {
    "id": "30e93283-2cce-42d0-8cc6-79ed6eee0b3a"
   },
   "outputs": [],
   "source": [
    "df_covid[['codmun', 'data']].groupby(by='codmun').agg(\n",
    "    {'data': ['nunique', 'count', 'size']}).sort_values(\n",
    "    by=('data', 'count'), ascending=False)"
   ]
  },
  {
   "cell_type": "markdown",
   "id": "f40b58f8-fd12-4927-a4f2-b3656beabbd9",
   "metadata": {
    "id": "f40b58f8-fd12-4927-a4f2-b3656beabbd9"
   },
   "source": [
    "## Mean of deaths by miliion in Brazil in total, by state, and by city"
   ]
  },
  {
   "cell_type": "markdown",
   "id": "8cd2b893-dcd8-4b52-a7d8-1e6db91dd1f0",
   "metadata": {
    "id": "8cd2b893-dcd8-4b52-a7d8-1e6db91dd1f0"
   },
   "source": [
    "### 11.1 df_covid: (mean of deaths / population) * 10⁹ in Brazil"
   ]
  },
  {
   "cell_type": "code",
   "execution_count": null,
   "id": "e84782ac-9f8b-4d56-97c9-7fe7f47ef08f",
   "metadata": {
    "id": "e84782ac-9f8b-4d56-97c9-7fe7f47ef08f"
   },
   "outputs": [],
   "source": [
    "df_covid['obitosNovos'].mean()"
   ]
  },
  {
   "cell_type": "code",
   "execution_count": null,
   "id": "0f30c844-2083-4a46-b3cc-f0c5f96d82d9",
   "metadata": {
    "id": "0f30c844-2083-4a46-b3cc-f0c5f96d82d9"
   },
   "outputs": [],
   "source": [
    "df_covid[['codmun', 'populacaoTCU2019']].drop_duplicates().head()"
   ]
  },
  {
   "cell_type": "code",
   "execution_count": null,
   "id": "fca9d521-d1e4-47d4-a9d9-d9aa45dd4dc0",
   "metadata": {
    "id": "fca9d521-d1e4-47d4-a9d9-d9aa45dd4dc0"
   },
   "outputs": [],
   "source": [
    "n_pop_BRA = df_covid[['codmun', 'populacaoTCU2019']].drop_duplicates()['populacaoTCU2019'].sum()\n",
    "n_pop_BRA"
   ]
  },
  {
   "cell_type": "code",
   "execution_count": null,
   "id": "ff41f58d-bc6c-4674-b117-2d4b6e643600",
   "metadata": {
    "id": "ff41f58d-bc6c-4674-b117-2d4b6e643600"
   },
   "outputs": [],
   "source": [
    "(df_covid['obitosNovos'].mean() / n_pop_BRA ) * 10**9"
   ]
  },
  {
   "cell_type": "markdown",
   "id": "31db04ac-5df2-4c89-82b9-06c346596870",
   "metadata": {
    "id": "31db04ac-5df2-4c89-82b9-06c346596870"
   },
   "source": [
    "### 11.2 df_covid: (mean of deaths / population) * 10⁹ in Brazil, by estate"
   ]
  },
  {
   "cell_type": "code",
   "execution_count": null,
   "id": "6ac19ccb-9790-4174-9d99-31b4f8434622",
   "metadata": {
    "id": "6ac19ccb-9790-4174-9d99-31b4f8434622"
   },
   "outputs": [],
   "source": [
    "df_covid_mean_deaths_by_state = df_covid[['estado', 'obitosNovos']].groupby(['estado']).agg(\n",
    "    {'obitosNovos': ['mean']})\n",
    "\n",
    "df_covid_mean_deaths_by_state.head()"
   ]
  },
  {
   "cell_type": "code",
   "execution_count": null,
   "id": "3216024d-b32f-4892-9a29-aabe9d2ef1cc",
   "metadata": {
    "id": "3216024d-b32f-4892-9a29-aabe9d2ef1cc"
   },
   "outputs": [],
   "source": [
    "df_covid_sum_population_by_state = df_covid[['estado', 'populacaoTCU2019']].drop_duplicates().groupby(by=['estado']\n",
    ").agg({\n",
    "    'populacaoTCU2019': [sum]\n",
    "})\n",
    "\n",
    "df_covid_sum_population_by_state.head()"
   ]
  },
  {
   "cell_type": "code",
   "execution_count": null,
   "id": "d4e924d4-2f85-454f-99eb-02dc446f028a",
   "metadata": {
    "id": "d4e924d4-2f85-454f-99eb-02dc446f028a"
   },
   "outputs": [],
   "source": [
    "pd.DataFrame((df_covid_mean_deaths_by_state['obitosNovos']['mean'] / \\\n",
    "df_covid_sum_population_by_state['populacaoTCU2019']['sum']) * 10**9, \n",
    "             columns=['deaths by million']).head()"
   ]
  },
  {
   "cell_type": "markdown",
   "id": "f0d54236-3478-476d-b176-a8d803b5638e",
   "metadata": {
    "id": "f0d54236-3478-476d-b176-a8d803b5638e"
   },
   "source": [
    "### 11.3 df_covid: (mean of deaths / population) * 10⁹ in Brazil, by city"
   ]
  },
  {
   "cell_type": "code",
   "execution_count": null,
   "id": "a7af75ed-bd14-424f-9e06-74ff2cefd63b",
   "metadata": {
    "id": "a7af75ed-bd14-424f-9e06-74ff2cefd63b"
   },
   "outputs": [],
   "source": [
    "df_covid_mean_deaths_by_city = df_covid[['codmun', 'obitosNovos']].groupby('codmun').agg(\n",
    "    {'obitosNovos': ['mean']})\n",
    "\n",
    "df_covid_mean_deaths_by_city.head()"
   ]
  },
  {
   "cell_type": "code",
   "execution_count": null,
   "id": "12bac238-b9a8-4655-9ce7-3c627c33e15b",
   "metadata": {
    "id": "12bac238-b9a8-4655-9ce7-3c627c33e15b"
   },
   "outputs": [],
   "source": [
    "df_covid_sum_population_by_city = df_covid[['codmun', 'populacaoTCU2019']].drop_duplicates().groupby(\n",
    "    by='codmun').agg(\n",
    "    {'populacaoTCU2019': 'sum'})\n",
    "\n",
    "df_covid_sum_population_by_city.head()"
   ]
  },
  {
   "cell_type": "code",
   "execution_count": 5,
   "id": "7b812683-0067-4b6f-a3f0-c528fc35780e",
   "metadata": {
    "id": "7b812683-0067-4b6f-a3f0-c528fc35780e"
   },
   "outputs": [],
   "source": [
    "pd.DataFrame((df_covid_mean_deaths_by_city['obitosNovos']['mean'] / \\\n",
    "df_covid_sum_population_by_city['populacaoTCU2019']) * 10**9, \n",
    "             columns=['deaths by million']).head()"
   ]
  },
  {
   "cell_type": "markdown",
   "id": "959e690d-44ec-4fb4-a72d-a82331262362",
   "metadata": {},
   "source": [
    "# <center> Relationship between Covid and Malaria, for all years</center>"
   ]
  },
  {
   "cell_type": "markdown",
   "id": "4b800bea-65f7-402c-809a-c963bc3e13d3",
   "metadata": {},
   "source": [
    "## <center>Deaths by million, by state</center>"
   ]
  },
  {
   "cell_type": "markdown",
   "id": "fa49aed1-c35e-4ca3-953f-d04f884021d8",
   "metadata": {},
   "source": [
    "### 12.1 (df covid: deaths by million) vs (df amazon: num cases p. vivax)"
   ]
  },
  {
   "cell_type": "code",
   "execution_count": null,
   "id": "bb36ce3f-69e3-4fdd-ade6-1abe94db9b8e",
   "metadata": {},
   "outputs": [],
   "source": [
    "df_covid_mean_deaths_by_state = df_covid[['estado', 'obitosNovos']].groupby(['estado']).agg(\n",
    "    {'obitosNovos': ['mean']})\n",
    "\n",
    "df_covid_mean_deaths_by_state.head()"
   ]
  },
  {
   "cell_type": "code",
   "execution_count": null,
   "id": "445f94a8-fda0-40d8-b2c5-ec6a5fe7fd13",
   "metadata": {},
   "outputs": [],
   "source": [
    "df_covid_sum_population_by_state = df_covid[['estado', 'populacaoTCU2019']].drop_duplicates().groupby(by=['estado']\n",
    ").agg({\n",
    "    'populacaoTCU2019': [sum]\n",
    "})\n",
    "\n",
    "df_covid_sum_population_by_state.head()"
   ]
  },
  {
   "cell_type": "code",
   "execution_count": 14,
   "id": "4e76fe34-d5d7-4286-877b-5ba23d03b8e5",
   "metadata": {},
   "outputs": [
    {
     "data": {
      "text/html": [
       "<div>\n",
       "<style scoped>\n",
       "    .dataframe tbody tr th:only-of-type {\n",
       "        vertical-align: middle;\n",
       "    }\n",
       "\n",
       "    .dataframe tbody tr th {\n",
       "        vertical-align: top;\n",
       "    }\n",
       "\n",
       "    .dataframe thead th {\n",
       "        text-align: right;\n",
       "    }\n",
       "</style>\n",
       "<table border=\"1\" class=\"dataframe\">\n",
       "  <thead>\n",
       "    <tr style=\"text-align: right;\">\n",
       "      <th></th>\n",
       "      <th>deaths by million</th>\n",
       "    </tr>\n",
       "    <tr>\n",
       "      <th>estado</th>\n",
       "      <th></th>\n",
       "    </tr>\n",
       "  </thead>\n",
       "  <tbody>\n",
       "    <tr>\n",
       "      <th>AC</th>\n",
       "      <td>216.861187</td>\n",
       "    </tr>\n",
       "    <tr>\n",
       "      <th>AL</th>\n",
       "      <td>35.149790</td>\n",
       "    </tr>\n",
       "    <tr>\n",
       "      <th>AM</th>\n",
       "      <td>127.013262</td>\n",
       "    </tr>\n",
       "    <tr>\n",
       "      <th>AP</th>\n",
       "      <td>307.839539</td>\n",
       "    </tr>\n",
       "    <tr>\n",
       "      <th>BA</th>\n",
       "      <td>8.780629</td>\n",
       "    </tr>\n",
       "  </tbody>\n",
       "</table>\n",
       "</div>"
      ],
      "text/plain": [
       "        deaths by million\n",
       "estado                   \n",
       "AC             216.861187\n",
       "AL              35.149790\n",
       "AM             127.013262\n",
       "AP             307.839539\n",
       "BA               8.780629"
      ]
     },
     "execution_count": 14,
     "metadata": {},
     "output_type": "execute_result"
    }
   ],
   "source": [
    "df_covid_by_state_deaths_by_million = pd.DataFrame((df_covid_mean_deaths_by_state['obitosNovos']['mean'] / \\\n",
    "df_covid_sum_population_by_state['populacaoTCU2019']['sum']) * 10**9, \n",
    "             columns=['deaths by million'])\n",
    "\n",
    "df_covid_by_state_deaths_by_million.head()"
   ]
  },
  {
   "cell_type": "code",
   "execution_count": 80,
   "id": "d76c1e80-38d5-4a34-acea-3bc33a40067c",
   "metadata": {},
   "outputs": [
    {
     "data": {
      "text/html": [
       "<div>\n",
       "<style scoped>\n",
       "    .dataframe tbody tr th:only-of-type {\n",
       "        vertical-align: middle;\n",
       "    }\n",
       "\n",
       "    .dataframe tbody tr th {\n",
       "        vertical-align: top;\n",
       "    }\n",
       "\n",
       "    .dataframe thead tr th {\n",
       "        text-align: left;\n",
       "    }\n",
       "\n",
       "    .dataframe thead tr:last-of-type th {\n",
       "        text-align: right;\n",
       "    }\n",
       "</style>\n",
       "<table border=\"1\" class=\"dataframe\">\n",
       "  <thead>\n",
       "    <tr>\n",
       "      <th></th>\n",
       "      <th>Vivax</th>\n",
       "    </tr>\n",
       "    <tr>\n",
       "      <th></th>\n",
       "      <th>sum</th>\n",
       "    </tr>\n",
       "    <tr>\n",
       "      <th>Estado</th>\n",
       "      <th></th>\n",
       "    </tr>\n",
       "  </thead>\n",
       "  <tbody>\n",
       "    <tr>\n",
       "      <th>AC</th>\n",
       "      <td>42958.706</td>\n",
       "    </tr>\n",
       "    <tr>\n",
       "      <th>AM</th>\n",
       "      <td>198104.113</td>\n",
       "    </tr>\n",
       "    <tr>\n",
       "      <th>AP</th>\n",
       "      <td>47844.513</td>\n",
       "    </tr>\n",
       "    <tr>\n",
       "      <th>MA</th>\n",
       "      <td>62967.199</td>\n",
       "    </tr>\n",
       "    <tr>\n",
       "      <th>MT</th>\n",
       "      <td>31273.361</td>\n",
       "    </tr>\n",
       "    <tr>\n",
       "      <th>PA</th>\n",
       "      <td>233566.025</td>\n",
       "    </tr>\n",
       "    <tr>\n",
       "      <th>RO</th>\n",
       "      <td>96408.416</td>\n",
       "    </tr>\n",
       "    <tr>\n",
       "      <th>RR</th>\n",
       "      <td>75039.942</td>\n",
       "    </tr>\n",
       "    <tr>\n",
       "      <th>TO</th>\n",
       "      <td>3166.000</td>\n",
       "    </tr>\n",
       "  </tbody>\n",
       "</table>\n",
       "</div>"
      ],
      "text/plain": [
       "             Vivax\n",
       "               sum\n",
       "Estado            \n",
       "AC       42958.706\n",
       "AM      198104.113\n",
       "AP       47844.513\n",
       "MA       62967.199\n",
       "MT       31273.361\n",
       "PA      233566.025\n",
       "RO       96408.416\n",
       "RR       75039.942\n",
       "TO        3166.000"
      ]
     },
     "execution_count": 80,
     "metadata": {},
     "output_type": "execute_result"
    }
   ],
   "source": [
    "df_amazon_by_state_sum_vivax = df_amazon.groupby(['Estado']).agg(\n",
    "    {'Vivax': ['sum']}).drop('Total')\n",
    "\n",
    "df_amazon_by_state_sum_vivax"
   ]
  },
  {
   "cell_type": "code",
   "execution_count": 57,
   "id": "46118f41-c76c-484c-88d0-d2a588cc148e",
   "metadata": {},
   "outputs": [
    {
     "data": {
      "text/plain": [
       "['RO', 'AC', 'AM', 'RR', 'PA', 'AP', 'TO', 'MA', 'MT']"
      ]
     },
     "execution_count": 57,
     "metadata": {},
     "output_type": "execute_result"
    }
   ],
   "source": [
    "amazon_states = df_amazon.Estado.drop_duplicates().tolist()\n",
    "amazon_states.remove('Total')\n",
    "amazon_states"
   ]
  },
  {
   "cell_type": "code",
   "execution_count": 66,
   "id": "9e3bd58e-d706-4962-b120-707eac395e17",
   "metadata": {},
   "outputs": [
    {
     "data": {
      "text/html": [
       "<div>\n",
       "<style scoped>\n",
       "    .dataframe tbody tr th:only-of-type {\n",
       "        vertical-align: middle;\n",
       "    }\n",
       "\n",
       "    .dataframe tbody tr th {\n",
       "        vertical-align: top;\n",
       "    }\n",
       "\n",
       "    .dataframe thead th {\n",
       "        text-align: right;\n",
       "    }\n",
       "</style>\n",
       "<table border=\"1\" class=\"dataframe\">\n",
       "  <thead>\n",
       "    <tr style=\"text-align: right;\">\n",
       "      <th></th>\n",
       "      <th>deaths by million</th>\n",
       "    </tr>\n",
       "    <tr>\n",
       "      <th>estado</th>\n",
       "      <th></th>\n",
       "    </tr>\n",
       "  </thead>\n",
       "  <tbody>\n",
       "    <tr>\n",
       "      <th>AC</th>\n",
       "      <td>216.861187</td>\n",
       "    </tr>\n",
       "    <tr>\n",
       "      <th>AM</th>\n",
       "      <td>127.013262</td>\n",
       "    </tr>\n",
       "    <tr>\n",
       "      <th>AP</th>\n",
       "      <td>307.839539</td>\n",
       "    </tr>\n",
       "    <tr>\n",
       "      <th>MA</th>\n",
       "      <td>13.399846</td>\n",
       "    </tr>\n",
       "    <tr>\n",
       "      <th>MT</th>\n",
       "      <td>58.191244</td>\n",
       "    </tr>\n",
       "    <tr>\n",
       "      <th>PA</th>\n",
       "      <td>29.130972</td>\n",
       "    </tr>\n",
       "    <tr>\n",
       "      <th>RO</th>\n",
       "      <td>159.355204</td>\n",
       "    </tr>\n",
       "    <tr>\n",
       "      <th>RR</th>\n",
       "      <td>438.294305</td>\n",
       "    </tr>\n",
       "    <tr>\n",
       "      <th>TO</th>\n",
       "      <td>35.250527</td>\n",
       "    </tr>\n",
       "  </tbody>\n",
       "</table>\n",
       "</div>"
      ],
      "text/plain": [
       "        deaths by million\n",
       "estado                   \n",
       "AC             216.861187\n",
       "AM             127.013262\n",
       "AP             307.839539\n",
       "MA              13.399846\n",
       "MT              58.191244\n",
       "PA              29.130972\n",
       "RO             159.355204\n",
       "RR             438.294305\n",
       "TO              35.250527"
      ]
     },
     "execution_count": 66,
     "metadata": {},
     "output_type": "execute_result"
    }
   ],
   "source": [
    "bol_amazon_states = np.array(\n",
    "    [state in amazon_states for state in df_covid_by_state_deaths_by_million.index]\n",
    ").reshape(df_covid_by_state_deaths_by_million.shape[0], 1)\n",
    "\n",
    "df_covid_by_state_deaths_by_million[bol_amazon_states]"
   ]
  },
  {
   "cell_type": "code",
   "execution_count": 170,
   "id": "fa6865f2-0b15-4e5f-9d0c-267c8cac4215",
   "metadata": {},
   "outputs": [
    {
     "name": "stderr",
     "output_type": "stream",
     "text": [
      "/home/bruno/Documents/dev/lgdc-covid-19-and-malaria/venv-lgdc-covid-19-and-malaria/lib/python3.8/site-packages/pandas/core/reshape/merge.py:648: UserWarning:\n",
      "\n",
      "merging between different levels can give an unintended result (1 levels on the left,2 on the right)\n",
      "\n",
      "/home/bruno/Documents/dev/lgdc-covid-19-and-malaria/venv-lgdc-covid-19-and-malaria/lib/python3.8/site-packages/pandas/core/generic.py:4150: PerformanceWarning:\n",
      "\n",
      "dropping on a non-lexsorted multi-index without a level parameter may impact performance.\n",
      "\n"
     ]
    },
    {
     "data": {
      "text/html": [
       "<div>\n",
       "<style scoped>\n",
       "    .dataframe tbody tr th:only-of-type {\n",
       "        vertical-align: middle;\n",
       "    }\n",
       "\n",
       "    .dataframe tbody tr th {\n",
       "        vertical-align: top;\n",
       "    }\n",
       "\n",
       "    .dataframe thead th {\n",
       "        text-align: right;\n",
       "    }\n",
       "</style>\n",
       "<table border=\"1\" class=\"dataframe\">\n",
       "  <thead>\n",
       "    <tr style=\"text-align: right;\">\n",
       "      <th></th>\n",
       "      <th>estado</th>\n",
       "      <th>deaths by million</th>\n",
       "      <th>(Vivax, sum)</th>\n",
       "    </tr>\n",
       "  </thead>\n",
       "  <tbody>\n",
       "    <tr>\n",
       "      <th>7</th>\n",
       "      <td>RR</td>\n",
       "      <td>438.294305</td>\n",
       "      <td>75039.942</td>\n",
       "    </tr>\n",
       "    <tr>\n",
       "      <th>2</th>\n",
       "      <td>AP</td>\n",
       "      <td>307.839539</td>\n",
       "      <td>47844.513</td>\n",
       "    </tr>\n",
       "    <tr>\n",
       "      <th>0</th>\n",
       "      <td>AC</td>\n",
       "      <td>216.861187</td>\n",
       "      <td>42958.706</td>\n",
       "    </tr>\n",
       "    <tr>\n",
       "      <th>6</th>\n",
       "      <td>RO</td>\n",
       "      <td>159.355204</td>\n",
       "      <td>96408.416</td>\n",
       "    </tr>\n",
       "    <tr>\n",
       "      <th>1</th>\n",
       "      <td>AM</td>\n",
       "      <td>127.013262</td>\n",
       "      <td>198104.113</td>\n",
       "    </tr>\n",
       "    <tr>\n",
       "      <th>4</th>\n",
       "      <td>MT</td>\n",
       "      <td>58.191244</td>\n",
       "      <td>31273.361</td>\n",
       "    </tr>\n",
       "    <tr>\n",
       "      <th>8</th>\n",
       "      <td>TO</td>\n",
       "      <td>35.250527</td>\n",
       "      <td>3166.000</td>\n",
       "    </tr>\n",
       "    <tr>\n",
       "      <th>5</th>\n",
       "      <td>PA</td>\n",
       "      <td>29.130972</td>\n",
       "      <td>233566.025</td>\n",
       "    </tr>\n",
       "    <tr>\n",
       "      <th>3</th>\n",
       "      <td>MA</td>\n",
       "      <td>13.399846</td>\n",
       "      <td>62967.199</td>\n",
       "    </tr>\n",
       "  </tbody>\n",
       "</table>\n",
       "</div>"
      ],
      "text/plain": [
       "  estado  deaths by million  (Vivax, sum)\n",
       "7     RR         438.294305     75039.942\n",
       "2     AP         307.839539     47844.513\n",
       "0     AC         216.861187     42958.706\n",
       "6     RO         159.355204     96408.416\n",
       "1     AM         127.013262    198104.113\n",
       "4     MT          58.191244     31273.361\n",
       "8     TO          35.250527      3166.000\n",
       "5     PA          29.130972    233566.025\n",
       "3     MA          13.399846     62967.199"
      ]
     },
     "execution_count": 170,
     "metadata": {},
     "output_type": "execute_result"
    }
   ],
   "source": [
    "df_deaths_by_million_vs_sum_vivax_by_state = pd.merge(\n",
    "    left=df_covid_by_state_deaths_by_million[bol_amazon_states].reset_index(),\n",
    "    right=df_amazon_by_state_sum_vivax.reset_index().rename(columns={'Estado': 'estado'}),\n",
    "    on='estado').sort_values(by=('deaths by million'), ascending=False)\n",
    "\n",
    "df_deaths_by_million_vs_sum_vivax_by_state"
   ]
  },
  {
   "cell_type": "markdown",
   "id": "0a1de451-b3dc-4235-aa3c-c0c58c73a501",
   "metadata": {},
   "source": [
    "#### <center> Amazon </center>"
   ]
  },
  {
   "cell_type": "code",
   "execution_count": 148,
   "id": "9864d6b2-e70b-4c42-88b6-405b635dea7d",
   "metadata": {},
   "outputs": [
    {
     "data": {
      "text/plain": [
       "deaths by million    153.926232\n",
       "dtype: float64"
      ]
     },
     "execution_count": 148,
     "metadata": {},
     "output_type": "execute_result"
    }
   ],
   "source": [
    "df_deaths_by_million_vs_sum_vivax_by_state[['estado', 'deaths by million']].mean()"
   ]
  },
  {
   "cell_type": "code",
   "execution_count": 147,
   "id": "be3bb00d-266e-4813-bc74-13ba1518dd92",
   "metadata": {},
   "outputs": [
    {
     "data": {
      "text/plain": [
       "deaths by million    144.844628\n",
       "dtype: float64"
      ]
     },
     "execution_count": 147,
     "metadata": {},
     "output_type": "execute_result"
    }
   ],
   "source": [
    "df_deaths_by_million_vs_sum_vivax_by_state[['estado', 'deaths by million']].std()"
   ]
  },
  {
   "cell_type": "markdown",
   "id": "c7a2a348-4cbf-487d-ab7e-5b3f15da25c0",
   "metadata": {},
   "source": [
    "#### <center>No Amazon</center>"
   ]
  },
  {
   "cell_type": "code",
   "execution_count": 166,
   "id": "74ec7afe-f215-49bd-8acd-bede62eb1ad6",
   "metadata": {},
   "outputs": [
    {
     "data": {
      "text/plain": [
       "deaths by million    401.862161\n",
       "dtype: float64"
      ]
     },
     "execution_count": 166,
     "metadata": {},
     "output_type": "execute_result"
    }
   ],
   "source": [
    "df_covid_by_state_deaths_by_million[np.logical_not(bol_amazon_states)].mean()"
   ]
  },
  {
   "cell_type": "code",
   "execution_count": 164,
   "id": "f147ede6-3d92-43d2-b473-334892bd41ae",
   "metadata": {},
   "outputs": [
    {
     "data": {
      "text/plain": [
       "deaths by million    1563.556625\n",
       "dtype: float64"
      ]
     },
     "execution_count": 164,
     "metadata": {},
     "output_type": "execute_result"
    }
   ],
   "source": [
    "df_covid_by_state_deaths_by_million[np.logical_not(bol_amazon_states)].std()"
   ]
  },
  {
   "cell_type": "code",
   "execution_count": 165,
   "id": "f4cbf6fe-8978-466b-9d68-ba49d9f34ce5",
   "metadata": {},
   "outputs": [
    {
     "data": {
      "text/html": [
       "<div>\n",
       "<style scoped>\n",
       "    .dataframe tbody tr th:only-of-type {\n",
       "        vertical-align: middle;\n",
       "    }\n",
       "\n",
       "    .dataframe tbody tr th {\n",
       "        vertical-align: top;\n",
       "    }\n",
       "\n",
       "    .dataframe thead th {\n",
       "        text-align: right;\n",
       "    }\n",
       "</style>\n",
       "<table border=\"1\" class=\"dataframe\">\n",
       "  <thead>\n",
       "    <tr style=\"text-align: right;\">\n",
       "      <th></th>\n",
       "      <th>deaths by million</th>\n",
       "    </tr>\n",
       "    <tr>\n",
       "      <th>estado</th>\n",
       "      <th></th>\n",
       "    </tr>\n",
       "  </thead>\n",
       "  <tbody>\n",
       "    <tr>\n",
       "      <th>AL</th>\n",
       "      <td>35.149790</td>\n",
       "    </tr>\n",
       "    <tr>\n",
       "      <th>BA</th>\n",
       "      <td>8.780629</td>\n",
       "    </tr>\n",
       "    <tr>\n",
       "      <th>CE</th>\n",
       "      <td>29.494444</td>\n",
       "    </tr>\n",
       "    <tr>\n",
       "      <th>DF</th>\n",
       "      <td>6666.074127</td>\n",
       "    </tr>\n",
       "    <tr>\n",
       "      <th>ES</th>\n",
       "      <td>83.165024</td>\n",
       "    </tr>\n",
       "    <tr>\n",
       "      <th>GO</th>\n",
       "      <td>26.696679</td>\n",
       "    </tr>\n",
       "    <tr>\n",
       "      <th>MG</th>\n",
       "      <td>5.997811</td>\n",
       "    </tr>\n",
       "    <tr>\n",
       "      <th>MS</th>\n",
       "      <td>79.511169</td>\n",
       "    </tr>\n",
       "    <tr>\n",
       "      <th>PB</th>\n",
       "      <td>22.087743</td>\n",
       "    </tr>\n",
       "    <tr>\n",
       "      <th>PE</th>\n",
       "      <td>22.001464</td>\n",
       "    </tr>\n",
       "    <tr>\n",
       "      <th>PI</th>\n",
       "      <td>21.379758</td>\n",
       "    </tr>\n",
       "    <tr>\n",
       "      <th>PR</th>\n",
       "      <td>15.074266</td>\n",
       "    </tr>\n",
       "    <tr>\n",
       "      <th>RJ</th>\n",
       "      <td>76.581457</td>\n",
       "    </tr>\n",
       "    <tr>\n",
       "      <th>RN</th>\n",
       "      <td>26.755681</td>\n",
       "    </tr>\n",
       "    <tr>\n",
       "      <th>RS</th>\n",
       "      <td>13.445235</td>\n",
       "    </tr>\n",
       "    <tr>\n",
       "      <th>SC</th>\n",
       "      <td>18.588279</td>\n",
       "    </tr>\n",
       "    <tr>\n",
       "      <th>SE</th>\n",
       "      <td>73.276498</td>\n",
       "    </tr>\n",
       "    <tr>\n",
       "      <th>SP</th>\n",
       "      <td>9.458836</td>\n",
       "    </tr>\n",
       "  </tbody>\n",
       "</table>\n",
       "</div>"
      ],
      "text/plain": [
       "        deaths by million\n",
       "estado                   \n",
       "AL              35.149790\n",
       "BA               8.780629\n",
       "CE              29.494444\n",
       "DF            6666.074127\n",
       "ES              83.165024\n",
       "GO              26.696679\n",
       "MG               5.997811\n",
       "MS              79.511169\n",
       "PB              22.087743\n",
       "PE              22.001464\n",
       "PI              21.379758\n",
       "PR              15.074266\n",
       "RJ              76.581457\n",
       "RN              26.755681\n",
       "RS              13.445235\n",
       "SC              18.588279\n",
       "SE              73.276498\n",
       "SP               9.458836"
      ]
     },
     "execution_count": 165,
     "metadata": {},
     "output_type": "execute_result"
    }
   ],
   "source": [
    "df_covid_by_state_deaths_by_million[np.logical_not(bol_amazon_states)]"
   ]
  }
 ],
 "metadata": {
  "colab": {
   "name": "test.ipynb",
   "provenance": []
  },
  "kernelspec": {
   "display_name": "Python 3",
   "language": "python",
   "name": "python3"
  },
  "language_info": {
   "codemirror_mode": {
    "name": "ipython",
    "version": 3
   },
   "file_extension": ".py",
   "mimetype": "text/x-python",
   "name": "python",
   "nbconvert_exporter": "python",
   "pygments_lexer": "ipython3",
   "version": "3.8.5"
  },
  "toc-autonumbering": false,
  "toc-showcode": false,
  "toc-showmarkdowntxt": false,
  "toc-showtags": false
 },
 "nbformat": 4,
 "nbformat_minor": 5
}
