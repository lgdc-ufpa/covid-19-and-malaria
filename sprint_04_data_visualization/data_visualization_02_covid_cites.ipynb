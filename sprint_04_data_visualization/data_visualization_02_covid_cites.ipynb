{
 "cells": [
  {
   "cell_type": "markdown",
   "id": "688276e9-e08e-445e-978f-74738c97bc85",
   "metadata": {
    "id": "688276e9-e08e-445e-978f-74738c97bc85"
   },
   "source": [
    "# Pipeline"
   ]
  },
  {
   "cell_type": "raw",
   "id": "fdc6af9c-ade8-4c9b-a6c9-2994c20a77dd",
   "metadata": {
    "id": "fdc6af9c-ade8-4c9b-a6c9-2994c20a77dd"
   },
   "source": [
    "- Install nodejs to enable Plotly in Jupyter Lab                     \n",
    "https://github.com/nodesource/distributions/blob/master/README.md#debinstall\n",
    "\n",
    "\n",
    "\n",
    "                    Data Anaylis and Visualization of df_cities of covid\n",
    "\n",
    "1. Imports DONE\n",
    "\n",
    "2. Load dataframes DONE\n",
    "2.1 df amazon DONE\n",
    "2.2 df malarie_covid_total DONE\n",
    "2.3 df covid (since first case) DONE\n",
    "2.4 df covid deaths (since first death) DONE\n",
    "\n",
    "                                    Data Exploitation\n",
    "                                    \n",
    "3.1 df covid: mean of new cases in Brazil DOING\n",
    "3.2 df covid: mean of new cases in Brazil by state DONE\n",
    "3.3 df covid: mean of new cases in Brazil by city DONE\n",
    "\n",
    "4.1 df covid: (sum of new cases) / length population, in Brazil DONE\n",
    "4.2 df covid: (sum of new cases) / length population, in Brazil by state DONE\n",
    "4.3 df covid: (sum of new cases) / length population, in Brazil by city DONE\n",
    "\n",
    "- since the first case ...\n",
    "5.1 df covid: mean of new deaths in Brazil DONE\n",
    "5.2 df covid: mean of new deaths in Brazil by state DONE\n",
    "5.3 df covid: mean of new deaths in Brazil by city DONE\n",
    "\n",
    "- since the first death ...\n",
    "6.1 df covid deaths: mean of new deaths in Brazil DONE\n",
    "6.2 df covid deaths: mean of new deaths in Brazil by state DONE\n",
    "6.3 df covid deaths: mean of new deaths in Brazil by city DONE\n",
    "\n",
    "- since the first case ...\n",
    "7.1 df covid: (sum of new deaths) / length population, in Brazil DONE\n",
    "7.2 df covid: (sum of new deaths) / length population, in Brazil by state DONE\n",
    "7.3 df covid: (sum of new deaths) / length population, in Brazil by city DONE\n",
    "\n",
    "- since the first death ...\n",
    "8.1 df covid deaths: (sum of new deaths) / length population, in Brazil DONE\n",
    "8.2 df covid deaths: (sum of new deaths) / length population, in Brazil by state DONE\n",
    "8.3 df covid deaths: (sum of new deaths) / length population, in Brazil by city DONE\n",
    "\n",
    "- Lethality                        \n",
    "9.1 df covid: (sum of new deaths) / (sum of new cases), in Brazil DONE\n",
    "9.2 df covid: (sum of new deaths) / (sum of new cases), in Brazil by state DONE\n",
    "9.3 df covid: (sum of new deaths) / (sum of new cases), in Brazil by city DONE\n",
    "\n",
    "- Covid pressure in Brazil in tottaly, by state, and by city\n",
    "10.1 df covid: df_covid['data'].unique(), in Brazil DONE\n",
    "10.2 df covid: df_covid['data'].unique(), in Brazil by state DONE (strange value)\n",
    "10.3 df covid: df_covid['data'].unique(), in Brazil by city DONE\n",
    "\n",
    "- Mean of deaths by miliion in Brazil in total, by state, and by city\n",
    "11.1 df_covid: (mean of deaths / population) * 10⁹ in Brazil DONE\n",
    "11.2 df_covid: (mean of deaths / population) * 10⁹ in Brazil, by estate DONE\n",
    "11.3 df_covid: (mean of deaths / population) * 10⁹ in Brazil, by city DONE\n",
    "\n",
    "\n",
    "                           Relationship between Covid and Malaria, for All years\n",
    "\n",
    "- Deaths by million, by state\n",
    "12.1 (df covid: deaths by million) vs (df amazon: num cases p. vivax) DONE\n",
    "12.2 (df covid: deaths by million) vs (df amazon: num cases p. falciparum) DONE\n",
    "12.3 (df covid: deaths by million) vs (df amazon: num cases p. vivax + p. falciparum) DONE\n",
    "12.4 (df covid: deaths by million) vs (df amazon: num cases all p. species) DONE\n",
    "\n",
    "- Deaths by million, by city\n",
    "13.1 (df covid: deaths by million) vs (df amazon: num cases p. vivax) DONE\n",
    "13.2 (df covid: deaths by million) vs (df amazon: num cases p. falciparum) DONE\n",
    "13.3 (df covid: deaths by million) vs (df amazon: num cases p. vivax + p. falciparum) DONE\n",
    "13.4 (df covid: deaths by million) vs (df amazon: num cases all p. species) DONE\n",
    "\n",
    "- Lethality, by state\n",
    "14.1 (df covid: deaths by million) vs (df amazon: num cases p. vivax)\n",
    "14.2 (df covid: deaths by million) vs (df amazon: num cases p. falciparum)\n",
    "14.3 (df covid: deaths by million) vs (df amazon: num cases p. vivax + p. falciparum)\n",
    "\n",
    "- Lethality, by city\n",
    "15.1 (df covid: lethality) vs (df amazon: num cases p. vivax)\n",
    "15.2 (df covid: lethality) vs (df amazon: num cases p. falciparum)\n",
    "15.3 (df covid: lethality) vs (df amazon: num cases p. vivax + p. falciparum)\n",
    "\n",
    "\n",
    "                           Relationship between Covid and Malaria, since 2020\n",
    "\n",
    "- Deaths by million, by state\n",
    "16.1 (df covid: deaths by million) vs (df amazon: num cases p. vivax)\n",
    "16.2 (df covid: deaths by million) vs (df amazon: num cases p. falciparum)\n",
    "16.3 (df covid: deaths by million) vs (df amazon: num cases p. vivax + p. falciparum)\n",
    "\n",
    "- Deaths by million, by city\n",
    "17.1 (df covid: deaths by million) vs (df amazon: num cases p. vivax)\n",
    "17.2 (df covid: deaths by million) vs (df amazon: num cases p. falciparum)\n",
    "17.3 (df covid: deaths by million) vs (df amazon: num cases p. vivax + p. falciparum)\n",
    "\n",
    "- Lethality, by state\n",
    "18.1 (df covid: deaths by million) vs (df amazon: num cases p. vivax)\n",
    "18.2 (df covid: deaths by million) vs (df amazon: num cases p. falciparum)\n",
    "18.3 (df covid: deaths by million) vs (df amazon: num cases p. vivax + p. falciparum)\n",
    "\n",
    "- Lethality, by city\n",
    "19.1 (df covid: lethality) vs (df amazon: num cases p. vivax)\n",
    "19.2 (df covid: lethality) vs (df amazon: num cases p. falciparum)\n",
    "19.3 (df covid: lethality) vs (df amazon: num cases p. vivax + p. falciparum)\n",
    "\n",
    "\n",
    "                           Relationship between Covid and Malaria, until 2019 (COVID WRONG)\n",
    "\n",
    "- Deaths by million, by state\n",
    "20.1 (df covid: deaths by million) vs (df amazon: num cases p. vivax)\n",
    "20.2 (df covid: deaths by million) vs (df amazon: num cases p. falciparum)\n",
    "20.3 (df covid: deaths by million) vs (df amazon: num cases p. vivax + p. falciparum)\n",
    "\n",
    "- Deaths by million, by city\n",
    "21.1 (df covid: deaths by million) vs (df amazon: num cases p. vivax)\n",
    "21.2 (df covid: deaths by million) vs (df amazon: num cases p. falciparum)\n",
    "21.3 (df covid: deaths by million) vs (df amazon: num cases p. vivax + p. falciparum)\n",
    "\n",
    "- Lethality, by state\n",
    "22.1 (df covid: deaths by million) vs (df amazon: num cases p. vivax)\n",
    "22.2 (df covid: deaths by million) vs (df amazon: num cases p. falciparum)\n",
    "22.3 (df covid: deaths by million) vs (df amazon: num cases p. vivax + p. falciparum)\n",
    "\n",
    "- Lethality, by city\n",
    "23.1 (df covid: lethality) vs (df amazon: num cases p. vivax)\n",
    "23.2 (df covid: lethality) vs (df amazon: num cases p. falciparum)\n",
    "23.3 (df covid: lethality) vs (df amazon: num cases p. vivax + p. falciparum)"
   ]
  },
  {
   "cell_type": "markdown",
   "id": "17d051c1",
   "metadata": {
    "id": "17d051c1"
   },
   "source": [
    "## 1. Import libraries"
   ]
  },
  {
   "cell_type": "code",
   "execution_count": 2,
   "id": "9d79eca8",
   "metadata": {
    "id": "9d79eca8"
   },
   "outputs": [],
   "source": [
    "import pandas as pd\n",
    "import numpy as np\n",
    "import tqdm\n",
    "import os\n",
    "import seaborn as sns\n",
    "import matplotlib.pyplot as ply\n",
    "import cufflinks as cf\n",
    "import chart_studio.plotly as py\n",
    "import plotly.graph_objects as go\n",
    "from plotly.offline import download_plotlyjs, init_notebook_mode, plot, iplot\n",
    "\n",
    "%matplotlib inline\n",
    "init_notebook_mode(connected=True)\n",
    "cf.go_offline()"
   ]
  },
  {
   "cell_type": "markdown",
   "id": "3c4eb63d",
   "metadata": {
    "id": "3c4eb63d"
   },
   "source": [
    "## 2. Load dataframes"
   ]
  },
  {
   "cell_type": "code",
   "execution_count": 3,
   "id": "6bfa47da",
   "metadata": {
    "id": "6bfa47da"
   },
   "outputs": [
    {
     "data": {
      "text/html": [
       "<div>\n",
       "<style scoped>\n",
       "    .dataframe tbody tr th:only-of-type {\n",
       "        vertical-align: middle;\n",
       "    }\n",
       "\n",
       "    .dataframe tbody tr th {\n",
       "        vertical-align: top;\n",
       "    }\n",
       "\n",
       "    .dataframe thead th {\n",
       "        text-align: right;\n",
       "    }\n",
       "</style>\n",
       "<table border=\"1\" class=\"dataframe\">\n",
       "  <thead>\n",
       "    <tr style=\"text-align: right;\">\n",
       "      <th></th>\n",
       "      <th>CD</th>\n",
       "      <th>Municipio</th>\n",
       "      <th>Falciparum</th>\n",
       "      <th>Mista</th>\n",
       "      <th>Vivax</th>\n",
       "      <th>Malarie</th>\n",
       "      <th>Ovale</th>\n",
       "      <th>Ano</th>\n",
       "      <th>Estado</th>\n",
       "    </tr>\n",
       "  </thead>\n",
       "  <tbody>\n",
       "    <tr>\n",
       "      <th>0</th>\n",
       "      <td>110001</td>\n",
       "      <td>Alta Floresta D'Oeste</td>\n",
       "      <td>15.000</td>\n",
       "      <td>5.0</td>\n",
       "      <td>117.000</td>\n",
       "      <td>0</td>\n",
       "      <td>0</td>\n",
       "      <td>2003</td>\n",
       "      <td>RO</td>\n",
       "    </tr>\n",
       "    <tr>\n",
       "      <th>1</th>\n",
       "      <td>110002</td>\n",
       "      <td>Ariquemes</td>\n",
       "      <td>2.329</td>\n",
       "      <td>138.0</td>\n",
       "      <td>4.801</td>\n",
       "      <td>0</td>\n",
       "      <td>0</td>\n",
       "      <td>2003</td>\n",
       "      <td>RO</td>\n",
       "    </tr>\n",
       "    <tr>\n",
       "      <th>2</th>\n",
       "      <td>110003</td>\n",
       "      <td>Cabixi</td>\n",
       "      <td>178.000</td>\n",
       "      <td>0.0</td>\n",
       "      <td>54.000</td>\n",
       "      <td>0</td>\n",
       "      <td>0</td>\n",
       "      <td>2003</td>\n",
       "      <td>RO</td>\n",
       "    </tr>\n",
       "    <tr>\n",
       "      <th>3</th>\n",
       "      <td>110004</td>\n",
       "      <td>Cacoal</td>\n",
       "      <td>137.000</td>\n",
       "      <td>9.0</td>\n",
       "      <td>279.000</td>\n",
       "      <td>0</td>\n",
       "      <td>0</td>\n",
       "      <td>2003</td>\n",
       "      <td>RO</td>\n",
       "    </tr>\n",
       "    <tr>\n",
       "      <th>4</th>\n",
       "      <td>110005</td>\n",
       "      <td>Cerejeiras</td>\n",
       "      <td>57.000</td>\n",
       "      <td>6.0</td>\n",
       "      <td>104.000</td>\n",
       "      <td>0</td>\n",
       "      <td>0</td>\n",
       "      <td>2003</td>\n",
       "      <td>RO</td>\n",
       "    </tr>\n",
       "  </tbody>\n",
       "</table>\n",
       "</div>"
      ],
      "text/plain": [
       "       CD              Municipio  Falciparum  Mista    Vivax  Malarie  Ovale  \\\n",
       "0  110001  Alta Floresta D'Oeste      15.000    5.0  117.000        0      0   \n",
       "1  110002              Ariquemes       2.329  138.0    4.801        0      0   \n",
       "2  110003                 Cabixi     178.000    0.0   54.000        0      0   \n",
       "3  110004                 Cacoal     137.000    9.0  279.000        0      0   \n",
       "4  110005             Cerejeiras      57.000    6.0  104.000        0      0   \n",
       "\n",
       "    Ano Estado  \n",
       "0  2003     RO  \n",
       "1  2003     RO  \n",
       "2  2003     RO  \n",
       "3  2003     RO  \n",
       "4  2003     RO  "
      ]
     },
     "execution_count": 3,
     "metadata": {},
     "output_type": "execute_result"
    }
   ],
   "source": [
    "file_amazon = 'output_01_data_01_AM_mun_especie.csv'\n",
    "path_input_file_amazon = os.path.join(os.getcwd(), '..', 'sprint_03_data_analysis', 'output', file_amazon)\n",
    "df_amazon = pd.read_csv(path_input_file_amazon, delimiter=';')\n",
    "del df_amazon['Unnamed: 0']\n",
    "df_amazon.head()"
   ]
  },
  {
   "cell_type": "code",
   "execution_count": null,
   "id": "00cd239a",
   "metadata": {
    "id": "00cd239a"
   },
   "outputs": [],
   "source": [
    "file_malarie_covid_total = 'Covid_malaria_total_casos.csv'\n",
    "path_input_file_malarie = os.path.join(os.getcwd(), '..', \n",
    "                                       'sprint_01_data_collection', \n",
    "                                       'data_04', \n",
    "                                       file_malarie_covid_total)\n",
    "df_malarie_covid_total = pd.read_csv(path_input_file_malarie)\n",
    "df_malarie_covid_total.head()"
   ]
  },
  {
   "cell_type": "code",
   "execution_count": 4,
   "id": "94521802-db10-46d6-80f9-c9e8cb111b02",
   "metadata": {
    "id": "94521802-db10-46d6-80f9-c9e8cb111b02"
   },
   "outputs": [
    {
     "data": {
      "text/html": [
       "<div>\n",
       "<style scoped>\n",
       "    .dataframe tbody tr th:only-of-type {\n",
       "        vertical-align: middle;\n",
       "    }\n",
       "\n",
       "    .dataframe tbody tr th {\n",
       "        vertical-align: top;\n",
       "    }\n",
       "\n",
       "    .dataframe thead th {\n",
       "        text-align: right;\n",
       "    }\n",
       "</style>\n",
       "<table border=\"1\" class=\"dataframe\">\n",
       "  <thead>\n",
       "    <tr style=\"text-align: right;\">\n",
       "      <th></th>\n",
       "      <th>regiao</th>\n",
       "      <th>estado</th>\n",
       "      <th>municipio</th>\n",
       "      <th>coduf</th>\n",
       "      <th>codmun</th>\n",
       "      <th>codRegiaoSaude</th>\n",
       "      <th>nomeRegiaoSaude</th>\n",
       "      <th>data</th>\n",
       "      <th>semanaEpi</th>\n",
       "      <th>populacaoTCU2019</th>\n",
       "      <th>casosAcumulado</th>\n",
       "      <th>casosNovos</th>\n",
       "      <th>obitosAcumulado</th>\n",
       "      <th>obitosNovos</th>\n",
       "      <th>Recuperadosnovos</th>\n",
       "      <th>emAcompanhamentoNovos</th>\n",
       "      <th>interior/metropolitana</th>\n",
       "    </tr>\n",
       "  </thead>\n",
       "  <tbody>\n",
       "    <tr>\n",
       "      <th>0</th>\n",
       "      <td>Norte</td>\n",
       "      <td>RO</td>\n",
       "      <td>Alta Floresta D'Oeste</td>\n",
       "      <td>11</td>\n",
       "      <td>110001.0</td>\n",
       "      <td>11005.0</td>\n",
       "      <td>ZONA DA MATA</td>\n",
       "      <td>2020-05-02</td>\n",
       "      <td>18</td>\n",
       "      <td>22945.0</td>\n",
       "      <td>1.0</td>\n",
       "      <td>1</td>\n",
       "      <td>0</td>\n",
       "      <td>0</td>\n",
       "      <td>NaN</td>\n",
       "      <td>NaN</td>\n",
       "      <td>0.0</td>\n",
       "    </tr>\n",
       "    <tr>\n",
       "      <th>1</th>\n",
       "      <td>Norte</td>\n",
       "      <td>RO</td>\n",
       "      <td>Alta Floresta D'Oeste</td>\n",
       "      <td>11</td>\n",
       "      <td>110001.0</td>\n",
       "      <td>11005.0</td>\n",
       "      <td>ZONA DA MATA</td>\n",
       "      <td>2020-05-03</td>\n",
       "      <td>19</td>\n",
       "      <td>22945.0</td>\n",
       "      <td>1.0</td>\n",
       "      <td>0</td>\n",
       "      <td>0</td>\n",
       "      <td>0</td>\n",
       "      <td>NaN</td>\n",
       "      <td>NaN</td>\n",
       "      <td>0.0</td>\n",
       "    </tr>\n",
       "    <tr>\n",
       "      <th>2</th>\n",
       "      <td>Norte</td>\n",
       "      <td>RO</td>\n",
       "      <td>Alta Floresta D'Oeste</td>\n",
       "      <td>11</td>\n",
       "      <td>110001.0</td>\n",
       "      <td>11005.0</td>\n",
       "      <td>ZONA DA MATA</td>\n",
       "      <td>2020-05-04</td>\n",
       "      <td>19</td>\n",
       "      <td>22945.0</td>\n",
       "      <td>1.0</td>\n",
       "      <td>0</td>\n",
       "      <td>0</td>\n",
       "      <td>0</td>\n",
       "      <td>NaN</td>\n",
       "      <td>NaN</td>\n",
       "      <td>0.0</td>\n",
       "    </tr>\n",
       "    <tr>\n",
       "      <th>3</th>\n",
       "      <td>Norte</td>\n",
       "      <td>RO</td>\n",
       "      <td>Alta Floresta D'Oeste</td>\n",
       "      <td>11</td>\n",
       "      <td>110001.0</td>\n",
       "      <td>11005.0</td>\n",
       "      <td>ZONA DA MATA</td>\n",
       "      <td>2020-05-05</td>\n",
       "      <td>19</td>\n",
       "      <td>22945.0</td>\n",
       "      <td>1.0</td>\n",
       "      <td>0</td>\n",
       "      <td>0</td>\n",
       "      <td>0</td>\n",
       "      <td>NaN</td>\n",
       "      <td>NaN</td>\n",
       "      <td>0.0</td>\n",
       "    </tr>\n",
       "    <tr>\n",
       "      <th>4</th>\n",
       "      <td>Norte</td>\n",
       "      <td>RO</td>\n",
       "      <td>Alta Floresta D'Oeste</td>\n",
       "      <td>11</td>\n",
       "      <td>110001.0</td>\n",
       "      <td>11005.0</td>\n",
       "      <td>ZONA DA MATA</td>\n",
       "      <td>2020-05-06</td>\n",
       "      <td>19</td>\n",
       "      <td>22945.0</td>\n",
       "      <td>1.0</td>\n",
       "      <td>0</td>\n",
       "      <td>0</td>\n",
       "      <td>0</td>\n",
       "      <td>NaN</td>\n",
       "      <td>NaN</td>\n",
       "      <td>0.0</td>\n",
       "    </tr>\n",
       "  </tbody>\n",
       "</table>\n",
       "</div>"
      ],
      "text/plain": [
       "  regiao estado              municipio  coduf    codmun  codRegiaoSaude  \\\n",
       "0  Norte     RO  Alta Floresta D'Oeste     11  110001.0         11005.0   \n",
       "1  Norte     RO  Alta Floresta D'Oeste     11  110001.0         11005.0   \n",
       "2  Norte     RO  Alta Floresta D'Oeste     11  110001.0         11005.0   \n",
       "3  Norte     RO  Alta Floresta D'Oeste     11  110001.0         11005.0   \n",
       "4  Norte     RO  Alta Floresta D'Oeste     11  110001.0         11005.0   \n",
       "\n",
       "  nomeRegiaoSaude        data  semanaEpi  populacaoTCU2019  casosAcumulado  \\\n",
       "0    ZONA DA MATA  2020-05-02         18           22945.0             1.0   \n",
       "1    ZONA DA MATA  2020-05-03         19           22945.0             1.0   \n",
       "2    ZONA DA MATA  2020-05-04         19           22945.0             1.0   \n",
       "3    ZONA DA MATA  2020-05-05         19           22945.0             1.0   \n",
       "4    ZONA DA MATA  2020-05-06         19           22945.0             1.0   \n",
       "\n",
       "   casosNovos  obitosAcumulado  obitosNovos  Recuperadosnovos  \\\n",
       "0           1                0            0               NaN   \n",
       "1           0                0            0               NaN   \n",
       "2           0                0            0               NaN   \n",
       "3           0                0            0               NaN   \n",
       "4           0                0            0               NaN   \n",
       "\n",
       "   emAcompanhamentoNovos  interior/metropolitana  \n",
       "0                    NaN                     0.0  \n",
       "1                    NaN                     0.0  \n",
       "2                    NaN                     0.0  \n",
       "3                    NaN                     0.0  \n",
       "4                    NaN                     0.0  "
      ]
     },
     "execution_count": 4,
     "metadata": {},
     "output_type": "execute_result"
    }
   ],
   "source": [
    "file_covid = 'output_02_data_02_covid_cities_confirmed_cases.csv'\n",
    "path_input_file_covid = os.path.join(os.getcwd(), '..', \n",
    "                                     'sprint_03_data_analysis', 'output', \n",
    "                                     file_covid)\n",
    "df_covid = pd.read_csv(path_input_file_covid, delimiter=';')\n",
    "del df_covid['Unnamed: 0']\n",
    "df_covid.head()"
   ]
  },
  {
   "cell_type": "code",
   "execution_count": null,
   "id": "f91fe51c-087e-44c2-9ad1-a9f3c6ba5df7",
   "metadata": {
    "id": "f91fe51c-087e-44c2-9ad1-a9f3c6ba5df7"
   },
   "outputs": [],
   "source": [
    "file_covid_deaths = 'output_03_data_02_covid_cities_confirmed_deaths.csv'\n",
    "path_input_file_covid_deaths = os.path.join(os.getcwd(), '..', \n",
    "                                     'sprint_03_data_analysis', 'output', \n",
    "                                     file_covid_deaths)\n",
    "df_covid_deaths = pd.read_csv(path_input_file_covid_deaths, delimiter=';')\n",
    "del df_covid_deaths['Unnamed: 0']\n",
    "df_covid_deaths.head()"
   ]
  },
  {
   "cell_type": "markdown",
   "id": "6ac2522c",
   "metadata": {
    "id": "6ac2522c"
   },
   "source": [
    "### 3.1 df covid: mean of new daily new cases in Brazil"
   ]
  },
  {
   "cell_type": "code",
   "execution_count": null,
   "id": "03d74de3",
   "metadata": {
    "id": "03d74de3"
   },
   "outputs": [],
   "source": [
    "df_covid['casosNovos'].mean()"
   ]
  },
  {
   "cell_type": "markdown",
   "id": "62b9b783",
   "metadata": {
    "id": "62b9b783"
   },
   "source": [
    "### 3.2 df covid: mean of new daily new cases in Brazil by state"
   ]
  },
  {
   "cell_type": "code",
   "execution_count": null,
   "id": "ef70dcbe",
   "metadata": {
    "id": "ef70dcbe"
   },
   "outputs": [],
   "source": [
    "df_covid_mean_newcases_by_state = df_covid[['estado', 'casosNovos']].groupby(['estado']).agg(\n",
    "    {'casosNovos': ['min', 'mean', 'std', 'max']}).reset_index()\n",
    "\n",
    "df_covid_mean_newcases_by_state.head()\n",
    "\n",
    "df_covid_mean_newcases_by_state['casosNovos']['mean']\n",
    "# df_covid_mean_newcases_by_state['estado']\n",
    "# df_covid_mean_newcases_by_state.index.tolist()"
   ]
  },
  {
   "cell_type": "markdown",
   "id": "ca11e9c0",
   "metadata": {
    "id": "ca11e9c0"
   },
   "source": [
    "### 3.3 df covid: mean of new cases in Brazil by city"
   ]
  },
  {
   "cell_type": "code",
   "execution_count": null,
   "id": "5b091b26",
   "metadata": {
    "id": "5b091b26"
   },
   "outputs": [],
   "source": [
    "df_covid[['codmun', 'casosNovos']].groupby('codmun').agg({'casosNovos': ['min', 'mean', 'std', 'max']}).head()"
   ]
  },
  {
   "cell_type": "markdown",
   "id": "8a5fdb5b",
   "metadata": {
    "id": "8a5fdb5b"
   },
   "source": [
    "### 4.1 df covid: (sum of new cases) / length population, in Brazil"
   ]
  },
  {
   "cell_type": "code",
   "execution_count": null,
   "id": "49c336e5",
   "metadata": {
    "id": "49c336e5"
   },
   "outputs": [],
   "source": [
    "df_covid[['codmun', 'populacaoTCU2019']].drop_duplicates().head()"
   ]
  },
  {
   "cell_type": "code",
   "execution_count": null,
   "id": "1af88cba",
   "metadata": {
    "id": "1af88cba"
   },
   "outputs": [],
   "source": [
    "n_pop_BRA = df_covid[['codmun', 'populacaoTCU2019']].drop_duplicates()['populacaoTCU2019'].sum()\n",
    "n_pop_BRA"
   ]
  },
  {
   "cell_type": "code",
   "execution_count": null,
   "id": "8a546c8c",
   "metadata": {
    "id": "8a546c8c"
   },
   "outputs": [],
   "source": [
    "df_covid['casosNovos'].sum() / n_pop_BRA"
   ]
  },
  {
   "cell_type": "markdown",
   "id": "40bd38ab",
   "metadata": {
    "id": "40bd38ab"
   },
   "source": [
    "### 4.2 df covid: (sum of new cases) / length population, in Brazil by state"
   ]
  },
  {
   "cell_type": "code",
   "execution_count": null,
   "id": "f9060eac",
   "metadata": {
    "id": "f9060eac"
   },
   "outputs": [],
   "source": [
    "df_covid[['estado', 'codmun', 'populacaoTCU2019']].drop_duplicates(subset=['codmun']).head()"
   ]
  },
  {
   "cell_type": "code",
   "execution_count": null,
   "id": "ea03aba1",
   "metadata": {
    "id": "ea03aba1"
   },
   "outputs": [],
   "source": [
    "df_covid_sum_population_by_state = df_covid[['estado', 'codmun', 'populacaoTCU2019']].drop_duplicates(\n",
    "    subset=['codmun']).groupby(by=['estado']\n",
    ").agg({\n",
    "    'populacaoTCU2019': [sum]\n",
    "})\n",
    "\n",
    "df_covid_sum_population_by_state.head()"
   ]
  },
  {
   "cell_type": "code",
   "execution_count": null,
   "id": "f11655aa",
   "metadata": {
    "id": "f11655aa"
   },
   "outputs": [],
   "source": [
    "df_covid_sum_newcases_by_state = df_covid[['estado', 'casosNovos']].groupby(['estado']).agg(\n",
    "    {'casosNovos': ['sum']})\n",
    "\n",
    "df_covid_sum_newcases_by_state.head()"
   ]
  },
  {
   "cell_type": "code",
   "execution_count": null,
   "id": "78508c6a",
   "metadata": {
    "id": "78508c6a"
   },
   "outputs": [],
   "source": [
    "df_covid_rate_infected_by_state = df_covid_sum_newcases_by_state['casosNovos'][['sum']] / \\\n",
    "df_covid_sum_population_by_state['populacaoTCU2019'][['sum']]\n",
    "\n",
    "df_covid_rate_infected_by_state.head()"
   ]
  },
  {
   "cell_type": "markdown",
   "id": "b82a8f3d",
   "metadata": {
    "id": "b82a8f3d"
   },
   "source": [
    "### 4.3 df covid: (sum of new cases) / length population, in Brazil by city"
   ]
  },
  {
   "cell_type": "code",
   "execution_count": null,
   "id": "bad2b53d",
   "metadata": {
    "id": "bad2b53d"
   },
   "outputs": [],
   "source": [
    "df_covid[['estado', 'codmun', 'populacaoTCU2019']].drop_duplicates().head()"
   ]
  },
  {
   "cell_type": "code",
   "execution_count": null,
   "id": "4c7a2f13",
   "metadata": {
    "id": "4c7a2f13"
   },
   "outputs": [],
   "source": [
    "df_covid_sum_population_by_city = df_covid[['codmun', 'populacaoTCU2019']].drop_duplicates().groupby(\n",
    "    by='codmun').agg(\n",
    "    {'populacaoTCU2019': 'sum'})\n",
    "\n",
    "df_covid_sum_population_by_city.head()"
   ]
  },
  {
   "cell_type": "code",
   "execution_count": null,
   "id": "fd403ff6",
   "metadata": {
    "id": "fd403ff6"
   },
   "outputs": [],
   "source": [
    "df_covid_sum_newcases_by_city = df_covid[['codmun', 'casosNovos']].groupby(['codmun']).agg(\n",
    "    {'casosNovos': ['sum']})\n",
    "\n",
    "df_covid_sum_newcases_by_city.head()"
   ]
  },
  {
   "cell_type": "code",
   "execution_count": null,
   "id": "0aa81344",
   "metadata": {
    "id": "0aa81344"
   },
   "outputs": [],
   "source": [
    "df_covid_rate_infected_by_city = pd.DataFrame(df_covid_sum_newcases_by_city['casosNovos']['sum'] / \\\n",
    "df_covid_sum_population_by_city['populacaoTCU2019'], columns=['infected rate'])\n",
    "\n",
    "df_covid_rate_infected_by_city.head()"
   ]
  },
  {
   "cell_type": "markdown",
   "id": "5dedb747-d5c5-4283-b18a-873d17849574",
   "metadata": {
    "id": "5dedb747-d5c5-4283-b18a-873d17849574"
   },
   "source": [
    "## Since the first case ..."
   ]
  },
  {
   "cell_type": "markdown",
   "id": "5f3598b0-04d3-4fce-aaef-9ea3fcaabb2e",
   "metadata": {
    "id": "5f3598b0-04d3-4fce-aaef-9ea3fcaabb2e"
   },
   "source": [
    "### 5.1 df covid: mean of new deaths in Brazil"
   ]
  },
  {
   "cell_type": "code",
   "execution_count": null,
   "id": "22dd1d54-7f03-47bb-9a33-9476282ddc8b",
   "metadata": {
    "id": "22dd1d54-7f03-47bb-9a33-9476282ddc8b"
   },
   "outputs": [],
   "source": [
    "df_covid['obitosNovos'].mean()"
   ]
  },
  {
   "cell_type": "markdown",
   "id": "8027f213-4866-43e1-b50f-72e099614a2a",
   "metadata": {
    "id": "8027f213-4866-43e1-b50f-72e099614a2a"
   },
   "source": [
    "### 5.2 df covid: mean of new deaths in Brazil by state"
   ]
  },
  {
   "cell_type": "code",
   "execution_count": null,
   "id": "c49a385b-f615-4063-9d81-9fd66087ca2e",
   "metadata": {
    "id": "c49a385b-f615-4063-9d81-9fd66087ca2e"
   },
   "outputs": [],
   "source": [
    "df_covid[['estado', 'obitosNovos']].groupby(['estado']).agg({'obitosNovos': ['min', 'mean', 'std', 'max']}).head()"
   ]
  },
  {
   "cell_type": "markdown",
   "id": "64838167-26ca-47b7-bc24-7bee6f6e98d4",
   "metadata": {
    "id": "64838167-26ca-47b7-bc24-7bee6f6e98d4"
   },
   "source": [
    "### 5.3 df covid: mean of new deaths in Brazil by city"
   ]
  },
  {
   "cell_type": "code",
   "execution_count": null,
   "id": "7fa227f9-09d1-4d96-934d-423c6dca6fc2",
   "metadata": {
    "id": "7fa227f9-09d1-4d96-934d-423c6dca6fc2"
   },
   "outputs": [],
   "source": [
    "df_covid[['codmun', 'obitosNovos']].groupby('codmun').agg({'obitosNovos': ['min', 'mean', 'std', 'max']}).head()"
   ]
  },
  {
   "cell_type": "markdown",
   "id": "74a629da-39bf-4729-a014-ed41ca16da1b",
   "metadata": {
    "id": "74a629da-39bf-4729-a014-ed41ca16da1b"
   },
   "source": [
    "## Since the first death ..."
   ]
  },
  {
   "cell_type": "markdown",
   "id": "113e02a6-5810-4061-8a68-41991620bf4c",
   "metadata": {
    "id": "113e02a6-5810-4061-8a68-41991620bf4c"
   },
   "source": [
    "### 6.1 df covid deaths: mean of new deaths in Brazil"
   ]
  },
  {
   "cell_type": "code",
   "execution_count": null,
   "id": "9e03eed0-c818-4b91-b768-27706aec7c69",
   "metadata": {
    "id": "9e03eed0-c818-4b91-b768-27706aec7c69"
   },
   "outputs": [],
   "source": [
    "df_covid_deaths['obitosNovos'].mean()"
   ]
  },
  {
   "cell_type": "markdown",
   "id": "5edf02aa-6ff3-44b8-b92e-8d9bbba68e1a",
   "metadata": {
    "id": "5edf02aa-6ff3-44b8-b92e-8d9bbba68e1a"
   },
   "source": [
    "### 6.2 df covid deaths: mean of new deaths in Brazil by state"
   ]
  },
  {
   "cell_type": "code",
   "execution_count": null,
   "id": "88f16ad0-b31c-4ff3-a500-1586837ab58c",
   "metadata": {
    "id": "88f16ad0-b31c-4ff3-a500-1586837ab58c"
   },
   "outputs": [],
   "source": [
    "df_covid_deaths[['estado', 'obitosNovos']].groupby(['estado']).agg({'obitosNovos': ['min', 'mean', 'std', 'max']}).head()"
   ]
  },
  {
   "cell_type": "markdown",
   "id": "68be48ec-6b26-4594-b751-d7ec71ddb033",
   "metadata": {
    "id": "68be48ec-6b26-4594-b751-d7ec71ddb033"
   },
   "source": [
    "### 6.3 df covid deaths: mean of new deaths in Brazil by city"
   ]
  },
  {
   "cell_type": "code",
   "execution_count": null,
   "id": "346ba26f-2269-4eac-942e-bf1f4e2c4b95",
   "metadata": {
    "id": "346ba26f-2269-4eac-942e-bf1f4e2c4b95"
   },
   "outputs": [],
   "source": [
    "df_covid_deaths[['codmun', 'obitosNovos']].groupby('codmun').agg({'obitosNovos': ['min', 'mean', 'std', 'max']}).head()"
   ]
  },
  {
   "cell_type": "markdown",
   "id": "e9f52f2e-52b9-43b3-8218-108660714538",
   "metadata": {
    "id": "e9f52f2e-52b9-43b3-8218-108660714538"
   },
   "source": [
    "## Since the first case ..."
   ]
  },
  {
   "cell_type": "markdown",
   "id": "e870d1f0-ec82-45f3-bc06-c8d636a20e0f",
   "metadata": {
    "id": "e870d1f0-ec82-45f3-bc06-c8d636a20e0f"
   },
   "source": [
    "### 7.1 df covid: (sum of new deaths) / length population, in Brazil"
   ]
  },
  {
   "cell_type": "code",
   "execution_count": null,
   "id": "79909f6a-a81c-4290-b661-7ce2bb33e5a3",
   "metadata": {
    "id": "79909f6a-a81c-4290-b661-7ce2bb33e5a3"
   },
   "outputs": [],
   "source": [
    "df_covid[['codmun', 'populacaoTCU2019']].drop_duplicates().head()"
   ]
  },
  {
   "cell_type": "code",
   "execution_count": null,
   "id": "086f0d97-3a22-4492-90b3-ca5538810e4c",
   "metadata": {
    "id": "086f0d97-3a22-4492-90b3-ca5538810e4c"
   },
   "outputs": [],
   "source": [
    "n_pop_BRA = df_covid[['codmun', 'populacaoTCU2019']].drop_duplicates()['populacaoTCU2019'].sum()\n",
    "n_pop_BRA"
   ]
  },
  {
   "cell_type": "code",
   "execution_count": null,
   "id": "7019c449-0378-4dd0-8e73-bd5231604caa",
   "metadata": {
    "id": "7019c449-0378-4dd0-8e73-bd5231604caa"
   },
   "outputs": [],
   "source": [
    "df_covid['obitosNovos'].sum() / n_pop_BRA"
   ]
  },
  {
   "cell_type": "markdown",
   "id": "34f72e27-5bb3-4b93-b301-7a438b2c4e97",
   "metadata": {
    "id": "34f72e27-5bb3-4b93-b301-7a438b2c4e97"
   },
   "source": [
    "### 7.2 df covid: (sum of new deaths) / length population, in Brazil by state"
   ]
  },
  {
   "cell_type": "code",
   "execution_count": null,
   "id": "11117059-29f0-42be-a622-22ca2b14375d",
   "metadata": {
    "id": "11117059-29f0-42be-a622-22ca2b14375d"
   },
   "outputs": [],
   "source": [
    "df_covid[['estado', 'codmun', 'populacaoTCU2019']].drop_duplicates(subset=['codmun']).head()"
   ]
  },
  {
   "cell_type": "code",
   "execution_count": null,
   "id": "f53b7439-3d2c-48ca-bb33-16928c202e31",
   "metadata": {
    "id": "f53b7439-3d2c-48ca-bb33-16928c202e31"
   },
   "outputs": [],
   "source": [
    "df_covid_sum_population_by_state = df_covid[['estado', 'codmun', 'populacaoTCU2019']].drop_duplicates(\n",
    "    subset=['codmun']).groupby(by=['estado']\n",
    ").agg({\n",
    "    'populacaoTCU2019': [sum]\n",
    "})\n",
    "\n",
    "df_covid_sum_population_by_state.head()"
   ]
  },
  {
   "cell_type": "code",
   "execution_count": null,
   "id": "9207beb8-f264-4431-9a5f-f821872bc5cf",
   "metadata": {
    "id": "9207beb8-f264-4431-9a5f-f821872bc5cf"
   },
   "outputs": [],
   "source": [
    "df_covid_sum_newdeaths_by_state = df_covid[['estado', 'obitosNovos']].groupby(['estado']).agg(\n",
    "    {'obitosNovos': ['sum']})\n",
    "\n",
    "df_covid_sum_newdeaths_by_state.head()"
   ]
  },
  {
   "cell_type": "code",
   "execution_count": null,
   "id": "facdc90c-0047-4b7b-bc09-8d259e04784c",
   "metadata": {
    "id": "facdc90c-0047-4b7b-bc09-8d259e04784c"
   },
   "outputs": [],
   "source": [
    "df_covid_rate_deaths_by_state = df_covid_sum_newdeaths_by_state['obitosNovos'][['sum']] / \\\n",
    "df_covid_sum_population_by_state['populacaoTCU2019'][['sum']]\n",
    "\n",
    "df_covid_rate_deaths_by_state.head()"
   ]
  },
  {
   "cell_type": "markdown",
   "id": "86e4e4d6-ae13-407b-89d8-cfb94a6291a2",
   "metadata": {
    "id": "86e4e4d6-ae13-407b-89d8-cfb94a6291a2"
   },
   "source": [
    "### 7.3 df covid: (sum of new deaths) / length population, in Brazil by city"
   ]
  },
  {
   "cell_type": "code",
   "execution_count": null,
   "id": "046fa698-96d4-42b4-a012-3b10532354ea",
   "metadata": {
    "id": "046fa698-96d4-42b4-a012-3b10532354ea"
   },
   "outputs": [],
   "source": [
    "df_covid[['estado', 'codmun', 'populacaoTCU2019']].drop_duplicates().head()"
   ]
  },
  {
   "cell_type": "code",
   "execution_count": null,
   "id": "bdfead1a-0070-47e3-a9dc-2b97c769424a",
   "metadata": {
    "id": "bdfead1a-0070-47e3-a9dc-2b97c769424a"
   },
   "outputs": [],
   "source": [
    "df_covid_sum_population_by_city = df_covid[['codmun', 'populacaoTCU2019']].drop_duplicates().groupby(\n",
    "    by='codmun').agg(\n",
    "    {'populacaoTCU2019': 'sum'})\n",
    "\n",
    "df_covid_sum_population_by_city.head()"
   ]
  },
  {
   "cell_type": "code",
   "execution_count": null,
   "id": "7a5ac70c-3e67-4cee-86fc-c2affde1cabb",
   "metadata": {
    "id": "7a5ac70c-3e67-4cee-86fc-c2affde1cabb"
   },
   "outputs": [],
   "source": [
    "df_covid_sum_newdeaths_by_city = df_covid[['codmun', 'obitosNovos']].groupby(['codmun']).agg(\n",
    "    {'obitosNovos': ['sum']})\n",
    "\n",
    "df_covid_sum_newdeaths_by_city.head()"
   ]
  },
  {
   "cell_type": "code",
   "execution_count": null,
   "id": "b1eacbb2-0e63-478b-8759-ae98d8eb68b2",
   "metadata": {
    "id": "b1eacbb2-0e63-478b-8759-ae98d8eb68b2"
   },
   "outputs": [],
   "source": [
    "df_covid_rate_death_by_city = pd.DataFrame(df_covid_sum_newdeaths_by_city['obitosNovos']['sum'] / \\\n",
    "df_covid_sum_population_by_city['populacaoTCU2019'], columns=['death rate'])\n",
    "\n",
    "df_covid_rate_death_by_city.head()"
   ]
  },
  {
   "cell_type": "markdown",
   "id": "3e5cc1b2-d801-4137-a68a-f7f2740b0dca",
   "metadata": {
    "id": "3e5cc1b2-d801-4137-a68a-f7f2740b0dca"
   },
   "source": [
    "## since the first death ..."
   ]
  },
  {
   "cell_type": "markdown",
   "id": "34093dc2-0563-40d3-96a6-5b50355c5a98",
   "metadata": {
    "id": "34093dc2-0563-40d3-96a6-5b50355c5a98"
   },
   "source": [
    "### 8.1 df covid deaths: (sum of new deaths) / length population, in Brazil"
   ]
  },
  {
   "cell_type": "code",
   "execution_count": null,
   "id": "3519f1fb-ef6b-4441-91e4-90204135dc95",
   "metadata": {
    "id": "3519f1fb-ef6b-4441-91e4-90204135dc95"
   },
   "outputs": [],
   "source": [
    "df_covid_deaths[['codmun', 'populacaoTCU2019']].drop_duplicates().head()"
   ]
  },
  {
   "cell_type": "code",
   "execution_count": null,
   "id": "5b07223b-8483-40d5-a1d6-b4c23379954e",
   "metadata": {
    "id": "5b07223b-8483-40d5-a1d6-b4c23379954e"
   },
   "outputs": [],
   "source": [
    "n_pop_BRA_covid_deaths = df_covid_deaths[['codmun', 'populacaoTCU2019']].drop_duplicates()['populacaoTCU2019'].sum()\n",
    "n_pop_BRA_covid_deaths"
   ]
  },
  {
   "cell_type": "code",
   "execution_count": null,
   "id": "ce7d3675-739d-4e47-9e57-67672c8c0bb1",
   "metadata": {
    "id": "ce7d3675-739d-4e47-9e57-67672c8c0bb1"
   },
   "outputs": [],
   "source": [
    "df_covid_deaths['obitosNovos'].sum() / n_pop_BRA_covid_deaths"
   ]
  },
  {
   "cell_type": "markdown",
   "id": "a6d688bf-e4a5-492a-95b9-53ef1fcbc254",
   "metadata": {
    "id": "a6d688bf-e4a5-492a-95b9-53ef1fcbc254"
   },
   "source": [
    "### 8.2 df covid deaths: (sum of new deaths) / length population, in Brazil by state"
   ]
  },
  {
   "cell_type": "code",
   "execution_count": null,
   "id": "a8fd9011-930d-4997-9f93-7f84838b05b6",
   "metadata": {
    "id": "a8fd9011-930d-4997-9f93-7f84838b05b6"
   },
   "outputs": [],
   "source": [
    "df_covid_deaths[['estado', 'codmun', 'populacaoTCU2019']].drop_duplicates(subset=['codmun']).head()"
   ]
  },
  {
   "cell_type": "code",
   "execution_count": null,
   "id": "a4df019d-3692-47e8-852f-81220bd4784c",
   "metadata": {
    "id": "a4df019d-3692-47e8-852f-81220bd4784c"
   },
   "outputs": [],
   "source": [
    "df_covid_deaths_sum_population_by_state = df_covid_deaths[['estado', 'codmun', 'populacaoTCU2019']].drop_duplicates(\n",
    "    subset=['codmun']).groupby(by=['estado']\n",
    ").agg({\n",
    "    'populacaoTCU2019': [sum]\n",
    "})\n",
    "\n",
    "df_covid_deaths_sum_population_by_state.head()"
   ]
  },
  {
   "cell_type": "code",
   "execution_count": null,
   "id": "ffa01f37-7abb-4f9f-95bf-ea6ca0bb879e",
   "metadata": {
    "id": "ffa01f37-7abb-4f9f-95bf-ea6ca0bb879e"
   },
   "outputs": [],
   "source": [
    "df_covid_deaths_sum_newdeaths_by_state = df_covid[['estado', 'obitosNovos']].groupby(['estado']).agg(\n",
    "    {'obitosNovos': ['sum']})\n",
    "\n",
    "df_covid_deaths_sum_newdeaths_by_state.head()"
   ]
  },
  {
   "cell_type": "code",
   "execution_count": null,
   "id": "a08ce74a-99fc-46dc-b10c-e52dfc0b671e",
   "metadata": {
    "id": "a08ce74a-99fc-46dc-b10c-e52dfc0b671e"
   },
   "outputs": [],
   "source": [
    "df_covid_deaths_rate_deaths_by_state = df_covid_deaths_sum_newdeaths_by_state['obitosNovos'][['sum']] / \\\n",
    "df_covid_deaths_sum_population_by_state['populacaoTCU2019'][['sum']]\n",
    "\n",
    "df_covid_deaths_rate_deaths_by_state.head()"
   ]
  },
  {
   "cell_type": "markdown",
   "id": "a1c1bc51-d538-40e9-8498-2d5a40ef0fe2",
   "metadata": {
    "id": "a1c1bc51-d538-40e9-8498-2d5a40ef0fe2"
   },
   "source": [
    "### 8.3 df covid deaths: (sum of new deaths) / length population, in Brazil by city"
   ]
  },
  {
   "cell_type": "code",
   "execution_count": null,
   "id": "748a8a78-4427-4644-940c-039dede064ba",
   "metadata": {
    "id": "748a8a78-4427-4644-940c-039dede064ba"
   },
   "outputs": [],
   "source": [
    "df_covid_deaths[['estado', 'codmun', 'populacaoTCU2019']].drop_duplicates().head()"
   ]
  },
  {
   "cell_type": "code",
   "execution_count": null,
   "id": "8e3c7dc4-041a-44f8-a967-bf9a3f9a9ac4",
   "metadata": {
    "id": "8e3c7dc4-041a-44f8-a967-bf9a3f9a9ac4"
   },
   "outputs": [],
   "source": [
    "df_covid_deaths_sum_population_by_city = df_covid_deaths[['codmun', 'populacaoTCU2019']].drop_duplicates().groupby(\n",
    "    by='codmun').agg(\n",
    "    {'populacaoTCU2019': 'sum'})\n",
    "\n",
    "df_covid_deaths_sum_population_by_city.head()"
   ]
  },
  {
   "cell_type": "code",
   "execution_count": null,
   "id": "f1afbd97-02e1-4f6d-b471-2f38a27a9fe2",
   "metadata": {
    "id": "f1afbd97-02e1-4f6d-b471-2f38a27a9fe2"
   },
   "outputs": [],
   "source": [
    "df_covid_deaths_sum_newdeaths_by_city = df_covid_deaths[['codmun', 'obitosNovos']].groupby(['codmun']).agg(\n",
    "    {'obitosNovos': ['sum']})\n",
    "\n",
    "df_covid_deaths_sum_newdeaths_by_city.head()"
   ]
  },
  {
   "cell_type": "code",
   "execution_count": null,
   "id": "d05b1f2e-9207-4363-aa0c-ae5ac7f2902b",
   "metadata": {
    "id": "d05b1f2e-9207-4363-aa0c-ae5ac7f2902b"
   },
   "outputs": [],
   "source": [
    "df_covid_deaths_rate_death_by_city = pd.DataFrame(df_covid_deaths_sum_newdeaths_by_city['obitosNovos']['sum'] / \\\n",
    "df_covid_deaths_sum_population_by_city['populacaoTCU2019'], columns=['death rate'])\n",
    "\n",
    "df_covid_deaths_rate_death_by_city.head()"
   ]
  },
  {
   "cell_type": "markdown",
   "id": "f79b0eda-4320-495f-98d3-7352fba248a0",
   "metadata": {
    "id": "f79b0eda-4320-495f-98d3-7352fba248a0"
   },
   "source": [
    "## Lethality"
   ]
  },
  {
   "cell_type": "markdown",
   "id": "c99107af-2b03-484c-9770-2db9e49471ef",
   "metadata": {
    "id": "c99107af-2b03-484c-9770-2db9e49471ef"
   },
   "source": [
    "### 9.1 df covid: (sum of new deaths) / (sum of new cases), in Brazil"
   ]
  },
  {
   "cell_type": "code",
   "execution_count": null,
   "id": "8818e594-3dc3-4472-a1e3-0f124d92a6d4",
   "metadata": {
    "id": "8818e594-3dc3-4472-a1e3-0f124d92a6d4"
   },
   "outputs": [],
   "source": [
    "df_covid['obitosNovos'].sum() / df_covid['casosNovos'].sum()"
   ]
  },
  {
   "cell_type": "markdown",
   "id": "81738d79-d674-4207-9939-8c9e945ce182",
   "metadata": {
    "id": "81738d79-d674-4207-9939-8c9e945ce182"
   },
   "source": [
    "### 9.2 df covid: (sum of new deaths) / (sum of new cases), in Brazil by state"
   ]
  },
  {
   "cell_type": "code",
   "execution_count": null,
   "id": "89e89da8-1c59-4893-921f-76a032556199",
   "metadata": {
    "id": "89e89da8-1c59-4893-921f-76a032556199"
   },
   "outputs": [],
   "source": [
    "df_covid_sum_newdeaths_by_state = df_covid[['estado', 'obitosNovos']].groupby(['estado']).agg(\n",
    "    {'obitosNovos': ['sum']})\n",
    "\n",
    "df_covid_sum_newdeaths_by_state.head()"
   ]
  },
  {
   "cell_type": "code",
   "execution_count": null,
   "id": "09cd5787-eae8-47cd-a7cb-6b0d8698f6c9",
   "metadata": {
    "id": "09cd5787-eae8-47cd-a7cb-6b0d8698f6c9"
   },
   "outputs": [],
   "source": [
    "df_covid_sum_newcases_by_state = df_covid[['estado', 'casosNovos']].groupby(['estado']).agg(\n",
    "    {'casosNovos': ['sum']})\n",
    "\n",
    "df_covid_sum_newcases_by_state.head()"
   ]
  },
  {
   "cell_type": "code",
   "execution_count": null,
   "id": "c41caab0-0dbe-4ea0-ad42-4aa7c577b719",
   "metadata": {
    "id": "c41caab0-0dbe-4ea0-ad42-4aa7c577b719"
   },
   "outputs": [],
   "source": [
    "df_covid_lethality_by_state = df_covid_sum_newdeaths_by_state['obitosNovos'][['sum']] / \\\n",
    "df_covid_sum_newcases_by_state['casosNovos'][['sum']]\n",
    "\n",
    "df_covid_lethality_by_state.head()"
   ]
  },
  {
   "cell_type": "markdown",
   "id": "7e4148d4-fa50-4cb6-9f2d-b455a6411919",
   "metadata": {
    "id": "7e4148d4-fa50-4cb6-9f2d-b455a6411919"
   },
   "source": [
    "### 9.3 df covid: (sum of new deaths) / (sum of new cases), in Brazil by city"
   ]
  },
  {
   "cell_type": "code",
   "execution_count": null,
   "id": "8d5b6b84-1fdb-4089-b429-6226d6bdb5f8",
   "metadata": {
    "id": "8d5b6b84-1fdb-4089-b429-6226d6bdb5f8"
   },
   "outputs": [],
   "source": [
    "df_covid_sum_newdeaths_by_city = df_covid[['codmun', 'obitosNovos']].groupby(['codmun']).agg(\n",
    "    {'obitosNovos': ['sum']})\n",
    "\n",
    "df_covid_sum_newdeaths_by_city.head()"
   ]
  },
  {
   "cell_type": "code",
   "execution_count": null,
   "id": "c9fab9e6-708b-4931-9e2d-a98fd87b2b43",
   "metadata": {
    "id": "c9fab9e6-708b-4931-9e2d-a98fd87b2b43"
   },
   "outputs": [],
   "source": [
    "df_covid_sum_newcases_by_city = df_covid[['codmun', 'casosNovos']].groupby(['codmun']).agg(\n",
    "    {'casosNovos': ['sum']})\n",
    "\n",
    "df_covid_sum_newcases_by_city.head()"
   ]
  },
  {
   "cell_type": "code",
   "execution_count": null,
   "id": "77309bdc-0300-4b9c-adae-ae54d755238d",
   "metadata": {
    "id": "77309bdc-0300-4b9c-adae-ae54d755238d"
   },
   "outputs": [],
   "source": [
    "df_covid_lethality_by_city = df_covid_sum_newdeaths_by_city['obitosNovos'][['sum']] / \\\n",
    "df_covid_sum_newcases_by_city['casosNovos'][['sum']]\n",
    "\n",
    "df_covid_lethality_by_city.head()"
   ]
  },
  {
   "cell_type": "markdown",
   "id": "55952f08-ca99-424b-ab75-8a6ebc2dfec8",
   "metadata": {
    "id": "55952f08-ca99-424b-ab75-8a6ebc2dfec8"
   },
   "source": [
    "## Covid pressure in Brazil in tottaly, by state, and by city"
   ]
  },
  {
   "cell_type": "markdown",
   "id": "4f243a36-f76e-458e-aac3-bb0d3b553b2e",
   "metadata": {
    "id": "4f243a36-f76e-458e-aac3-bb0d3b553b2e"
   },
   "source": [
    "### 10.1 df covid: df_covid['data'].unique(), in Brazil"
   ]
  },
  {
   "cell_type": "code",
   "execution_count": null,
   "id": "b6d8db75-42fc-4a07-ab80-6085c79f2414",
   "metadata": {
    "id": "b6d8db75-42fc-4a07-ab80-6085c79f2414"
   },
   "outputs": [],
   "source": [
    "df_covid['data'].unique().shape"
   ]
  },
  {
   "cell_type": "markdown",
   "id": "5773fc27-c5ea-4502-8218-5a3701783b37",
   "metadata": {
    "id": "5773fc27-c5ea-4502-8218-5a3701783b37"
   },
   "source": [
    "### 10.2 df covid: df_covid['data'].unique(), in Brazil by state"
   ]
  },
  {
   "cell_type": "code",
   "execution_count": null,
   "id": "12732272-d70d-4bb2-9b4f-668a379d9d2e",
   "metadata": {
    "id": "12732272-d70d-4bb2-9b4f-668a379d9d2e"
   },
   "outputs": [],
   "source": [
    "df_covid[['estado', 'codmun', 'data']].groupby(by='estado').head(1)"
   ]
  },
  {
   "cell_type": "code",
   "execution_count": null,
   "id": "1e98a53b-74e5-4a70-9e31-3b5a52ee22a3",
   "metadata": {
    "id": "1e98a53b-74e5-4a70-9e31-3b5a52ee22a3"
   },
   "outputs": [],
   "source": [
    "\"\"\"\n",
    "https://stackoverflow.com/questions/45759966/counting-unique-values-in-a-column-in-pandas-dataframe-like-in-qlik\n",
    "\n",
    " __________________________________________________\n",
    " nunique | Count distinct values\n",
    " ________|_________________________________________\n",
    " count   | Count only non-null values\n",
    " ________|_________________________________________\n",
    " size    | Count total values including null values\n",
    " ________|_________________________________________\n",
    " \n",
    "\"\"\"\n",
    "\n",
    "df_covid[['estado', 'data']].groupby(by='estado').agg(\n",
    "    {'data': ['nunique', 'count', 'size']}).head()"
   ]
  },
  {
   "cell_type": "code",
   "execution_count": null,
   "id": "14f761f6-49f0-4cd5-9ec7-d3ad615c84eb",
   "metadata": {
    "id": "14f761f6-49f0-4cd5-9ec7-d3ad615c84eb"
   },
   "outputs": [],
   "source": [
    "df_covid[['estado', 'data']].groupby(by='estado').agg(\n",
    "    {'data': ['nunique', 'count', 'size']}).sort_values(\n",
    "    by=('data', 'count'), ascending=False).head()"
   ]
  },
  {
   "cell_type": "code",
   "execution_count": null,
   "id": "bfafe89d-3692-40dc-a968-1648a9841db2",
   "metadata": {
    "id": "bfafe89d-3692-40dc-a968-1648a9841db2"
   },
   "outputs": [],
   "source": [
    "\"\"\"\n",
    "Proof of 9\n",
    "\"\"\"\n",
    "for estate in df_covid[['estado', 'codmun', 'data']]['estado'].unique():\n",
    "#     print(df_covid[df_covid['estado'] == estate][['estado', 'codmun', 'data']].head())\n",
    "    df_temp = df_covid[df_covid['estado'] == estate][['data']]\n",
    "    unique_dates = np.unique(df_temp['data']).shape[0]\n",
    "    print(estate, unique_dates)\n",
    "#     break\n",
    "    del df_temp\n",
    "\n",
    "print(df_covid[['estado', 'codmun', 'data']][['data']].iloc[0, 0])\n",
    "print(df_covid[['estado', 'codmun', 'data']][['data']].iloc[1, 0])"
   ]
  },
  {
   "cell_type": "markdown",
   "id": "07454fbb-f0ef-4e1b-8d1f-69a550ad0281",
   "metadata": {
    "id": "07454fbb-f0ef-4e1b-8d1f-69a550ad0281"
   },
   "source": [
    "### 10.3 df covid: df_covid['data'].unique(), in Brazil by city"
   ]
  },
  {
   "cell_type": "code",
   "execution_count": null,
   "id": "390aa7b5-b9fc-4621-b32b-82e3e1bfe539",
   "metadata": {
    "id": "390aa7b5-b9fc-4621-b32b-82e3e1bfe539"
   },
   "outputs": [],
   "source": [
    "df_covid[['estado', 'codmun', 'data']].groupby(by='estado').head(1)"
   ]
  },
  {
   "cell_type": "code",
   "execution_count": null,
   "id": "4b454140-47bb-4399-ae86-f61b6f8b5be4",
   "metadata": {
    "id": "4b454140-47bb-4399-ae86-f61b6f8b5be4"
   },
   "outputs": [],
   "source": [
    "\"\"\"\n",
    "https://stackoverflow.com/questions/45759966/counting-unique-values-in-a-column-in-pandas-dataframe-like-in-qlik\n",
    "\n",
    " __________________________________________________\n",
    " nunique | Count distinct values\n",
    " ________|_________________________________________\n",
    " count   | Count only non-null values\n",
    " ________|_________________________________________\n",
    " size    | Count total values including null values\n",
    " ________|_________________________________________\n",
    " \n",
    "\"\"\"\n",
    "\n",
    "df_covid[['codmun', 'data']].groupby(by='codmun').agg(\n",
    "    {'data': ['nunique', 'count', 'size']}).head()"
   ]
  },
  {
   "cell_type": "code",
   "execution_count": null,
   "id": "30e93283-2cce-42d0-8cc6-79ed6eee0b3a",
   "metadata": {
    "id": "30e93283-2cce-42d0-8cc6-79ed6eee0b3a"
   },
   "outputs": [],
   "source": [
    "df_covid[['codmun', 'data']].groupby(by='codmun').agg(\n",
    "    {'data': ['nunique', 'count', 'size']}).sort_values(\n",
    "    by=('data', 'count'), ascending=False)"
   ]
  },
  {
   "cell_type": "markdown",
   "id": "f40b58f8-fd12-4927-a4f2-b3656beabbd9",
   "metadata": {
    "id": "f40b58f8-fd12-4927-a4f2-b3656beabbd9"
   },
   "source": [
    "## Mean of deaths by miliion in Brazil in total, by state, and by city"
   ]
  },
  {
   "cell_type": "markdown",
   "id": "8cd2b893-dcd8-4b52-a7d8-1e6db91dd1f0",
   "metadata": {
    "id": "8cd2b893-dcd8-4b52-a7d8-1e6db91dd1f0"
   },
   "source": [
    "### 11.1 df_covid: (mean of deaths / population) * 10⁹ in Brazil"
   ]
  },
  {
   "cell_type": "code",
   "execution_count": null,
   "id": "e84782ac-9f8b-4d56-97c9-7fe7f47ef08f",
   "metadata": {
    "id": "e84782ac-9f8b-4d56-97c9-7fe7f47ef08f"
   },
   "outputs": [],
   "source": [
    "df_covid['obitosNovos'].mean()"
   ]
  },
  {
   "cell_type": "code",
   "execution_count": null,
   "id": "0f30c844-2083-4a46-b3cc-f0c5f96d82d9",
   "metadata": {
    "id": "0f30c844-2083-4a46-b3cc-f0c5f96d82d9"
   },
   "outputs": [],
   "source": [
    "df_covid[['codmun', 'populacaoTCU2019']].drop_duplicates().head()"
   ]
  },
  {
   "cell_type": "code",
   "execution_count": null,
   "id": "fca9d521-d1e4-47d4-a9d9-d9aa45dd4dc0",
   "metadata": {
    "id": "fca9d521-d1e4-47d4-a9d9-d9aa45dd4dc0"
   },
   "outputs": [],
   "source": [
    "n_pop_BRA = df_covid[['codmun', 'populacaoTCU2019']].drop_duplicates()['populacaoTCU2019'].sum()\n",
    "n_pop_BRA"
   ]
  },
  {
   "cell_type": "code",
   "execution_count": null,
   "id": "ff41f58d-bc6c-4674-b117-2d4b6e643600",
   "metadata": {
    "id": "ff41f58d-bc6c-4674-b117-2d4b6e643600"
   },
   "outputs": [],
   "source": [
    "(df_covid['obitosNovos'].mean() / n_pop_BRA ) * 10**9"
   ]
  },
  {
   "cell_type": "markdown",
   "id": "31db04ac-5df2-4c89-82b9-06c346596870",
   "metadata": {
    "id": "31db04ac-5df2-4c89-82b9-06c346596870"
   },
   "source": [
    "### 11.2 df_covid: (mean of deaths / population) * 10⁹ in Brazil, by estate"
   ]
  },
  {
   "cell_type": "code",
   "execution_count": null,
   "id": "6ac19ccb-9790-4174-9d99-31b4f8434622",
   "metadata": {
    "id": "6ac19ccb-9790-4174-9d99-31b4f8434622"
   },
   "outputs": [],
   "source": [
    "df_covid_mean_deaths_by_state = df_covid[['estado', 'obitosNovos']].groupby(['estado']).agg(\n",
    "    {'obitosNovos': ['mean']})\n",
    "\n",
    "df_covid_mean_deaths_by_state.head()"
   ]
  },
  {
   "cell_type": "code",
   "execution_count": null,
   "id": "3216024d-b32f-4892-9a29-aabe9d2ef1cc",
   "metadata": {
    "id": "3216024d-b32f-4892-9a29-aabe9d2ef1cc"
   },
   "outputs": [],
   "source": [
    "df_covid_sum_population_by_state = df_covid[['estado', 'populacaoTCU2019']].drop_duplicates().groupby(by=['estado']\n",
    ").agg({\n",
    "    'populacaoTCU2019': [sum]\n",
    "})\n",
    "\n",
    "df_covid_sum_population_by_state.head()"
   ]
  },
  {
   "cell_type": "code",
   "execution_count": null,
   "id": "d4e924d4-2f85-454f-99eb-02dc446f028a",
   "metadata": {
    "id": "d4e924d4-2f85-454f-99eb-02dc446f028a"
   },
   "outputs": [],
   "source": [
    "pd.DataFrame((df_covid_mean_deaths_by_state['obitosNovos']['mean'] / \\\n",
    "df_covid_sum_population_by_state['populacaoTCU2019']['sum']) * 10**9, \n",
    "             columns=['deaths by million']).head()"
   ]
  },
  {
   "cell_type": "markdown",
   "id": "f0d54236-3478-476d-b176-a8d803b5638e",
   "metadata": {
    "id": "f0d54236-3478-476d-b176-a8d803b5638e"
   },
   "source": [
    "### 11.3 df_covid: (mean of deaths / population) * 10⁹ in Brazil, by city"
   ]
  },
  {
   "cell_type": "code",
   "execution_count": null,
   "id": "a7af75ed-bd14-424f-9e06-74ff2cefd63b",
   "metadata": {
    "id": "a7af75ed-bd14-424f-9e06-74ff2cefd63b"
   },
   "outputs": [],
   "source": [
    "df_covid_mean_deaths_by_city = df_covid[['codmun', 'obitosNovos']].groupby('codmun').agg(\n",
    "    {'obitosNovos': ['mean']})\n",
    "\n",
    "df_covid_mean_deaths_by_city.head()"
   ]
  },
  {
   "cell_type": "code",
   "execution_count": null,
   "id": "12bac238-b9a8-4655-9ce7-3c627c33e15b",
   "metadata": {
    "id": "12bac238-b9a8-4655-9ce7-3c627c33e15b"
   },
   "outputs": [],
   "source": [
    "df_covid_sum_population_by_city = df_covid[['codmun', 'populacaoTCU2019']].drop_duplicates().groupby(\n",
    "    by='codmun').agg(\n",
    "    {'populacaoTCU2019': 'sum'})\n",
    "\n",
    "df_covid_sum_population_by_city.head()"
   ]
  },
  {
   "cell_type": "code",
   "execution_count": null,
   "id": "7b812683-0067-4b6f-a3f0-c528fc35780e",
   "metadata": {
    "id": "7b812683-0067-4b6f-a3f0-c528fc35780e"
   },
   "outputs": [],
   "source": [
    "pd.DataFrame((df_covid_mean_deaths_by_city['obitosNovos']['mean'] / \\\n",
    "df_covid_sum_population_by_city['populacaoTCU2019']) * 10**9, \n",
    "             columns=['deaths by million']).head()"
   ]
  },
  {
   "cell_type": "markdown",
   "id": "959e690d-44ec-4fb4-a72d-a82331262362",
   "metadata": {},
   "source": [
    "# <center> Relationship between Covid and Malaria, for all years</center>"
   ]
  },
  {
   "cell_type": "markdown",
   "id": "4b800bea-65f7-402c-809a-c963bc3e13d3",
   "metadata": {},
   "source": [
    "## <center>Deaths by million, by state</center>"
   ]
  },
  {
   "cell_type": "markdown",
   "id": "fa49aed1-c35e-4ca3-953f-d04f884021d8",
   "metadata": {},
   "source": [
    "### 12.1 (df covid: deaths by million) vs (df amazon: num cases p. vivax)"
   ]
  },
  {
   "cell_type": "code",
   "execution_count": null,
   "id": "bb36ce3f-69e3-4fdd-ade6-1abe94db9b8e",
   "metadata": {},
   "outputs": [],
   "source": [
    "df_covid_mean_deaths_by_state = df_covid[['estado', 'obitosNovos']].groupby(['estado']).agg(\n",
    "    {'obitosNovos': ['mean']})\n",
    "\n",
    "df_covid_mean_deaths_by_state.head()"
   ]
  },
  {
   "cell_type": "code",
   "execution_count": null,
   "id": "445f94a8-fda0-40d8-b2c5-ec6a5fe7fd13",
   "metadata": {},
   "outputs": [],
   "source": [
    "df_covid_sum_population_by_state = df_covid[['estado', 'populacaoTCU2019']].drop_duplicates().groupby(by=['estado']\n",
    ").agg({\n",
    "    'populacaoTCU2019': [sum]\n",
    "})\n",
    "\n",
    "df_covid_sum_population_by_state.head()"
   ]
  },
  {
   "cell_type": "code",
   "execution_count": null,
   "id": "4e76fe34-d5d7-4286-877b-5ba23d03b8e5",
   "metadata": {},
   "outputs": [],
   "source": [
    "df_covid_by_state_deaths_by_million = pd.DataFrame((df_covid_mean_deaths_by_state['obitosNovos']['mean'] / \\\n",
    "df_covid_sum_population_by_state['populacaoTCU2019']['sum']) * 10**9, \n",
    "             columns=['deaths by million'])\n",
    "\n",
    "df_covid_by_state_deaths_by_million.head()"
   ]
  },
  {
   "cell_type": "code",
   "execution_count": null,
   "id": "d76c1e80-38d5-4a34-acea-3bc33a40067c",
   "metadata": {},
   "outputs": [],
   "source": [
    "df_amazon_by_state_sum_vivax = df_amazon.groupby(['Estado']).agg(\n",
    "    {'Vivax': ['sum']}).drop('Total')\n",
    "\n",
    "df_amazon_by_state_sum_vivax"
   ]
  },
  {
   "cell_type": "code",
   "execution_count": null,
   "id": "46118f41-c76c-484c-88d0-d2a588cc148e",
   "metadata": {},
   "outputs": [],
   "source": [
    "amazon_states = df_amazon.Estado.drop_duplicates().tolist()\n",
    "amazon_states.remove('Total')\n",
    "amazon_states"
   ]
  },
  {
   "cell_type": "code",
   "execution_count": null,
   "id": "9e3bd58e-d706-4962-b120-707eac395e17",
   "metadata": {},
   "outputs": [],
   "source": [
    "bol_amazon_states = np.array(\n",
    "    [state in amazon_states for state in df_covid_by_state_deaths_by_million.index]\n",
    ").reshape(df_covid_by_state_deaths_by_million.shape[0], 1)\n",
    "\n",
    "df_covid_by_state_deaths_by_million[bol_amazon_states]"
   ]
  },
  {
   "cell_type": "code",
   "execution_count": null,
   "id": "fa6865f2-0b15-4e5f-9d0c-267c8cac4215",
   "metadata": {},
   "outputs": [],
   "source": [
    "df_deaths_by_million_vs_sum_vivax_by_state = pd.merge(\n",
    "    left=df_covid_by_state_deaths_by_million[bol_amazon_states].reset_index(),\n",
    "    right=df_amazon_by_state_sum_vivax.reset_index().rename(columns={'Estado': 'estado'}),\n",
    "    on='estado').sort_values(by=('deaths by million'), ascending=False)\n",
    "\n",
    "df_deaths_by_million_vs_sum_vivax_by_state"
   ]
  },
  {
   "cell_type": "markdown",
   "id": "0a1de451-b3dc-4235-aa3c-c0c58c73a501",
   "metadata": {},
   "source": [
    "#### <center> Amazon </center>"
   ]
  },
  {
   "cell_type": "code",
   "execution_count": null,
   "id": "9864d6b2-e70b-4c42-88b6-405b635dea7d",
   "metadata": {},
   "outputs": [],
   "source": [
    "df_deaths_by_million_vs_sum_vivax_by_state[['estado', 'deaths by million']].mean()"
   ]
  },
  {
   "cell_type": "code",
   "execution_count": null,
   "id": "be3bb00d-266e-4813-bc74-13ba1518dd92",
   "metadata": {},
   "outputs": [],
   "source": [
    "df_deaths_by_million_vs_sum_vivax_by_state[['estado', 'deaths by million']].std()"
   ]
  },
  {
   "cell_type": "code",
   "execution_count": null,
   "id": "8c3ccef2-5df2-4df9-b97a-e2eabb174d93",
   "metadata": {},
   "outputs": [],
   "source": [
    "df_deaths_by_million_vs_sum_vivax_by_state[[('Vivax', 'sum')]].mean()"
   ]
  },
  {
   "cell_type": "code",
   "execution_count": null,
   "id": "4c56b27d-d076-4ae6-9117-e0e4e459ffb8",
   "metadata": {},
   "outputs": [],
   "source": [
    "df_deaths_by_million_vs_sum_vivax_by_state[[('Vivax', 'sum')]].std()"
   ]
  },
  {
   "cell_type": "markdown",
   "id": "c7a2a348-4cbf-487d-ab7e-5b3f15da25c0",
   "metadata": {},
   "source": [
    "#### <center>No Amazon</center>"
   ]
  },
  {
   "cell_type": "code",
   "execution_count": null,
   "id": "74ec7afe-f215-49bd-8acd-bede62eb1ad6",
   "metadata": {},
   "outputs": [],
   "source": [
    "df_covid_by_state_deaths_by_million[np.logical_not(bol_amazon_states)].mean()"
   ]
  },
  {
   "cell_type": "code",
   "execution_count": null,
   "id": "f147ede6-3d92-43d2-b473-334892bd41ae",
   "metadata": {},
   "outputs": [],
   "source": [
    "df_covid_by_state_deaths_by_million[np.logical_not(bol_amazon_states)].std()"
   ]
  },
  {
   "cell_type": "code",
   "execution_count": null,
   "id": "f4cbf6fe-8978-466b-9d68-ba49d9f34ce5",
   "metadata": {},
   "outputs": [],
   "source": [
    "df_covid_by_state_deaths_by_million[np.logical_not(bol_amazon_states)]"
   ]
  },
  {
   "cell_type": "markdown",
   "id": "77387772-9918-4e57-818e-4c1bba5dcc23",
   "metadata": {},
   "source": [
    "### 12.2 (df covid: deaths by million) vs (df amazon: num cases p. falciparum)"
   ]
  },
  {
   "cell_type": "code",
   "execution_count": null,
   "id": "a6a72ca6-fd49-4600-b806-45e434bb320d",
   "metadata": {},
   "outputs": [],
   "source": [
    "df_covid_mean_deaths_by_state = df_covid[['estado', 'obitosNovos']].groupby(['estado']).agg(\n",
    "    {'obitosNovos': ['mean']})\n",
    "\n",
    "df_covid_mean_deaths_by_state.head()\n",
    "\n",
    "# ok"
   ]
  },
  {
   "cell_type": "code",
   "execution_count": null,
   "id": "25561854-f3d2-474a-9338-6121b46a77ca",
   "metadata": {},
   "outputs": [],
   "source": [
    "df_covid_sum_population_by_state = df_covid[['estado', 'populacaoTCU2019']].drop_duplicates().groupby(by=['estado']\n",
    ").agg({\n",
    "    'populacaoTCU2019': [sum]\n",
    "})\n",
    "\n",
    "df_covid_sum_population_by_state.head()\n",
    "\n",
    "# ok"
   ]
  },
  {
   "cell_type": "code",
   "execution_count": null,
   "id": "128fc134-3141-4c57-aafd-008e376eff60",
   "metadata": {},
   "outputs": [],
   "source": [
    "df_covid_by_state_deaths_by_million = pd.DataFrame((df_covid_mean_deaths_by_state['obitosNovos']['mean'] / \\\n",
    "df_covid_sum_population_by_state['populacaoTCU2019']['sum']) * 10**9, \n",
    "             columns=['deaths by million'])\n",
    "\n",
    "df_covid_by_state_deaths_by_million.head()\n",
    "\n",
    "# ok"
   ]
  },
  {
   "cell_type": "code",
   "execution_count": null,
   "id": "300576cf-e7ae-45e5-a2ce-367f20273516",
   "metadata": {},
   "outputs": [],
   "source": [
    "df_amazon_by_state_sum_falciparum = df_amazon.groupby(['Estado']).agg(\n",
    "    {'Falciparum': ['sum']}).drop('Total')\n",
    "\n",
    "df_amazon_by_state_sum_falciparum\n",
    "\n",
    "# ok"
   ]
  },
  {
   "cell_type": "code",
   "execution_count": null,
   "id": "8d72b83d-6268-401f-a8f3-a3a239107ece",
   "metadata": {},
   "outputs": [],
   "source": [
    "amazon_states = df_amazon.Estado.drop_duplicates().tolist()\n",
    "amazon_states.remove('Total')\n",
    "amazon_states"
   ]
  },
  {
   "cell_type": "code",
   "execution_count": null,
   "id": "59977e9b-065e-434d-9b17-e0fc202ea10c",
   "metadata": {},
   "outputs": [],
   "source": [
    "bol_amazon_states = np.array(\n",
    "    [state in amazon_states for state in df_covid_by_state_deaths_by_million.index]\n",
    ").reshape(df_covid_by_state_deaths_by_million.shape[0], 1)\n",
    "\n",
    "df_covid_by_state_deaths_by_million[bol_amazon_states]"
   ]
  },
  {
   "cell_type": "code",
   "execution_count": null,
   "id": "5e558e7b-688a-431b-921f-b332e8fa3841",
   "metadata": {},
   "outputs": [],
   "source": [
    "df_deaths_by_million_vs_sum_falciparum_by_state = pd.merge(\n",
    "    left=df_covid_by_state_deaths_by_million[bol_amazon_states].reset_index(),\n",
    "    right=df_amazon_by_state_sum_falciparum.reset_index().rename(columns={'Estado': 'estado'}),\n",
    "    on='estado').sort_values(by=('deaths by million'), ascending=False)\n",
    "\n",
    "df_deaths_by_million_vs_sum_falciparum_by_state"
   ]
  },
  {
   "cell_type": "markdown",
   "id": "4fbb4930-2d85-41ad-94fb-69048312136c",
   "metadata": {},
   "source": [
    "#### <center> Amazon </center>"
   ]
  },
  {
   "cell_type": "code",
   "execution_count": null,
   "id": "85ef7c08-a51e-4e48-91ae-7a51d4fd716a",
   "metadata": {},
   "outputs": [],
   "source": [
    "df_deaths_by_million_vs_sum_falciparum_by_state[['estado', 'deaths by million']].mean()"
   ]
  },
  {
   "cell_type": "code",
   "execution_count": null,
   "id": "0690b2ca-29b5-46c7-9ea5-5072a92b0378",
   "metadata": {},
   "outputs": [],
   "source": [
    "df_deaths_by_million_vs_sum_falciparum_by_state[['estado', 'deaths by million']].std()"
   ]
  },
  {
   "cell_type": "code",
   "execution_count": null,
   "id": "885af44f-87d9-4ab5-b64b-a748bf9de8d3",
   "metadata": {},
   "outputs": [],
   "source": [
    "df_deaths_by_million_vs_sum_falciparum_by_state[[('Falciparum', 'sum')]].mean()"
   ]
  },
  {
   "cell_type": "code",
   "execution_count": null,
   "id": "3bcfb835-c4c7-4efa-8450-7eae5afecd35",
   "metadata": {},
   "outputs": [],
   "source": [
    "df_deaths_by_million_vs_sum_falciparum_by_state[[('Falciparum', 'sum')]].std()"
   ]
  },
  {
   "cell_type": "markdown",
   "id": "35595a7e-70dc-4a93-a9ef-bdcfde40ba7a",
   "metadata": {},
   "source": [
    "#### <center>No Amazon</center>"
   ]
  },
  {
   "cell_type": "code",
   "execution_count": null,
   "id": "3d76f323-2398-47ba-8462-700a86a76c9d",
   "metadata": {},
   "outputs": [],
   "source": [
    "df_covid_by_state_deaths_by_million[np.logical_not(bol_amazon_states)].mean()"
   ]
  },
  {
   "cell_type": "code",
   "execution_count": null,
   "id": "893215b4-57c1-483b-be59-a41d26ddf214",
   "metadata": {},
   "outputs": [],
   "source": [
    "df_covid_by_state_deaths_by_million[np.logical_not(bol_amazon_states)].std()"
   ]
  },
  {
   "cell_type": "code",
   "execution_count": null,
   "id": "909aeabe-5257-403f-9654-cda20db97036",
   "metadata": {},
   "outputs": [],
   "source": [
    "df_covid_by_state_deaths_by_million[np.logical_not(bol_amazon_states)]"
   ]
  },
  {
   "cell_type": "markdown",
   "id": "1f074eee-65ef-4a7f-a74a-b1e7a869f547",
   "metadata": {},
   "source": [
    "### 12.3 (df covid: deaths by million) vs (df amazon: num cases p. vivax + p. falciparum)"
   ]
  },
  {
   "cell_type": "code",
   "execution_count": null,
   "id": "d1e28747-bb95-4d07-ac28-39f15b929725",
   "metadata": {},
   "outputs": [],
   "source": [
    "df_covid_mean_deaths_by_state = df_covid[['estado', 'obitosNovos']].groupby(['estado']).agg(\n",
    "    {'obitosNovos': ['mean']})\n",
    "\n",
    "df_covid_mean_deaths_by_state.head()\n",
    "\n",
    "# ok"
   ]
  },
  {
   "cell_type": "code",
   "execution_count": null,
   "id": "8e49325d-2cf0-4c47-bbd4-d78f79b61d4a",
   "metadata": {},
   "outputs": [],
   "source": [
    "df_covid_sum_population_by_state = df_covid[['estado', 'populacaoTCU2019']].drop_duplicates().groupby(by=['estado']\n",
    ").agg({\n",
    "    'populacaoTCU2019': [sum]\n",
    "})\n",
    "\n",
    "df_covid_sum_population_by_state.head()\n",
    "\n",
    "# ok"
   ]
  },
  {
   "cell_type": "code",
   "execution_count": null,
   "id": "2e36cb6e-eb2c-447e-a1bf-308431cc7856",
   "metadata": {},
   "outputs": [],
   "source": [
    "df_covid_by_state_deaths_by_million = pd.DataFrame((df_covid_mean_deaths_by_state['obitosNovos']['mean'] / \\\n",
    "df_covid_sum_population_by_state['populacaoTCU2019']['sum']) * 10**9, \n",
    "             columns=['deaths by million'])\n",
    "\n",
    "df_covid_by_state_deaths_by_million.head()\n",
    "\n",
    "# ok"
   ]
  },
  {
   "cell_type": "code",
   "execution_count": null,
   "id": "52d0ac7e-93be-4cdf-ac9b-ae191ec8d82e",
   "metadata": {},
   "outputs": [],
   "source": [
    "df_amazon_by_state_sum_vivax_falciparum = pd.DataFrame(\n",
    "    df_amazon.groupby(['Estado']).agg(\n",
    "        {'Vivax': ['sum'], 'Falciparum': ['sum']}).drop('Total').sum(axis=1), \n",
    "    columns=['sum_vivax_falciparum'])\n",
    "\n",
    "df_amazon_by_state_sum_vivax_falciparum"
   ]
  },
  {
   "cell_type": "code",
   "execution_count": null,
   "id": "3238d7a0-66fd-4938-9822-ac693eb5b089",
   "metadata": {},
   "outputs": [],
   "source": [
    "amazon_states = df_amazon.Estado.drop_duplicates().tolist()\n",
    "amazon_states.remove('Total')\n",
    "amazon_states"
   ]
  },
  {
   "cell_type": "code",
   "execution_count": null,
   "id": "d216a7e8-1394-498d-af99-7f04dc6aba71",
   "metadata": {},
   "outputs": [],
   "source": [
    "bol_amazon_states = np.array(\n",
    "    [state in amazon_states for state in df_covid_by_state_deaths_by_million.index]\n",
    ").reshape(df_covid_by_state_deaths_by_million.shape[0], 1)\n",
    "\n",
    "df_covid_by_state_deaths_by_million[bol_amazon_states]"
   ]
  },
  {
   "cell_type": "code",
   "execution_count": null,
   "id": "cd69a4ed-f448-4c4a-bb5a-3981e6074107",
   "metadata": {},
   "outputs": [],
   "source": [
    "df_deaths_by_million_vs_sum_vivax_falciparum_by_state = pd.merge(\n",
    "    left=df_covid_by_state_deaths_by_million[bol_amazon_states].reset_index(),\n",
    "    right=df_amazon_by_state_sum_vivax_falciparum.reset_index().rename(columns={'Estado': 'estado'}),\n",
    "    on='estado').sort_values(by=('deaths by million'), ascending=False)\n",
    "\n",
    "df_deaths_by_million_vs_sum_vivax_falciparum_by_state"
   ]
  },
  {
   "cell_type": "markdown",
   "id": "b9f0d593-39f5-40d1-8817-798fbd60c080",
   "metadata": {},
   "source": [
    "#### <center> Amazon </center>"
   ]
  },
  {
   "cell_type": "code",
   "execution_count": null,
   "id": "f80aff83-f0e0-432d-8419-b69e70115700",
   "metadata": {},
   "outputs": [],
   "source": [
    "df_deaths_by_million_vs_sum_falciparum_by_state[['estado', 'deaths by million']].mean()"
   ]
  },
  {
   "cell_type": "code",
   "execution_count": null,
   "id": "56e7318e-baf6-4d37-9d66-8c1f688081c8",
   "metadata": {},
   "outputs": [],
   "source": [
    "df_deaths_by_million_vs_sum_falciparum_by_state[['estado', 'deaths by million']].std()"
   ]
  },
  {
   "cell_type": "code",
   "execution_count": null,
   "id": "c929e3ad-1836-4de9-ad7b-a307ad90ff9f",
   "metadata": {},
   "outputs": [],
   "source": [
    "df_deaths_by_million_vs_sum_vivax_falciparum_by_state[['sum_vivax_falciparum']].mean()"
   ]
  },
  {
   "cell_type": "code",
   "execution_count": null,
   "id": "bf7e5c32-d84c-47c4-ba72-56f5a4571969",
   "metadata": {},
   "outputs": [],
   "source": [
    "df_deaths_by_million_vs_sum_vivax_falciparum_by_state[[('sum_vivax_falciparum')]].std()"
   ]
  },
  {
   "cell_type": "markdown",
   "id": "621f9a54-c816-407d-a60a-b777abd5a2d9",
   "metadata": {},
   "source": [
    "#### <center>No Amazon</center>"
   ]
  },
  {
   "cell_type": "code",
   "execution_count": null,
   "id": "76a08a27-5e44-4b4e-a493-ea582d67daf6",
   "metadata": {},
   "outputs": [],
   "source": [
    "df_covid_by_state_deaths_by_million[np.logical_not(bol_amazon_states)].mean()"
   ]
  },
  {
   "cell_type": "code",
   "execution_count": null,
   "id": "74e7cca4-2051-4e9d-80f9-e0c7b741a37b",
   "metadata": {},
   "outputs": [],
   "source": [
    "df_covid_by_state_deaths_by_million[np.logical_not(bol_amazon_states)].std()"
   ]
  },
  {
   "cell_type": "code",
   "execution_count": null,
   "id": "1a031d4b-80a3-4372-976b-5509d72147fc",
   "metadata": {},
   "outputs": [],
   "source": [
    "df_covid_by_state_deaths_by_million[np.logical_not(bol_amazon_states)]"
   ]
  },
  {
   "cell_type": "markdown",
   "id": "9f1903cb-9e4e-4052-a235-c9268a551040",
   "metadata": {},
   "source": [
    "### 12.4 (df covid: deaths by million) vs (df amazon: num cases all p. species)"
   ]
  },
  {
   "cell_type": "code",
   "execution_count": null,
   "id": "e32fd0e2-f87f-4753-8ea0-975600ddd28f",
   "metadata": {},
   "outputs": [],
   "source": [
    "df_covid_mean_deaths_by_state = df_covid[['estado', 'obitosNovos']].groupby(['estado']).agg(\n",
    "    {'obitosNovos': ['mean']})\n",
    "\n",
    "df_covid_mean_deaths_by_state.head()"
   ]
  },
  {
   "cell_type": "code",
   "execution_count": null,
   "id": "89aec023-d9bd-4c34-a419-2c719942b67c",
   "metadata": {},
   "outputs": [],
   "source": [
    "df_covid_sum_population_by_state = df_covid[['estado', 'populacaoTCU2019']].drop_duplicates().groupby(by=['estado']\n",
    ").agg({\n",
    "    'populacaoTCU2019': [sum]\n",
    "})\n",
    "\n",
    "df_covid_sum_population_by_state.head()"
   ]
  },
  {
   "cell_type": "code",
   "execution_count": null,
   "id": "5f8bfb40-f14b-41f5-8c18-4ab27ba34224",
   "metadata": {},
   "outputs": [],
   "source": [
    "df_covid_by_state_deaths_by_million = pd.DataFrame((df_covid_mean_deaths_by_state['obitosNovos']['mean'] / \\\n",
    "df_covid_sum_population_by_state['populacaoTCU2019']['sum']) * 10**9, \n",
    "             columns=['deaths by million'])\n",
    "\n",
    "df_covid_by_state_deaths_by_million.head()"
   ]
  },
  {
   "cell_type": "code",
   "execution_count": null,
   "id": "cbd6745d-c11c-4cd7-a887-fcaa1f3d8bd6",
   "metadata": {},
   "outputs": [],
   "source": [
    "df_amazon_by_state_sum_all_plasmodium_species = pd.DataFrame(\n",
    "    df_amazon.groupby(['Estado']).agg(\n",
    "        {'Vivax': ['sum'], \n",
    "         'Falciparum': ['sum'], \n",
    "         'Malarie': ['sum'], \n",
    "         'Ovale': ['sum'], \n",
    "         'Mista': ['sum']}).drop('Total').sum(axis=1), \n",
    "    columns=['sum_all_plasmodium_species'])\n",
    "\n",
    "df_amazon_by_state_sum_all_plasmodium_species"
   ]
  },
  {
   "cell_type": "code",
   "execution_count": null,
   "id": "a7b3636f-1e22-467b-90d7-51a02eb8e571",
   "metadata": {},
   "outputs": [],
   "source": [
    "amazon_states = df_amazon.Estado.drop_duplicates().tolist()\n",
    "amazon_states.remove('Total')\n",
    "amazon_states"
   ]
  },
  {
   "cell_type": "code",
   "execution_count": null,
   "id": "53cad827-7ca7-4705-831c-565098c07d51",
   "metadata": {},
   "outputs": [],
   "source": [
    "bol_amazon_states = np.array(\n",
    "    [state in amazon_states for state in df_covid_by_state_deaths_by_million.index]\n",
    ").reshape(df_covid_by_state_deaths_by_million.shape[0], 1)\n",
    "\n",
    "df_covid_by_state_deaths_by_million[bol_amazon_states]"
   ]
  },
  {
   "cell_type": "code",
   "execution_count": null,
   "id": "910a47a6-d2ed-4969-b79d-e32c95729dbb",
   "metadata": {},
   "outputs": [],
   "source": [
    "df_deaths_by_million_vs_sum_all_plasmodium_species_by_state = pd.merge(\n",
    "    left=df_covid_by_state_deaths_by_million[bol_amazon_states].reset_index(),\n",
    "    right=df_amazon_by_state_sum_all_plasmodium_species.reset_index().rename(columns={'Estado': 'estado'}),\n",
    "    on='estado').sort_values(by=('deaths by million'), ascending=False)\n",
    "\n",
    "df_deaths_by_million_vs_sum_all_plasmodium_species_by_state"
   ]
  },
  {
   "cell_type": "markdown",
   "id": "ab21e712-abef-4545-bf6e-0dae9f783dc7",
   "metadata": {},
   "source": [
    "#### <center> Amazon </center>"
   ]
  },
  {
   "cell_type": "code",
   "execution_count": null,
   "id": "3732c3fc-14c3-49e5-80d7-ecfe2056bb9e",
   "metadata": {},
   "outputs": [],
   "source": [
    "df_deaths_by_million_vs_sum_falciparum_by_state[['estado', 'deaths by million']].mean()"
   ]
  },
  {
   "cell_type": "code",
   "execution_count": null,
   "id": "d2b05758-f07b-44e5-8f63-0a60e22e858a",
   "metadata": {},
   "outputs": [],
   "source": [
    "df_deaths_by_million_vs_sum_falciparum_by_state[['estado', 'deaths by million']].std()"
   ]
  },
  {
   "cell_type": "code",
   "execution_count": null,
   "id": "834f7777-61c1-44b1-bc63-a6fb50deec7b",
   "metadata": {},
   "outputs": [],
   "source": [
    "df_deaths_by_million_vs_sum_all_plasmodium_species_by_state[['sum_all_plasmodium_species']].mean()"
   ]
  },
  {
   "cell_type": "code",
   "execution_count": null,
   "id": "b843ad9c-ff56-4762-9782-af0425922449",
   "metadata": {},
   "outputs": [],
   "source": [
    "df_deaths_by_million_vs_sum_all_plasmodium_species_by_state[['sum_all_plasmodium_species']].std()"
   ]
  },
  {
   "cell_type": "markdown",
   "id": "df49f9e5-fba9-4130-83e0-bde32c28a172",
   "metadata": {},
   "source": [
    "#### <center>No Amazon</center>"
   ]
  },
  {
   "cell_type": "code",
   "execution_count": null,
   "id": "8902da6f-f6d4-47c2-942b-faf1332367f3",
   "metadata": {},
   "outputs": [],
   "source": [
    "df_covid_by_state_deaths_by_million[np.logical_not(bol_amazon_states)].mean()"
   ]
  },
  {
   "cell_type": "code",
   "execution_count": null,
   "id": "cef96635-3d4f-4e15-8672-757298d9995f",
   "metadata": {},
   "outputs": [],
   "source": [
    "df_covid_by_state_deaths_by_million[np.logical_not(bol_amazon_states)].std()"
   ]
  },
  {
   "cell_type": "code",
   "execution_count": null,
   "id": "49e88058-d3bd-45d7-92db-9b99e0a27a7c",
   "metadata": {},
   "outputs": [],
   "source": [
    "df_covid_by_state_deaths_by_million[np.logical_not(bol_amazon_states)]"
   ]
  },
  {
   "cell_type": "markdown",
   "id": "0f7dca19-93c1-4e69-9433-cbafc806a7eb",
   "metadata": {},
   "source": [
    "## <center>Deaths by million, by city</center>"
   ]
  },
  {
   "cell_type": "markdown",
   "id": "3ab9d5b0-efab-4d9f-a0bd-662e4e9ee1c4",
   "metadata": {},
   "source": [
    "### 13.1 (df covid: deaths by million) vs (df amazon: num cases p. vivax)"
   ]
  },
  {
   "cell_type": "code",
   "execution_count": null,
   "id": "79ce1697-e477-4163-a5cb-1dd368125a90",
   "metadata": {
    "id": "a7af75ed-bd14-424f-9e06-74ff2cefd63b"
   },
   "outputs": [],
   "source": [
    "df_covid_mean_deaths_by_city = df_covid[['codmun', 'obitosNovos']].groupby('codmun').agg(\n",
    "    {'obitosNovos': ['mean']})\n",
    "\n",
    "df_covid_mean_deaths_by_city.head()"
   ]
  },
  {
   "cell_type": "code",
   "execution_count": null,
   "id": "0b5e5506-de5c-4f0c-990e-ffed14022609",
   "metadata": {
    "id": "12bac238-b9a8-4655-9ce7-3c627c33e15b"
   },
   "outputs": [],
   "source": [
    "df_covid_sum_population_by_city = df_covid[['codmun', 'populacaoTCU2019']].drop_duplicates().groupby(\n",
    "    by='codmun').agg(\n",
    "    {'populacaoTCU2019': 'sum'})\n",
    "\n",
    "df_covid_sum_population_by_city.head()"
   ]
  },
  {
   "cell_type": "code",
   "execution_count": null,
   "id": "77dbf5be-7e2a-47e8-b2af-0c380f14cfe4",
   "metadata": {
    "id": "7b812683-0067-4b6f-a3f0-c528fc35780e"
   },
   "outputs": [],
   "source": [
    "df_covid_by_city_deaths_by_million = pd.DataFrame((df_covid_mean_deaths_by_city['obitosNovos']['mean'] / \\\n",
    "df_covid_sum_population_by_city['populacaoTCU2019']) * 10**9, \n",
    "             columns=['deaths by million'])\n",
    "\n",
    "df_covid_by_city_deaths_by_million.index = df_covid_by_city_deaths_by_million.index.map(str).map(lambda codmun: codmun.split('.')[0])\n",
    "\n",
    "df_covid_by_city_deaths_by_million.head()"
   ]
  },
  {
   "cell_type": "code",
   "execution_count": null,
   "id": "62543d7a-517b-49cd-be70-7b42ab4ba673",
   "metadata": {},
   "outputs": [],
   "source": [
    "df_amazon_by_city_sum_vivax = df_amazon.groupby(['CD']).agg(\n",
    "    {'Vivax': ['sum']}).drop('Total geral')\n",
    "\n",
    "df_amazon_by_city_sum_vivax.head()"
   ]
  },
  {
   "cell_type": "code",
   "execution_count": null,
   "id": "361a5d24-a5e7-46ad-af0f-8250a06063a6",
   "metadata": {},
   "outputs": [],
   "source": [
    "amazon_cities = df_amazon.CD.drop_duplicates().tolist()\n",
    "amazon_cities.remove('Total geral')\n",
    "\n",
    "print(len(amazon_cities))\n",
    "amazon_cities[:10]"
   ]
  },
  {
   "cell_type": "code",
   "execution_count": null,
   "id": "325d943b-68f3-4636-87b1-8d08e523466d",
   "metadata": {},
   "outputs": [],
   "source": [
    "bol_amazon_cities = np.array(\n",
    "    [city in amazon_cities for city in df_covid_by_city_deaths_by_million.index]\n",
    ").reshape(df_covid_by_city_deaths_by_million.shape[0], 1)\n",
    "\n",
    "df_covid_by_city_deaths_by_million[bol_amazon_cities]"
   ]
  },
  {
   "cell_type": "code",
   "execution_count": null,
   "id": "36e4da74-1320-4ed1-bb71-76580c3895ed",
   "metadata": {},
   "outputs": [],
   "source": [
    "df_deaths_by_million_vs_sum_vivax_by_city = pd.merge(\n",
    "    left=df_covid_by_city_deaths_by_million[bol_amazon_cities].reset_index(),\n",
    "    right=df_amazon_by_city_sum_vivax.reset_index().rename(columns={'CD': 'codmun'}),\n",
    "    on='codmun').sort_values(by=('deaths by million'), ascending=False)\n",
    "\n",
    "df_deaths_by_million_vs_sum_vivax_by_city"
   ]
  },
  {
   "cell_type": "markdown",
   "id": "2bb7fb44-52de-4efd-9c91-b935a3611880",
   "metadata": {},
   "source": [
    "#### <center> Amazon </center>"
   ]
  },
  {
   "cell_type": "code",
   "execution_count": null,
   "id": "563052a2-9429-4feb-a2b9-d54d63322fb5",
   "metadata": {},
   "outputs": [],
   "source": [
    "df_deaths_by_million_vs_sum_vivax_by_city[['codmun', 'deaths by million']].mean()"
   ]
  },
  {
   "cell_type": "code",
   "execution_count": null,
   "id": "ea11ae18-8e75-4448-a412-5d6011cd148e",
   "metadata": {},
   "outputs": [],
   "source": [
    "df_deaths_by_million_vs_sum_vivax_by_city[['codmun', 'deaths by million']].std()"
   ]
  },
  {
   "cell_type": "code",
   "execution_count": null,
   "id": "8891501f-ec84-4fd6-89d3-ecda1ec8ed54",
   "metadata": {},
   "outputs": [],
   "source": [
    "df_deaths_by_million_vs_sum_vivax_by_city[[('Vivax', 'sum')]].mean()"
   ]
  },
  {
   "cell_type": "code",
   "execution_count": null,
   "id": "1c1b97f6-5aa4-4384-b24c-0aa9efb95fef",
   "metadata": {},
   "outputs": [],
   "source": [
    "df_deaths_by_million_vs_sum_vivax_by_city[[('Vivax', 'sum')]].std()"
   ]
  },
  {
   "cell_type": "markdown",
   "id": "c25a7608-8200-4cc5-87f6-f9e36b10cda0",
   "metadata": {},
   "source": [
    "#### <center>No Amazon</center>"
   ]
  },
  {
   "cell_type": "code",
   "execution_count": null,
   "id": "e26b9605-8e6a-44e0-90e1-db5787678a73",
   "metadata": {},
   "outputs": [],
   "source": [
    "df_covid_by_city_deaths_by_million[np.logical_not(bol_amazon_cities)].mean()"
   ]
  },
  {
   "cell_type": "code",
   "execution_count": null,
   "id": "0f23b044-9bfb-4b7b-806f-f9d5de56c65a",
   "metadata": {},
   "outputs": [],
   "source": [
    "df_covid_by_city_deaths_by_million[np.logical_not(bol_amazon_cities)].std()"
   ]
  },
  {
   "cell_type": "code",
   "execution_count": null,
   "id": "d9b08dea-0ccd-4ce4-b8bb-bfb01483ab56",
   "metadata": {},
   "outputs": [],
   "source": [
    "df_covid_by_city_deaths_by_million[np.logical_not(bol_amazon_cities)]"
   ]
  },
  {
   "cell_type": "markdown",
   "id": "eb6f7539-53e2-463e-b8ee-d30f225c5551",
   "metadata": {},
   "source": [
    "### 13.2 (df covid: deaths by million) vs (df amazon: num cases p. falciparum)"
   ]
  },
  {
   "cell_type": "code",
   "execution_count": null,
   "id": "49c49d2f-1a56-445f-8895-a9005a703e5e",
   "metadata": {
    "id": "a7af75ed-bd14-424f-9e06-74ff2cefd63b"
   },
   "outputs": [],
   "source": [
    "df_covid_mean_deaths_by_city = df_covid[['codmun', 'obitosNovos']].groupby('codmun').agg(\n",
    "    {'obitosNovos': ['mean']})\n",
    "\n",
    "df_covid_mean_deaths_by_city.head()"
   ]
  },
  {
   "cell_type": "code",
   "execution_count": null,
   "id": "6eed77c1-d4c4-49da-a449-e31072040f0a",
   "metadata": {
    "id": "12bac238-b9a8-4655-9ce7-3c627c33e15b"
   },
   "outputs": [],
   "source": [
    "df_covid_sum_population_by_city = df_covid[['codmun', 'populacaoTCU2019']].drop_duplicates().groupby(\n",
    "    by='codmun').agg(\n",
    "    {'populacaoTCU2019': 'sum'})\n",
    "\n",
    "df_covid_sum_population_by_city.head()"
   ]
  },
  {
   "cell_type": "code",
   "execution_count": null,
   "id": "57af11aa-c6d1-4bc7-8ec0-d186efb0bd30",
   "metadata": {
    "id": "7b812683-0067-4b6f-a3f0-c528fc35780e"
   },
   "outputs": [],
   "source": [
    "df_covid_by_city_deaths_by_million = pd.DataFrame((df_covid_mean_deaths_by_city['obitosNovos']['mean'] / \\\n",
    "df_covid_sum_population_by_city['populacaoTCU2019']) * 10**9, \n",
    "             columns=['deaths by million'])\n",
    "\n",
    "df_covid_by_city_deaths_by_million.index = df_covid_by_city_deaths_by_million.index.map(str).map(lambda codmun: codmun.split('.')[0])\n",
    "\n",
    "df_covid_by_city_deaths_by_million.head()"
   ]
  },
  {
   "cell_type": "code",
   "execution_count": null,
   "id": "0d32e4c8-07a3-4fab-98a1-e1653bf30825",
   "metadata": {},
   "outputs": [],
   "source": [
    "df_amazon_by_city_sum_falciparum = df_amazon.groupby(['CD']).agg(\n",
    "    {'Falciparum': ['sum']}).drop('Total geral')\n",
    "\n",
    "df_amazon_by_city_sum_falciparum.head()"
   ]
  },
  {
   "cell_type": "code",
   "execution_count": null,
   "id": "c07407a4-eaf6-4f92-a621-ffc24c8091ac",
   "metadata": {},
   "outputs": [],
   "source": [
    "amazon_cities = df_amazon.CD.drop_duplicates().tolist()\n",
    "amazon_cities.remove('Total geral')\n",
    "\n",
    "print(len(amazon_cities))\n",
    "amazon_cities[:10]"
   ]
  },
  {
   "cell_type": "code",
   "execution_count": null,
   "id": "6eb742eb-7e94-4e74-911e-e55057ed23a6",
   "metadata": {},
   "outputs": [],
   "source": [
    "bol_amazon_cities = np.array(\n",
    "    [city in amazon_cities for city in df_covid_by_city_deaths_by_million.index]\n",
    ").reshape(df_covid_by_city_deaths_by_million.shape[0], 1)\n",
    "\n",
    "df_covid_by_city_deaths_by_million[bol_amazon_cities]"
   ]
  },
  {
   "cell_type": "code",
   "execution_count": null,
   "id": "952c4035-5eb1-4714-8345-832d4ec63a75",
   "metadata": {},
   "outputs": [],
   "source": [
    "df_deaths_by_million_vs_sum_falciparum_by_city = pd.merge(\n",
    "    left=df_covid_by_city_deaths_by_million[bol_amazon_cities].reset_index(),\n",
    "    right=df_amazon_by_city_sum_falciparum.reset_index().rename(columns={'CD': 'codmun'}),\n",
    "    on='codmun').sort_values(by=('deaths by million'), ascending=False)\n",
    "\n",
    "df_deaths_by_million_vs_sum_falciparum_by_city"
   ]
  },
  {
   "cell_type": "markdown",
   "id": "78d49b16-1468-4b39-be29-1de5857a6ea9",
   "metadata": {},
   "source": [
    "#### <center> Amazon </center>"
   ]
  },
  {
   "cell_type": "code",
   "execution_count": null,
   "id": "a4ec5025-d443-4708-8ce0-a68516a93fc3",
   "metadata": {},
   "outputs": [],
   "source": [
    "df_deaths_by_million_vs_sum_falciparum_by_city[['codmun', 'deaths by million']].mean()"
   ]
  },
  {
   "cell_type": "code",
   "execution_count": null,
   "id": "ecede923-11f9-43e0-9722-52211b4709f1",
   "metadata": {},
   "outputs": [],
   "source": [
    "df_deaths_by_million_vs_sum_falciparum_by_city[['codmun', 'deaths by million']].std()"
   ]
  },
  {
   "cell_type": "code",
   "execution_count": null,
   "id": "3fa9389c-9b10-4f1c-86a3-a1af627855a9",
   "metadata": {},
   "outputs": [],
   "source": [
    "df_deaths_by_million_vs_sum_falciparum_by_city[[('Falciparum', 'sum')]].mean()"
   ]
  },
  {
   "cell_type": "code",
   "execution_count": null,
   "id": "ccac61ac-64f1-49bd-8dcd-0942b44fc7cb",
   "metadata": {},
   "outputs": [],
   "source": [
    "df_deaths_by_million_vs_sum_falciparum_by_city[[('Falciparum', 'sum')]].std()"
   ]
  },
  {
   "cell_type": "markdown",
   "id": "43e13256-08ad-49cc-bd26-b102df76d0d9",
   "metadata": {},
   "source": [
    "#### <center>No Amazon</center>"
   ]
  },
  {
   "cell_type": "code",
   "execution_count": null,
   "id": "2d84e4b4-7fa6-44df-9bca-30ee10b66ea1",
   "metadata": {},
   "outputs": [],
   "source": [
    "df_covid_by_city_deaths_by_million[np.logical_not(bol_amazon_cities)].mean()"
   ]
  },
  {
   "cell_type": "code",
   "execution_count": null,
   "id": "92a44411-9c68-49fb-aff9-e448fbd69e5f",
   "metadata": {},
   "outputs": [],
   "source": [
    "df_covid_by_city_deaths_by_million[np.logical_not(bol_amazon_cities)].std()"
   ]
  },
  {
   "cell_type": "code",
   "execution_count": null,
   "id": "6c5d4665-6c9f-449f-a08a-7dbee6282d7f",
   "metadata": {},
   "outputs": [],
   "source": [
    "df_covid_by_city_deaths_by_million[np.logical_not(bol_amazon_cities)]"
   ]
  },
  {
   "cell_type": "markdown",
   "id": "eaa2fafa-cd82-4366-8d35-75e5e7c34fc8",
   "metadata": {},
   "source": [
    "### 13.3 (df covid: deaths by million) vs (df amazon: num cases p. vivax + p. falciparum)"
   ]
  },
  {
   "cell_type": "code",
   "execution_count": null,
   "id": "e30899c3-8624-4fea-adb6-9a729978d928",
   "metadata": {
    "id": "a7af75ed-bd14-424f-9e06-74ff2cefd63b"
   },
   "outputs": [],
   "source": [
    "df_covid_mean_deaths_by_city = df_covid[['codmun', 'obitosNovos']].groupby('codmun').agg(\n",
    "    {'obitosNovos': ['mean']})\n",
    "\n",
    "df_covid_mean_deaths_by_city.head()"
   ]
  },
  {
   "cell_type": "code",
   "execution_count": null,
   "id": "e91e1953-97f1-4585-be70-c5a11420e4a1",
   "metadata": {
    "id": "12bac238-b9a8-4655-9ce7-3c627c33e15b"
   },
   "outputs": [],
   "source": [
    "df_covid_sum_population_by_city = df_covid[['codmun', 'populacaoTCU2019']].drop_duplicates().groupby(\n",
    "    by='codmun').agg(\n",
    "    {'populacaoTCU2019': 'sum'})\n",
    "\n",
    "df_covid_sum_population_by_city.head()"
   ]
  },
  {
   "cell_type": "code",
   "execution_count": null,
   "id": "0aad8a62-f5c5-4022-afb4-0d3dea44a72c",
   "metadata": {
    "id": "7b812683-0067-4b6f-a3f0-c528fc35780e"
   },
   "outputs": [],
   "source": [
    "df_covid_by_city_deaths_by_million = pd.DataFrame((df_covid_mean_deaths_by_city['obitosNovos']['mean'] / \\\n",
    "df_covid_sum_population_by_city['populacaoTCU2019']) * 10**9, \n",
    "             columns=['deaths by million'])\n",
    "\n",
    "df_covid_by_city_deaths_by_million.index = df_covid_by_city_deaths_by_million.index.map(str).map(lambda codmun: codmun.split('.')[0])\n",
    "\n",
    "df_covid_by_city_deaths_by_million.head()"
   ]
  },
  {
   "cell_type": "code",
   "execution_count": null,
   "id": "e1393059-f7c5-4309-9613-4ee1c771b570",
   "metadata": {},
   "outputs": [],
   "source": [
    "df_amazon_by_city_sum_vivax_falciparum = pd.DataFrame(\n",
    "    df_amazon.groupby(['CD']).agg(\n",
    "        {'Vivax': ['sum'], \n",
    "         'Falciparum': ['sum']}).drop('Total geral').sum(axis=1), \n",
    "    columns=['sum_vivax_falciparum'])\n",
    "\n",
    "df_amazon_by_city_sum_vivax_falciparum.head()"
   ]
  },
  {
   "cell_type": "code",
   "execution_count": null,
   "id": "e4cff638-492d-48dd-9d5c-ac5f96cf52e9",
   "metadata": {},
   "outputs": [],
   "source": [
    "amazon_cities = df_amazon.CD.drop_duplicates().tolist()\n",
    "amazon_cities.remove('Total geral')\n",
    "\n",
    "print(len(amazon_cities))\n",
    "amazon_cities[:10]"
   ]
  },
  {
   "cell_type": "code",
   "execution_count": null,
   "id": "62f62d09-6f2f-4416-afc5-b9e816d6fd89",
   "metadata": {},
   "outputs": [],
   "source": [
    "bol_amazon_cities = np.array(\n",
    "    [city in amazon_cities for city in df_covid_by_city_deaths_by_million.index]\n",
    ").reshape(df_covid_by_city_deaths_by_million.shape[0], 1)\n",
    "\n",
    "df_covid_by_city_deaths_by_million[bol_amazon_cities]"
   ]
  },
  {
   "cell_type": "code",
   "execution_count": null,
   "id": "633d2ef3-0836-4587-8258-650ffa532f66",
   "metadata": {},
   "outputs": [],
   "source": [
    "df_deaths_by_million_vs_sum_vivax_falciparum_by_city = pd.merge(\n",
    "    left=df_covid_by_city_deaths_by_million[bol_amazon_cities].reset_index(),\n",
    "    right=df_amazon_by_city_sum_vivax_falciparum.reset_index().rename(columns={'CD': 'codmun'}),\n",
    "    on='codmun').sort_values(by=('deaths by million'), ascending=False)\n",
    "\n",
    "df_deaths_by_million_vs_sum_vivax_falciparum_by_city"
   ]
  },
  {
   "cell_type": "markdown",
   "id": "86469cbd-db41-4406-b8a4-fabba71071a8",
   "metadata": {},
   "source": [
    "#### <center> Amazon </center>"
   ]
  },
  {
   "cell_type": "code",
   "execution_count": null,
   "id": "ae22fcb7-a155-4c39-87c9-1c5466128f4e",
   "metadata": {},
   "outputs": [],
   "source": [
    "df_deaths_by_million_vs_sum_vivax_falciparum_by_city[['codmun', 'deaths by million']].mean()"
   ]
  },
  {
   "cell_type": "code",
   "execution_count": null,
   "id": "04549bb2-21a7-4e53-ab8e-7abfe79181fb",
   "metadata": {},
   "outputs": [],
   "source": [
    "df_deaths_by_million_vs_sum_vivax_falciparum_by_city[['codmun', 'deaths by million']].std()"
   ]
  },
  {
   "cell_type": "code",
   "execution_count": null,
   "id": "5812e06d-c442-41ff-bdb4-da9f7a894229",
   "metadata": {},
   "outputs": [],
   "source": [
    "df_deaths_by_million_vs_sum_vivax_falciparum_by_city[['sum_vivax_falciparum']].mean()"
   ]
  },
  {
   "cell_type": "code",
   "execution_count": null,
   "id": "d44716a0-4607-4475-8399-1b403a17cf03",
   "metadata": {},
   "outputs": [],
   "source": [
    "df_deaths_by_million_vs_sum_vivax_falciparum_by_city[['sum_vivax_falciparum']].std()"
   ]
  },
  {
   "cell_type": "markdown",
   "id": "bc4901b4-e72c-4c8e-b527-9f326a31bf52",
   "metadata": {},
   "source": [
    "#### <center>No Amazon</center>"
   ]
  },
  {
   "cell_type": "code",
   "execution_count": null,
   "id": "068ac2ec-5688-4c16-83f0-5c3615f734e5",
   "metadata": {},
   "outputs": [],
   "source": [
    "df_covid_by_city_deaths_by_million[np.logical_not(bol_amazon_cities)].mean()"
   ]
  },
  {
   "cell_type": "code",
   "execution_count": null,
   "id": "26a6fc47-fc2d-4f93-824a-24d5c6796bfe",
   "metadata": {},
   "outputs": [],
   "source": [
    "df_covid_by_city_deaths_by_million[np.logical_not(bol_amazon_cities)].std()"
   ]
  },
  {
   "cell_type": "code",
   "execution_count": null,
   "id": "8b442dca-5ee9-48b7-83fb-85f023d7c8bd",
   "metadata": {},
   "outputs": [],
   "source": [
    "df_covid_by_city_deaths_by_million[np.logical_not(bol_amazon_cities)]"
   ]
  },
  {
   "cell_type": "markdown",
   "id": "e4b5dfd1-4a92-487b-a7cd-6de3936b6fec",
   "metadata": {},
   "source": [
    "### 13.4 (df covid: deaths by million) vs (df amazon: num cases all p. species)"
   ]
  },
  {
   "cell_type": "code",
   "execution_count": 13,
   "id": "db91c7e8-a8a9-4185-8390-a7bb5f1eb226",
   "metadata": {
    "id": "a7af75ed-bd14-424f-9e06-74ff2cefd63b"
   },
   "outputs": [],
   "source": [
    "df_covid_mean_deaths_by_city = df_covid[['codmun', 'obitosNovos']].groupby('codmun').agg(\n",
    "    {'obitosNovos': ['mean']})\n",
    "\n",
    "df_covid_mean_deaths_by_city.head()"
   ]
  },
  {
   "cell_type": "code",
   "execution_count": 15,
   "id": "545df351-355e-4ec0-b3dc-98e4b0d98680",
   "metadata": {
    "id": "12bac238-b9a8-4655-9ce7-3c627c33e15b"
   },
   "outputs": [],
   "source": [
    "df_covid_sum_population_by_city = df_covid[['codmun', 'populacaoTCU2019']].drop_duplicates().groupby(\n",
    "    by='codmun').agg(\n",
    "    {'populacaoTCU2019': 'sum'})\n",
    "\n",
    "df_covid_sum_population_by_city.head()"
   ]
  },
  {
   "cell_type": "code",
   "execution_count": 18,
   "id": "fc1a366e-9613-426e-8dfc-bd7e44f6d6c9",
   "metadata": {
    "id": "7b812683-0067-4b6f-a3f0-c528fc35780e"
   },
   "outputs": [],
   "source": [
    "df_covid_by_city_deaths_by_million = pd.DataFrame((df_covid_mean_deaths_by_city['obitosNovos']['mean'] / \\\n",
    "df_covid_sum_population_by_city['populacaoTCU2019']) * 10**9, \n",
    "             columns=['deaths by million'])\n",
    "\n",
    "df_covid_by_city_deaths_by_million.index = df_covid_by_city_deaths_by_million.index.map(str).map(lambda codmun: codmun.split('.')[0])\n",
    "\n",
    "df_covid_by_city_deaths_by_million.head()"
   ]
  },
  {
   "cell_type": "code",
   "execution_count": 26,
   "id": "73dc96b9-c4c0-4558-bdc4-2ba05a1c0ed0",
   "metadata": {},
   "outputs": [],
   "source": [
    "df_amazon_by_city_sum_all_plasmodium_species = pd.DataFrame(\n",
    "    df_amazon.groupby(['CD']).agg(\n",
    "        {'Vivax': ['sum'], \n",
    "         'Falciparum': ['sum'], \n",
    "         'Malarie': ['sum'], \n",
    "         'Ovale': ['sum'], \n",
    "         'Mista': ['sum']}).drop('Total geral').sum(axis=1), \n",
    "    columns=['sum_all_plasmodium_species'])\n",
    "\n",
    "df_amazon_by_city_sum_all_plasmodium_species.head()"
   ]
  },
  {
   "cell_type": "code",
   "execution_count": 20,
   "id": "95ffdd78-a74e-4a13-bd09-c77a4b16a6a9",
   "metadata": {},
   "outputs": [],
   "source": [
    "amazon_cities = df_amazon.CD.drop_duplicates().tolist()\n",
    "amazon_cities.remove('Total geral')\n",
    "\n",
    "print(len(amazon_cities))\n",
    "amazon_cities[:10]"
   ]
  },
  {
   "cell_type": "code",
   "execution_count": 22,
   "id": "8e17a64e-ce7d-4779-a44d-bfcaafc32cd2",
   "metadata": {},
   "outputs": [],
   "source": [
    "bol_amazon_cities = np.array(\n",
    "    [city in amazon_cities for city in df_covid_by_city_deaths_by_million.index]\n",
    ").reshape(df_covid_by_city_deaths_by_million.shape[0], 1)\n",
    "\n",
    "df_covid_by_city_deaths_by_million[bol_amazon_cities]"
   ]
  },
  {
   "cell_type": "code",
   "execution_count": 28,
   "id": "c64c4833-6a11-4abf-b373-b2697a6c5973",
   "metadata": {},
   "outputs": [],
   "source": [
    "df_deaths_by_million_vs_sum_all_plasmodium_species_by_city = pd.merge(\n",
    "    left=df_covid_by_city_deaths_by_million[bol_amazon_cities].reset_index(),\n",
    "    right=df_amazon_by_city_sum_all_plasmodium_species.reset_index().rename(columns={'CD': 'codmun'}),\n",
    "    on='codmun').sort_values(by=('deaths by million'), ascending=False)\n",
    "\n",
    "df_deaths_by_million_vs_sum_all_plasmodium_species_by_city"
   ]
  },
  {
   "cell_type": "markdown",
   "id": "6325b99a-dcbd-47d5-a6b3-cbbd3235db41",
   "metadata": {},
   "source": [
    "#### <center> Amazon </center>"
   ]
  },
  {
   "cell_type": "code",
   "execution_count": 33,
   "id": "4be29642-a8a1-4769-9873-49ad52fe9ee1",
   "metadata": {},
   "outputs": [],
   "source": [
    "df_deaths_by_million_vs_sum_all_plasmodium_species_by_city[['codmun', 'deaths by million']].mean()"
   ]
  },
  {
   "cell_type": "code",
   "execution_count": 34,
   "id": "d046d9c8-685b-4188-8571-c78efba2555a",
   "metadata": {},
   "outputs": [],
   "source": [
    "df_deaths_by_million_vs_sum_all_plasmodium_species_by_city[['codmun', 'deaths by million']].std()"
   ]
  },
  {
   "cell_type": "code",
   "execution_count": 35,
   "id": "c8d8426a-582b-4e12-a845-5f28a20aa8e4",
   "metadata": {},
   "outputs": [],
   "source": [
    "df_deaths_by_million_vs_sum_all_plasmodium_species_by_city[['sum_all_plasmodium_species']].mean()"
   ]
  },
  {
   "cell_type": "code",
   "execution_count": 36,
   "id": "c73e47d9-5024-4978-872e-ab88b49148de",
   "metadata": {},
   "outputs": [],
   "source": [
    "df_deaths_by_million_vs_sum_all_plasmodium_species_by_city[['sum_all_plasmodium_species']].std()"
   ]
  },
  {
   "cell_type": "markdown",
   "id": "dc69a52f-7882-4ce7-b6ad-4706d6b48ca7",
   "metadata": {},
   "source": [
    "#### <center>No Amazon</center>"
   ]
  },
  {
   "cell_type": "code",
   "execution_count": null,
   "id": "b004bf60-158d-411a-842c-66e3b7c96cd2",
   "metadata": {},
   "outputs": [],
   "source": [
    "df_covid_by_city_deaths_by_million[np.logical_not(bol_amazon_cities)].mean()"
   ]
  },
  {
   "cell_type": "code",
   "execution_count": null,
   "id": "4ad3c223-da4e-4b3e-b633-489dc916c26d",
   "metadata": {},
   "outputs": [],
   "source": [
    "df_covid_by_city_deaths_by_million[np.logical_not(bol_amazon_cities)].std()"
   ]
  },
  {
   "cell_type": "code",
   "execution_count": null,
   "id": "245ebbf9-d2fd-41e0-b2b0-ef276355a802",
   "metadata": {},
   "outputs": [],
   "source": [
    "df_covid_by_city_deaths_by_million[np.logical_not(bol_amazon_cities)]"
   ]
  }
 ],
 "metadata": {
  "colab": {
   "name": "test.ipynb",
   "provenance": []
  },
  "kernelspec": {
   "display_name": "Python 3",
   "language": "python",
   "name": "python3"
  },
  "language_info": {
   "codemirror_mode": {
    "name": "ipython",
    "version": 3
   },
   "file_extension": ".py",
   "mimetype": "text/x-python",
   "name": "python",
   "nbconvert_exporter": "python",
   "pygments_lexer": "ipython3",
   "version": "3.8.5"
  },
  "toc-autonumbering": false,
  "toc-showcode": false,
  "toc-showmarkdowntxt": false,
  "toc-showtags": false
 },
 "nbformat": 4,
 "nbformat_minor": 5
}
