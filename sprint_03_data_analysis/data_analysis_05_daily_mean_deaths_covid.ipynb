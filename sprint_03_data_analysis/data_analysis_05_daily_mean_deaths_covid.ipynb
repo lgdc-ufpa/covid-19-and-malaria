{
 "cells": [
  {
   "cell_type": "markdown",
   "id": "1b64f7e4-84f6-4f97-a044-47c58ea98231",
   "metadata": {},
   "source": [
    "# <center>PIPELINE</center>"
   ]
  },
  {
   "cell_type": "raw",
   "id": "51b84c2f-20e8-4ee6-8102-fc3818201777",
   "metadata": {},
   "source": [
    "1. imports\n",
    "2. Load Datasets"
   ]
  },
  {
   "cell_type": "markdown",
   "id": "5c9b548d-e2cb-4e70-83c7-2eb65b25bfc6",
   "metadata": {},
   "source": [
    "# 1. imports"
   ]
  },
  {
   "cell_type": "code",
   "execution_count": 3,
   "id": "8d32dd87-8286-4beb-841d-aaaa6dfe9f25",
   "metadata": {},
   "outputs": [],
   "source": [
    "import os\n",
    "import pandas as pd\n",
    "import numpy as np"
   ]
  },
  {
   "cell_type": "markdown",
   "id": "ee0e0bd1-3bea-4c2a-8021-5ad2cd608968",
   "metadata": {},
   "source": [
    "# 2. Load Datasets"
   ]
  },
  {
   "cell_type": "code",
   "execution_count": 4,
   "id": "3c3b0984-1b8d-4c88-a6fe-da95062e33ba",
   "metadata": {},
   "outputs": [],
   "source": [
    "import load_datasets"
   ]
  },
  {
   "cell_type": "markdown",
   "id": "f1a50f23-e067-43d5-bfd3-203a2aa6932c",
   "metadata": {},
   "source": [
    "# 3. Calculate mean daily covid deaths"
   ]
  },
  {
   "cell_type": "code",
   "execution_count": 5,
   "id": "d8743b96-ca45-4302-a137-a6514bb79954",
   "metadata": {
    "tags": []
   },
   "outputs": [],
   "source": [
    "df_covid = load_datasets.load_covid()"
   ]
  },
  {
   "cell_type": "code",
   "execution_count": 31,
   "id": "16ea3bb4-b540-4135-83a7-148aa61f0805",
   "metadata": {
    "tags": []
   },
   "outputs": [],
   "source": [
    "df_mean_daily_deaths = df_covid.reset_index().groupby('codmun').agg(\n",
    "    {'obitosNovos': ['mean']})\n",
    "\n",
    "df_mean_daily_deaths.columns = ['mean_daily_deaths']"
   ]
  },
  {
   "cell_type": "code",
   "execution_count": 1,
   "id": "fdbfc737-d06d-4c97-87d3-0c945d5870de",
   "metadata": {},
   "outputs": [
    {
     "name": "stdout",
     "output_type": "stream",
     "text": [
      "name 'df_covid' is not defined\n"
     ]
    }
   ],
   "source": [
    "try:\n",
    "    del df_covid\n",
    "except NameError as e:\n",
    "    print(e)"
   ]
  },
  {
   "cell_type": "markdown",
   "id": "63376028-1188-4e11-8163-0d723938d1e9",
   "metadata": {},
   "source": [
    "## 3.1 .Save"
   ]
  },
  {
   "cell_type": "code",
   "execution_count": 33,
   "id": "6721bdba-4205-4e7a-92f1-83faefbbbdeb",
   "metadata": {
    "tags": []
   },
   "outputs": [],
   "source": [
    "output_path = os.path.join(os.getcwd(), 'output')\n",
    "output_file = 'output_06_daily_mean_deaths_covid_by_city.csv'\n",
    "\n",
    "df_mean_daily_deaths.to_csv(os.path.join(output_path, output_file))"
   ]
  },
  {
   "cell_type": "code",
   "execution_count": 28,
   "id": "ecb7c4c8-470b-494f-a425-e3bbe20ef297",
   "metadata": {},
   "outputs": [
    {
     "name": "stdout",
     "output_type": "stream",
     "text": [
      "name 'output_path' is not defined\n",
      "name 'output_file' is not defined\n",
      "name 'df_mean_daily_deaths' is not defined\n"
     ]
    }
   ],
   "source": [
    "try:\n",
    "    del output_path\n",
    "except NameError as e:\n",
    "    print(e)\n",
    "\n",
    "try:\n",
    "    del output_file\n",
    "except NameError as e:\n",
    "    print(e)\n",
    "\n",
    "try:\n",
    "    del df_mean_daily_deaths\n",
    "except NameError as e:\n",
    "    print(e)"
   ]
  },
  {
   "cell_type": "markdown",
   "id": "6b2bda1b-537a-4d8c-b407-534fa7aa3732",
   "metadata": {},
   "source": [
    "# 4. Calculate mean daily covid deaths in 2020"
   ]
  },
  {
   "cell_type": "code",
   "execution_count": 37,
   "id": "12e2bcc2-5bc8-42d2-aa5c-9b01968c2a2a",
   "metadata": {},
   "outputs": [],
   "source": [
    "df_covid = load_datasets.load_covid()"
   ]
  },
  {
   "cell_type": "code",
   "execution_count": 38,
   "id": "79db53d4-1643-441f-b2f2-6885856f9f05",
   "metadata": {},
   "outputs": [],
   "source": [
    "bol_2020 = df_covid['data'].apply(lambda _date: _date.split('-')[0] == '2020')"
   ]
  },
  {
   "cell_type": "code",
   "execution_count": 39,
   "id": "a1d1fbd4-f172-4a72-8090-ded5c5426479",
   "metadata": {},
   "outputs": [],
   "source": [
    "df_mean_daily_deaths_2020 = df_covid[bol_2020].reset_index().groupby('codmun').agg(\n",
    "    {'obitosNovos': ['mean']})\n",
    "\n",
    "df_mean_daily_deaths_2020.columns = ['mean_daily_deaths']"
   ]
  },
  {
   "cell_type": "code",
   "execution_count": 40,
   "id": "9828531c-7014-4cd7-9b03-1c7d8a3f3b8c",
   "metadata": {},
   "outputs": [],
   "source": [
    "try:\n",
    "    del df_covid\n",
    "except NameError as e:\n",
    "    print(e)"
   ]
  },
  {
   "cell_type": "markdown",
   "id": "4faab667-8e23-4ec1-8204-019e40f28516",
   "metadata": {},
   "source": [
    "## 4.1 Save "
   ]
  },
  {
   "cell_type": "code",
   "execution_count": 41,
   "id": "23c69712-b973-4b2f-933c-6b9b9b1aae7e",
   "metadata": {
    "tags": []
   },
   "outputs": [],
   "source": [
    "output_path = os.path.join(os.getcwd(), 'output')\n",
    "output_file = 'output_07_daily_mean_deaths_covid_by_city_2020.csv'\n",
    "\n",
    "df_mean_daily_deaths_2020.to_csv(os.path.join(output_path, output_file))"
   ]
  },
  {
   "cell_type": "code",
   "execution_count": 36,
   "id": "5acbbc81-cb64-4d28-92e6-aa01d71ef41c",
   "metadata": {},
   "outputs": [],
   "source": [
    "try:\n",
    "    del output_path\n",
    "except NameError as e:\n",
    "    print(e)\n",
    "\n",
    "try:\n",
    "    del output_file\n",
    "except NameError as e:\n",
    "    print(e)\n",
    "\n",
    "try:\n",
    "    del df_mean_daily_deaths_2020\n",
    "except NameError as e:\n",
    "    print(e)"
   ]
  }
 ],
 "metadata": {
  "kernelspec": {
   "display_name": "Python 3",
   "language": "python",
   "name": "python3"
  },
  "language_info": {
   "codemirror_mode": {
    "name": "ipython",
    "version": 3
   },
   "file_extension": ".py",
   "mimetype": "text/x-python",
   "name": "python",
   "nbconvert_exporter": "python",
   "pygments_lexer": "ipython3",
   "version": "3.8.5"
  }
 },
 "nbformat": 4,
 "nbformat_minor": 5
}
